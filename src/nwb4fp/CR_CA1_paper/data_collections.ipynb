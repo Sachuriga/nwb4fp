{
 "cells": [
  {
   "cell_type": "code",
   "execution_count": null,
   "metadata": {},
   "outputs": [
    {
     "name": "stdout",
     "output_type": "stream",
     "text": [
      "Found 187 NWB files: ['66922_2024-09-25_15-39-48_A_phy_k_manual.nwb', '63383_2024-07-10_15-37-51_A_phy_k_manual.nwb', '63383_2024-07-13_14-10-05_A_phy_k_manual.nwb', '63383_2024-07-13_14-42-37_B_phy_k_manual.nwb', '63383_2024-07-13_15-10-36_C_phy_k_manual.nwb', '63383_2024-07-15_14-51-19_A_phy_k_manual.nwb', '63383_2024-07-15_15-18-02_B_phy_k_manual.nwb', '63383_2024-07-15_15-44-58_C_phy_k_manual.nwb', '63383_2024-07-18_14-13-10_A_phy_k_manual.nwb', '63383_2024-07-18_14-39-54_B_phy_k_manual.nwb', '63383_2024-07-18_15-07-00_C_phy_k_manual.nwb', '63383_2024-07-20_14-21-42_A_phy_k_manual.nwb', '63383_2024-07-20_14-48-58_B_phy_k_manual.nwb', '63383_2024-07-20_15-16-56_C_phy_k_manual.nwb', '63383_2024-07-22_15-12-01_A_phy_k_manual.nwb', '63383_2024-07-22_15-40-20_B_phy_k_manual.nwb', '63383_2024-07-22_16-10-10_C_phy_k_manual.nwb', '63383_2024-07-25_12-57-40_A_phy_k_manual.nwb', '63383_2024-07-25_13-26-11_B_phy_k_manual.nwb', '63383_2024-07-25_13-53-06_C_phy_k_manual.nwb', '63383_2024-07-28_12-22-19_A_phy_k_manual.nwb', '63383_2024-07-28_12-49-40_B_phy_k_manual.nwb', '63383_2024-07-28_13-20-57_C_phy_k_manual.nwb', '63383_2024-07-30_12-33-52_A_phy_k_manual.nwb', '63383_2024-07-30_13-03-12_B_phy_k_manual.nwb', '63383_2024-07-30_13-33-47_C_phy_k_manual.nwb', '63385_2024-07-10_14-39-57_A_phy_k_manual.nwb', '63385_2024-07-11_14-42-01_A_phy_k_manual.nwb', '63385_2024-07-13_15-58-08_A_phy_k_manual.nwb', '63385_2024-07-13_16-26-59_B_phy_k_manual.nwb', '63385_2024-07-13_16-54-07_C_phy_k_manual.nwb', '63385_2024-07-15_16-50-28_A_phy_k_manual.nwb', '63385_2024-07-15_17-16-21_B_phy_k_manual.nwb', '63385_2024-07-15_17-42-19_C_phy_k_manual.nwb', '63385_2024-07-18_16-11-58_A_phy_k_manual.nwb', '63385_2024-07-18_16-38-08_B_phy_k_manual.nwb', '63385_2024-07-18_17-05-03_C_phy_k_manual.nwb', '63385_2024-07-20_16-14-52_A_phy_k_manual.nwb', '63385_2024-07-20_16-41-18_B_phy_k_manual.nwb', '63385_2024-07-20_17-08-19_C_phy_k_manual.nwb', '63385_2024-07-22_13-33-23_A_phy_k_manual.nwb', '63385_2024-07-22_14-00-58_B_phy_k_manual.nwb', '63385_2024-07-22_14-34-14_C_phy_k_manual.nwb', '63385_2024-07-25_14-40-47_A_phy_k_manual.nwb', '63385_2024-07-25_15-07-43_B_phy_k_manual.nwb', '63385_2024-07-25_15-33-13_C_phy_k_manual.nwb', '63385_2024-07-28_14-43-52_A_phy_k_manual.nwb', '63385_2024-07-28_15-09-56_B_phy_k_manual.nwb', '63385_2024-07-28_15-34-34_C_phy_k_manual.nwb', '63385_2024-07-30_14-48-28_A_phy_k_manual.nwb', '63385_2024-07-30_15-15-18_B_phy_k_manual.nwb', '63385_2024-07-30_15-41-00_C_phy_k_manual.nwb', '65091_2023-07-30_14-06-35_A_phy_k_manual.nwb', '65091_2023-08-01_13-40-26_A_phy_k_manual.nwb', '65091_2023-08-01_15-16-29_C_phy_k_manual.nwb', '65091_2023-08-04_14-07-54_A_phy_k_manual.nwb', '65091_2023-08-08_11-39-47_A_phy_k_manual.nwb', '65091_2023-08-08_13-05-04_B_phy_k_manual.nwb', '65091_2023-08-08_13-32-49_C_phy_k_manual.nwb', '65165_2023-06-29_17-02-50_A_phy_k_manual.nwb', '65165_2023-06-30_16-32-08_A_phy_k_manual.nwb', '65165_2023-07-01_15-38-12_A_phy_k_manual.nwb', '65165_2023-07-03_16-21-48_A_phy_k_manual.nwb', '65165_2023-07-04_13-41-46_A_phy_k_manual.nwb', '65165_2023-07-10_15-08-59_A_phy_k_manual.nwb', '65165_2023-07-10_16-19-04_B_phy_k_manual.nwb', '65165_2023-07-10_17-11-32_C_phy_k_manual.nwb', '65165_2023-07-19_13-24-38_A_phy_k_manual.nwb', '65165_2023-07-20_16-57-26_A_phy_k_manual.nwb', '65165_2023-07-25_14-02-32_A_phy_k_manual.nwb', '65165_2023-07-26_14-32-28_A_phy_k_manual.nwb', '65165_2023-07-29_15-34-20_A_phy_k_manual.nwb', '65588_2024-03-04_15-44-37_A_phy_k_manual.nwb', '65588_2024-03-04_16-34-21_B_phy_k_manual.nwb', '65588_2024-03-04_17-12-55_C_phy_k_manual.nwb', '65588_2024-03-06_15-45-53_A_phy_k_manual.nwb', '65588_2024-03-06_16-25-11_B_phy_k_manual.nwb', '65588_2024-03-06_16-56-57_C_phy_k_manual.nwb', '65588_2024-03-08_14-47-56_A_phy_k_manual.nwb', '65588_2024-03-08_15-41-55_B_phy_k_manual.nwb', '65588_2024-03-08_16-10-29_C_phy_k_manual.nwb', '65588_2024-03-10_15-18-16_A_phy_k_manual.nwb', '65588_2024-03-10_15-48-31_B_phy_k_manual.nwb', '65588_2024-03-10_16-17-14_C_phy_k_manual.nwb', '65588_2024-03-12_15-17-04_A_phy_k_manual.nwb', '65588_2024-03-12_15-44-58_B_phy_k_manual.nwb', '65588_2024-03-12_16-15-30_C_phy_k_manual.nwb', '65588_2024-03-14_14-26-31_A_phy_k_manual.nwb', '65588_2024-03-14_15-25-11_B_phy_k_manual.nwb', '65588_2024-03-14_15-52-08_C_phy_k_manual.nwb', '65622_2024-04-30_14-59-30_A_phy_k_manual.nwb', '66537_2024-11-22_16-36-59_A_phy_k_manual.nwb', '66537_2024-11-22_17-05-17_B_phy_k_manual.nwb', '66537_2024-11-22_17-30-53_C_phy_k_manual.nwb', '66537_2024-11-26_12-58-02_A_phy_k_manual.nwb', '66537_2024-11-26_13-23-16_B_phy_k_manual.nwb', '66537_2024-11-26_13-47-20_C_phy_k_manual.nwb', '66537_2024-11-29_10-51-02_A_phy_k_manual.nwb', '66537_2024-11-29_11-19-52_B_phy_k_manual.nwb', '66537_2024-11-29_11-43-49_C_phy_k_manual.nwb', '66537_2024-12-02_11-51-18_A_phy_k_manual.nwb', '66537_2024-12-02_12-18-56_B_phy_k_manual.nwb', '66537_2024-12-02_12-44-40_C_phy_k_manual.nwb', '66537_2024-12-04_14-35-16_A_phy_k_manual.nwb', '66537_2024-12-04_15-00-57_B_phy_k_manual.nwb', '66537_2024-12-04_15-27-58_C_phy_k_manual.nwb', '66537_2024-12-06_15-08-44_A_phy_k_manual.nwb', '66537_2024-12-06_15-35-02_B_phy_k_manual.nwb', '66537_2024-12-06_15-59-24_C_phy_k_manual.nwb', '66537_2024-12-08_15-50-09_A_phy_k_manual.nwb', '66537_2024-12-08_16-13-58_B_phy_k_manual.nwb', '66537_2024-12-08_16-38-13_C_phy_k_manual.nwb', '66537_2024-12-18_12-33-01_A_phy_k_manual.nwb', '66537_2024-12-18_12-57-53_B_phy_k_manual.nwb', '66537_2024-12-18_13-22-19_C_phy_k_manual.nwb', '66537_2024-12-19_16-42-27_A_phy_k_manual.nwb', '66537_2024-12-19_17-07-13_B_phy_k_manual.nwb', '66537_2024-12-19_17-30-23_C_phy_k_manual.nwb', '66537_2024-12-21_15-19-13_A_phy_k_manual.nwb', '66537_2024-12-21_15-47-12_B_phy_k_manual.nwb', '66537_2024-12-21_16-10-40_C_phy_k_manual.nwb', '66538_2024-11-22_17-59-41_A_phy_k_manual.nwb', '66538_2024-11-22_18-25-29_B_phy_k_manual.nwb', '66538_2024-11-22_18-53-59_C_phy_k_manual.nwb', '66538_2024-11-25_11-10-56_A_phy_k_manual.nwb', '66538_2024-11-25_11-36-52_B_phy_k_manual.nwb', '66538_2024-11-25_12-02-14_C_phy_k_manual.nwb', '66538_2024-11-29_12-21-00_A_phy_k_manual.nwb', '66538_2024-11-29_12-47-36_B_phy_k_manual.nwb', '66538_2024-11-29_13-11-22_C_phy_k_manual.nwb', '66538_2024-12-02_10-31-40_A_phy_k_manual.nwb', '66538_2024-12-02_10-57-29_B_phy_k_manual.nwb', '66538_2024-12-02_11-22-15_C_phy_k_manual.nwb', '66538_2024-12-04_10-46-52_A_phy_k_manual.nwb', '66538_2024-12-04_11-12-40_B_phy_k_manual.nwb', '66538_2024-12-04_11-36-38_C_phy_k_manual.nwb', '66538_2024-12-06_13-29-55_A_phy_k_manual.nwb', '66538_2024-12-06_13-56-13_B_phy_k_manual.nwb', '66538_2024-12-06_14-19-53_C_phy_k_manual.nwb', '66538_2024-12-08_14-24-17_A_phy_k_manual.nwb', '66538_2024-12-08_14-55-18_B_phy_k_manual.nwb', '66538_2024-12-08_15-19-37_C_phy_k_manual.nwb', '66538_2024-12-10_11-46-21_A_phy_k_manual.nwb', '66538_2024-12-10_12-12-09_B_phy_k_manual.nwb', '66538_2024-12-10_12-37-28_C_phy_k_manual.nwb', '66538_2024-12-12_09-34-43_A_phy_k_manual.nwb', '66538_2024-12-12_09-59-20_B_phy_k_manual.nwb', '66538_2024-12-12_10-25-55_C_phy_k_manual.nwb', '66538_2024-12-16_14-08-36_A_phy_k_manual.nwb', '66538_2024-12-16_14-34-32_B_phy_k_manual.nwb', '66538_2024-12-16_14-57-58_C_phy_k_manual.nwb', '66539_2024-11-19_13-16-17_A_phy_k_manual.nwb', '66539_2024-11-19_13-49-18_B_phy_k_manual.nwb', '66539_2024-11-19_14-19-54_C_phy_k_manual.nwb', '66539_2024-11-22_15-04-20_A_phy_k_manual.nwb', '66539_2024-11-22_15-31-06_B_phy_k_manual.nwb', '66539_2024-11-22_15-57-47_C_phy_k_manual.nwb', '66539_2024-11-25_12-41-43_A_phy_k_manual.nwb', '66539_2024-11-25_13-07-11_B_phy_k_manual.nwb', '66539_2024-11-25_13-31-20_C_phy_k_manual.nwb', '66539_2024-11-28_13-45-42_A_phy_k_manual.nwb', '66539_2024-11-28_14-10-31_B_phy_k_manual.nwb', '66539_2024-11-28_14-34-05_C_phy_k_manual.nwb', '66539_2024-12-01_13-38-21_A_phy_k_manual.nwb', '66539_2024-12-01_14-05-00_B_phy_k_manual.nwb', '66539_2024-12-01_14-28-19_C_phy_k_manual.nwb', '66539_2024-12-03_11-42-19_A_phy_k_manual.nwb', '66539_2024-12-03_12-12-32_B_phy_k_manual.nwb', '66539_2024-12-03_12-37-51_C_phy_k_manual.nwb', '66539_2024-12-05_11-10-35_A_phy_k_manual.nwb', '66539_2024-12-05_11-38-14_B_phy_k_manual.nwb', '66539_2024-12-05_12-02-58_C_phy_k_manual.nwb', '66539_2024-12-07_15-40-06_A_phy_k_manual.nwb', '66539_2024-12-07_16-04-24_B_phy_k_manual.nwb', '66539_2024-12-07_16-27-58_C_phy_k_manual.nwb', '66539_2024-12-09_11-27-55_A_phy_k_manual.nwb', '66539_2024-12-09_11-52-29_B_phy_k_manual.nwb', '66539_2024-12-09_12-16-12_C_phy_k_manual.nwb', '66539_2024-12-17_14-15-32_A_phy_k_manual.nwb', '66539_2024-12-17_14-39-47_B_phy_k_manual.nwb', '66539_2024-12-17_15-07-12_C_phy_k_manual.nwb', '66539_2024-12-18_14-06-26_A_phy_k_manual.nwb', '66539_2024-12-18_14-32-02_B_phy_k_manual.nwb', '66539_2024-12-18_14-59-51_C_phy_k_manual.nwb', '66539_2024-12-22_16-57-58_A_phy_k_manual.nwb', '66539_2024-12-22_17-23-44_B_phy_k_manual.nwb', '66539_2024-12-22_17-49-05_C_phy_k_manual.nwb']\n",
      "Processing S:/Sachuriga/nwb/test4neo/66922_2024-09-25_15-39-48_A_phy_k_manual.nwb\n",
      "Using the session: A and the spi is: 1.6517\n",
      "Animal ID: 66922\n",
      "AttributeError for 66922, skipping subject update\n"
     ]
    },
    {
     "ename": "ValueError",
     "evalue": "Per-column arrays must each be 1-dimensional",
     "output_type": "error",
     "traceback": [
      "\u001b[1;31m---------------------------------------------------------------------------\u001b[0m",
      "\u001b[1;31mValueError\u001b[0m                                Traceback (most recent call last)",
      "Cell \u001b[1;32mIn[1], line 263\u001b[0m\n\u001b[0;32m    247\u001b[0m file_data\u001b[38;5;241m=\u001b[39m[]\n\u001b[0;32m    248\u001b[0m file_data \u001b[38;5;241m=\u001b[39m ({\n\u001b[0;32m    249\u001b[0m     \u001b[38;5;124m'\u001b[39m\u001b[38;5;124mfilename\u001b[39m\u001b[38;5;124m'\u001b[39m: nwb_file,\n\u001b[0;32m    250\u001b[0m     \u001b[38;5;124m'\u001b[39m\u001b[38;5;124manimal_id\u001b[39m\u001b[38;5;124m'\u001b[39m: animal_id,\n\u001b[1;32m   (...)\u001b[0m\n\u001b[0;32m    261\u001b[0m      \u001b[38;5;66;03m#'npdata': npdata\u001b[39;00m\n\u001b[0;32m    262\u001b[0m })\n\u001b[1;32m--> 263\u001b[0m files_df \u001b[38;5;241m=\u001b[39m \u001b[43mpd\u001b[49m\u001b[38;5;241;43m.\u001b[39;49m\u001b[43mDataFrame\u001b[49m\u001b[43m(\u001b[49m\u001b[43mfile_data\u001b[49m\u001b[43m)\u001b[49m\n\u001b[0;32m    264\u001b[0m \u001b[38;5;66;03m# Add to all_units_list for all_units_df\u001b[39;00m\n\u001b[0;32m    265\u001b[0m output_path \u001b[38;5;241m=\u001b[39m \u001b[38;5;124mfr\u001b[39m\u001b[38;5;124m\"\u001b[39m\u001b[38;5;124mS:\u001b[39m\u001b[38;5;124m\\\u001b[39m\u001b[38;5;124mSachuriga\u001b[39m\u001b[38;5;124m\\\u001b[39m\u001b[38;5;124mfilre_with_table/\u001b[39m\u001b[38;5;124m\"\u001b[39m\n",
      "File \u001b[1;32m~\\AppData\\Roaming\\Python\\Python311\\site-packages\\pandas\\core\\frame.py:767\u001b[0m, in \u001b[0;36mDataFrame.__init__\u001b[1;34m(self, data, index, columns, dtype, copy)\u001b[0m\n\u001b[0;32m    761\u001b[0m     mgr \u001b[38;5;241m=\u001b[39m \u001b[38;5;28mself\u001b[39m\u001b[38;5;241m.\u001b[39m_init_mgr(\n\u001b[0;32m    762\u001b[0m         data, axes\u001b[38;5;241m=\u001b[39m{\u001b[38;5;124m\"\u001b[39m\u001b[38;5;124mindex\u001b[39m\u001b[38;5;124m\"\u001b[39m: index, \u001b[38;5;124m\"\u001b[39m\u001b[38;5;124mcolumns\u001b[39m\u001b[38;5;124m\"\u001b[39m: columns}, dtype\u001b[38;5;241m=\u001b[39mdtype, copy\u001b[38;5;241m=\u001b[39mcopy\n\u001b[0;32m    763\u001b[0m     )\n\u001b[0;32m    765\u001b[0m \u001b[38;5;28;01melif\u001b[39;00m \u001b[38;5;28misinstance\u001b[39m(data, \u001b[38;5;28mdict\u001b[39m):\n\u001b[0;32m    766\u001b[0m     \u001b[38;5;66;03m# GH#38939 de facto copy defaults to False only in non-dict cases\u001b[39;00m\n\u001b[1;32m--> 767\u001b[0m     mgr \u001b[38;5;241m=\u001b[39m \u001b[43mdict_to_mgr\u001b[49m\u001b[43m(\u001b[49m\u001b[43mdata\u001b[49m\u001b[43m,\u001b[49m\u001b[43m \u001b[49m\u001b[43mindex\u001b[49m\u001b[43m,\u001b[49m\u001b[43m \u001b[49m\u001b[43mcolumns\u001b[49m\u001b[43m,\u001b[49m\u001b[43m \u001b[49m\u001b[43mdtype\u001b[49m\u001b[38;5;241;43m=\u001b[39;49m\u001b[43mdtype\u001b[49m\u001b[43m,\u001b[49m\u001b[43m \u001b[49m\u001b[43mcopy\u001b[49m\u001b[38;5;241;43m=\u001b[39;49m\u001b[43mcopy\u001b[49m\u001b[43m,\u001b[49m\u001b[43m \u001b[49m\u001b[43mtyp\u001b[49m\u001b[38;5;241;43m=\u001b[39;49m\u001b[43mmanager\u001b[49m\u001b[43m)\u001b[49m\n\u001b[0;32m    768\u001b[0m \u001b[38;5;28;01melif\u001b[39;00m \u001b[38;5;28misinstance\u001b[39m(data, ma\u001b[38;5;241m.\u001b[39mMaskedArray):\n\u001b[0;32m    769\u001b[0m     \u001b[38;5;28;01mfrom\u001b[39;00m \u001b[38;5;21;01mnumpy\u001b[39;00m\u001b[38;5;21;01m.\u001b[39;00m\u001b[38;5;21;01mma\u001b[39;00m \u001b[38;5;28;01mimport\u001b[39;00m mrecords\n",
      "File \u001b[1;32m~\\AppData\\Roaming\\Python\\Python311\\site-packages\\pandas\\core\\internals\\construction.py:503\u001b[0m, in \u001b[0;36mdict_to_mgr\u001b[1;34m(data, index, columns, dtype, typ, copy)\u001b[0m\n\u001b[0;32m    499\u001b[0m     \u001b[38;5;28;01melse\u001b[39;00m:\n\u001b[0;32m    500\u001b[0m         \u001b[38;5;66;03m# dtype check to exclude e.g. range objects, scalars\u001b[39;00m\n\u001b[0;32m    501\u001b[0m         arrays \u001b[38;5;241m=\u001b[39m [x\u001b[38;5;241m.\u001b[39mcopy() \u001b[38;5;28;01mif\u001b[39;00m \u001b[38;5;28mhasattr\u001b[39m(x, \u001b[38;5;124m\"\u001b[39m\u001b[38;5;124mdtype\u001b[39m\u001b[38;5;124m\"\u001b[39m) \u001b[38;5;28;01melse\u001b[39;00m x \u001b[38;5;28;01mfor\u001b[39;00m x \u001b[38;5;129;01min\u001b[39;00m arrays]\n\u001b[1;32m--> 503\u001b[0m \u001b[38;5;28;01mreturn\u001b[39;00m \u001b[43marrays_to_mgr\u001b[49m\u001b[43m(\u001b[49m\u001b[43marrays\u001b[49m\u001b[43m,\u001b[49m\u001b[43m \u001b[49m\u001b[43mcolumns\u001b[49m\u001b[43m,\u001b[49m\u001b[43m \u001b[49m\u001b[43mindex\u001b[49m\u001b[43m,\u001b[49m\u001b[43m \u001b[49m\u001b[43mdtype\u001b[49m\u001b[38;5;241;43m=\u001b[39;49m\u001b[43mdtype\u001b[49m\u001b[43m,\u001b[49m\u001b[43m \u001b[49m\u001b[43mtyp\u001b[49m\u001b[38;5;241;43m=\u001b[39;49m\u001b[43mtyp\u001b[49m\u001b[43m,\u001b[49m\u001b[43m \u001b[49m\u001b[43mconsolidate\u001b[49m\u001b[38;5;241;43m=\u001b[39;49m\u001b[43mcopy\u001b[49m\u001b[43m)\u001b[49m\n",
      "File \u001b[1;32m~\\AppData\\Roaming\\Python\\Python311\\site-packages\\pandas\\core\\internals\\construction.py:114\u001b[0m, in \u001b[0;36marrays_to_mgr\u001b[1;34m(arrays, columns, index, dtype, verify_integrity, typ, consolidate)\u001b[0m\n\u001b[0;32m    111\u001b[0m \u001b[38;5;28;01mif\u001b[39;00m verify_integrity:\n\u001b[0;32m    112\u001b[0m     \u001b[38;5;66;03m# figure out the index, if necessary\u001b[39;00m\n\u001b[0;32m    113\u001b[0m     \u001b[38;5;28;01mif\u001b[39;00m index \u001b[38;5;129;01mis\u001b[39;00m \u001b[38;5;28;01mNone\u001b[39;00m:\n\u001b[1;32m--> 114\u001b[0m         index \u001b[38;5;241m=\u001b[39m \u001b[43m_extract_index\u001b[49m\u001b[43m(\u001b[49m\u001b[43marrays\u001b[49m\u001b[43m)\u001b[49m\n\u001b[0;32m    115\u001b[0m     \u001b[38;5;28;01melse\u001b[39;00m:\n\u001b[0;32m    116\u001b[0m         index \u001b[38;5;241m=\u001b[39m ensure_index(index)\n",
      "File \u001b[1;32m~\\AppData\\Roaming\\Python\\Python311\\site-packages\\pandas\\core\\internals\\construction.py:664\u001b[0m, in \u001b[0;36m_extract_index\u001b[1;34m(data)\u001b[0m\n\u001b[0;32m    662\u001b[0m         raw_lengths\u001b[38;5;241m.\u001b[39mappend(\u001b[38;5;28mlen\u001b[39m(val))\n\u001b[0;32m    663\u001b[0m     \u001b[38;5;28;01melif\u001b[39;00m \u001b[38;5;28misinstance\u001b[39m(val, np\u001b[38;5;241m.\u001b[39mndarray) \u001b[38;5;129;01mand\u001b[39;00m val\u001b[38;5;241m.\u001b[39mndim \u001b[38;5;241m>\u001b[39m \u001b[38;5;241m1\u001b[39m:\n\u001b[1;32m--> 664\u001b[0m         \u001b[38;5;28;01mraise\u001b[39;00m \u001b[38;5;167;01mValueError\u001b[39;00m(\u001b[38;5;124m\"\u001b[39m\u001b[38;5;124mPer-column arrays must each be 1-dimensional\u001b[39m\u001b[38;5;124m\"\u001b[39m)\n\u001b[0;32m    666\u001b[0m \u001b[38;5;28;01mif\u001b[39;00m \u001b[38;5;129;01mnot\u001b[39;00m indexes \u001b[38;5;129;01mand\u001b[39;00m \u001b[38;5;129;01mnot\u001b[39;00m raw_lengths:\n\u001b[0;32m    667\u001b[0m     \u001b[38;5;28;01mraise\u001b[39;00m \u001b[38;5;167;01mValueError\u001b[39;00m(\u001b[38;5;124m\"\u001b[39m\u001b[38;5;124mIf using all scalar values, you must pass an index\u001b[39m\u001b[38;5;124m\"\u001b[39m)\n",
      "\u001b[1;31mValueError\u001b[0m: Per-column arrays must each be 1-dimensional"
     ]
    }
   ],
   "source": [
    "import os \n",
    "os.chdir(r'Q:\\sachuriga\\Sachuriga_Python/quattrocolo-nwb4fp\\src')\n",
    "import pandas as pd\n",
    "from pynwb import NWBHDF5IO\n",
    "import os\n",
    "from pathlib import Path\n",
    "from pynwb.file import Subject\n",
    "from nwb4fp.data.helpers import unit_location_ch,convert_h5py_to_picklable\n",
    "import pynapple as nap\n",
    "from sklearn.preprocessing import MinMaxScaler\n",
    "import numpy as np\n",
    "\n",
    "# Output path for the summary table and unit tables\n",
    "output_path = r'Q:/sachuriga/CR_CA1_paper/tables/'\n",
    "\n",
    "# Set your base folder path\n",
    "base_folder = 'S:/Sachuriga/nwb/test4neo/'\n",
    "\n",
    "# Define animal groups\n",
    "target_prefixes_control = ['65165', '65091', '63383', '66539', '65622']\n",
    "target_prefixes_exp = ['65588', '63385', '66538', '66537', '66922']\n",
    "males = ['65165', '63383', '66539', '63385', '65622']\n",
    "females = ['65091', '65588', '66538', '66537', '66922']\n",
    "surgry_sachuriga = ['65165', '63383', '66539', '63385', '65091', '65588', '66538', '66537', '65283']\n",
    "surgry_ingvild = ['66922', '65622']\n",
    "\n",
    "# Initialize dictionaries and lists\n",
    "summary_data = {}\n",
    "file_data = []  # For files_df\n",
    "all_units_list = []  # For all_units_df\n",
    "\n",
    "# Get all NWB files in the directory\n",
    "all_files = os.listdir(base_folder)\n",
    "nwb_files = [f for f in all_files if f.endswith('.nwb')]\n",
    "print(f\"Found {len(nwb_files)} NWB files: {nwb_files}\")\n",
    "\n",
    "# Process each NWB file\n",
    "for nwb_file in nwb_files:\n",
    "    nwbpath = os.path.join(base_folder, nwb_file)\n",
    "    print(f\"Processing {nwbpath}\")\n",
    "\n",
    "    # Open and modify NWB file for metadata\n",
    "    with NWBHDF5IO(Path(nwbpath), \"a\") as io:\n",
    "        nwb = io.read()\n",
    "        animal_id = nwbpath.split('/')[-1][:5]\n",
    "        day = nwbpath.split('/')[-1].split(\"_\")[1]\n",
    "        session_as = nwbpath.split('_phy')[0][-1]\n",
    "        if session_as==\"A\":\n",
    "            spi =  1.6517\n",
    "        elif session_as==\"B\":\n",
    "            spi = 1.9060\n",
    "        elif session_as==\"C\":\n",
    "            spi = 1.6501\n",
    "\n",
    "\n",
    "        print(f\"Using the session: {session_as} and the spi is: {spi}\")\n",
    "        print(f\"Animal ID: {animal_id}\")\n",
    "\n",
    "        # Assign sex\n",
    "        sex = \"M\" if animal_id in males else \"F\" if animal_id in females else \"Unknown\"\n",
    "\n",
    "        if animal_id in target_prefixes_control:\n",
    "            plus:int = 0\n",
    "        elif animal_id in target_prefixes_exp:\n",
    "            plus:int = 1\n",
    "\n",
    "        # Initialize genotype and experimenter\n",
    "        genotype = None\n",
    "        experimenter = None\n",
    "\n",
    "        # Create or update subject\n",
    "        try:\n",
    "            subject = Subject(\n",
    "                subject_id=animal_id,\n",
    "                age=\"P90D\",\n",
    "                description=\"mouse 5\",\n",
    "                species=\"Mus musculus\",\n",
    "                sex=sex)\n",
    "            nwb.subject = subject\n",
    "            \n",
    "            if animal_id in target_prefixes_control:\n",
    "                nwb.subject.genotype = \"NDNF-flp-/- and Pde1c -/-\"\n",
    "            elif animal_id in target_prefixes_exp:\n",
    "                nwb.subject.genotype = \"NDNF-flp +/- and Pde1c +/-\"\n",
    "\n",
    "            if animal_id in surgry_sachuriga:\n",
    "                nwb.experimenter = (\"Sachuriga\",)\n",
    "            elif animal_id in surgry_ingvild:\n",
    "                nwb.experimenter = (\"Ingvild Lynneberg Glærum\",)\n",
    "\n",
    "            genotype = nwb.subject.genotype\n",
    "            experimenter = nwb.experimenter[0] if nwb.experimenter else \"Unknown\"\n",
    "\n",
    "        except AttributeError:\n",
    "            print(f\"AttributeError for {animal_id}, skipping subject update\")\n",
    "            genotype = nwb.subject.genotype\n",
    "            experimenter = nwb.experimenter[0] if nwb.experimenter else \"Unknown\"\n",
    "\n",
    "        io.write(nwb)\n",
    "\n",
    "    # Open the NWB file again to process units\n",
    "    with NWBHDF5IO(Path(nwbpath), \"a\") as io:\n",
    "        nwb = io.read()\n",
    "        unit_table = nwb.units.to_dataframe()\n",
    "        \n",
    "        # Initialize counters if animal_id not in summary_data\n",
    "        if animal_id not in summary_data:\n",
    "            summary_data[animal_id] = {\n",
    "                \"Animal ID\": animal_id,\n",
    "                \"Sex\": sex,\n",
    "                \"Genotype\": genotype,\n",
    "                \"Experimenter\": experimenter,\n",
    "                \"Sessions\": 0,\n",
    "                \"Total Units\": 0,\n",
    "                \"Good Units\": 0,\n",
    "                \"Pyramidal Cells\": 0,\n",
    "                \"Narrow Spike Interneurons\": 0,\n",
    "                \"Wide Spike Interneurons\": 0,\n",
    "                \"Speed Cells\": 0,\n",
    "                \"Place Cells\": 0\n",
    "            }\n",
    "\n",
    "        # Increment session count\n",
    "        summary_data[animal_id][\"Sessions\"] += 1\n",
    "\n",
    "        # Count total units\n",
    "        total_units = len(unit_table.index)\n",
    "        summary_data[animal_id][\"Total Units\"] += total_units\n",
    "\n",
    "        # Lists to store unit classifications\n",
    "        unit_quality = []\n",
    "        cell_type = []\n",
    "        functional_cell_type = []\n",
    "        cell_type_group = []\n",
    "        cell_type_group4 = []\n",
    "        sessionss=[]\n",
    "        lfp_unit=[]\n",
    "        ch=[]\n",
    "        # Create a copy of unit_table with additional columns\n",
    "        units_df = unit_table.copy()\n",
    "        units_df['animal_id'] = animal_id\n",
    "        units_df['session_id'] = nwb_file\n",
    "\n",
    "        id = [0, 2, 4]\n",
    "        # Classify each unit\n",
    "\n",
    "        scaler = MinMaxScaler(feature_range=(0, 1))\n",
    "        time = nwb.processing['Behavioral data']['Mid_brain_cords']['Mid_brain_cords'].timestamps[:]\n",
    "        xy = nwb.processing['Behavioral data']['Mid_brain_cords']['Mid_brain_cords'].data[:]\n",
    "        pos = np.column_stack((\n",
    "            time,\n",
    "            scaler.fit_transform(xy[:, 0].reshape(-1, 1)).flatten(),\n",
    "            scaler.fit_transform(xy[:, 1].reshape(-1, 1)).flatten()\n",
    "        ))\n",
    "        lfp = nwb.processing['lfp_raw']['LFP']['lfp_raw'].data[:]\n",
    "        lfp_times = nwb.processing['Behavioral data']['Head(snout2neck)_Direction']['lfp_times'].data[:]\n",
    "\n",
    "\n",
    "        for i in range(len(unit_table.index)):\n",
    "            sessionss.append(session_as)\n",
    "            unit_x = nwb.units[i]['x'].values[0]\n",
    "            unit_y = nwb.units[i]['y'].values[0]\n",
    "            ch.append(unit_location_ch(file_path=r\"Q:\\sachuriga\\Sachuriga_Python/quattrocolo-nwb4fp/ASSY-236-F.prb\",x=unit_x,y=unit_y))\n",
    "            # lfp_u = lfp[:,ch]\n",
    "            # lfp_unit.append(np.column_stack((lfp_times, lfp_u)))\n",
    "\n",
    "            if (unit_table['isi_violations_ratio'][i] <= 0.2 and \n",
    "                unit_table['l_ratio'][i] <= 0.05 and \n",
    "                unit_table['amplitude_median'][i] <= -40):\n",
    "                unit_quality.append(\"good\")\n",
    "                summary_data[animal_id][\"Good Units\"] += 1\n",
    "                \n",
    "                # Classify cell type\n",
    "                if unit_table['peak_to_valley'][i] <= 0.000425:\n",
    "                    cell_type.append(\"Narrow spike interneuron\")\n",
    "                    cell_type_group.append(id[1] + plus)\n",
    "                    cell_type_group4.append(id[1] + plus)\n",
    "                    summary_data[animal_id][\"Narrow Spike Interneurons\"] += 1\n",
    "                    if unit_table['matlab_speedScores'][i] >= 0.3:\n",
    "                        functional_cell_type.append(\"Speed cell\")\n",
    "                        summary_data[animal_id][\"Speed Cells\"] += 1\n",
    "                    else:\n",
    "                        functional_cell_type.append(\"normal_int\")\n",
    "                elif unit_table['peak_to_valley'][i] > 0.000425 and unit_table['matlab_acg_tau_rise'][i] >= 6:\n",
    "                    cell_type_group.append(id[2] + plus)\n",
    "                    cell_type_group4.append(id[1] + plus)\n",
    "                    cell_type.append(\"Wide Spike Interneurons\")\n",
    "                    summary_data[animal_id][\"Wide Spike Interneurons\"] += 1\n",
    "                    if unit_table['matlab_speedScores'][i] >= 0.3:\n",
    "                        functional_cell_type.append(\"Speed cell\")\n",
    "                        summary_data[animal_id][\"Speed Cells\"] += 1\n",
    "                    else:\n",
    "                        functional_cell_type.append(\"normal_int\")\n",
    "                elif unit_table['peak_to_valley'][i] > 0.000425 and unit_table['matlab_acg_tau_rise'][i] < 6:\n",
    "                    cell_type_group.append(id[0] + plus)\n",
    "                    cell_type_group4.append(id[0] + plus)\n",
    "                    cell_type.append(\"Pyramidal cells\")\n",
    "                    summary_data[animal_id][\"Pyramidal Cells\"] += 1\n",
    "                    if (unit_table['matlab_reject_h0'][i] == 1 and \n",
    "                        unit_table['matlab_test_stat_si'][i] >= spi and \n",
    "                        unit_table['matlab_maxfsize'][i] >= 20 and \n",
    "                        unit_table['firing_range'][i] <= 10):\n",
    "                        functional_cell_type.append(\"Place cell\")\n",
    "                        summary_data[animal_id][\"Place Cells\"] += 1\n",
    "                    else:\n",
    "                        functional_cell_type.append(\"normal_py\")\n",
    "                else:\n",
    "                    cell_type.append(\"nah_error\")\n",
    "                    cell_type_group.append(\"nah_error\")\n",
    "                    cell_type_group4.append(\"nah_error\")\n",
    "                    functional_cell_type.append(\"nah_error\")\n",
    "                    unit_quality.append(\"nah_error\")\n",
    "            else:\n",
    "                cell_type_group.append(\"None\")\n",
    "                cell_type_group4.append(\"None\")\n",
    "                unit_quality.append(\"bad\")\n",
    "                cell_type.append(\"None\")\n",
    "                functional_cell_type.append(\"None\")\n",
    "\n",
    "        # Add classification columns to units_df\n",
    "        units_df['unit_quality'] = unit_quality\n",
    "        units_df['cell_type'] = cell_type\n",
    "        units_df['functional_cell_type'] = functional_cell_type\n",
    "        units_df['genotype'] = genotype\n",
    "        units_df['experimenter'] = experimenter\n",
    "        units_df['sex'] = sex\n",
    "        units_df['cell_type_group_6_group'] = cell_type_group\n",
    "        units_df['cell_type_group_2_group'] = cell_type_group4\n",
    "        units_df['session'] = sessionss\n",
    "        units_df['ch'] = ch\n",
    "        # Add file data for files_df\n",
    "        # file_data.append({\n",
    "        #     'filename': nwb_file,\n",
    "        #     'animal_id': animal_id,\n",
    "        #     'session_id': nwb_file,\n",
    "        #     'genotype': genotype,\n",
    "        #     'experimenter': experimenter,\n",
    "        #     'sex': sex,\n",
    "        #     'unit_table': units_df,\n",
    "        #     'pos':pos,\n",
    "        #     'lfp_times':lfp_times,\n",
    "        #     'lfp':lfp,\n",
    "        #     'day': day,\n",
    "        #     'session': session_as\n",
    "        #      #'npdata': npdata\n",
    "        # })\n",
    "        file_data=[]\n",
    "        file_data.append({\n",
    "            'filename': nwb_file,\n",
    "            'animal_id': animal_id,\n",
    "            'session_id': nwb_file,\n",
    "            'genotype': genotype,\n",
    "            'experimenter': experimenter,\n",
    "            'sex': sex,\n",
    "            'unit_table': units_df,\n",
    "            'pos':pos,\n",
    "            'lfp_times':lfp_times,\n",
    "            'lfp':lfp,\n",
    "            'day': day,\n",
    "            'session': session_as\n",
    "             #'npdata': npdata\n",
    "        })\n",
    "        files_df = pd.DataFrame(file_data)\n",
    "        # Add to all_units_list for all_units_df\n",
    "        output_path = fr\"S:\\Sachuriga\\filre_with_table/\"\n",
    "        print(fr\"save to {output_path}\")\n",
    "        all_units_output_file = os.path.join(output_path, fr\"{animal_id}_{day}_{session_as}_units_table_withDLC.pkl\")\n",
    "        files_df.to_pickle(all_units_output_file)\n",
    "        \n",
    "        # Add columns to the NWB file\n",
    "        if \"unit_quality\" not in nwb.units.colnames:\n",
    "            nwb.units.add_column(name=\"unit_quality\", description=\"values of unit_quality\", data=unit_quality)\n",
    "        if \"cell Type\" not in nwb.units.colnames:\n",
    "            nwb.units.add_column(name=\"cell Type\", description=\"values of cell_type\", data=cell_type)\n",
    "        if \"functional Cell Type\" not in nwb.units.colnames:\n",
    "            nwb.units.add_column(name=\"functional Cell Type\", description=\"values of functional_cell_type\", data=functional_cell_type)\n",
    "\n",
    "        io.write(nwb)"
   ]
  },
  {
   "cell_type": "code",
   "execution_count": 15,
   "metadata": {},
   "outputs": [
    {
     "name": "stdout",
     "output_type": "stream",
     "text": [
      "Processing column: animal\n",
      "Error processing 63383_2024-07-10_15-37-51_A_phy_k_manual.csv: column 'matlab_animal' already exists in Units 'units'\n",
      "Processing column: animal\n",
      "Error processing 63383_2024-07-13_14-10-05_A_phy_k_manual.csv: column 'matlab_animal' already exists in Units 'units'\n",
      "Processing column: animal\n",
      "Error processing 63383_2024-07-13_14-42-37_B_phy_k_manual.csv: column 'matlab_animal' already exists in Units 'units'\n",
      "Processing column: animal\n",
      "Error processing 63383_2024-07-13_15-10-36_C_phy_k_manual.csv: column 'matlab_animal' already exists in Units 'units'\n"
     ]
    },
    {
     "name": "stderr",
     "output_type": "stream",
     "text": [
      "C:\\Users\\sachur\\AppData\\Roaming\\Python\\Python311\\site-packages\\pynwb\\ecephys.py:90: UserWarning: ElectricalSeries 'lfp_car': The second dimension of data does not match the length of electrodes. Your data may be transposed.\n",
      "  warnings.warn(\"%s '%s': The second dimension of data does not match the length of electrodes. \"\n"
     ]
    },
    {
     "name": "stdout",
     "output_type": "stream",
     "text": [
      "Processing column: animal\n",
      "Error processing 63383_2024-07-15_14-51-19_A_phy_k_manual.csv: column 'matlab_animal' already exists in Units 'units'\n"
     ]
    },
    {
     "name": "stderr",
     "output_type": "stream",
     "text": [
      "C:\\Users\\sachur\\AppData\\Roaming\\Python\\Python311\\site-packages\\pynwb\\ecephys.py:90: UserWarning: ElectricalSeries 'lfp_car': The second dimension of data does not match the length of electrodes. Your data may be transposed.\n",
      "  warnings.warn(\"%s '%s': The second dimension of data does not match the length of electrodes. \"\n"
     ]
    },
    {
     "name": "stdout",
     "output_type": "stream",
     "text": [
      "Processing column: animal\n",
      "Error processing 63383_2024-07-15_15-18-02_B_phy_k_manual.csv: column 'matlab_animal' already exists in Units 'units'\n"
     ]
    },
    {
     "name": "stderr",
     "output_type": "stream",
     "text": [
      "C:\\Users\\sachur\\AppData\\Roaming\\Python\\Python311\\site-packages\\pynwb\\ecephys.py:90: UserWarning: ElectricalSeries 'lfp_car': The second dimension of data does not match the length of electrodes. Your data may be transposed.\n",
      "  warnings.warn(\"%s '%s': The second dimension of data does not match the length of electrodes. \"\n"
     ]
    },
    {
     "name": "stdout",
     "output_type": "stream",
     "text": [
      "Processing column: animal\n",
      "Error processing 63383_2024-07-15_15-44-58_C_phy_k_manual.csv: column 'matlab_animal' already exists in Units 'units'\n",
      "Processing column: animal\n",
      "Error processing 63383_2024-07-18_14-13-10_A_phy_k_manual.csv: column 'matlab_animal' already exists in Units 'units'\n",
      "Processing column: animal\n",
      "Error processing 63383_2024-07-18_14-39-54_B_phy_k_manual.csv: column 'matlab_animal' already exists in Units 'units'\n",
      "Processing column: animal\n",
      "Error processing 63383_2024-07-18_15-07-00_C_phy_k_manual.csv: column 'matlab_animal' already exists in Units 'units'\n",
      "Processing column: animal\n",
      "Error processing 63383_2024-07-20_14-21-42_A_phy_k_manual.csv: column 'matlab_animal' already exists in Units 'units'\n",
      "Processing column: animal\n",
      "Error processing 63383_2024-07-20_14-48-58_B_phy_k_manual.csv: column 'matlab_animal' already exists in Units 'units'\n",
      "Processing column: animal\n",
      "Error processing 63383_2024-07-20_15-16-56_C_phy_k_manual.csv: column 'matlab_animal' already exists in Units 'units'\n",
      "Processing column: animal\n",
      "Error processing 63383_2024-07-22_15-12-01_A_phy_k_manual.csv: column 'matlab_animal' already exists in Units 'units'\n",
      "Processing column: animal\n",
      "Error processing 63383_2024-07-22_15-40-20_B_phy_k_manual.csv: column 'matlab_animal' already exists in Units 'units'\n",
      "Processing column: animal\n",
      "Error processing 63383_2024-07-22_16-10-10_C_phy_k_manual.csv: column 'matlab_animal' already exists in Units 'units'\n",
      "Processing column: animal\n",
      "Error processing 63383_2024-07-25_12-57-40_A_phy_k_manual.csv: column 'matlab_animal' already exists in Units 'units'\n",
      "Processing column: animal\n",
      "Error processing 63383_2024-07-25_13-26-11_B_phy_k_manual.csv: column 'matlab_animal' already exists in Units 'units'\n",
      "Processing column: animal\n",
      "Error processing 63383_2024-07-25_13-53-06_C_phy_k_manual.csv: column 'matlab_animal' already exists in Units 'units'\n",
      "Processing column: animal\n",
      "Error processing 63383_2024-07-28_12-22-19_A_phy_k_manual.csv: column 'matlab_animal' already exists in Units 'units'\n",
      "Processing column: animal\n",
      "Error processing 63383_2024-07-28_12-49-40_B_phy_k_manual.csv: column 'matlab_animal' already exists in Units 'units'\n",
      "Processing column: animal\n",
      "Error processing 63383_2024-07-28_13-20-57_C_phy_k_manual.csv: column 'matlab_animal' already exists in Units 'units'\n",
      "Processing column: animal\n",
      "Error processing 63383_2024-07-30_12-33-52_A_phy_k_manual.csv: column 'matlab_animal' already exists in Units 'units'\n",
      "Processing column: animal\n",
      "Error processing 63383_2024-07-30_13-03-12_B_phy_k_manual.csv: column 'matlab_animal' already exists in Units 'units'\n",
      "Processing column: animal\n",
      "Error processing 63383_2024-07-30_13-33-47_C_phy_k_manual.csv: column 'matlab_animal' already exists in Units 'units'\n",
      "Processing column: animal\n",
      "Error processing 63385_2024-07-10_14-39-57_A_phy_k_manual.csv: column 'matlab_animal' already exists in Units 'units'\n",
      "Processing column: animal\n",
      "Error processing 63385_2024-07-11_14-42-01_A_phy_k_manual.csv: column 'matlab_animal' already exists in Units 'units'\n",
      "Processing column: animal\n",
      "Error processing 63385_2024-07-13_15-58-08_A_phy_k_manual.csv: column 'matlab_animal' already exists in Units 'units'\n",
      "Processing column: animal\n",
      "Error processing 63385_2024-07-13_16-26-59_B_phy_k_manual.csv: column 'matlab_animal' already exists in Units 'units'\n",
      "Processing column: animal\n",
      "Error processing 63385_2024-07-13_16-54-07_C_phy_k_manual.csv: column 'matlab_animal' already exists in Units 'units'\n",
      "Processing column: animal\n",
      "Error processing 63385_2024-07-15_16-50-28_A_phy_k_manual.csv: column 'matlab_animal' already exists in Units 'units'\n",
      "Processing column: animal\n",
      "Error processing 63385_2024-07-15_17-16-21_B_phy_k_manual.csv: column 'matlab_animal' already exists in Units 'units'\n",
      "Processing column: animal\n",
      "Error processing 63385_2024-07-15_17-42-19_C_phy_k_manual.csv: column 'matlab_animal' already exists in Units 'units'\n",
      "Processing column: animal\n",
      "Error processing 63385_2024-07-18_16-11-58_A_phy_k_manual.csv: column 'matlab_animal' already exists in Units 'units'\n",
      "Processing column: animal\n",
      "Error processing 63385_2024-07-18_16-38-08_B_phy_k_manual.csv: column 'matlab_animal' already exists in Units 'units'\n",
      "Processing column: animal\n",
      "Error processing 63385_2024-07-18_17-05-03_C_phy_k_manual.csv: column 'matlab_animal' already exists in Units 'units'\n",
      "Processing column: animal\n",
      "Error processing 63385_2024-07-20_16-14-52_A_phy_k_manual.csv: column 'matlab_animal' already exists in Units 'units'\n",
      "Processing column: animal\n",
      "Error processing 63385_2024-07-20_16-41-18_B_phy_k_manual.csv: column 'matlab_animal' already exists in Units 'units'\n",
      "Processing column: animal\n",
      "Error processing 63385_2024-07-20_17-08-19_C_phy_k_manual.csv: column 'matlab_animal' already exists in Units 'units'\n",
      "Processing column: animal\n",
      "Error processing 63385_2024-07-22_13-33-23_A_phy_k_manual.csv: column 'matlab_animal' already exists in Units 'units'\n",
      "Processing column: animal\n",
      "Error processing 63385_2024-07-22_14-00-58_B_phy_k_manual.csv: column 'matlab_animal' already exists in Units 'units'\n",
      "Processing column: animal\n",
      "Error processing 63385_2024-07-22_14-34-14_C_phy_k_manual.csv: column 'matlab_animal' already exists in Units 'units'\n",
      "Processing column: animal\n",
      "Error processing 63385_2024-07-25_14-40-47_A_phy_k_manual.csv: column 'matlab_animal' already exists in Units 'units'\n",
      "Processing column: animal\n",
      "Error processing 63385_2024-07-25_15-07-43_B_phy_k_manual.csv: column 'matlab_animal' already exists in Units 'units'\n",
      "Processing column: animal\n",
      "Error processing 63385_2024-07-25_15-33-13_C_phy_k_manual.csv: column 'matlab_animal' already exists in Units 'units'\n",
      "Processing column: animal\n",
      "Error processing 63385_2024-07-28_14-43-52_A_phy_k_manual.csv: column 'matlab_animal' already exists in Units 'units'\n",
      "Processing column: animal\n",
      "Error processing 63385_2024-07-28_15-09-56_B_phy_k_manual.csv: column 'matlab_animal' already exists in Units 'units'\n",
      "Processing column: animal\n",
      "Error processing 63385_2024-07-28_15-34-34_C_phy_k_manual.csv: column 'matlab_animal' already exists in Units 'units'\n",
      "Processing column: animal\n",
      "Error processing 63385_2024-07-30_14-48-28_A_phy_k_manual.csv: column 'matlab_animal' already exists in Units 'units'\n",
      "Processing column: animal\n",
      "Error processing 63385_2024-07-30_15-15-18_B_phy_k_manual.csv: column 'matlab_animal' already exists in Units 'units'\n",
      "Processing column: animal\n",
      "Error processing 63385_2024-07-30_15-41-00_C_phy_k_manual.csv: column 'matlab_animal' already exists in Units 'units'\n",
      "Processing column: animal\n",
      "Error processing 65091_2023-07-30_14-06-35_A_phy_k_manual.csv: column 'matlab_animal' already exists in Units 'units'\n",
      "Processing column: animal\n",
      "Error processing 65091_2023-08-01_13-40-26_A_phy_k_manual.csv: column 'matlab_animal' already exists in Units 'units'\n",
      "Processing column: animal\n",
      "Error processing 65091_2023-08-01_15-16-29_C_phy_k_manual.csv: column 'matlab_animal' already exists in Units 'units'\n",
      "Processing column: animal\n",
      "Error processing 65091_2023-08-04_14-07-54_A_phy_k_manual.csv: column 'matlab_animal' already exists in Units 'units'\n",
      "Processing column: animal\n",
      "Error processing 65091_2023-08-08_11-39-47_A_phy_k_manual.csv: column 'matlab_animal' already exists in Units 'units'\n",
      "Processing column: animal\n",
      "Error processing 65091_2023-08-08_13-05-04_B_phy_k_manual.csv: column 'matlab_animal' already exists in Units 'units'\n",
      "Processing column: animal\n",
      "Error processing 65091_2023-08-08_13-32-49_C_phy_k_manual.csv: column 'matlab_animal' already exists in Units 'units'\n",
      "Processing column: animal\n",
      "Error processing 65165_2023-06-29_17-02-50_A_phy_k_manual.csv: column 'matlab_animal' already exists in Units 'units'\n"
     ]
    },
    {
     "name": "stderr",
     "output_type": "stream",
     "text": [
      "C:\\Users\\sachur\\AppData\\Roaming\\Python\\Python311\\site-packages\\pynwb\\ecephys.py:90: UserWarning: ElectricalSeries 'lfp_car': The second dimension of data does not match the length of electrodes. Your data may be transposed.\n",
      "  warnings.warn(\"%s '%s': The second dimension of data does not match the length of electrodes. \"\n"
     ]
    },
    {
     "name": "stdout",
     "output_type": "stream",
     "text": [
      "Processing column: animal\n",
      "Error processing 65165_2023-06-30_16-32-08_A_phy_k_manual.csv: column 'matlab_animal' already exists in Units 'units'\n",
      "Processing column: animal\n",
      "Error processing 65165_2023-07-01_15-38-12_A_phy_k_manual.csv: column 'matlab_animal' already exists in Units 'units'\n",
      "Processing column: animal\n",
      "Error processing 65165_2023-07-03_16-21-48_A_phy_k_manual.csv: column 'matlab_animal' already exists in Units 'units'\n",
      "Processing column: animal\n",
      "Error processing 65165_2023-07-04_13-41-46_A_phy_k_manual.csv: column 'matlab_animal' already exists in Units 'units'\n"
     ]
    },
    {
     "name": "stderr",
     "output_type": "stream",
     "text": [
      "C:\\Users\\sachur\\AppData\\Roaming\\Python\\Python311\\site-packages\\pynwb\\ecephys.py:90: UserWarning: ElectricalSeries 'lfp_car': The second dimension of data does not match the length of electrodes. Your data may be transposed.\n",
      "  warnings.warn(\"%s '%s': The second dimension of data does not match the length of electrodes. \"\n"
     ]
    },
    {
     "name": "stdout",
     "output_type": "stream",
     "text": [
      "Processing column: animal\n",
      "Error processing 65165_2023-07-10_15-08-59_A_phy_k_manual.csv: column 'matlab_animal' already exists in Units 'units'\n"
     ]
    },
    {
     "name": "stderr",
     "output_type": "stream",
     "text": [
      "C:\\Users\\sachur\\AppData\\Roaming\\Python\\Python311\\site-packages\\pynwb\\ecephys.py:90: UserWarning: ElectricalSeries 'lfp_car': The second dimension of data does not match the length of electrodes. Your data may be transposed.\n",
      "  warnings.warn(\"%s '%s': The second dimension of data does not match the length of electrodes. \"\n"
     ]
    },
    {
     "name": "stdout",
     "output_type": "stream",
     "text": [
      "Processing column: animal\n",
      "Error processing 65165_2023-07-10_16-19-04_B_phy_k_manual.csv: column 'matlab_animal' already exists in Units 'units'\n"
     ]
    },
    {
     "name": "stderr",
     "output_type": "stream",
     "text": [
      "C:\\Users\\sachur\\AppData\\Roaming\\Python\\Python311\\site-packages\\pynwb\\ecephys.py:90: UserWarning: ElectricalSeries 'lfp_car': The second dimension of data does not match the length of electrodes. Your data may be transposed.\n",
      "  warnings.warn(\"%s '%s': The second dimension of data does not match the length of electrodes. \"\n"
     ]
    },
    {
     "name": "stdout",
     "output_type": "stream",
     "text": [
      "Processing column: animal\n",
      "Error processing 65165_2023-07-10_17-11-32_C_phy_k_manual.csv: column 'matlab_animal' already exists in Units 'units'\n",
      "Processing column: animal\n",
      "Error processing 65165_2023-07-19_13-24-38_A_phy_k_manual.csv: column 'matlab_animal' already exists in Units 'units'\n"
     ]
    },
    {
     "name": "stderr",
     "output_type": "stream",
     "text": [
      "C:\\Users\\sachur\\AppData\\Roaming\\Python\\Python311\\site-packages\\pynwb\\ecephys.py:90: UserWarning: ElectricalSeries 'lfp_car': The second dimension of data does not match the length of electrodes. Your data may be transposed.\n",
      "  warnings.warn(\"%s '%s': The second dimension of data does not match the length of electrodes. \"\n"
     ]
    },
    {
     "name": "stdout",
     "output_type": "stream",
     "text": [
      "Processing column: animal\n",
      "Error processing 65165_2023-07-20_16-57-26_A_phy_k_manual.csv: column 'matlab_animal' already exists in Units 'units'\n"
     ]
    },
    {
     "name": "stderr",
     "output_type": "stream",
     "text": [
      "C:\\Users\\sachur\\AppData\\Roaming\\Python\\Python311\\site-packages\\pynwb\\ecephys.py:90: UserWarning: ElectricalSeries 'lfp_car': The second dimension of data does not match the length of electrodes. Your data may be transposed.\n",
      "  warnings.warn(\"%s '%s': The second dimension of data does not match the length of electrodes. \"\n"
     ]
    },
    {
     "name": "stdout",
     "output_type": "stream",
     "text": [
      "Processing column: animal\n",
      "Error processing 65165_2023-07-25_14-02-32_A_phy_k_manual.csv: column 'matlab_animal' already exists in Units 'units'\n",
      "Processing column: animal\n",
      "Error processing 65165_2023-07-26_14-32-28_A_phy_k_manual.csv: column 'matlab_animal' already exists in Units 'units'\n",
      "Processing column: animal\n",
      "Error processing 65165_2023-07-29_15-34-20_A_phy_k_manual.csv: column 'matlab_animal' already exists in Units 'units'\n",
      "Processing column: animal\n",
      "Error processing 65588_2024-03-04_15-44-37_A_phy_k_manual.csv: column 'matlab_animal' already exists in Units 'units'\n",
      "Processing column: animal\n",
      "Error processing 65588_2024-03-04_16-34-21_B_phy_k_manual.csv: column 'matlab_animal' already exists in Units 'units'\n"
     ]
    },
    {
     "name": "stderr",
     "output_type": "stream",
     "text": [
      "C:\\Users\\sachur\\AppData\\Roaming\\Python\\Python311\\site-packages\\pynwb\\ecephys.py:90: UserWarning: ElectricalSeries 'lfp_car': The second dimension of data does not match the length of electrodes. Your data may be transposed.\n",
      "  warnings.warn(\"%s '%s': The second dimension of data does not match the length of electrodes. \"\n"
     ]
    },
    {
     "name": "stdout",
     "output_type": "stream",
     "text": [
      "Processing column: animal\n",
      "Error processing 65588_2024-03-04_17-12-55_C_phy_k_manual.csv: column 'matlab_animal' already exists in Units 'units'\n",
      "Processing column: animal\n",
      "Error processing 65588_2024-03-06_15-45-53_A_phy_k_manual.csv: column 'matlab_animal' already exists in Units 'units'\n",
      "Processing column: animal\n",
      "Error processing 65588_2024-03-06_16-25-11_B_phy_k_manual.csv: column 'matlab_animal' already exists in Units 'units'\n",
      "Processing column: animal\n",
      "Error processing 65588_2024-03-06_16-56-57_C_phy_k_manual.csv: column 'matlab_animal' already exists in Units 'units'\n",
      "Processing column: animal\n",
      "Error processing 65588_2024-03-08_14-47-56_A_phy_k_manual.csv: column 'matlab_animal' already exists in Units 'units'\n",
      "Processing column: animal\n",
      "Error processing 65588_2024-03-08_15-41-55_B_phy_k_manual.csv: column 'matlab_animal' already exists in Units 'units'\n",
      "Processing column: animal\n",
      "Error processing 65588_2024-03-08_16-10-29_C_phy_k_manual.csv: column 'matlab_animal' already exists in Units 'units'\n"
     ]
    },
    {
     "name": "stderr",
     "output_type": "stream",
     "text": [
      "C:\\Users\\sachur\\AppData\\Roaming\\Python\\Python311\\site-packages\\pynwb\\ecephys.py:90: UserWarning: ElectricalSeries 'lfp_car': The second dimension of data does not match the length of electrodes. Your data may be transposed.\n",
      "  warnings.warn(\"%s '%s': The second dimension of data does not match the length of electrodes. \"\n"
     ]
    },
    {
     "name": "stdout",
     "output_type": "stream",
     "text": [
      "Processing column: animal\n",
      "Error processing 65588_2024-03-10_15-18-16_A_phy_k_manual.csv: column 'matlab_animal' already exists in Units 'units'\n",
      "Processing column: animal\n",
      "Error processing 65588_2024-03-10_15-48-31_B_phy_k_manual.csv: column 'matlab_animal' already exists in Units 'units'\n",
      "Processing column: animal\n",
      "Error processing 65588_2024-03-10_16-17-14_C_phy_k_manual.csv: column 'matlab_animal' already exists in Units 'units'\n"
     ]
    },
    {
     "name": "stderr",
     "output_type": "stream",
     "text": [
      "C:\\Users\\sachur\\AppData\\Roaming\\Python\\Python311\\site-packages\\pynwb\\ecephys.py:90: UserWarning: ElectricalSeries 'lfp_car': The second dimension of data does not match the length of electrodes. Your data may be transposed.\n",
      "  warnings.warn(\"%s '%s': The second dimension of data does not match the length of electrodes. \"\n"
     ]
    },
    {
     "name": "stdout",
     "output_type": "stream",
     "text": [
      "Processing column: animal\n",
      "Error processing 65588_2024-03-12_15-17-04_A_phy_k_manual.csv: column 'matlab_animal' already exists in Units 'units'\n"
     ]
    },
    {
     "name": "stderr",
     "output_type": "stream",
     "text": [
      "C:\\Users\\sachur\\AppData\\Roaming\\Python\\Python311\\site-packages\\pynwb\\ecephys.py:90: UserWarning: ElectricalSeries 'lfp_car': The second dimension of data does not match the length of electrodes. Your data may be transposed.\n",
      "  warnings.warn(\"%s '%s': The second dimension of data does not match the length of electrodes. \"\n"
     ]
    },
    {
     "name": "stdout",
     "output_type": "stream",
     "text": [
      "Processing column: animal\n",
      "Error processing 65588_2024-03-12_15-44-58_B_phy_k_manual.csv: column 'matlab_animal' already exists in Units 'units'\n"
     ]
    },
    {
     "name": "stderr",
     "output_type": "stream",
     "text": [
      "C:\\Users\\sachur\\AppData\\Roaming\\Python\\Python311\\site-packages\\pynwb\\ecephys.py:90: UserWarning: ElectricalSeries 'lfp_car': The second dimension of data does not match the length of electrodes. Your data may be transposed.\n",
      "  warnings.warn(\"%s '%s': The second dimension of data does not match the length of electrodes. \"\n"
     ]
    },
    {
     "name": "stdout",
     "output_type": "stream",
     "text": [
      "Processing column: animal\n",
      "Error processing 65588_2024-03-12_16-15-30_C_phy_k_manual.csv: column 'matlab_animal' already exists in Units 'units'\n",
      "Processing column: animal\n",
      "Error processing 65588_2024-03-14_14-26-31_A_phy_k_manual.csv: column 'matlab_animal' already exists in Units 'units'\n",
      "Processing column: animal\n",
      "Error processing 65588_2024-03-14_15-25-11_B_phy_k_manual.csv: column 'matlab_animal' already exists in Units 'units'\n",
      "Processing column: animal\n",
      "Error processing 65588_2024-03-14_15-52-08_C_phy_k_manual.csv: column 'matlab_animal' already exists in Units 'units'\n"
     ]
    },
    {
     "name": "stderr",
     "output_type": "stream",
     "text": [
      "C:\\Users\\sachur\\AppData\\Roaming\\Python\\Python311\\site-packages\\pynwb\\ecephys.py:90: UserWarning: ElectricalSeries 'lfp_car': The second dimension of data does not match the length of electrodes. Your data may be transposed.\n",
      "  warnings.warn(\"%s '%s': The second dimension of data does not match the length of electrodes. \"\n"
     ]
    },
    {
     "name": "stdout",
     "output_type": "stream",
     "text": [
      "Processing column: animal\n",
      "Error processing 65622_2024-04-30_14-59-30_A_phy_k_manual.csv: column 'matlab_animal' already exists in Units 'units'\n",
      "Processing column: animal\n",
      "Error processing 66537_2024-11-22_16-36-59_A_phy_k_manual.csv: column 'matlab_animal' already exists in Units 'units'\n",
      "Processing column: animal\n",
      "Error processing 66537_2024-11-22_17-05-17_B_phy_k_manual.csv: column 'matlab_animal' already exists in Units 'units'\n",
      "Processing column: animal\n",
      "Error processing 66537_2024-11-22_17-30-53_C_phy_k_manual.csv: column 'matlab_animal' already exists in Units 'units'\n",
      "Processing column: animal\n",
      "Error processing 66537_2024-11-26_12-58-02_A_phy_k_manual.csv: column 'matlab_animal' already exists in Units 'units'\n"
     ]
    },
    {
     "name": "stderr",
     "output_type": "stream",
     "text": [
      "C:\\Users\\sachur\\AppData\\Roaming\\Python\\Python311\\site-packages\\pynwb\\ecephys.py:90: UserWarning: ElectricalSeries 'lfp_car': The second dimension of data does not match the length of electrodes. Your data may be transposed.\n",
      "  warnings.warn(\"%s '%s': The second dimension of data does not match the length of electrodes. \"\n"
     ]
    },
    {
     "name": "stdout",
     "output_type": "stream",
     "text": [
      "Processing column: animal\n",
      "Error processing 66537_2024-11-26_13-23-16_B_phy_k_manual.csv: column 'matlab_animal' already exists in Units 'units'\n"
     ]
    },
    {
     "name": "stderr",
     "output_type": "stream",
     "text": [
      "C:\\Users\\sachur\\AppData\\Roaming\\Python\\Python311\\site-packages\\pynwb\\ecephys.py:90: UserWarning: ElectricalSeries 'lfp_car': The second dimension of data does not match the length of electrodes. Your data may be transposed.\n",
      "  warnings.warn(\"%s '%s': The second dimension of data does not match the length of electrodes. \"\n"
     ]
    },
    {
     "name": "stdout",
     "output_type": "stream",
     "text": [
      "Processing column: animal\n",
      "Error processing 66537_2024-11-26_13-47-20_C_phy_k_manual.csv: column 'matlab_animal' already exists in Units 'units'\n"
     ]
    },
    {
     "name": "stderr",
     "output_type": "stream",
     "text": [
      "C:\\Users\\sachur\\AppData\\Roaming\\Python\\Python311\\site-packages\\pynwb\\ecephys.py:90: UserWarning: ElectricalSeries 'lfp_car': The second dimension of data does not match the length of electrodes. Your data may be transposed.\n",
      "  warnings.warn(\"%s '%s': The second dimension of data does not match the length of electrodes. \"\n"
     ]
    },
    {
     "name": "stdout",
     "output_type": "stream",
     "text": [
      "Processing column: animal\n",
      "Error processing 66537_2024-11-29_10-51-02_A_phy_k_manual.csv: column 'matlab_animal' already exists in Units 'units'\n"
     ]
    },
    {
     "name": "stderr",
     "output_type": "stream",
     "text": [
      "C:\\Users\\sachur\\AppData\\Roaming\\Python\\Python311\\site-packages\\pynwb\\ecephys.py:90: UserWarning: ElectricalSeries 'lfp_car': The second dimension of data does not match the length of electrodes. Your data may be transposed.\n",
      "  warnings.warn(\"%s '%s': The second dimension of data does not match the length of electrodes. \"\n"
     ]
    },
    {
     "name": "stdout",
     "output_type": "stream",
     "text": [
      "Processing column: animal\n",
      "Error processing 66537_2024-11-29_11-19-52_B_phy_k_manual.csv: column 'matlab_animal' already exists in Units 'units'\n"
     ]
    },
    {
     "name": "stderr",
     "output_type": "stream",
     "text": [
      "C:\\Users\\sachur\\AppData\\Roaming\\Python\\Python311\\site-packages\\pynwb\\ecephys.py:90: UserWarning: ElectricalSeries 'lfp_car': The second dimension of data does not match the length of electrodes. Your data may be transposed.\n",
      "  warnings.warn(\"%s '%s': The second dimension of data does not match the length of electrodes. \"\n"
     ]
    },
    {
     "name": "stdout",
     "output_type": "stream",
     "text": [
      "Processing column: animal\n",
      "Error processing 66537_2024-11-29_11-43-49_C_phy_k_manual.csv: column 'matlab_animal' already exists in Units 'units'\n"
     ]
    },
    {
     "name": "stderr",
     "output_type": "stream",
     "text": [
      "C:\\Users\\sachur\\AppData\\Roaming\\Python\\Python311\\site-packages\\pynwb\\ecephys.py:90: UserWarning: ElectricalSeries 'lfp_car': The second dimension of data does not match the length of electrodes. Your data may be transposed.\n",
      "  warnings.warn(\"%s '%s': The second dimension of data does not match the length of electrodes. \"\n"
     ]
    },
    {
     "name": "stdout",
     "output_type": "stream",
     "text": [
      "Processing column: animal\n",
      "Error processing 66537_2024-12-02_11-51-18_A_phy_k_manual.csv: column 'matlab_animal' already exists in Units 'units'\n"
     ]
    },
    {
     "name": "stderr",
     "output_type": "stream",
     "text": [
      "C:\\Users\\sachur\\AppData\\Roaming\\Python\\Python311\\site-packages\\pynwb\\ecephys.py:90: UserWarning: ElectricalSeries 'lfp_car': The second dimension of data does not match the length of electrodes. Your data may be transposed.\n",
      "  warnings.warn(\"%s '%s': The second dimension of data does not match the length of electrodes. \"\n"
     ]
    },
    {
     "name": "stdout",
     "output_type": "stream",
     "text": [
      "Processing column: animal\n",
      "Error processing 66537_2024-12-02_12-18-56_B_phy_k_manual.csv: column 'matlab_animal' already exists in Units 'units'\n"
     ]
    },
    {
     "name": "stderr",
     "output_type": "stream",
     "text": [
      "C:\\Users\\sachur\\AppData\\Roaming\\Python\\Python311\\site-packages\\pynwb\\ecephys.py:90: UserWarning: ElectricalSeries 'lfp_car': The second dimension of data does not match the length of electrodes. Your data may be transposed.\n",
      "  warnings.warn(\"%s '%s': The second dimension of data does not match the length of electrodes. \"\n"
     ]
    },
    {
     "name": "stdout",
     "output_type": "stream",
     "text": [
      "Processing column: animal\n",
      "Error processing 66537_2024-12-02_12-44-40_C_phy_k_manual.csv: column 'matlab_animal' already exists in Units 'units'\n"
     ]
    },
    {
     "name": "stderr",
     "output_type": "stream",
     "text": [
      "C:\\Users\\sachur\\AppData\\Roaming\\Python\\Python311\\site-packages\\pynwb\\ecephys.py:90: UserWarning: ElectricalSeries 'lfp_car': The second dimension of data does not match the length of electrodes. Your data may be transposed.\n",
      "  warnings.warn(\"%s '%s': The second dimension of data does not match the length of electrodes. \"\n"
     ]
    },
    {
     "name": "stdout",
     "output_type": "stream",
     "text": [
      "Processing column: animal\n",
      "Error processing 66537_2024-12-04_14-35-16_A_phy_k_manual.csv: column 'matlab_animal' already exists in Units 'units'\n"
     ]
    },
    {
     "name": "stderr",
     "output_type": "stream",
     "text": [
      "C:\\Users\\sachur\\AppData\\Roaming\\Python\\Python311\\site-packages\\pynwb\\ecephys.py:90: UserWarning: ElectricalSeries 'lfp_car': The second dimension of data does not match the length of electrodes. Your data may be transposed.\n",
      "  warnings.warn(\"%s '%s': The second dimension of data does not match the length of electrodes. \"\n"
     ]
    },
    {
     "name": "stdout",
     "output_type": "stream",
     "text": [
      "Processing column: animal\n",
      "Error processing 66537_2024-12-04_15-00-57_B_phy_k_manual.csv: column 'matlab_animal' already exists in Units 'units'\n"
     ]
    },
    {
     "name": "stderr",
     "output_type": "stream",
     "text": [
      "C:\\Users\\sachur\\AppData\\Roaming\\Python\\Python311\\site-packages\\pynwb\\ecephys.py:90: UserWarning: ElectricalSeries 'lfp_car': The second dimension of data does not match the length of electrodes. Your data may be transposed.\n",
      "  warnings.warn(\"%s '%s': The second dimension of data does not match the length of electrodes. \"\n"
     ]
    },
    {
     "name": "stdout",
     "output_type": "stream",
     "text": [
      "Processing column: animal\n",
      "Error processing 66537_2024-12-04_15-27-58_C_phy_k_manual.csv: column 'matlab_animal' already exists in Units 'units'\n"
     ]
    },
    {
     "name": "stderr",
     "output_type": "stream",
     "text": [
      "C:\\Users\\sachur\\AppData\\Roaming\\Python\\Python311\\site-packages\\pynwb\\ecephys.py:90: UserWarning: ElectricalSeries 'lfp_car': The second dimension of data does not match the length of electrodes. Your data may be transposed.\n",
      "  warnings.warn(\"%s '%s': The second dimension of data does not match the length of electrodes. \"\n"
     ]
    },
    {
     "name": "stdout",
     "output_type": "stream",
     "text": [
      "Processing column: animal\n",
      "Error processing 66537_2024-12-06_15-08-44_A_phy_k_manual.csv: column 'matlab_animal' already exists in Units 'units'\n"
     ]
    },
    {
     "name": "stderr",
     "output_type": "stream",
     "text": [
      "C:\\Users\\sachur\\AppData\\Roaming\\Python\\Python311\\site-packages\\pynwb\\ecephys.py:90: UserWarning: ElectricalSeries 'lfp_car': The second dimension of data does not match the length of electrodes. Your data may be transposed.\n",
      "  warnings.warn(\"%s '%s': The second dimension of data does not match the length of electrodes. \"\n"
     ]
    },
    {
     "name": "stdout",
     "output_type": "stream",
     "text": [
      "Processing column: animal\n",
      "Error processing 66537_2024-12-06_15-35-02_B_phy_k_manual.csv: column 'matlab_animal' already exists in Units 'units'\n"
     ]
    },
    {
     "name": "stderr",
     "output_type": "stream",
     "text": [
      "C:\\Users\\sachur\\AppData\\Roaming\\Python\\Python311\\site-packages\\pynwb\\ecephys.py:90: UserWarning: ElectricalSeries 'lfp_car': The second dimension of data does not match the length of electrodes. Your data may be transposed.\n",
      "  warnings.warn(\"%s '%s': The second dimension of data does not match the length of electrodes. \"\n"
     ]
    },
    {
     "name": "stdout",
     "output_type": "stream",
     "text": [
      "Processing column: animal\n",
      "Error processing 66537_2024-12-06_15-59-24_C_phy_k_manual.csv: column 'matlab_animal' already exists in Units 'units'\n"
     ]
    },
    {
     "name": "stderr",
     "output_type": "stream",
     "text": [
      "C:\\Users\\sachur\\AppData\\Roaming\\Python\\Python311\\site-packages\\pynwb\\ecephys.py:90: UserWarning: ElectricalSeries 'lfp_car': The second dimension of data does not match the length of electrodes. Your data may be transposed.\n",
      "  warnings.warn(\"%s '%s': The second dimension of data does not match the length of electrodes. \"\n"
     ]
    },
    {
     "name": "stdout",
     "output_type": "stream",
     "text": [
      "Processing column: animal\n",
      "Error processing 66537_2024-12-08_15-50-09_A_phy_k_manual.csv: column 'matlab_animal' already exists in Units 'units'\n"
     ]
    },
    {
     "name": "stderr",
     "output_type": "stream",
     "text": [
      "C:\\Users\\sachur\\AppData\\Roaming\\Python\\Python311\\site-packages\\pynwb\\ecephys.py:90: UserWarning: ElectricalSeries 'lfp_car': The second dimension of data does not match the length of electrodes. Your data may be transposed.\n",
      "  warnings.warn(\"%s '%s': The second dimension of data does not match the length of electrodes. \"\n"
     ]
    },
    {
     "name": "stdout",
     "output_type": "stream",
     "text": [
      "Processing column: animal\n",
      "Error processing 66537_2024-12-08_16-13-58_B_phy_k_manual.csv: column 'matlab_animal' already exists in Units 'units'\n"
     ]
    },
    {
     "name": "stderr",
     "output_type": "stream",
     "text": [
      "C:\\Users\\sachur\\AppData\\Roaming\\Python\\Python311\\site-packages\\pynwb\\ecephys.py:90: UserWarning: ElectricalSeries 'lfp_car': The second dimension of data does not match the length of electrodes. Your data may be transposed.\n",
      "  warnings.warn(\"%s '%s': The second dimension of data does not match the length of electrodes. \"\n"
     ]
    },
    {
     "name": "stdout",
     "output_type": "stream",
     "text": [
      "Processing column: animal\n",
      "Error processing 66537_2024-12-08_16-38-13_C_phy_k_manual.csv: column 'matlab_animal' already exists in Units 'units'\n"
     ]
    },
    {
     "name": "stderr",
     "output_type": "stream",
     "text": [
      "C:\\Users\\sachur\\AppData\\Roaming\\Python\\Python311\\site-packages\\pynwb\\ecephys.py:90: UserWarning: ElectricalSeries 'lfp_car': The second dimension of data does not match the length of electrodes. Your data may be transposed.\n",
      "  warnings.warn(\"%s '%s': The second dimension of data does not match the length of electrodes. \"\n"
     ]
    },
    {
     "name": "stdout",
     "output_type": "stream",
     "text": [
      "Processing column: animal\n",
      "Error processing 66537_2024-12-18_12-33-01_A_phy_k_manual.csv: column 'matlab_animal' already exists in Units 'units'\n"
     ]
    },
    {
     "name": "stderr",
     "output_type": "stream",
     "text": [
      "C:\\Users\\sachur\\AppData\\Roaming\\Python\\Python311\\site-packages\\pynwb\\ecephys.py:90: UserWarning: ElectricalSeries 'lfp_car': The second dimension of data does not match the length of electrodes. Your data may be transposed.\n",
      "  warnings.warn(\"%s '%s': The second dimension of data does not match the length of electrodes. \"\n"
     ]
    },
    {
     "name": "stdout",
     "output_type": "stream",
     "text": [
      "Processing column: animal\n",
      "Error processing 66537_2024-12-18_12-57-53_B_phy_k_manual.csv: column 'matlab_animal' already exists in Units 'units'\n"
     ]
    },
    {
     "name": "stderr",
     "output_type": "stream",
     "text": [
      "C:\\Users\\sachur\\AppData\\Roaming\\Python\\Python311\\site-packages\\pynwb\\ecephys.py:90: UserWarning: ElectricalSeries 'lfp_car': The second dimension of data does not match the length of electrodes. Your data may be transposed.\n",
      "  warnings.warn(\"%s '%s': The second dimension of data does not match the length of electrodes. \"\n"
     ]
    },
    {
     "name": "stdout",
     "output_type": "stream",
     "text": [
      "Processing column: animal\n",
      "Error processing 66537_2024-12-18_13-22-19_C_phy_k_manual.csv: column 'matlab_animal' already exists in Units 'units'\n"
     ]
    },
    {
     "name": "stderr",
     "output_type": "stream",
     "text": [
      "C:\\Users\\sachur\\AppData\\Roaming\\Python\\Python311\\site-packages\\pynwb\\ecephys.py:90: UserWarning: ElectricalSeries 'lfp_car': The second dimension of data does not match the length of electrodes. Your data may be transposed.\n",
      "  warnings.warn(\"%s '%s': The second dimension of data does not match the length of electrodes. \"\n"
     ]
    },
    {
     "name": "stdout",
     "output_type": "stream",
     "text": [
      "Processing column: animal\n",
      "Error processing 66537_2024-12-19_16-42-27_A_phy_k_manual.csv: column 'matlab_animal' already exists in Units 'units'\n"
     ]
    },
    {
     "name": "stderr",
     "output_type": "stream",
     "text": [
      "C:\\Users\\sachur\\AppData\\Roaming\\Python\\Python311\\site-packages\\pynwb\\ecephys.py:90: UserWarning: ElectricalSeries 'lfp_car': The second dimension of data does not match the length of electrodes. Your data may be transposed.\n",
      "  warnings.warn(\"%s '%s': The second dimension of data does not match the length of electrodes. \"\n"
     ]
    },
    {
     "name": "stdout",
     "output_type": "stream",
     "text": [
      "Processing column: animal\n",
      "Error processing 66537_2024-12-19_17-07-13_B_phy_k_manual.csv: column 'matlab_animal' already exists in Units 'units'\n"
     ]
    },
    {
     "name": "stderr",
     "output_type": "stream",
     "text": [
      "C:\\Users\\sachur\\AppData\\Roaming\\Python\\Python311\\site-packages\\pynwb\\ecephys.py:90: UserWarning: ElectricalSeries 'lfp_car': The second dimension of data does not match the length of electrodes. Your data may be transposed.\n",
      "  warnings.warn(\"%s '%s': The second dimension of data does not match the length of electrodes. \"\n"
     ]
    },
    {
     "name": "stdout",
     "output_type": "stream",
     "text": [
      "Processing column: animal\n",
      "Error processing 66537_2024-12-19_17-30-23_C_phy_k_manual.csv: column 'matlab_animal' already exists in Units 'units'\n",
      "Processing column: animal\n",
      "Error processing 66537_2024-12-21_15-19-13_A_phy_k_manual.csv: column 'matlab_animal' already exists in Units 'units'\n",
      "Processing column: animal\n",
      "Error processing 66537_2024-12-21_15-47-12_B_phy_k_manual.csv: column 'matlab_animal' already exists in Units 'units'\n",
      "Processing column: animal\n",
      "Error processing 66537_2024-12-21_16-10-40_C_phy_k_manual.csv: column 'matlab_animal' already exists in Units 'units'\n",
      "Processing column: animal\n",
      "Error processing 66538_2024-11-22_17-59-41_A_phy_k_manual.csv: column 'matlab_animal' already exists in Units 'units'\n",
      "Processing column: animal\n",
      "Error processing 66538_2024-11-22_18-25-29_B_phy_k_manual.csv: column 'matlab_animal' already exists in Units 'units'\n",
      "Processing column: animal\n",
      "Error processing 66538_2024-11-22_18-53-59_C_phy_k_manual.csv: column 'matlab_animal' already exists in Units 'units'\n",
      "Processing column: animal\n",
      "Error processing 66538_2024-11-25_11-10-56_A_phy_k_manual.csv: column 'matlab_animal' already exists in Units 'units'\n",
      "Processing column: animal\n",
      "Error processing 66538_2024-11-25_11-36-52_B_phy_k_manual.csv: column 'matlab_animal' already exists in Units 'units'\n",
      "Processing column: animal\n",
      "Error processing 66538_2024-11-25_12-02-14_C_phy_k_manual.csv: column 'matlab_animal' already exists in Units 'units'\n",
      "Processing column: animal\n",
      "Error processing 66538_2024-11-29_12-21-00_A_phy_k_manual.csv: column 'matlab_animal' already exists in Units 'units'\n",
      "Processing column: animal\n",
      "Error processing 66538_2024-11-29_12-47-36_B_phy_k_manual.csv: column 'matlab_animal' already exists in Units 'units'\n",
      "Processing column: animal\n",
      "Error processing 66538_2024-11-29_13-11-22_C_phy_k_manual.csv: column 'matlab_animal' already exists in Units 'units'\n",
      "Processing column: animal\n",
      "Error processing 66538_2024-12-02_10-31-40_A_phy_k_manual.csv: column 'matlab_animal' already exists in Units 'units'\n",
      "Processing column: animal\n",
      "Error processing 66538_2024-12-02_10-57-29_B_phy_k_manual.csv: column 'matlab_animal' already exists in Units 'units'\n",
      "Processing column: animal\n",
      "Error processing 66538_2024-12-02_11-22-15_C_phy_k_manual.csv: column 'matlab_animal' already exists in Units 'units'\n",
      "Processing column: animal\n",
      "Error processing 66538_2024-12-04_10-46-52_A_phy_k_manual.csv: column 'matlab_animal' already exists in Units 'units'\n",
      "Processing column: animal\n",
      "Error processing 66538_2024-12-04_11-12-40_B_phy_k_manual.csv: column 'matlab_animal' already exists in Units 'units'\n",
      "Processing column: animal\n",
      "Error processing 66538_2024-12-04_11-36-38_C_phy_k_manual.csv: column 'matlab_animal' already exists in Units 'units'\n",
      "Processing column: animal\n",
      "Error processing 66538_2024-12-06_13-29-55_A_phy_k_manual.csv: column 'matlab_animal' already exists in Units 'units'\n",
      "Processing column: animal\n",
      "Error processing 66538_2024-12-06_13-56-13_B_phy_k_manual.csv: column 'matlab_animal' already exists in Units 'units'\n",
      "Processing column: animal\n",
      "Error processing 66538_2024-12-06_14-19-53_C_phy_k_manual.csv: column 'matlab_animal' already exists in Units 'units'\n",
      "Processing column: animal\n",
      "Error processing 66538_2024-12-08_14-24-17_A_phy_k_manual.csv: column 'matlab_animal' already exists in Units 'units'\n",
      "Processing column: animal\n",
      "Error processing 66538_2024-12-08_14-55-18_B_phy_k_manual.csv: column 'matlab_animal' already exists in Units 'units'\n",
      "Processing column: animal\n",
      "Error processing 66538_2024-12-08_15-19-37_C_phy_k_manual.csv: column 'matlab_animal' already exists in Units 'units'\n",
      "Processing column: animal\n",
      "Error processing 66538_2024-12-10_11-46-21_A_phy_k_manual.csv: column 'matlab_animal' already exists in Units 'units'\n",
      "Processing column: animal\n",
      "Error processing 66538_2024-12-10_12-12-09_B_phy_k_manual.csv: column 'matlab_animal' already exists in Units 'units'\n",
      "Processing column: animal\n",
      "Error processing 66538_2024-12-10_12-37-28_C_phy_k_manual.csv: column 'matlab_animal' already exists in Units 'units'\n",
      "Processing column: animal\n",
      "Error processing 66538_2024-12-12_09-34-43_A_phy_k_manual.csv: column 'matlab_animal' already exists in Units 'units'\n",
      "Processing column: animal\n",
      "Error processing 66538_2024-12-12_09-59-20_B_phy_k_manual.csv: column 'matlab_animal' already exists in Units 'units'\n",
      "Processing column: animal\n",
      "Error processing 66538_2024-12-12_10-25-55_C_phy_k_manual.csv: column 'matlab_animal' already exists in Units 'units'\n"
     ]
    },
    {
     "name": "stderr",
     "output_type": "stream",
     "text": [
      "C:\\Users\\sachur\\AppData\\Roaming\\Python\\Python311\\site-packages\\pynwb\\ecephys.py:90: UserWarning: ElectricalSeries 'lfp_car': The second dimension of data does not match the length of electrodes. Your data may be transposed.\n",
      "  warnings.warn(\"%s '%s': The second dimension of data does not match the length of electrodes. \"\n"
     ]
    },
    {
     "name": "stdout",
     "output_type": "stream",
     "text": [
      "Processing column: animal\n",
      "Error processing 66538_2024-12-16_14-08-36_A_phy_k_manual.csv: column 'matlab_animal' already exists in Units 'units'\n"
     ]
    },
    {
     "name": "stderr",
     "output_type": "stream",
     "text": [
      "C:\\Users\\sachur\\AppData\\Roaming\\Python\\Python311\\site-packages\\pynwb\\ecephys.py:90: UserWarning: ElectricalSeries 'lfp_car': The second dimension of data does not match the length of electrodes. Your data may be transposed.\n",
      "  warnings.warn(\"%s '%s': The second dimension of data does not match the length of electrodes. \"\n"
     ]
    },
    {
     "name": "stdout",
     "output_type": "stream",
     "text": [
      "Processing column: animal\n",
      "Error processing 66538_2024-12-16_14-34-32_B_phy_k_manual.csv: column 'matlab_animal' already exists in Units 'units'\n"
     ]
    },
    {
     "name": "stderr",
     "output_type": "stream",
     "text": [
      "C:\\Users\\sachur\\AppData\\Roaming\\Python\\Python311\\site-packages\\pynwb\\ecephys.py:90: UserWarning: ElectricalSeries 'lfp_car': The second dimension of data does not match the length of electrodes. Your data may be transposed.\n",
      "  warnings.warn(\"%s '%s': The second dimension of data does not match the length of electrodes. \"\n"
     ]
    },
    {
     "name": "stdout",
     "output_type": "stream",
     "text": [
      "Processing column: animal\n",
      "Error processing 66538_2024-12-16_14-57-58_C_phy_k_manual.csv: column 'matlab_animal' already exists in Units 'units'\n",
      "Processing column: animal\n",
      "Error processing 66539_2024-11-19_13-16-17_A_phy_k_manual.csv: column 'matlab_animal' already exists in Units 'units'\n",
      "Processing column: animal\n",
      "Error processing 66539_2024-11-19_13-49-18_B_phy_k_manual.csv: column 'matlab_animal' already exists in Units 'units'\n",
      "Processing column: animal\n",
      "Error processing 66539_2024-11-19_14-19-54_C_phy_k_manual.csv: column 'matlab_animal' already exists in Units 'units'\n",
      "Processing column: animal\n",
      "Error processing 66539_2024-11-22_15-04-20_A_phy_k_manual.csv: column 'matlab_animal' already exists in Units 'units'\n",
      "Processing column: animal\n",
      "Error processing 66539_2024-11-22_15-31-06_B_phy_k_manual.csv: column 'matlab_animal' already exists in Units 'units'\n",
      "Processing column: animal\n",
      "Error processing 66539_2024-11-22_15-57-47_C_phy_k_manual.csv: column 'matlab_animal' already exists in Units 'units'\n",
      "Processing column: animal\n",
      "Error processing 66539_2024-11-25_12-41-43_A_phy_k_manual.csv: column 'matlab_animal' already exists in Units 'units'\n"
     ]
    },
    {
     "name": "stderr",
     "output_type": "stream",
     "text": [
      "C:\\Users\\sachur\\AppData\\Roaming\\Python\\Python311\\site-packages\\pynwb\\ecephys.py:90: UserWarning: ElectricalSeries 'lfp_car': The second dimension of data does not match the length of electrodes. Your data may be transposed.\n",
      "  warnings.warn(\"%s '%s': The second dimension of data does not match the length of electrodes. \"\n"
     ]
    },
    {
     "name": "stdout",
     "output_type": "stream",
     "text": [
      "Processing column: animal\n",
      "Error processing 66539_2024-11-25_13-07-11_B_phy_k_manual.csv: column 'matlab_animal' already exists in Units 'units'\n",
      "Processing column: animal\n",
      "Error processing 66539_2024-11-25_13-31-20_C_phy_k_manual.csv: column 'matlab_animal' already exists in Units 'units'\n",
      "Processing column: animal\n",
      "Error processing 66539_2024-11-28_13-45-42_A_phy_k_manual.csv: column 'matlab_animal' already exists in Units 'units'\n"
     ]
    },
    {
     "name": "stderr",
     "output_type": "stream",
     "text": [
      "C:\\Users\\sachur\\AppData\\Roaming\\Python\\Python311\\site-packages\\pynwb\\ecephys.py:90: UserWarning: ElectricalSeries 'lfp_car': The second dimension of data does not match the length of electrodes. Your data may be transposed.\n",
      "  warnings.warn(\"%s '%s': The second dimension of data does not match the length of electrodes. \"\n"
     ]
    },
    {
     "name": "stdout",
     "output_type": "stream",
     "text": [
      "Processing column: animal\n",
      "Error processing 66539_2024-11-28_14-10-31_B_phy_k_manual.csv: column 'matlab_animal' already exists in Units 'units'\n",
      "Processing column: animal\n",
      "Error processing 66539_2024-11-28_14-34-05_C_phy_k_manual.csv: column 'matlab_animal' already exists in Units 'units'\n",
      "Processing column: animal\n",
      "Error processing 66539_2024-12-01_13-38-21_A_phy_k_manual.csv: column 'matlab_animal' already exists in Units 'units'\n",
      "Processing column: animal\n",
      "Error processing 66539_2024-12-01_14-05-00_B_phy_k_manual.csv: column 'matlab_animal' already exists in Units 'units'\n",
      "Processing column: animal\n",
      "Error processing 66539_2024-12-01_14-28-19_C_phy_k_manual.csv: column 'matlab_animal' already exists in Units 'units'\n",
      "Processing column: animal\n",
      "Error processing 66539_2024-12-03_11-42-19_A_phy_k_manual.csv: column 'matlab_animal' already exists in Units 'units'\n",
      "Processing column: animal\n",
      "Error processing 66539_2024-12-03_12-12-32_B_phy_k_manual.csv: column 'matlab_animal' already exists in Units 'units'\n",
      "Processing column: animal\n",
      "Error processing 66539_2024-12-03_12-37-51_C_phy_k_manual.csv: column 'matlab_animal' already exists in Units 'units'\n",
      "Processing column: animal\n",
      "Error processing 66539_2024-12-05_11-10-35_A_phy_k_manual.csv: column 'matlab_animal' already exists in Units 'units'\n",
      "Processing column: animal\n",
      "Error processing 66539_2024-12-05_11-38-14_B_phy_k_manual.csv: column 'matlab_animal' already exists in Units 'units'\n",
      "Processing column: animal\n",
      "Error processing 66539_2024-12-05_12-02-58_C_phy_k_manual.csv: column 'matlab_animal' already exists in Units 'units'\n",
      "Processing column: animal\n",
      "Error processing 66539_2024-12-07_15-40-06_A_phy_k_manual.csv: column 'matlab_animal' already exists in Units 'units'\n",
      "Processing column: animal\n",
      "Error processing 66539_2024-12-07_16-04-24_B_phy_k_manual.csv: column 'matlab_animal' already exists in Units 'units'\n",
      "Processing column: animal\n",
      "Error processing 66539_2024-12-07_16-27-58_C_phy_k_manual.csv: column 'matlab_animal' already exists in Units 'units'\n",
      "Processing column: animal\n",
      "Error processing 66539_2024-12-09_11-27-55_A_phy_k_manual.csv: column 'matlab_animal' already exists in Units 'units'\n",
      "Processing column: animal\n",
      "Error processing 66539_2024-12-09_11-52-29_B_phy_k_manual.csv: column 'matlab_animal' already exists in Units 'units'\n",
      "Processing column: animal\n",
      "Error processing 66539_2024-12-09_12-16-12_C_phy_k_manual.csv: column 'matlab_animal' already exists in Units 'units'\n",
      "Processing column: animal\n",
      "Error processing 66539_2024-12-17_14-15-32_A_phy_k_manual.csv: column 'matlab_animal' already exists in Units 'units'\n"
     ]
    },
    {
     "name": "stderr",
     "output_type": "stream",
     "text": [
      "C:\\Users\\sachur\\AppData\\Roaming\\Python\\Python311\\site-packages\\pynwb\\ecephys.py:90: UserWarning: ElectricalSeries 'lfp_car': The second dimension of data does not match the length of electrodes. Your data may be transposed.\n",
      "  warnings.warn(\"%s '%s': The second dimension of data does not match the length of electrodes. \"\n"
     ]
    },
    {
     "name": "stdout",
     "output_type": "stream",
     "text": [
      "Processing column: animal\n",
      "Error processing 66539_2024-12-17_14-39-47_B_phy_k_manual.csv: column 'matlab_animal' already exists in Units 'units'\n"
     ]
    },
    {
     "name": "stderr",
     "output_type": "stream",
     "text": [
      "C:\\Users\\sachur\\AppData\\Roaming\\Python\\Python311\\site-packages\\pynwb\\ecephys.py:90: UserWarning: ElectricalSeries 'lfp_car': The second dimension of data does not match the length of electrodes. Your data may be transposed.\n",
      "  warnings.warn(\"%s '%s': The second dimension of data does not match the length of electrodes. \"\n"
     ]
    },
    {
     "name": "stdout",
     "output_type": "stream",
     "text": [
      "Processing column: animal\n",
      "Error processing 66539_2024-12-17_15-07-12_C_phy_k_manual.csv: column 'matlab_animal' already exists in Units 'units'\n"
     ]
    },
    {
     "name": "stderr",
     "output_type": "stream",
     "text": [
      "C:\\Users\\sachur\\AppData\\Roaming\\Python\\Python311\\site-packages\\pynwb\\ecephys.py:90: UserWarning: ElectricalSeries 'lfp_car': The second dimension of data does not match the length of electrodes. Your data may be transposed.\n",
      "  warnings.warn(\"%s '%s': The second dimension of data does not match the length of electrodes. \"\n"
     ]
    },
    {
     "name": "stdout",
     "output_type": "stream",
     "text": [
      "Processing column: animal\n",
      "Error processing 66539_2024-12-18_14-06-26_A_phy_k_manual.csv: column 'matlab_animal' already exists in Units 'units'\n"
     ]
    },
    {
     "name": "stderr",
     "output_type": "stream",
     "text": [
      "C:\\Users\\sachur\\AppData\\Roaming\\Python\\Python311\\site-packages\\pynwb\\ecephys.py:90: UserWarning: ElectricalSeries 'lfp_car': The second dimension of data does not match the length of electrodes. Your data may be transposed.\n",
      "  warnings.warn(\"%s '%s': The second dimension of data does not match the length of electrodes. \"\n"
     ]
    },
    {
     "name": "stdout",
     "output_type": "stream",
     "text": [
      "Processing column: animal\n",
      "Error processing 66539_2024-12-18_14-32-02_B_phy_k_manual.csv: column 'matlab_animal' already exists in Units 'units'\n"
     ]
    },
    {
     "name": "stderr",
     "output_type": "stream",
     "text": [
      "C:\\Users\\sachur\\AppData\\Roaming\\Python\\Python311\\site-packages\\pynwb\\ecephys.py:90: UserWarning: ElectricalSeries 'lfp_car': The second dimension of data does not match the length of electrodes. Your data may be transposed.\n",
      "  warnings.warn(\"%s '%s': The second dimension of data does not match the length of electrodes. \"\n"
     ]
    },
    {
     "name": "stdout",
     "output_type": "stream",
     "text": [
      "Processing column: animal\n",
      "Error processing 66539_2024-12-18_14-59-51_C_phy_k_manual.csv: column 'matlab_animal' already exists in Units 'units'\n"
     ]
    },
    {
     "name": "stderr",
     "output_type": "stream",
     "text": [
      "C:\\Users\\sachur\\AppData\\Roaming\\Python\\Python311\\site-packages\\pynwb\\ecephys.py:90: UserWarning: ElectricalSeries 'lfp_car': The second dimension of data does not match the length of electrodes. Your data may be transposed.\n",
      "  warnings.warn(\"%s '%s': The second dimension of data does not match the length of electrodes. \"\n"
     ]
    },
    {
     "name": "stdout",
     "output_type": "stream",
     "text": [
      "Processing column: animal\n",
      "Error processing 66539_2024-12-22_16-57-58_A_phy_k_manual.csv: column 'matlab_animal' already exists in Units 'units'\n"
     ]
    },
    {
     "name": "stderr",
     "output_type": "stream",
     "text": [
      "C:\\Users\\sachur\\AppData\\Roaming\\Python\\Python311\\site-packages\\pynwb\\ecephys.py:90: UserWarning: ElectricalSeries 'lfp_car': The second dimension of data does not match the length of electrodes. Your data may be transposed.\n",
      "  warnings.warn(\"%s '%s': The second dimension of data does not match the length of electrodes. \"\n"
     ]
    },
    {
     "name": "stdout",
     "output_type": "stream",
     "text": [
      "Processing column: animal\n",
      "Error processing 66539_2024-12-22_17-23-44_B_phy_k_manual.csv: column 'matlab_animal' already exists in Units 'units'\n"
     ]
    },
    {
     "name": "stderr",
     "output_type": "stream",
     "text": [
      "C:\\Users\\sachur\\AppData\\Roaming\\Python\\Python311\\site-packages\\pynwb\\ecephys.py:90: UserWarning: ElectricalSeries 'lfp_car': The second dimension of data does not match the length of electrodes. Your data may be transposed.\n",
      "  warnings.warn(\"%s '%s': The second dimension of data does not match the length of electrodes. \"\n"
     ]
    },
    {
     "name": "stdout",
     "output_type": "stream",
     "text": [
      "Processing column: animal\n",
      "Error processing 66539_2024-12-22_17-49-05_C_phy_k_manual.csv: column 'matlab_animal' already exists in Units 'units'\n",
      "Processing column: animal\n",
      "Error processing 66922_2024-09-25_15-39-48_A_phy_k_manual.csv: column 'matlab_animal' already exists in Units 'units'\n",
      "Processing complete!\n"
     ]
    }
   ],
   "source": [
    "# Author: Sachuriga\n",
    "# Email: sachuriga3@gmail.com\n",
    "# Purpose: Process CSV files and add their columns to corresponding NWB files\n",
    "\n",
    "import pandas as pd\n",
    "from pynwb import NWBHDF5IO\n",
    "import os\n",
    "\n",
    "target_prefixes_control= ['65165', '65091', '63383', '66539','65622','65283']\n",
    "target_prefixes_exp = ['65588', '63385', '66538', '66537','66922']\n",
    "\n",
    "\n",
    "# Set your base folder path\n",
    "base_folder = 'S:/Sachuriga/nwb/test4neo'\n",
    "\n",
    "# Get all files in the directory\n",
    "all_files = os.listdir(base_folder)\n",
    "\n",
    "# Filter for CSV and NWB files and create pairs\n",
    "csv_files = [f for f in all_files if f.endswith('.csv')]\n",
    "nwb_files = [f for f in all_files if f.endswith('.nwb')]\n",
    "\n",
    "# Process each pair of files\n",
    "for csv_file in csv_files:\n",
    "    # Try to find a matching NWB file (assuming similar base names)\n",
    "    base_name = os.path.splitext(csv_file)[0]\n",
    "    nwb_file = f\"{base_name}.nwb\"\n",
    "    \n",
    "    if nwb_file in nwb_files:\n",
    "        csvpath = os.path.join(base_folder, csv_file)\n",
    "        nwbpath = os.path.join(base_folder, nwb_file)\n",
    "        \n",
    "        try:\n",
    "            # Read the CSV file\n",
    "            df = pd.read_csv(csvpath)\n",
    "            \n",
    "            # Get column names\n",
    "            column_names = df.columns.tolist()\n",
    "            \n",
    "            # Open and modify NWB file\n",
    "            with NWBHDF5IO(nwbpath, \"a\") as io:\n",
    "                nwb = io.read()\n",
    "                for col in column_names:\n",
    "                    print(f\"Processing column: {col}\")\n",
    "                    nwb.units.add_column(\n",
    "                        name=f\"matlab_{col}\",\n",
    "                        description=f\"values of {col}\",\n",
    "                        data=df[col].tolist()\n",
    "                    )\n",
    "        \n",
    "                # Uncomment these if you need to modify subject info\n",
    "                # nwb.subject.genotype = \"NDNF-flp +/- and Pde1c +/-\"\n",
    "                # nwb.subject.set_modified()\n",
    "\n",
    "\n",
    "                # nwb.subject.genotype = \"NDNF-flp-/- and Pde1c -/-\"\n",
    "                \n",
    "                io.write(nwb)\n",
    "            print(f\"Successfully processed {csv_file} into {nwb_file}\")\n",
    "            \n",
    "        except Exception as e:\n",
    "            print(f\"Error processing {csv_file}: {str(e)}\")\n",
    "    else:\n",
    "        print(f\"Warning: No matching NWB file found for {csv_file}\")\n",
    "\n",
    "print(\"Processing complete!\")"
   ]
  },
  {
   "cell_type": "code",
   "execution_count": null,
   "metadata": {},
   "outputs": [
    {
     "name": "stdout",
     "output_type": "stream",
     "text": [
      "Summary table saved to Q:/sachuriga/CR_CA1_paper/tables/animal_summary_table.xlsx\n"
     ]
    },
    {
     "ename": "OSError",
     "evalue": "[Errno 22] Invalid argument",
     "output_type": "error",
     "traceback": [
      "\u001b[1;31m---------------------------------------------------------------------------\u001b[0m",
      "\u001b[1;31mOSError\u001b[0m                                   Traceback (most recent call last)",
      "Cell \u001b[1;32mIn[2], line 24\u001b[0m\n\u001b[0;32m     21\u001b[0m files_output_file \u001b[38;5;241m=\u001b[39m os\u001b[38;5;241m.\u001b[39mpath\u001b[38;5;241m.\u001b[39mjoin(output_path, \u001b[38;5;124m\"\u001b[39m\u001b[38;5;124mfiles_with_unit_tables.pkl\u001b[39m\u001b[38;5;124m\"\u001b[39m)\n\u001b[0;32m     23\u001b[0m \u001b[38;5;66;03m# files_df_out = convert_h5py_to_picklable(files_df, 'unit_tables')\u001b[39;00m\n\u001b[1;32m---> 24\u001b[0m \u001b[43mfiles_df\u001b[49m\u001b[38;5;241;43m.\u001b[39;49m\u001b[43mto_pickle\u001b[49m\u001b[43m(\u001b[49m\u001b[43mfiles_output_file\u001b[49m\u001b[43m)\u001b[49m \n\u001b[0;32m     25\u001b[0m \u001b[38;5;66;03m#print(f\"Files DataFrame with unit tables saved to {files_output_file}\")\u001b[39;00m\n\u001b[0;32m     26\u001b[0m \n\u001b[0;32m     27\u001b[0m \u001b[38;5;66;03m# Save all units DataFrame\u001b[39;00m\n\u001b[0;32m     28\u001b[0m all_units_output_file \u001b[38;5;241m=\u001b[39m os\u001b[38;5;241m.\u001b[39mpath\u001b[38;5;241m.\u001b[39mjoin(output_path, \u001b[38;5;124m\"\u001b[39m\u001b[38;5;124mall_units_table.pkl\u001b[39m\u001b[38;5;124m\"\u001b[39m)\n",
      "File \u001b[1;32m~\\AppData\\Roaming\\Python\\Python311\\site-packages\\pandas\\util\\_decorators.py:333\u001b[0m, in \u001b[0;36mdeprecate_nonkeyword_arguments.<locals>.decorate.<locals>.wrapper\u001b[1;34m(*args, **kwargs)\u001b[0m\n\u001b[0;32m    327\u001b[0m \u001b[38;5;28;01mif\u001b[39;00m \u001b[38;5;28mlen\u001b[39m(args) \u001b[38;5;241m>\u001b[39m num_allow_args:\n\u001b[0;32m    328\u001b[0m     warnings\u001b[38;5;241m.\u001b[39mwarn(\n\u001b[0;32m    329\u001b[0m         msg\u001b[38;5;241m.\u001b[39mformat(arguments\u001b[38;5;241m=\u001b[39m_format_argument_list(allow_args)),\n\u001b[0;32m    330\u001b[0m         \u001b[38;5;167;01mFutureWarning\u001b[39;00m,\n\u001b[0;32m    331\u001b[0m         stacklevel\u001b[38;5;241m=\u001b[39mfind_stack_level(),\n\u001b[0;32m    332\u001b[0m     )\n\u001b[1;32m--> 333\u001b[0m \u001b[38;5;28;01mreturn\u001b[39;00m \u001b[43mfunc\u001b[49m\u001b[43m(\u001b[49m\u001b[38;5;241;43m*\u001b[39;49m\u001b[43margs\u001b[49m\u001b[43m,\u001b[49m\u001b[43m \u001b[49m\u001b[38;5;241;43m*\u001b[39;49m\u001b[38;5;241;43m*\u001b[39;49m\u001b[43mkwargs\u001b[49m\u001b[43m)\u001b[49m\n",
      "File \u001b[1;32m~\\AppData\\Roaming\\Python\\Python311\\site-packages\\pandas\\core\\generic.py:3162\u001b[0m, in \u001b[0;36mNDFrame.to_pickle\u001b[1;34m(self, path, compression, protocol, storage_options)\u001b[0m\n\u001b[0;32m   3112\u001b[0m \u001b[38;5;250m\u001b[39m\u001b[38;5;124;03m\"\"\"\u001b[39;00m\n\u001b[0;32m   3113\u001b[0m \u001b[38;5;124;03mPickle (serialize) object to file.\u001b[39;00m\n\u001b[0;32m   3114\u001b[0m \n\u001b[1;32m   (...)\u001b[0m\n\u001b[0;32m   3158\u001b[0m \u001b[38;5;124;03m4    4    9\u001b[39;00m\n\u001b[0;32m   3159\u001b[0m \u001b[38;5;124;03m\"\"\"\u001b[39;00m  \u001b[38;5;66;03m# noqa: E501\u001b[39;00m\n\u001b[0;32m   3160\u001b[0m \u001b[38;5;28;01mfrom\u001b[39;00m \u001b[38;5;21;01mpandas\u001b[39;00m\u001b[38;5;21;01m.\u001b[39;00m\u001b[38;5;21;01mio\u001b[39;00m\u001b[38;5;21;01m.\u001b[39;00m\u001b[38;5;21;01mpickle\u001b[39;00m \u001b[38;5;28;01mimport\u001b[39;00m to_pickle\n\u001b[1;32m-> 3162\u001b[0m \u001b[43mto_pickle\u001b[49m\u001b[43m(\u001b[49m\n\u001b[0;32m   3163\u001b[0m \u001b[43m    \u001b[49m\u001b[38;5;28;43mself\u001b[39;49m\u001b[43m,\u001b[49m\n\u001b[0;32m   3164\u001b[0m \u001b[43m    \u001b[49m\u001b[43mpath\u001b[49m\u001b[43m,\u001b[49m\n\u001b[0;32m   3165\u001b[0m \u001b[43m    \u001b[49m\u001b[43mcompression\u001b[49m\u001b[38;5;241;43m=\u001b[39;49m\u001b[43mcompression\u001b[49m\u001b[43m,\u001b[49m\n\u001b[0;32m   3166\u001b[0m \u001b[43m    \u001b[49m\u001b[43mprotocol\u001b[49m\u001b[38;5;241;43m=\u001b[39;49m\u001b[43mprotocol\u001b[49m\u001b[43m,\u001b[49m\n\u001b[0;32m   3167\u001b[0m \u001b[43m    \u001b[49m\u001b[43mstorage_options\u001b[49m\u001b[38;5;241;43m=\u001b[39;49m\u001b[43mstorage_options\u001b[49m\u001b[43m,\u001b[49m\n\u001b[0;32m   3168\u001b[0m \u001b[43m\u001b[49m\u001b[43m)\u001b[49m\n",
      "File \u001b[1;32m~\\AppData\\Roaming\\Python\\Python311\\site-packages\\pandas\\io\\pickle.py:111\u001b[0m, in \u001b[0;36mto_pickle\u001b[1;34m(obj, filepath_or_buffer, compression, protocol, storage_options)\u001b[0m\n\u001b[0;32m    101\u001b[0m     protocol \u001b[38;5;241m=\u001b[39m pickle\u001b[38;5;241m.\u001b[39mHIGHEST_PROTOCOL\n\u001b[0;32m    103\u001b[0m \u001b[38;5;28;01mwith\u001b[39;00m get_handle(\n\u001b[0;32m    104\u001b[0m     filepath_or_buffer,\n\u001b[0;32m    105\u001b[0m     \u001b[38;5;124m\"\u001b[39m\u001b[38;5;124mwb\u001b[39m\u001b[38;5;124m\"\u001b[39m,\n\u001b[1;32m   (...)\u001b[0m\n\u001b[0;32m    109\u001b[0m ) \u001b[38;5;28;01mas\u001b[39;00m handles:\n\u001b[0;32m    110\u001b[0m     \u001b[38;5;66;03m# letting pickle write directly to the buffer is more memory-efficient\u001b[39;00m\n\u001b[1;32m--> 111\u001b[0m     \u001b[43mpickle\u001b[49m\u001b[38;5;241;43m.\u001b[39;49m\u001b[43mdump\u001b[49m\u001b[43m(\u001b[49m\u001b[43mobj\u001b[49m\u001b[43m,\u001b[49m\u001b[43m \u001b[49m\u001b[43mhandles\u001b[49m\u001b[38;5;241;43m.\u001b[39;49m\u001b[43mhandle\u001b[49m\u001b[43m,\u001b[49m\u001b[43m \u001b[49m\u001b[43mprotocol\u001b[49m\u001b[38;5;241;43m=\u001b[39;49m\u001b[43mprotocol\u001b[49m\u001b[43m)\u001b[49m\n",
      "\u001b[1;31mOSError\u001b[0m: [Errno 22] Invalid argument"
     ]
    }
   ],
   "source": [
    "\n",
    "# Create summary DataFrame\n",
    "summary_df = pd.DataFrame(list(summary_data.values()))\n",
    "summary_df = summary_df[[\n",
    "    \"Animal ID\", \"Sex\", \"Genotype\", \"Experimenter\", \"Sessions\", \"Total Units\", \"Good Units\", \n",
    "    \"Pyramidal Cells\", \"Narrow Spike Interneurons\", \"Wide Spike Interneurons\", \n",
    "    \"Speed Cells\", \"Place Cells\"\n",
    "]]\n",
    "\n",
    "# Create files DataFrame with unit tables\n",
    "files_df = pd.DataFrame(file_data)\n",
    "\n",
    "# Create all units DataFrame\n",
    "all_units_df = pd.concat(all_units_list, ignore_index=True)\n",
    "\n",
    "# Save summary table\n",
    "summary_output_file = os.path.join(output_path, \"animal_summary_table.xlsx\")\n",
    "summary_df.to_excel(summary_output_file, index=False)\n",
    "print(f\"Summary table saved to {summary_output_file}\")\n",
    "\n",
    "# Save files DataFrame as pickle (contains DataFrame objects)\n",
    "files_output_file = os.path.join(output_path, \"files_with_unit_tables.pkl\")\n",
    "\n",
    "# Save all units DataFrame\n",
    "all_units_output_file = os.path.join(output_path, \"all_units_table.pkl\")\n",
    "all_units_df.to_pickle(all_units_output_file)\n",
    "print(f\"All units table saved to {all_units_output_file}\")\n",
    "\n",
    "# Print summaries\n",
    "print(\"\\nSummary Table:\")\n",
    "print(summary_df)\n",
    "print(\"\\nFiles DataFrame (without unit_table column):\")\n",
    "print(files_df[['filename', 'animal_id', 'genotype', 'experimenter', 'sex']])\n",
    "print(\"\\nAll Units DataFrame shape:\", all_units_df.shape)\n",
    "print(\"First few rows of All Units DataFrame:\")\n",
    "print(all_units_df.head())\n",
    "print(\"\\nNumber of files processed:\", len(files_df))\n",
    "print(\"Total number of units:\", len(all_units_df))\n",
    "\n",
    "print(\"Processing complete!\")"
   ]
  },
  {
   "cell_type": "code",
   "execution_count": 6,
   "metadata": {},
   "outputs": [],
   "source": [
    "all_units_output_file = os.path.join(output_path, \"all_units_table.pkl\")\n",
    "files_df.to_pickle(files_output_file)"
   ]
  },
  {
   "cell_type": "code",
   "execution_count": null,
   "metadata": {},
   "outputs": [
    {
     "name": "stdout",
     "output_type": "stream",
     "text": [
      "File exists. Size: 1457206786 bytes\n"
     ]
    }
   ],
   "source": [
    "import os\n",
    "file_path = r'Q:/sachuriga/Temporal/CR_CA1_paper/tables/files_with_unit_tables.pkl'\n",
    "if os.path.exists(file_path):\n",
    "    size = os.path.getsize(file_path)\n",
    "    print(f\"File exists. Size: {size} bytes\")\n",
    "else:\n",
    "    print(\"File does not exist at the specified path.\")"
   ]
  },
  {
   "cell_type": "code",
   "execution_count": 5,
   "metadata": {},
   "outputs": [
    {
     "name": "stdout",
     "output_type": "stream",
     "text": [
      "EOFError: The file is empty or corrupted.\n"
     ]
    }
   ],
   "source": [
    "import pickle\n",
    "\n",
    "file_path = r'Q:/sachuriga/Temporal/CR_CA1_paper/tables/files_with_unit_tables.pkl'\n",
    "try:\n",
    "    with open(file_path, 'rb') as f:\n",
    "        data = pickle.load(f)\n",
    "    print(\"File loaded successfully with pickle.\")\n",
    "except EOFError:\n",
    "    print(\"EOFError: The file is empty or corrupted.\")\n",
    "except Exception as e:\n",
    "    print(f\"An error occurred: {e}\")"
   ]
  }
 ],
 "metadata": {
  "kernelspec": {
   "display_name": "test1",
   "language": "python",
   "name": "python3"
  },
  "language_info": {
   "codemirror_mode": {
    "name": "ipython",
    "version": 3
   },
   "file_extension": ".py",
   "mimetype": "text/x-python",
   "name": "python",
   "nbconvert_exporter": "python",
   "pygments_lexer": "ipython3",
   "version": "3.11.0"
  }
 },
 "nbformat": 4,
 "nbformat_minor": 2
}

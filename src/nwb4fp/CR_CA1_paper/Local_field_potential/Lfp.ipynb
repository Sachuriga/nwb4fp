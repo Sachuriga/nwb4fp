{
 "cells": [
  {
   "cell_type": "code",
   "execution_count": 2,
   "metadata": {},
   "outputs": [
    {
     "name": "stdout",
     "output_type": "stream",
     "text": [
      "Q:\\sachuriga\\Sachuriga_Python\\quattrocolo-nwb4fp\\src\n"
     ]
    }
   ],
   "source": [
    "cd Q:\\sachuriga\\Sachuriga_Python\\quattrocolo-nwb4fp\\src"
   ]
  },
  {
   "cell_type": "code",
   "execution_count": 2,
   "metadata": {},
   "outputs": [
    {
     "ename": "ValueError",
     "evalue": "numpy.dtype size changed, may indicate binary incompatibility. Expected 96 from C header, got 88 from PyObject",
     "output_type": "error",
     "traceback": [
      "\u001b[1;31m---------------------------------------------------------------------------\u001b[0m",
      "\u001b[1;31mValueError\u001b[0m                                Traceback (most recent call last)",
      "Cell \u001b[1;32mIn[2], line 1\u001b[0m\n\u001b[1;32m----> 1\u001b[0m \u001b[38;5;28;01mfrom\u001b[39;00m \u001b[38;5;21;01mneurochat\u001b[39;00m\u001b[38;5;21;01m.\u001b[39;00m\u001b[38;5;21;01mnc_data\u001b[39;00m \u001b[38;5;28;01mimport\u001b[39;00m NData\n\u001b[0;32m      2\u001b[0m \u001b[38;5;28;01mfrom\u001b[39;00m \u001b[38;5;21;01mneurochat\u001b[39;00m\u001b[38;5;21;01m.\u001b[39;00m\u001b[38;5;21;01mnc_spike\u001b[39;00m \u001b[38;5;28;01mimport\u001b[39;00m NSpike\n\u001b[0;32m      3\u001b[0m \u001b[38;5;28;01mfrom\u001b[39;00m \u001b[38;5;21;01mneurochat\u001b[39;00m\u001b[38;5;21;01m.\u001b[39;00m\u001b[38;5;21;01mnc_spatial\u001b[39;00m \u001b[38;5;28;01mimport\u001b[39;00m NSpatial\n",
      "File \u001b[1;32mc:\\Users\\sachur\\AppData\\Local\\anaconda3\\envs\\test1\\Lib\\site-packages\\neurochat\\nc_data.py:13\u001b[0m\n\u001b[0;32m      9\u001b[0m \u001b[38;5;28;01mfrom\u001b[39;00m \u001b[38;5;21;01mcollections\u001b[39;00m \u001b[38;5;28;01mimport\u001b[39;00m OrderedDict \u001b[38;5;28;01mas\u001b[39;00m oDict\n\u001b[0;32m     11\u001b[0m \u001b[38;5;28;01mimport\u001b[39;00m \u001b[38;5;21;01mnumpy\u001b[39;00m \u001b[38;5;28;01mas\u001b[39;00m \u001b[38;5;21;01mnp\u001b[39;00m\n\u001b[1;32m---> 13\u001b[0m \u001b[38;5;28;01mfrom\u001b[39;00m \u001b[38;5;21;01mneurochat\u001b[39;00m\u001b[38;5;21;01m.\u001b[39;00m\u001b[38;5;21;01mnc_hdf\u001b[39;00m \u001b[38;5;28;01mimport\u001b[39;00m Nhdf\n\u001b[0;32m     15\u001b[0m \u001b[38;5;28;01mfrom\u001b[39;00m \u001b[38;5;21;01mneurochat\u001b[39;00m\u001b[38;5;21;01m.\u001b[39;00m\u001b[38;5;21;01mnc_spike\u001b[39;00m \u001b[38;5;28;01mimport\u001b[39;00m NSpike\n\u001b[0;32m     16\u001b[0m \u001b[38;5;28;01mfrom\u001b[39;00m \u001b[38;5;21;01mneurochat\u001b[39;00m\u001b[38;5;21;01m.\u001b[39;00m\u001b[38;5;21;01mnc_spatial\u001b[39;00m \u001b[38;5;28;01mimport\u001b[39;00m NSpatial\n",
      "File \u001b[1;32mc:\\Users\\sachur\\AppData\\Local\\anaconda3\\envs\\test1\\Lib\\site-packages\\neurochat\\nc_hdf.py:17\u001b[0m\n\u001b[0;32m     13\u001b[0m \u001b[38;5;28;01mimport\u001b[39;00m \u001b[38;5;21;01mnumpy\u001b[39;00m \u001b[38;5;28;01mas\u001b[39;00m \u001b[38;5;21;01mnp\u001b[39;00m\n\u001b[0;32m     15\u001b[0m \u001b[38;5;28;01mimport\u001b[39;00m \u001b[38;5;21;01mh5py\u001b[39;00m\n\u001b[1;32m---> 17\u001b[0m \u001b[38;5;28;01mfrom\u001b[39;00m \u001b[38;5;21;01mneurochat\u001b[39;00m\u001b[38;5;21;01m.\u001b[39;00m\u001b[38;5;21;01mnc_utils\u001b[39;00m \u001b[38;5;28;01mimport\u001b[39;00m log_exception\n\u001b[0;32m     20\u001b[0m \u001b[38;5;28;01mclass\u001b[39;00m \u001b[38;5;21;01mNhdf\u001b[39;00m(\u001b[38;5;28mobject\u001b[39m):\n\u001b[0;32m     21\u001b[0m \u001b[38;5;250m    \u001b[39m\u001b[38;5;124;03m\"\"\"\u001b[39;00m\n\u001b[0;32m     22\u001b[0m \u001b[38;5;124;03m    Manages importing and exporting NeuroChaT datasets to HDF5 file.\u001b[39;00m\n\u001b[0;32m     23\u001b[0m \n\u001b[1;32m   (...)\u001b[0m\n\u001b[0;32m     33\u001b[0m \n\u001b[0;32m     34\u001b[0m \u001b[38;5;124;03m    \"\"\"\u001b[39;00m\n",
      "File \u001b[1;32mc:\\Users\\sachur\\AppData\\Local\\anaconda3\\envs\\test1\\Lib\\site-packages\\neurochat\\nc_utils.py:20\u001b[0m\n\u001b[0;32m     17\u001b[0m \u001b[38;5;28;01mimport\u001b[39;00m \u001b[38;5;21;01mre\u001b[39;00m\n\u001b[0;32m     18\u001b[0m \u001b[38;5;28;01mimport\u001b[39;00m \u001b[38;5;21;01mmath\u001b[39;00m\n\u001b[1;32m---> 20\u001b[0m \u001b[38;5;28;01mimport\u001b[39;00m \u001b[38;5;21;01mpandas\u001b[39;00m \u001b[38;5;28;01mas\u001b[39;00m \u001b[38;5;21;01mpd\u001b[39;00m\n\u001b[0;32m     21\u001b[0m \u001b[38;5;28;01mimport\u001b[39;00m \u001b[38;5;21;01mnumpy\u001b[39;00m \u001b[38;5;28;01mas\u001b[39;00m \u001b[38;5;21;01mnp\u001b[39;00m\n\u001b[0;32m     22\u001b[0m \u001b[38;5;28;01mimport\u001b[39;00m \u001b[38;5;21;01mnumpy\u001b[39;00m\u001b[38;5;21;01m.\u001b[39;00m\u001b[38;5;21;01mlinalg\u001b[39;00m \u001b[38;5;28;01mas\u001b[39;00m \u001b[38;5;21;01mnalg\u001b[39;00m\n",
      "File \u001b[1;32m~\\AppData\\Roaming\\Python\\Python311\\site-packages\\pandas\\__init__.py:62\u001b[0m\n\u001b[0;32m     59\u001b[0m \u001b[38;5;66;03m# let init-time option registration happen\u001b[39;00m\n\u001b[0;32m     60\u001b[0m \u001b[38;5;28;01mimport\u001b[39;00m \u001b[38;5;21;01mpandas\u001b[39;00m\u001b[38;5;21;01m.\u001b[39;00m\u001b[38;5;21;01mcore\u001b[39;00m\u001b[38;5;21;01m.\u001b[39;00m\u001b[38;5;21;01mconfig_init\u001b[39;00m  \u001b[38;5;66;03m# pyright: ignore[reportUnusedImport] # noqa: F401\u001b[39;00m\n\u001b[1;32m---> 62\u001b[0m \u001b[38;5;28;01mfrom\u001b[39;00m \u001b[38;5;21;01mpandas\u001b[39;00m\u001b[38;5;21;01m.\u001b[39;00m\u001b[38;5;21;01mcore\u001b[39;00m\u001b[38;5;21;01m.\u001b[39;00m\u001b[38;5;21;01mapi\u001b[39;00m \u001b[38;5;28;01mimport\u001b[39;00m (\n\u001b[0;32m     63\u001b[0m     \u001b[38;5;66;03m# dtype\u001b[39;00m\n\u001b[0;32m     64\u001b[0m     ArrowDtype,\n\u001b[0;32m     65\u001b[0m     Int8Dtype,\n\u001b[0;32m     66\u001b[0m     Int16Dtype,\n\u001b[0;32m     67\u001b[0m     Int32Dtype,\n\u001b[0;32m     68\u001b[0m     Int64Dtype,\n\u001b[0;32m     69\u001b[0m     UInt8Dtype,\n\u001b[0;32m     70\u001b[0m     UInt16Dtype,\n\u001b[0;32m     71\u001b[0m     UInt32Dtype,\n\u001b[0;32m     72\u001b[0m     UInt64Dtype,\n\u001b[0;32m     73\u001b[0m     Float32Dtype,\n\u001b[0;32m     74\u001b[0m     Float64Dtype,\n\u001b[0;32m     75\u001b[0m     CategoricalDtype,\n\u001b[0;32m     76\u001b[0m     PeriodDtype,\n\u001b[0;32m     77\u001b[0m     IntervalDtype,\n\u001b[0;32m     78\u001b[0m     DatetimeTZDtype,\n\u001b[0;32m     79\u001b[0m     StringDtype,\n\u001b[0;32m     80\u001b[0m     BooleanDtype,\n\u001b[0;32m     81\u001b[0m     \u001b[38;5;66;03m# missing\u001b[39;00m\n\u001b[0;32m     82\u001b[0m     NA,\n\u001b[0;32m     83\u001b[0m     isna,\n\u001b[0;32m     84\u001b[0m     isnull,\n\u001b[0;32m     85\u001b[0m     notna,\n\u001b[0;32m     86\u001b[0m     notnull,\n\u001b[0;32m     87\u001b[0m     \u001b[38;5;66;03m# indexes\u001b[39;00m\n\u001b[0;32m     88\u001b[0m     Index,\n\u001b[0;32m     89\u001b[0m     CategoricalIndex,\n\u001b[0;32m     90\u001b[0m     RangeIndex,\n\u001b[0;32m     91\u001b[0m     MultiIndex,\n\u001b[0;32m     92\u001b[0m     IntervalIndex,\n\u001b[0;32m     93\u001b[0m     TimedeltaIndex,\n\u001b[0;32m     94\u001b[0m     DatetimeIndex,\n\u001b[0;32m     95\u001b[0m     PeriodIndex,\n\u001b[0;32m     96\u001b[0m     IndexSlice,\n\u001b[0;32m     97\u001b[0m     \u001b[38;5;66;03m# tseries\u001b[39;00m\n\u001b[0;32m     98\u001b[0m     NaT,\n\u001b[0;32m     99\u001b[0m     Period,\n\u001b[0;32m    100\u001b[0m     period_range,\n\u001b[0;32m    101\u001b[0m     Timedelta,\n\u001b[0;32m    102\u001b[0m     timedelta_range,\n\u001b[0;32m    103\u001b[0m     Timestamp,\n\u001b[0;32m    104\u001b[0m     date_range,\n\u001b[0;32m    105\u001b[0m     bdate_range,\n\u001b[0;32m    106\u001b[0m     Interval,\n\u001b[0;32m    107\u001b[0m     interval_range,\n\u001b[0;32m    108\u001b[0m     DateOffset,\n\u001b[0;32m    109\u001b[0m     \u001b[38;5;66;03m# conversion\u001b[39;00m\n\u001b[0;32m    110\u001b[0m     to_numeric,\n\u001b[0;32m    111\u001b[0m     to_datetime,\n\u001b[0;32m    112\u001b[0m     to_timedelta,\n\u001b[0;32m    113\u001b[0m     \u001b[38;5;66;03m# misc\u001b[39;00m\n\u001b[0;32m    114\u001b[0m     Flags,\n\u001b[0;32m    115\u001b[0m     Grouper,\n\u001b[0;32m    116\u001b[0m     factorize,\n\u001b[0;32m    117\u001b[0m     unique,\n\u001b[0;32m    118\u001b[0m     value_counts,\n\u001b[0;32m    119\u001b[0m     NamedAgg,\n\u001b[0;32m    120\u001b[0m     array,\n\u001b[0;32m    121\u001b[0m     Categorical,\n\u001b[0;32m    122\u001b[0m     set_eng_float_format,\n\u001b[0;32m    123\u001b[0m     Series,\n\u001b[0;32m    124\u001b[0m     DataFrame,\n\u001b[0;32m    125\u001b[0m )\n\u001b[0;32m    127\u001b[0m \u001b[38;5;28;01mfrom\u001b[39;00m \u001b[38;5;21;01mpandas\u001b[39;00m\u001b[38;5;21;01m.\u001b[39;00m\u001b[38;5;21;01mcore\u001b[39;00m\u001b[38;5;21;01m.\u001b[39;00m\u001b[38;5;21;01mdtypes\u001b[39;00m\u001b[38;5;21;01m.\u001b[39;00m\u001b[38;5;21;01mdtypes\u001b[39;00m \u001b[38;5;28;01mimport\u001b[39;00m SparseDtype\n\u001b[0;32m    129\u001b[0m \u001b[38;5;28;01mfrom\u001b[39;00m \u001b[38;5;21;01mpandas\u001b[39;00m\u001b[38;5;21;01m.\u001b[39;00m\u001b[38;5;21;01mtseries\u001b[39;00m\u001b[38;5;21;01m.\u001b[39;00m\u001b[38;5;21;01mapi\u001b[39;00m \u001b[38;5;28;01mimport\u001b[39;00m infer_freq\n",
      "File \u001b[1;32m~\\AppData\\Roaming\\Python\\Python311\\site-packages\\pandas\\core\\api.py:1\u001b[0m\n\u001b[1;32m----> 1\u001b[0m \u001b[38;5;28;01mfrom\u001b[39;00m \u001b[38;5;21;01mpandas\u001b[39;00m\u001b[38;5;21;01m.\u001b[39;00m\u001b[38;5;21;01m_libs\u001b[39;00m \u001b[38;5;28;01mimport\u001b[39;00m (\n\u001b[0;32m      2\u001b[0m     NaT,\n\u001b[0;32m      3\u001b[0m     Period,\n\u001b[0;32m      4\u001b[0m     Timedelta,\n\u001b[0;32m      5\u001b[0m     Timestamp,\n\u001b[0;32m      6\u001b[0m )\n\u001b[0;32m      7\u001b[0m \u001b[38;5;28;01mfrom\u001b[39;00m \u001b[38;5;21;01mpandas\u001b[39;00m\u001b[38;5;21;01m.\u001b[39;00m\u001b[38;5;21;01m_libs\u001b[39;00m\u001b[38;5;21;01m.\u001b[39;00m\u001b[38;5;21;01mmissing\u001b[39;00m \u001b[38;5;28;01mimport\u001b[39;00m NA\n\u001b[0;32m      9\u001b[0m \u001b[38;5;28;01mfrom\u001b[39;00m \u001b[38;5;21;01mpandas\u001b[39;00m\u001b[38;5;21;01m.\u001b[39;00m\u001b[38;5;21;01mcore\u001b[39;00m\u001b[38;5;21;01m.\u001b[39;00m\u001b[38;5;21;01mdtypes\u001b[39;00m\u001b[38;5;21;01m.\u001b[39;00m\u001b[38;5;21;01mdtypes\u001b[39;00m \u001b[38;5;28;01mimport\u001b[39;00m (\n\u001b[0;32m     10\u001b[0m     ArrowDtype,\n\u001b[0;32m     11\u001b[0m     CategoricalDtype,\n\u001b[1;32m   (...)\u001b[0m\n\u001b[0;32m     14\u001b[0m     PeriodDtype,\n\u001b[0;32m     15\u001b[0m )\n",
      "File \u001b[1;32m~\\AppData\\Roaming\\Python\\Python311\\site-packages\\pandas\\_libs\\__init__.py:18\u001b[0m\n\u001b[0;32m     16\u001b[0m \u001b[38;5;28;01mimport\u001b[39;00m \u001b[38;5;21;01mpandas\u001b[39;00m\u001b[38;5;21;01m.\u001b[39;00m\u001b[38;5;21;01m_libs\u001b[39;00m\u001b[38;5;21;01m.\u001b[39;00m\u001b[38;5;21;01mpandas_parser\u001b[39;00m  \u001b[38;5;66;03m# isort: skip # type: ignore[reportUnusedImport]\u001b[39;00m\n\u001b[0;32m     17\u001b[0m \u001b[38;5;28;01mimport\u001b[39;00m \u001b[38;5;21;01mpandas\u001b[39;00m\u001b[38;5;21;01m.\u001b[39;00m\u001b[38;5;21;01m_libs\u001b[39;00m\u001b[38;5;21;01m.\u001b[39;00m\u001b[38;5;21;01mpandas_datetime\u001b[39;00m  \u001b[38;5;66;03m# noqa: F401 # isort: skip # type: ignore[reportUnusedImport]\u001b[39;00m\n\u001b[1;32m---> 18\u001b[0m \u001b[38;5;28;01mfrom\u001b[39;00m \u001b[38;5;21;01mpandas\u001b[39;00m\u001b[38;5;21;01m.\u001b[39;00m\u001b[38;5;21;01m_libs\u001b[39;00m\u001b[38;5;21;01m.\u001b[39;00m\u001b[38;5;21;01minterval\u001b[39;00m \u001b[38;5;28;01mimport\u001b[39;00m Interval\n\u001b[0;32m     19\u001b[0m \u001b[38;5;28;01mfrom\u001b[39;00m \u001b[38;5;21;01mpandas\u001b[39;00m\u001b[38;5;21;01m.\u001b[39;00m\u001b[38;5;21;01m_libs\u001b[39;00m\u001b[38;5;21;01m.\u001b[39;00m\u001b[38;5;21;01mtslibs\u001b[39;00m \u001b[38;5;28;01mimport\u001b[39;00m (\n\u001b[0;32m     20\u001b[0m     NaT,\n\u001b[0;32m     21\u001b[0m     NaTType,\n\u001b[1;32m   (...)\u001b[0m\n\u001b[0;32m     26\u001b[0m     iNaT,\n\u001b[0;32m     27\u001b[0m )\n",
      "File \u001b[1;32minterval.pyx:1\u001b[0m, in \u001b[0;36minit pandas._libs.interval\u001b[1;34m()\u001b[0m\n",
      "\u001b[1;31mValueError\u001b[0m: numpy.dtype size changed, may indicate binary incompatibility. Expected 96 from C header, got 88 from PyObject"
     ]
    }
   ],
   "source": [
    "from neurochat.nc_data import NData\n",
    "from neurochat.nc_spike import NSpike\n",
    "from neurochat.nc_spatial import NSpatial\n",
    "import neurochat.nc_plot as nc_plot\n",
    "from neurochat.nc_lfp import NLfp\n",
    "import matplotlib.pyplot as plt\n",
    "import numpy as np\n",
    "from pynwb import NWBHDF5IO\n",
    "import matplotlib.pyplot as plt\n",
    "import numpy as np\n",
    "import math\n",
    "import pynapple as nap\n",
    "import numpy as np\n",
    "from scipy import signal\n",
    "import matplotlib.pyplot as plt\n",
    "import numpy as np\n",
    "from sklearn.preprocessing import normalize\n",
    "\n",
    "import sys\n",
    "import nwb4fp.analyses.maps as mapp\n",
    "from nwb4fp.analyses.examples.tracking_plot import plot_ratemap,plot_path,plot_ratemap_ax\n",
    "from nwb4fp.analyses.fields import separate_fields_by_laplace, separate_fields_by_dilation,find_peaks,separate_fields_by_laplace_of_gaussian,calculate_field_centers,distance_to_edge_function, remove_fields_by_area, map_pass_to_unit_circle,which_field,compute_crossings\n",
    "from elephant.statistics import time_histogram, instantaneous_rate\n",
    "from nwb4fp.analyses import maps\n",
    "from nwb4fp.analyses.data import pos2speed,speed_filtered_spikes,load_speed_fromNWB,load_units_fromNWB,find_run_indices\n",
    "from nwb4fp.data.helpers import unit_location_ch\n",
    "from scipy.ndimage import gaussian_filter\n",
    "import ast\n",
    "import numpy as np\n",
    "from scipy import signal\n",
    "from scipy.ndimage import gaussian_filter1d\n",
    "import matplotlib.pyplot as plt\n",
    "import os\n",
    "import pandas as pd"
   ]
  },
  {
   "cell_type": "code",
   "execution_count": 3,
   "metadata": {},
   "outputs": [
    {
     "name": "stdout",
     "output_type": "stream",
     "text": [
      "NumPy version: 1.26.4\n",
      "Pandas version: 2.1.4\n"
     ]
    }
   ],
   "source": [
    "import numpy as np\n",
    "import pandas as pd\n",
    "print(\"NumPy version:\", np.__version__)\n",
    "print(\"Pandas version:\", pd.__version__)"
   ]
  },
  {
   "cell_type": "code",
   "execution_count": null,
   "metadata": {},
   "outputs": [],
   "source": [
    "file_path = r\"Q:\\sachuriga\\Sachuriga_Python/quattrocolo-nwb4fp/ASSY-236-F.prb\"\n",
    "# Read the file and parse the dictionary\n",
    "local_vars = {'np': np}\n",
    "with open(file_path, 'r') as file:\n",
    "    exec(file.read(), local_vars)  # Execute the file content with NumPy in scope\n",
    "\n",
    "    \n",
    "channel_groups = local_vars.get('channel_groups')\n",
    "if channel_groups is None:\n",
    "    raise ValueError(f\"'channel_groups' not found in {file_path}\")\n",
    "\n",
    "# Assuming channel_groups is loaded from Step 1\n",
    "data = []\n",
    "for group_id, group_data in channel_groups.items():\n",
    "    channels = group_data['channels']\n",
    "    geometry = group_data['geometry']\n",
    "    for channel in channels:\n",
    "        x, y = geometry[channel]\n",
    "        data.append({\n",
    "            'group_id': group_id,\n",
    "            'channel_id': channel,\n",
    "            'x': x,\n",
    "            'y': y\n",
    "        })\n",
    "probe_df = pd.DataFrame(data)\n",
    "\n",
    "# 你的数据和 DataFrame\n",
    "data = probe_df  # 我省略了完整数据，因为它已经在上文给出\n",
    "\n",
    "# 分组函数\n",
    "def group_channels_by_group(df, channels):\n",
    "    grouped = {}\n",
    "    for channel in channels:\n",
    "        group = df[df['channel_id'] == channel]['group_id'].values[0]\n",
    "        if group not in grouped:\n",
    "            grouped[group] = []\n",
    "        grouped[group].append(channel)\n",
    "    return grouped\n",
    "\n",
    "# 找到每个组的中间 channel_id\n",
    "def find_middle_channel_per_group(df, grouped_channels):\n",
    "    middle_channels = {}\n",
    "    for group, channels in grouped_channels.items():\n",
    "        group_df = df[df['channel_id'].isin(channels)]\n",
    "        sorted_df = group_df.sort_values('y', ascending=False).reset_index(drop=True)\n",
    "        middle_idx = len(sorted_df) // 2\n",
    "        middle_channel = sorted_df.iloc[middle_idx]['channel_id']\n",
    "        middle_channels[group] = middle_channel\n",
    "    return middle_channels\n",
    "\n",
    "# 映射中间 channel 到输入列表\n",
    "def map_middle_channels_to_input(df, channel_list, middle_channels):\n",
    "    output_list = []\n",
    "    for channel in channel_list:\n",
    "        group = df[df['channel_id'] == channel]['group_id'].values[0]\n",
    "        output_list.append(middle_channels[group])\n",
    "    return output_list\n",
    "\n",
    "# 找到每个组中间 channel 的下第 4 个\n",
    "def find_lower_four_channel_per_group(df, grouped_channels, middle_channels):\n",
    "    lower_four_dict = {}\n",
    "    for group, middle_channel in middle_channels.items():\n",
    "        group_df = probe_df[probe_df['group_id'] == group][['channel_id', 'y']]\n",
    "        sorted_group = group_df.sort_values('y', ascending=False).reset_index(drop=True)\n",
    "        start_idx = sorted_group[sorted_group['channel_id'] == middle_channel].index[0]\n",
    "        target_idx = start_idx + 4\n",
    "        if target_idx < len(sorted_group):\n",
    "            lower_four_dict[group] = sorted_group.iloc[target_idx]['channel_id']\n",
    "        else:\n",
    "            lower_four_dict[group] = np.nan\n",
    "    return lower_four_dict\n",
    "\n",
    "# 映射下第 4 个到输入列表\n",
    "def map_lower_four_to_input(df, channel_list, lower_four_dict):\n",
    "    lower_four_output_list = []\n",
    "    for channel in channel_list:\n",
    "        group = df[df['channel_id'] == channel]['group_id'].values[0]\n",
    "        lower_four_output_list.append(lower_four_dict[group])\n",
    "    return lower_four_output_list\n",
    "# Function to get pickle files\n",
    "def get_pkl_files(folder_path):\n",
    "    all_files = os.listdir(folder_path)\n",
    "    pkl_files = [f for f in all_files if f.endswith(\"withDLC.pkl\")]\n",
    "    return pkl_files\n",
    "\n",
    "# Define group prefixes\n",
    "target_prefixes_control = ['65165', '65091', '63383', '66539', '65622']\n",
    "target_prefixes_exp = ['65588', '63385', '66538', '66537', '66922']\n"
   ]
  },
  {
   "cell_type": "code",
   "execution_count": null,
   "metadata": {},
   "outputs": [
    {
     "data": {
      "application/vnd.microsoft.datawrangler.viewer.v0+json": {
       "columns": [
        {
         "name": "index",
         "rawType": "int64",
         "type": "integer"
        },
        {
         "name": "group_id",
         "rawType": "int64",
         "type": "integer"
        },
        {
         "name": "channel_id",
         "rawType": "int64",
         "type": "integer"
        },
        {
         "name": "x",
         "rawType": "float64",
         "type": "float"
        },
        {
         "name": "y",
         "rawType": "float64",
         "type": "float"
        }
       ],
       "conversionMethod": "pd.DataFrame",
       "ref": "2928a073-d468-4d44-a158-3cc73ce29317",
       "rows": [
        [
         "0",
         "0",
         "26",
         "16.5",
         "105.0"
        ],
        [
         "1",
         "0",
         "25",
         "0.0",
         "0.0"
        ],
        [
         "2",
         "0",
         "20",
         "0.0",
         "90.0"
        ],
        [
         "3",
         "0",
         "19",
         "16.5",
         "135.0"
        ],
        [
         "4",
         "0",
         "14",
         "16.5",
         "45.0"
        ],
        [
         "5",
         "0",
         "8",
         "0.0",
         "60.0"
        ],
        [
         "6",
         "0",
         "5",
         "16.5",
         "75.0"
        ],
        [
         "7",
         "0",
         "4",
         "16.5",
         "15.0"
        ],
        [
         "8",
         "0",
         "3",
         "0.0",
         "120.0"
        ],
        [
         "9",
         "0",
         "0",
         "0.0",
         "30.0"
        ],
        [
         "10",
         "1",
         "30",
         "216.5",
         "45.0"
        ],
        [
         "11",
         "1",
         "24",
         "200.0",
         "90.0"
        ],
        [
         "12",
         "1",
         "22",
         "200.0",
         "30.0"
        ],
        [
         "13",
         "1",
         "21",
         "216.5",
         "75.0"
        ],
        [
         "14",
         "1",
         "17",
         "216.5",
         "135.0"
        ],
        [
         "15",
         "1",
         "16",
         "200.0",
         "120.0"
        ],
        [
         "16",
         "1",
         "9",
         "216.5",
         "15.0"
        ],
        [
         "17",
         "1",
         "10",
         "200.0",
         "60.0"
        ],
        [
         "18",
         "1",
         "6",
         "216.5",
         "105.0"
        ],
        [
         "19",
         "1",
         "2",
         "200.0",
         "150.0"
        ],
        [
         "20",
         "1",
         "1",
         "200.0",
         "0.0"
        ],
        [
         "21",
         "2",
         "29",
         "400.0",
         "30.0"
        ],
        [
         "22",
         "2",
         "28",
         "416.5",
         "75.0"
        ],
        [
         "23",
         "2",
         "31",
         "400.0",
         "120.0"
        ],
        [
         "24",
         "2",
         "27",
         "400.0",
         "150.0"
        ],
        [
         "25",
         "2",
         "23",
         "400.0",
         "90.0"
        ],
        [
         "26",
         "2",
         "18",
         "416.5",
         "135.0"
        ],
        [
         "27",
         "2",
         "15",
         "400.0",
         "60.0"
        ],
        [
         "28",
         "2",
         "13",
         "400.0",
         "0.0"
        ],
        [
         "29",
         "2",
         "12",
         "416.5",
         "105.0"
        ],
        [
         "30",
         "2",
         "11",
         "416.5",
         "45.0"
        ],
        [
         "31",
         "2",
         "7",
         "416.5",
         "15.0"
        ],
        [
         "32",
         "3",
         "33",
         "600.0",
         "30.0"
        ],
        [
         "33",
         "3",
         "32",
         "616.5",
         "75.0"
        ],
        [
         "34",
         "3",
         "45",
         "600.0",
         "90.0"
        ],
        [
         "35",
         "3",
         "40",
         "616.5",
         "15.0"
        ],
        [
         "36",
         "3",
         "36",
         "600.0",
         "150.0"
        ],
        [
         "37",
         "3",
         "53",
         "600.0",
         "60.0"
        ],
        [
         "38",
         "3",
         "50",
         "600.0",
         "0.0"
        ],
        [
         "39",
         "3",
         "48",
         "616.5",
         "135.0"
        ],
        [
         "40",
         "3",
         "47",
         "616.5",
         "45.0"
        ],
        [
         "41",
         "3",
         "58",
         "600.0",
         "120.0"
        ],
        [
         "42",
         "3",
         "56",
         "616.5",
         "105.0"
        ],
        [
         "43",
         "4",
         "41",
         "816.5",
         "135.0"
        ],
        [
         "44",
         "4",
         "37",
         "816.5",
         "75.0"
        ],
        [
         "45",
         "4",
         "34",
         "800.0",
         "150.0"
        ],
        [
         "46",
         "4",
         "44",
         "816.5",
         "15.0"
        ],
        [
         "47",
         "4",
         "43",
         "800.0",
         "90.0"
        ],
        [
         "48",
         "4",
         "54",
         "816.5",
         "105.0"
        ],
        [
         "49",
         "4",
         "52",
         "800.0",
         "120.0"
        ]
       ],
       "shape": {
        "columns": 4,
        "rows": 64
       }
      },
      "text/html": [
       "<div>\n",
       "<style scoped>\n",
       "    .dataframe tbody tr th:only-of-type {\n",
       "        vertical-align: middle;\n",
       "    }\n",
       "\n",
       "    .dataframe tbody tr th {\n",
       "        vertical-align: top;\n",
       "    }\n",
       "\n",
       "    .dataframe thead th {\n",
       "        text-align: right;\n",
       "    }\n",
       "</style>\n",
       "<table border=\"1\" class=\"dataframe\">\n",
       "  <thead>\n",
       "    <tr style=\"text-align: right;\">\n",
       "      <th></th>\n",
       "      <th>group_id</th>\n",
       "      <th>channel_id</th>\n",
       "      <th>x</th>\n",
       "      <th>y</th>\n",
       "    </tr>\n",
       "  </thead>\n",
       "  <tbody>\n",
       "    <tr>\n",
       "      <th>0</th>\n",
       "      <td>0</td>\n",
       "      <td>26</td>\n",
       "      <td>16.5</td>\n",
       "      <td>105.0</td>\n",
       "    </tr>\n",
       "    <tr>\n",
       "      <th>1</th>\n",
       "      <td>0</td>\n",
       "      <td>25</td>\n",
       "      <td>0.0</td>\n",
       "      <td>0.0</td>\n",
       "    </tr>\n",
       "    <tr>\n",
       "      <th>2</th>\n",
       "      <td>0</td>\n",
       "      <td>20</td>\n",
       "      <td>0.0</td>\n",
       "      <td>90.0</td>\n",
       "    </tr>\n",
       "    <tr>\n",
       "      <th>3</th>\n",
       "      <td>0</td>\n",
       "      <td>19</td>\n",
       "      <td>16.5</td>\n",
       "      <td>135.0</td>\n",
       "    </tr>\n",
       "    <tr>\n",
       "      <th>4</th>\n",
       "      <td>0</td>\n",
       "      <td>14</td>\n",
       "      <td>16.5</td>\n",
       "      <td>45.0</td>\n",
       "    </tr>\n",
       "    <tr>\n",
       "      <th>...</th>\n",
       "      <td>...</td>\n",
       "      <td>...</td>\n",
       "      <td>...</td>\n",
       "      <td>...</td>\n",
       "    </tr>\n",
       "    <tr>\n",
       "      <th>59</th>\n",
       "      <td>5</td>\n",
       "      <td>55</td>\n",
       "      <td>1000.0</td>\n",
       "      <td>0.0</td>\n",
       "    </tr>\n",
       "    <tr>\n",
       "      <th>60</th>\n",
       "      <td>5</td>\n",
       "      <td>51</td>\n",
       "      <td>1016.5</td>\n",
       "      <td>135.0</td>\n",
       "    </tr>\n",
       "    <tr>\n",
       "      <th>61</th>\n",
       "      <td>5</td>\n",
       "      <td>62</td>\n",
       "      <td>1016.5</td>\n",
       "      <td>45.0</td>\n",
       "    </tr>\n",
       "    <tr>\n",
       "      <th>62</th>\n",
       "      <td>5</td>\n",
       "      <td>61</td>\n",
       "      <td>1016.5</td>\n",
       "      <td>105.0</td>\n",
       "    </tr>\n",
       "    <tr>\n",
       "      <th>63</th>\n",
       "      <td>5</td>\n",
       "      <td>59</td>\n",
       "      <td>1000.0</td>\n",
       "      <td>90.0</td>\n",
       "    </tr>\n",
       "  </tbody>\n",
       "</table>\n",
       "<p>64 rows × 4 columns</p>\n",
       "</div>"
      ],
      "text/plain": [
       "    group_id  channel_id       x      y\n",
       "0          0          26    16.5  105.0\n",
       "1          0          25     0.0    0.0\n",
       "2          0          20     0.0   90.0\n",
       "3          0          19    16.5  135.0\n",
       "4          0          14    16.5   45.0\n",
       "..       ...         ...     ...    ...\n",
       "59         5          55  1000.0    0.0\n",
       "60         5          51  1016.5  135.0\n",
       "61         5          62  1016.5   45.0\n",
       "62         5          61  1016.5  105.0\n",
       "63         5          59  1000.0   90.0\n",
       "\n",
       "[64 rows x 4 columns]"
      ]
     },
     "execution_count": 5,
     "metadata": {},
     "output_type": "execute_result"
    }
   ],
   "source": [
    "import pandas as pd\n",
    "import matplotlib.pyplot as plt\n",
    "import numpy as np\n",
    "import seaborn as sns\n",
    "file_path = r\"Q:\\sachuriga\\Sachuriga_Python/quattrocolo-nwb4fp/ASSY-236-F.prb\"\n",
    "\n",
    "# Read the file and parse the dictionary\n",
    "local_vars = {'np': np}\n",
    "with open(file_path, 'r') as file:\n",
    "    exec(file.read(), local_vars)  # Execute the file content with NumPy in scope\n",
    "\n",
    "    \n",
    "channel_groups = local_vars.get('channel_groups')\n",
    "if channel_groups is None:\n",
    "    raise ValueError(f\"'channel_groups' not found in {file_path}\")\n",
    "\n",
    "# Assuming channel_groups is loaded from Step 1\n",
    "data = []\n",
    "for group_id, group_data in channel_groups.items():\n",
    "    channels = group_data['channels']\n",
    "    geometry = group_data['geometry']\n",
    "    for channel in channels:\n",
    "        x, y = geometry[channel]\n",
    "        data.append({\n",
    "            'group_id': group_id,\n",
    "            'channel_id': channel,\n",
    "            'x': x,\n",
    "            'y': y\n",
    "        })\n",
    "probe_df = pd.DataFrame(data)\n",
    "probe_df \n",
    "\n",
    "#for i in range(6):\n",
    "temp = probe_df[probe_df['group_id']==5]\n",
    "temp_chs = probe_df['channel_id']\n",
    "temp_chs "
   ]
  },
  {
   "cell_type": "code",
   "execution_count": null,
   "metadata": {},
   "outputs": [
    {
     "data": {
      "text/plain": [
       "0     26\n",
       "1     25\n",
       "2     20\n",
       "3     19\n",
       "4     14\n",
       "      ..\n",
       "59    55\n",
       "60    51\n",
       "61    62\n",
       "62    61\n",
       "63    59\n",
       "Name: channel_id, Length: 64, dtype: int64"
      ]
     },
     "execution_count": 8,
     "metadata": {},
     "output_type": "execute_result"
    }
   ],
   "source": [
    "#for i in range(6):\n",
    "temp = probe_df[probe_df['group_id']==5]\n",
    "temp_chs = probe_df['channel_id']\n",
    "temp_chs "
   ]
  },
  {
   "cell_type": "code",
   "execution_count": 1,
   "metadata": {},
   "outputs": [
    {
     "name": "stdout",
     "output_type": "stream",
     "text": [
      "Q:\\sachuriga\\Sachuriga_Python\\quattrocolo-nwb4fp\\src\n"
     ]
    }
   ],
   "source": [
    "cd Q:\\sachuriga\\Sachuriga_Python\\quattrocolo-nwb4fp\\src"
   ]
  },
  {
   "cell_type": "code",
   "execution_count": 2,
   "metadata": {},
   "outputs": [
    {
     "name": "stderr",
     "output_type": "stream",
     "text": [
      "C:\\Users\\sachur\\AppData\\Roaming\\Python\\Python311\\site-packages\\tqdm\\auto.py:21: TqdmWarning: IProgress not found. Please update jupyter and ipywidgets. See https://ipywidgets.readthedocs.io/en/stable/user_install.html\n",
      "  from .autonotebook import tqdm as notebook_tqdm\n"
     ]
    },
    {
     "name": "stdout",
     "output_type": "stream",
     "text": [
      "Merging step_Before mannual search the stream_name. Auto search result is Record Node 101#Acquisition_Board-100.Rhythm Data\n",
      "LFP downsampling steps. Auto search result is Record Node 101#Acquisition_Board-100.Rhythm Data\n",
      "ASSY-236-F - cambridgeneurotech - 64ch - 6shanks\n"
     ]
    },
    {
     "name": "stderr",
     "output_type": "stream",
     "text": [
      "c:\\Users\\sachur\\AppData\\Local\\anaconda3\\envs\\test1\\Lib\\site-packages\\spikeinterface\\extractors\\neoextractors\\openephys.py:251: UserWarning: Could not load synchronized timestamps for Record Node 101#Acquisition_Board-100.Rhythm Data\n",
      "  warnings.warn(f\"Could not load synchronized timestamps for {stream_name}\")\n",
      "c:\\Users\\sachur\\AppData\\Local\\anaconda3\\envs\\test1\\Lib\\site-packages\\spikeinterface\\extractors\\neoextractors\\openephys.py:251: UserWarning: Could not load synchronized timestamps for Record Node 101#Acquisition_Board-100.Rhythm Data\n",
      "  warnings.warn(f\"Could not load synchronized timestamps for {stream_name}\")\n"
     ]
    },
    {
     "name": "stdout",
     "output_type": "stream",
     "text": [
      "bad channels are [23, 31, 43, 63]\n",
      "bad channels labels ['good' 'good' 'good' 'good' 'good' 'good' 'good' 'good' 'good' 'good'\n",
      " 'good' 'good' 'good' 'good' 'good' 'good' 'good' 'good' 'good' 'good'\n",
      " 'good' 'good' 'good' 'dead' 'good' 'good' 'good' 'good' 'good' 'good'\n",
      " 'good' 'dead' 'good' 'good' 'good' 'good' 'good' 'good' 'good' 'good'\n",
      " 'good' 'good' 'good' 'dead' 'good' 'good' 'good' 'good' 'good' 'good'\n",
      " 'good' 'good' 'good' 'good' 'good' 'good' 'good' 'good' 'good' 'good'\n",
      " 'good' 'good' 'good' 'dead']\n",
      "['CH1' 'CH2' 'CH3' 'CH4' 'CH5' 'CH6' 'CH7' 'CH8' 'CH9' 'CH10' 'CH11'\n",
      " 'CH12' 'CH13' 'CH14' 'CH15' 'CH16' 'CH17' 'CH18' 'CH19' 'CH20' 'CH21'\n",
      " 'CH22' 'CH23' 'CH25' 'CH26' 'CH27' 'CH28' 'CH29' 'CH30' 'CH31' 'CH33'\n",
      " 'CH34' 'CH35' 'CH36' 'CH37' 'CH38' 'CH39' 'CH40' 'CH41' 'CH42' 'CH43'\n",
      " 'CH45' 'CH46' 'CH47' 'CH48' 'CH49' 'CH50' 'CH51' 'CH52' 'CH53' 'CH54'\n",
      " 'CH55' 'CH56' 'CH57' 'CH58' 'CH59' 'CH60' 'CH61' 'CH62' 'CH63']\n",
      "processing lfp data...\n",
      "write_binary_recording \n",
      "engine=process - n_jobs=12 - samples_per_chunk=5,000 - chunk_memory=1.14 MiB - total_memory=13.73 MiB - chunk_duration=4.00s\n"
     ]
    },
    {
     "name": "stderr",
     "output_type": "stream",
     "text": [
      "write_binary_recording (workers: 12 processes): 100%|██████████| 327/327 [01:49<00:00,  2.98it/s]\n"
     ]
    }
   ],
   "source": [
    "from nwb4fp.preprocess.down_sample_lfp import down_sample_lfp_test,add_lfp2nwb\n",
    "file_path = r\"S:\\Sachuriga\\Ephys_Recording\\CR_CA1/63383/63383_2024-07-25_12-57-40_A_phy_k_manual\"\n",
    "raw_path =  r\"S:\\Sachuriga\\Ephys_Recording\\CR_CA1/63383/63383_2024-07-25_12-57-40_A/Record Node 101/experiment1\\recording1\"\n",
    "down_sample_lfp_test(file_path,raw_path)"
   ]
  },
  {
   "cell_type": "code",
   "execution_count": null,
   "metadata": {},
   "outputs": [
    {
     "name": "stderr",
     "output_type": "stream",
     "text": [
      "<>:2: DeprecationWarning: invalid escape sequence '\\S'\n",
      "<>:2: DeprecationWarning: invalid escape sequence '\\S'\n",
      "C:\\Users\\sachur\\AppData\\Local\\Temp\\ipykernel_22220\\2798959693.py:2: DeprecationWarning: invalid escape sequence '\\S'\n",
      "  path = 'S:\\Sachuriga/nwb/test4neo/65165_2023-07-10_15-08-59_A_phy_k_manual.nwb'\n",
      "C:\\Users\\sachur\\AppData\\Roaming\\Python\\Python311\\site-packages\\pynwb\\ecephys.py:90: UserWarning: ElectricalSeries 'lfp_car': The second dimension of data does not match the length of electrodes. Your data may be transposed.\n",
      "  warnings.warn(\"%s '%s': The second dimension of data does not match the length of electrodes. \"\n"
     ]
    }
   ],
   "source": [
    "import pynapple as nap\n",
    "path = 'S:\\Sachuriga/nwb/test4neo/65165_2023-07-10_15-08-59_A_phy_k_manual.nwb'\n",
    "\n",
    "ch = 5\n",
    "ndata = nap.load_file(path)\n",
    "lfp = ndata['lfp_raw']\n",
    "eeg_example = lfp[:,5]\n",
    "nap.Tsd (t=eeg_example.index.values,d = )"
   ]
  },
  {
   "cell_type": "code",
   "execution_count": null,
   "metadata": {},
   "outputs": [
    {
     "name": "stdout",
     "output_type": "stream",
     "text": [
      "\n",
      "Processing file: 63383_2024-07-10_A_units_table_withDLC.pkl\n",
      "Grouped channels: {0: [19, 19, 19], 1: [6, 16, 17], 2: [11, 23], 3: [47, 33, 53, 32, 32, 45, 56], 4: [37, 57, 60, 60, 49, 60], 5: [38, 55]}\n",
      "Middle channel per group: {0: 19.0, 1: 16.0, 2: 11.0, 3: 53.0, 4: 60.0, 5: 55.0}\n",
      "Output list (length 10): [19.0, 19.0, 19.0, 16.0, 16.0, 16.0, 11.0, 11.0, 53.0, 53.0, 53.0, 53.0, 53.0, 53.0, 53.0, 60.0, 60.0, 60.0, 60.0, 60.0, 60.0, 55.0, 55.0]\n",
      "Lower four dict (by group): {0: 5.0, 1: 10.0, 2: nan, 3: 50.0, 4: nan, 5: nan}\n",
      "Lower four output list: [5.0, 5.0, 5.0, 10.0, 10.0, 10.0, nan, nan, 50.0, 50.0, 50.0, 50.0, 50.0, 50.0, 50.0, nan, nan, nan, nan, nan, nan, nan, nan]\n",
      "\n",
      "Processing file: 63383_2024-07-13_A_units_table_withDLC.pkl\n",
      "Grouped channels: {4: [41, 54, 54], 5: [62, 35, 39, 39], 2: [31], 3: [56]}\n",
      "Middle channel per group: {4: 54.0, 5: 35.0, 2: 31.0, 3: 56.0}\n",
      "Output list (length 10): [54.0, 54.0, 54.0, 35.0, 35.0, 35.0, 35.0, 31.0, 56.0]\n",
      "Lower four dict (by group): {4: 60.0, 5: 55.0, 2: 15.0, 3: 47.0}\n",
      "Lower four output list: [60.0, 60.0, 60.0, 55.0, 55.0, 55.0, 55.0, 15.0, 47.0]\n",
      "\n",
      "Processing file: 63383_2024-07-13_B_units_table_withDLC.pkl\n",
      "Grouped channels: {3: [48, 36, 48, 56], 4: [41, 41, 54], 5: [35, 39, 42]}\n",
      "Middle channel per group: {3: 48.0, 4: 54.0, 5: 35.0}\n",
      "Output list (length 10): [48.0, 48.0, 48.0, 48.0, 54.0, 54.0, 54.0, 35.0, 35.0, 35.0]\n",
      "Lower four dict (by group): {3: 32.0, 4: 60.0, 5: 55.0}\n",
      "Lower four output list: [32.0, 32.0, 32.0, 32.0, 60.0, 60.0, 60.0, 55.0, 55.0, 55.0]\n",
      "\n",
      "Processing file: 63383_2024-07-13_C_units_table_withDLC.pkl\n",
      "Grouped channels: {3: [45], 5: [62, 35, 39], 1: [2], 4: [41, 49, 52, 54]}\n",
      "Middle channel per group: {3: 45.0, 5: 35.0, 1: 2.0, 4: 54.0}\n",
      "Output list (length 10): [45.0, 35.0, 35.0, 35.0, 2.0, 54.0, 54.0, 54.0, 54.0]\n",
      "Lower four dict (by group): {3: 33.0, 5: 55.0, 1: 24.0, 4: 60.0}\n",
      "Lower four output list: [33.0, 55.0, 55.0, 55.0, 24.0, 60.0, 60.0, 60.0, 60.0]\n",
      "\n",
      "Processing file: 63383_2024-07-15_A_units_table_withDLC.pkl\n",
      "Grouped channels: {4: [34], 5: [51]}\n",
      "Middle channel per group: {4: 34.0, 5: 51.0}\n",
      "Output list (length 10): [34.0, 51.0]\n",
      "Lower four dict (by group): {4: 43.0, 5: 39.0}\n",
      "Lower four output list: [43.0, 39.0]\n"
     ]
    },
    {
     "name": "stderr",
     "output_type": "stream",
     "text": [
      "C:\\Users\\sachur\\AppData\\Roaming\\Python\\Python311\\site-packages\\pynwb\\ecephys.py:90: UserWarning: ElectricalSeries 'lfp_car': The second dimension of data does not match the length of electrodes. Your data may be transposed.\n",
      "  warnings.warn(\"%s '%s': The second dimension of data does not match the length of electrodes. \"\n"
     ]
    },
    {
     "name": "stdout",
     "output_type": "stream",
     "text": [
      "\n",
      "Processing file: 63383_2024-07-15_B_units_table_withDLC.pkl\n",
      "Grouped channels: {5: [51, 46], 4: [43]}\n",
      "Middle channel per group: {5: 46.0, 4: 43.0}\n",
      "Output list (length 10): [46.0, 46.0, 43.0]\n",
      "Lower four dict (by group): {5: 35.0, 4: 49.0}\n",
      "Lower four output list: [35.0, 35.0, 49.0]\n"
     ]
    },
    {
     "name": "stderr",
     "output_type": "stream",
     "text": [
      "C:\\Users\\sachur\\AppData\\Roaming\\Python\\Python311\\site-packages\\pynwb\\ecephys.py:90: UserWarning: ElectricalSeries 'lfp_car': The second dimension of data does not match the length of electrodes. Your data may be transposed.\n",
      "  warnings.warn(\"%s '%s': The second dimension of data does not match the length of electrodes. \"\n"
     ]
    },
    {
     "name": "stdout",
     "output_type": "stream",
     "text": [
      "\n",
      "Processing file: 63383_2024-07-15_C_units_table_withDLC.pkl\n",
      "Grouped channels: {5: [51, 51]}\n",
      "Middle channel per group: {5: 51.0}\n",
      "Output list (length 10): [51.0, 51.0]\n",
      "Lower four dict (by group): {5: 39.0}\n",
      "Lower four output list: [39.0, 39.0]\n"
     ]
    },
    {
     "name": "stderr",
     "output_type": "stream",
     "text": [
      "C:\\Users\\sachur\\AppData\\Roaming\\Python\\Python311\\site-packages\\pynwb\\ecephys.py:90: UserWarning: ElectricalSeries 'lfp_car': The second dimension of data does not match the length of electrodes. Your data may be transposed.\n",
      "  warnings.warn(\"%s '%s': The second dimension of data does not match the length of electrodes. \"\n"
     ]
    },
    {
     "name": "stdout",
     "output_type": "stream",
     "text": [
      "\n",
      "Processing file: 63383_2024-07-18_A_units_table_withDLC.pkl\n",
      "Grouped channels: {2: [11, 13, 29], 0: [14], 1: [10, 30]}\n",
      "Middle channel per group: {2: 29.0, 0: 14.0, 1: 30.0}\n",
      "Output list (length 10): [29.0, 29.0, 29.0, 14.0, 30.0, 30.0]\n",
      "Lower four dict (by group): {2: nan, 0: nan, 1: nan}\n",
      "Lower four output list: [nan, nan, nan, nan, nan, nan]\n",
      "\n",
      "Processing file: 63383_2024-07-18_B_units_table_withDLC.pkl\n",
      "Grouped channels: {1: [1, 30, 30], 0: [14, 14], 2: [11, 13, 29], 3: [40, 50]}\n",
      "Middle channel per group: {1: 1.0, 0: 14.0, 2: 29.0, 3: 50.0}\n",
      "Output list (length 10): [1.0, 1.0, 1.0, 14.0, 14.0, 29.0, 29.0, 29.0, 50.0, 50.0]\n",
      "Lower four dict (by group): {1: nan, 0: nan, 2: nan, 3: nan}\n",
      "Lower four output list: [nan, nan, nan, nan, nan, nan, nan, nan, nan, nan]\n",
      "\n",
      "Processing file: 63383_2024-07-18_C_units_table_withDLC.pkl\n",
      "Grouped channels: {1: [30, 30, 30], 0: [0, 14], 2: [13, 29]}\n",
      "Middle channel per group: {1: 30.0, 0: 0.0, 2: 13.0}\n",
      "Output list (length 10): [30.0, 30.0, 30.0, 0.0, 0.0, 13.0, 13.0]\n",
      "Lower four dict (by group): {1: nan, 0: nan, 2: nan}\n",
      "Lower four output list: [nan, nan, nan, nan, nan, nan, nan]\n",
      "\n",
      "Processing file: 63383_2024-07-20_A_units_table_withDLC.pkl\n",
      "Grouped channels: {2: [29], 3: [50, 40, 50], 0: [0, 8, 0], 1: [30]}\n",
      "Middle channel per group: {2: 29.0, 3: 50.0, 0: 0.0, 1: 30.0}\n",
      "Output list (length 10): [29.0, 50.0, 50.0, 50.0, 0.0, 0.0, 0.0, 30.0]\n",
      "Lower four dict (by group): {2: nan, 3: nan, 0: nan, 1: nan}\n",
      "Lower four output list: [nan, nan, nan, nan, nan, nan, nan, nan]\n",
      "\n",
      "Processing file: 63383_2024-07-20_B_units_table_withDLC.pkl\n",
      "Grouped channels: {1: [30], 2: [11, 29], 3: [33, 50], 0: [0, 0]}\n",
      "Middle channel per group: {1: 30.0, 2: 29.0, 3: 50.0, 0: 0.0}\n",
      "Output list (length 10): [30.0, 29.0, 29.0, 50.0, 50.0, 0.0, 0.0]\n",
      "Lower four dict (by group): {1: nan, 2: nan, 3: nan, 0: nan}\n",
      "Lower four output list: [nan, nan, nan, nan, nan, nan, nan]\n",
      "\n",
      "Processing file: 63383_2024-07-20_C_units_table_withDLC.pkl\n",
      "Grouped channels: {2: [29, 15, 29], 3: [50, 50], 0: [0], 1: [30, 30]}\n",
      "Middle channel per group: {2: 29.0, 3: 50.0, 0: 0.0, 1: 30.0}\n",
      "Output list (length 10): [29.0, 29.0, 29.0, 50.0, 50.0, 0.0, 30.0, 30.0]\n",
      "Lower four dict (by group): {2: nan, 3: nan, 0: nan, 1: nan}\n",
      "Lower four output list: [nan, nan, nan, nan, nan, nan, nan, nan]\n",
      "\n",
      "Processing file: 63383_2024-07-22_A_units_table_withDLC.pkl\n",
      "Grouped channels: {0: [4, 8, 20, 20, 0], 2: [28], 3: [33, 40]}\n",
      "Middle channel per group: {0: 0.0, 2: 28.0, 3: 40.0}\n",
      "Output list (length 10): [0.0, 0.0, 0.0, 0.0, 0.0, 28.0, 40.0, 40.0]\n",
      "Lower four dict (by group): {0: nan, 2: 7.0, 3: nan}\n",
      "Lower four output list: [nan, nan, nan, nan, nan, 7.0, nan, nan]\n",
      "\n",
      "Processing file: 63383_2024-07-22_B_units_table_withDLC.pkl\n",
      "Grouped channels: {1: [10], 2: [28], 3: [33, 53], 0: [4, 5, 25, 8, 20]}\n",
      "Middle channel per group: {1: 10.0, 2: 28.0, 3: 33.0, 0: 8.0}\n",
      "Output list (length 10): [10.0, 28.0, 33.0, 33.0, 8.0, 8.0, 8.0, 8.0, 8.0]\n",
      "Lower four dict (by group): {1: 1.0, 2: 7.0, 3: nan, 0: 25.0}\n",
      "Lower four output list: [1.0, 7.0, nan, nan, 25.0, 25.0, 25.0, 25.0, 25.0]\n",
      "\n",
      "Processing file: 63383_2024-07-22_C_units_table_withDLC.pkl\n",
      "Grouped channels: {0: [8, 25, 8, 8]}\n",
      "Middle channel per group: {0: 25.0}\n",
      "Output list (length 10): [25.0, 25.0, 25.0, 25.0]\n",
      "Lower four dict (by group): {0: nan}\n",
      "Lower four output list: [nan, nan, nan, nan]\n",
      "\n",
      "Processing file: 63383_2024-07-25_A_units_table_withDLC.pkl\n",
      "Grouped channels: {3: [53, 32, 50, 33], 4: [44, 49, 49, 44], 0: [14, 4, 8, 19], 1: [24, 10, 17, 17], 2: [18]}\n",
      "Middle channel per group: {3: 33.0, 4: 44.0, 0: 14.0, 1: 24.0, 2: 18.0}\n",
      "Output list (length 10): [33.0, 33.0, 33.0, 33.0, 44.0, 44.0, 44.0, 44.0, 14.0, 14.0, 14.0, 14.0, 24.0, 24.0, 24.0, 24.0, 18.0]\n",
      "Lower four dict (by group): {3: nan, 4: nan, 0: nan, 1: 22.0, 2: 28.0}\n",
      "Lower four output list: [nan, nan, nan, nan, nan, nan, nan, nan, nan, nan, nan, nan, 22.0, 22.0, 22.0, 22.0, 28.0]\n",
      "\n",
      "Processing file: 63383_2024-07-25_B_units_table_withDLC.pkl\n",
      "Grouped channels: {0: [14, 14, 8, 14, 19], 2: [18], 3: [32, 53, 50, 45], 4: [49, 44, 44], 1: [17]}\n",
      "Middle channel per group: {0: 8.0, 2: 18.0, 3: 53.0, 4: 44.0, 1: 17.0}\n",
      "Output list (length 10): [8.0, 8.0, 8.0, 8.0, 8.0, 18.0, 53.0, 53.0, 53.0, 53.0, 44.0, 44.0, 44.0, 17.0]\n",
      "Lower four dict (by group): {0: 25.0, 2: 28.0, 3: 50.0, 4: nan, 1: 21.0}\n",
      "Lower four output list: [25.0, 25.0, 25.0, 25.0, 25.0, 28.0, 50.0, 50.0, 50.0, 50.0, nan, nan, nan, 21.0]\n",
      "\n",
      "Processing file: 63383_2024-07-25_C_units_table_withDLC.pkl\n",
      "Grouped channels: {3: [32, 53, 50, 33], 0: [3, 8, 3], 2: [18], 4: [44, 44, 49, 49]}\n",
      "Middle channel per group: {3: 33.0, 0: 8.0, 2: 18.0, 4: 44.0}\n",
      "Output list (length 10): [33.0, 33.0, 33.0, 33.0, 8.0, 8.0, 8.0, 18.0, 44.0, 44.0, 44.0, 44.0]\n",
      "Lower four dict (by group): {3: nan, 0: 25.0, 2: 28.0, 4: nan}\n",
      "Lower four output list: [nan, nan, nan, nan, 25.0, 25.0, 25.0, 28.0, nan, nan, nan, nan]\n",
      "\n",
      "Processing file: 63383_2024-07-28_A_units_table_withDLC.pkl\n",
      "Grouped channels: {1: [2, 2, 17], 2: [31], 3: [58, 53, 56], 0: [20, 26], 4: [37, 57, 60, 37, 49, 60, 60]}\n",
      "Middle channel per group: {1: 17.0, 2: 31.0, 3: 56.0, 0: 20.0, 4: 60.0}\n",
      "Output list (length 10): [17.0, 17.0, 17.0, 31.0, 56.0, 56.0, 56.0, 20.0, 20.0, 60.0, 60.0, 60.0, 60.0, 60.0, 60.0, 60.0]\n",
      "Lower four dict (by group): {1: 21.0, 2: 15.0, 3: 47.0, 0: 0.0, 4: nan}\n",
      "Lower four output list: [21.0, 21.0, 21.0, 15.0, 47.0, 47.0, 47.0, 0.0, 0.0, nan, nan, nan, nan, nan, nan, nan]\n",
      "\n",
      "Processing file: 63383_2024-07-28_B_units_table_withDLC.pkl\n",
      "Grouped channels: {1: [17], 3: [36, 58, 48, 48, 48, 56], 0: [20, 19], 2: [31], 4: [57, 57, 37, 60, 60, 60, 60]}\n",
      "Middle channel per group: {1: 17.0, 3: 58.0, 0: 20.0, 2: 31.0, 4: 57.0}\n",
      "Output list (length 10): [17.0, 58.0, 58.0, 58.0, 58.0, 58.0, 58.0, 20.0, 20.0, 31.0, 57.0, 57.0, 57.0, 57.0, 57.0, 57.0, 57.0]\n",
      "Lower four dict (by group): {1: 21.0, 3: 53.0, 0: 0.0, 2: 15.0, 4: 63.0}\n",
      "Lower four output list: [21.0, 53.0, 53.0, 53.0, 53.0, 53.0, 53.0, 0.0, 0.0, 15.0, 63.0, 63.0, 63.0, 63.0, 63.0, 63.0, 63.0]\n",
      "\n",
      "Processing file: 63383_2024-07-28_C_units_table_withDLC.pkl\n",
      "Grouped channels: {3: [48, 56], 4: [60]}\n",
      "Middle channel per group: {3: 56.0, 4: 60.0}\n",
      "Output list (length 10): [56.0, 56.0, 60.0]\n",
      "Lower four dict (by group): {3: 47.0, 4: nan}\n",
      "Lower four output list: [47.0, 47.0, nan]\n",
      "\n",
      "Processing file: 63383_2024-07-30_A_units_table_withDLC.pkl\n",
      "Grouped channels: {3: [48], 4: [54, 37, 60, 37, 37, 37, 49, 49, 57, 57, 57, 57, 57], 5: [55]}\n",
      "Middle channel per group: {3: 48.0, 4: 57.0, 5: 55.0}\n",
      "Output list (length 10): [48.0, 57.0, 57.0, 57.0, 57.0, 57.0, 57.0, 57.0, 57.0, 57.0, 57.0, 57.0, 57.0, 57.0, 55.0]\n",
      "Lower four dict (by group): {3: 32.0, 4: 63.0, 5: nan}\n",
      "Lower four output list: [32.0, 63.0, 63.0, 63.0, 63.0, 63.0, 63.0, 63.0, 63.0, 63.0, 63.0, 63.0, 63.0, 63.0, nan]\n",
      "\n",
      "Processing file: 63383_2024-07-30_B_units_table_withDLC.pkl\n",
      "Grouped channels: {2: [27, 27], 3: [36], 4: [60, 57, 37, 37, 37, 57, 57, 49, 49, 54], 5: [55, 55]}\n",
      "Middle channel per group: {2: 27.0, 3: 36.0, 4: 57.0, 5: 55.0}\n",
      "Output list (length 10): [27.0, 27.0, 36.0, 57.0, 57.0, 57.0, 57.0, 57.0, 57.0, 57.0, 57.0, 57.0, 57.0, 55.0, 55.0]\n",
      "Lower four dict (by group): {2: 23.0, 3: 45.0, 4: 63.0, 5: nan}\n",
      "Lower four output list: [23.0, 23.0, 45.0, 63.0, 63.0, 63.0, 63.0, 63.0, 63.0, 63.0, 63.0, 63.0, 63.0, nan, nan]\n",
      "\n",
      "Processing file: 63383_2024-07-30_C_units_table_withDLC.pkl\n",
      "Grouped channels: {2: [27], 3: [36, 53, 48], 4: [60, 37, 37, 54, 37, 57, 49, 57, 57, 57]}\n",
      "Middle channel per group: {2: 27.0, 3: 48.0, 4: 57.0}\n",
      "Output list (length 10): [27.0, 48.0, 48.0, 48.0, 57.0, 57.0, 57.0, 57.0, 57.0, 57.0, 57.0, 57.0, 57.0, 57.0]\n",
      "Lower four dict (by group): {2: 23.0, 3: 32.0, 4: 63.0}\n",
      "Lower four output list: [23.0, 32.0, 32.0, 32.0, 63.0, 63.0, 63.0, 63.0, 63.0, 63.0, 63.0, 63.0, 63.0, 63.0]\n",
      "\n",
      "Processing file: 63385_2024-07-10_A_units_table_withDLC.pkl\n",
      "Grouped channels: {0: [14, 8], 2: [7, 13, 13, 7], 1: [10, 22]}\n",
      "Middle channel per group: {0: 14.0, 2: 13.0, 1: 22.0}\n",
      "Output list (length 10): [14.0, 14.0, 13.0, 13.0, 13.0, 13.0, 22.0, 22.0]\n",
      "Lower four dict (by group): {0: nan, 2: nan, 1: nan}\n",
      "Lower four output list: [nan, nan, nan, nan, nan, nan, nan, nan]\n",
      "\n",
      "Processing file: 63385_2024-07-11_A_units_table_withDLC.pkl\n",
      "Grouped channels: {0: [20, 20, 26], 2: [11, 15, 15, 29], 1: [10, 24]}\n",
      "Middle channel per group: {0: 20.0, 2: 11.0, 1: 10.0}\n",
      "Output list (length 10): [20.0, 20.0, 20.0, 11.0, 11.0, 11.0, 11.0, 10.0, 10.0]\n",
      "Lower four dict (by group): {0: 0.0, 2: nan, 1: 1.0}\n",
      "Lower four output list: [0.0, 0.0, 0.0, nan, nan, nan, nan, 1.0, 1.0]\n",
      "\n",
      "Processing file: 63385_2024-07-13_A_units_table_withDLC.pkl\n",
      "Grouped channels: {0: [3, 26, 19, 20], 1: [24], 2: [12, 23, 28, 11], 3: [40, 47, 47]}\n",
      "Middle channel per group: {0: 26.0, 1: 24.0, 2: 28.0, 3: 40.0}\n",
      "Output list (length 10): [26.0, 26.0, 26.0, 26.0, 24.0, 28.0, 28.0, 28.0, 28.0, 40.0, 40.0, 40.0]\n",
      "Lower four dict (by group): {0: 14.0, 1: 22.0, 2: 7.0, 3: nan}\n",
      "Lower four output list: [14.0, 14.0, 14.0, 14.0, 22.0, 7.0, 7.0, 7.0, 7.0, nan, nan, nan]\n",
      "\n",
      "Processing file: 63385_2024-07-13_B_units_table_withDLC.pkl\n",
      "Grouped channels: {0: [3, 3, 3, 3, 26], 2: [12, 23, 23, 23, 28]}\n",
      "Middle channel per group: {0: 26.0, 2: 23.0}\n",
      "Output list (length 10): [26.0, 26.0, 26.0, 26.0, 26.0, 23.0, 23.0, 23.0, 23.0, 23.0]\n",
      "Lower four dict (by group): {0: 14.0, 2: 29.0}\n",
      "Lower four output list: [14.0, 14.0, 14.0, 14.0, 14.0, 29.0, 29.0, 29.0, 29.0, 29.0]\n",
      "\n",
      "Processing file: 63385_2024-07-13_C_units_table_withDLC.pkl\n",
      "Grouped channels: {0: [3, 3, 26, 19, 3], 2: [28, 12, 23, 23], 3: [33, 33, 47], 1: [24]}\n",
      "Middle channel per group: {0: 3.0, 2: 23.0, 3: 33.0, 1: 24.0}\n",
      "Output list (length 10): [3.0, 3.0, 3.0, 3.0, 3.0, 23.0, 23.0, 23.0, 23.0, 33.0, 33.0, 33.0, 24.0]\n",
      "Lower four dict (by group): {0: 8.0, 2: 29.0, 3: nan, 1: 22.0}\n",
      "Lower four output list: [8.0, 8.0, 8.0, 8.0, 8.0, 29.0, 29.0, 29.0, 29.0, nan, nan, nan, 22.0]\n",
      "\n",
      "Processing file: 63385_2024-07-15_A_units_table_withDLC.pkl\n",
      "Grouped channels: {3: [32, 47, 33], 4: [57], 1: [2, 10, 6, 24]}\n",
      "Middle channel per group: {3: 47.0, 4: 57.0, 1: 24.0}\n",
      "Output list (length 10): [47.0, 47.0, 47.0, 57.0, 24.0, 24.0, 24.0, 24.0]\n",
      "Lower four dict (by group): {3: nan, 4: 63.0, 1: 22.0}\n",
      "Lower four output list: [nan, nan, nan, 63.0, 22.0, 22.0, 22.0, 22.0]\n",
      "\n",
      "Processing file: 63385_2024-07-15_B_units_table_withDLC.pkl\n",
      "Grouped channels: {4: [57], 0: [3, 3], 1: [2, 17], 2: [18], 3: [32, 47]}\n",
      "Middle channel per group: {4: 57.0, 0: 3.0, 1: 17.0, 2: 18.0, 3: 47.0}\n",
      "Output list (length 10): [57.0, 3.0, 3.0, 17.0, 17.0, 18.0, 47.0, 47.0]\n",
      "Lower four dict (by group): {4: 63.0, 0: 8.0, 1: 21.0, 2: 28.0, 3: nan}\n",
      "Lower four output list: [63.0, 8.0, 8.0, 21.0, 21.0, 28.0, nan, nan]\n",
      "\n",
      "Processing file: 63385_2024-07-15_C_units_table_withDLC.pkl\n",
      "Grouped channels: {1: [10, 2], 4: [57], 2: [18], 3: [32, 53]}\n",
      "Middle channel per group: {1: 10.0, 4: 57.0, 2: 18.0, 3: 53.0}\n",
      "Output list (length 10): [10.0, 10.0, 57.0, 18.0, 53.0, 53.0]\n",
      "Lower four dict (by group): {1: 1.0, 4: 63.0, 2: 28.0, 3: 50.0}\n",
      "Lower four output list: [1.0, 1.0, 63.0, 28.0, 50.0, 50.0]\n",
      "\n",
      "Processing file: 63385_2024-07-18_A_units_table_withDLC.pkl\n",
      "Grouped channels: {0: [8, 8, 14], 1: [30], 2: [11]}\n",
      "Middle channel per group: {0: 14.0, 1: 30.0, 2: 11.0}\n",
      "Output list (length 10): [14.0, 14.0, 14.0, 30.0, 11.0]\n",
      "Lower four dict (by group): {0: nan, 1: nan, 2: nan}\n",
      "Lower four output list: [nan, nan, nan, nan, nan]\n",
      "\n",
      "Processing file: 63385_2024-07-18_B_units_table_withDLC.pkl\n",
      "Grouped channels: {1: [1, 22, 9, 30], 2: [29, 7, 11, 11, 29], 0: [8, 8, 14, 4]}\n",
      "Middle channel per group: {1: 9.0, 2: 29.0, 0: 14.0}\n",
      "Output list (length 10): [9.0, 9.0, 9.0, 9.0, 29.0, 29.0, 29.0, 29.0, 29.0, 14.0, 14.0, 14.0, 14.0]\n",
      "Lower four dict (by group): {1: nan, 2: nan, 0: nan}\n",
      "Lower four output list: [nan, nan, nan, nan, nan, nan, nan, nan, nan, nan, nan, nan, nan]\n",
      "\n",
      "Processing file: 63385_2024-07-18_C_units_table_withDLC.pkl\n",
      "Grouped channels: {0: [0, 0, 8, 14], 1: [22, 9, 30], 2: [11, 29]}\n",
      "Middle channel per group: {0: 14.0, 1: 22.0, 2: 29.0}\n",
      "Output list (length 10): [14.0, 14.0, 14.0, 14.0, 22.0, 22.0, 22.0, 29.0, 29.0]\n",
      "Lower four dict (by group): {0: nan, 1: nan, 2: nan}\n",
      "Lower four output list: [nan, nan, nan, nan, nan, nan, nan, nan, nan]\n",
      "\n",
      "Processing file: 63385_2024-07-20_A_units_table_withDLC.pkl\n",
      "Grouped channels: {0: [5, 8], 1: [10, 30], 2: [11, 11, 15]}\n",
      "Middle channel per group: {0: 8.0, 1: 30.0, 2: 11.0}\n",
      "Output list (length 10): [8.0, 8.0, 30.0, 30.0, 11.0, 11.0, 11.0]\n",
      "Lower four dict (by group): {0: 25.0, 1: nan, 2: nan}\n",
      "Lower four output list: [25.0, 25.0, nan, nan, nan, nan, nan]\n",
      "\n",
      "Processing file: 63385_2024-07-20_B_units_table_withDLC.pkl\n",
      "Grouped channels: {0: [5, 8, 8, 8, 20], 1: [10, 22, 9], 2: [11, 11, 11, 11, 15]}\n",
      "Middle channel per group: {0: 5.0, 1: 22.0, 2: 11.0}\n",
      "Output list (length 10): [5.0, 5.0, 5.0, 5.0, 5.0, 22.0, 22.0, 22.0, 11.0, 11.0, 11.0, 11.0, 11.0]\n",
      "Lower four dict (by group): {0: 4.0, 1: nan, 2: nan}\n",
      "Lower four output list: [4.0, 4.0, 4.0, 4.0, 4.0, nan, nan, nan, nan, nan, nan, nan, nan]\n",
      "\n",
      "Processing file: 63385_2024-07-20_C_units_table_withDLC.pkl\n",
      "Grouped channels: {0: [8, 5, 20], 1: [10], 3: [50, 50]}\n",
      "Middle channel per group: {0: 5.0, 1: 10.0, 3: 50.0}\n",
      "Output list (length 10): [5.0, 5.0, 5.0, 10.0, 50.0, 50.0]\n",
      "Lower four dict (by group): {0: 4.0, 1: 1.0, 3: nan}\n",
      "Lower four output list: [4.0, 4.0, 4.0, 1.0, nan, nan]\n",
      "\n",
      "Processing file: 63385_2024-07-22_A_units_table_withDLC.pkl\n",
      "Grouped channels: {0: [3, 3, 19, 26], 1: [6], 2: [12, 23], 3: [33, 33, 47, 47, 47, 45]}\n",
      "Middle channel per group: {0: 3.0, 1: 6.0, 2: 23.0, 3: 47.0}\n",
      "Output list (length 10): [3.0, 3.0, 3.0, 3.0, 6.0, 23.0, 23.0, 47.0, 47.0, 47.0, 47.0, 47.0, 47.0]\n",
      "Lower four dict (by group): {0: 8.0, 1: 30.0, 2: 29.0, 3: nan}\n",
      "Lower four output list: [8.0, 8.0, 8.0, 8.0, 30.0, 29.0, 29.0, nan, nan, nan, nan, nan, nan]\n",
      "\n",
      "Processing file: 63385_2024-07-22_B_units_table_withDLC.pkl\n",
      "Grouped channels: {0: [3, 20, 3, 8, 26], 1: [6, 6], 3: [33, 47, 47, 47], 2: [12, 31]}\n",
      "Middle channel per group: {0: 20.0, 1: 6.0, 3: 33.0, 2: 12.0}\n",
      "Output list (length 10): [20.0, 20.0, 20.0, 20.0, 20.0, 6.0, 6.0, 33.0, 33.0, 33.0, 33.0, 12.0, 12.0]\n",
      "Lower four dict (by group): {0: 0.0, 1: 30.0, 3: nan, 2: 11.0}\n",
      "Lower four output list: [0.0, 0.0, 0.0, 0.0, 0.0, 30.0, 30.0, nan, nan, nan, nan, 11.0, 11.0]\n",
      "\n",
      "Processing file: 63385_2024-07-22_C_units_table_withDLC.pkl\n",
      "Grouped channels: {0: [3, 3, 8, 19], 2: [31, 12], 3: [33, 47, 45], 4: [49], 1: [6, 16, 10]}\n",
      "Middle channel per group: {0: 3.0, 2: 12.0, 3: 47.0, 4: 49.0, 1: 6.0}\n",
      "Output list (length 10): [3.0, 3.0, 3.0, 3.0, 12.0, 12.0, 47.0, 47.0, 47.0, 49.0, 6.0, 6.0, 6.0]\n",
      "Lower four dict (by group): {0: 8.0, 2: 11.0, 3: nan, 4: nan, 1: 30.0}\n",
      "Lower four output list: [8.0, 8.0, 8.0, 8.0, 11.0, 11.0, nan, nan, nan, nan, 30.0, 30.0, 30.0]\n",
      "\n",
      "Processing file: 63385_2024-07-25_A_units_table_withDLC.pkl\n",
      "Grouped channels: {1: [17, 2], 3: [53, 32, 32, 45], 0: [20, 19], 4: [49]}\n",
      "Middle channel per group: {1: 17.0, 3: 32.0, 0: 20.0, 4: 49.0}\n",
      "Output list (length 10): [17.0, 17.0, 32.0, 32.0, 32.0, 32.0, 20.0, 20.0, 49.0]\n",
      "Lower four dict (by group): {1: 21.0, 3: 40.0, 0: 0.0, 4: nan}\n",
      "Lower four output list: [21.0, 21.0, 40.0, 40.0, 40.0, 40.0, 0.0, 0.0, nan]\n",
      "\n",
      "Processing file: 63385_2024-07-25_B_units_table_withDLC.pkl\n",
      "Grouped channels: {3: [32, 32, 47, 53, 53, 58, 56], 4: [49], 0: [20, 19, 19], 1: [2], 2: [27]}\n",
      "Middle channel per group: {3: 32.0, 4: 49.0, 0: 20.0, 1: 2.0, 2: 27.0}\n",
      "Output list (length 10): [32.0, 32.0, 32.0, 32.0, 32.0, 32.0, 32.0, 49.0, 20.0, 20.0, 20.0, 2.0, 27.0]\n",
      "Lower four dict (by group): {3: 40.0, 4: nan, 0: 0.0, 1: 24.0, 2: 23.0}\n",
      "Lower four output list: [40.0, 40.0, 40.0, 40.0, 40.0, 40.0, 40.0, nan, 0.0, 0.0, 0.0, 24.0, 23.0]\n",
      "\n",
      "Processing file: 63385_2024-07-25_C_units_table_withDLC.pkl\n",
      "Grouped channels: {3: [53, 53, 32, 53, 56], 0: [20, 3, 19], 1: [2], 4: [49]}\n",
      "Middle channel per group: {3: 32.0, 0: 3.0, 1: 2.0, 4: 49.0}\n",
      "Output list (length 10): [32.0, 32.0, 32.0, 32.0, 32.0, 3.0, 3.0, 3.0, 2.0, 49.0]\n",
      "Lower four dict (by group): {3: 40.0, 0: 8.0, 1: 24.0, 4: nan}\n",
      "Lower four output list: [40.0, 40.0, 40.0, 40.0, 40.0, 8.0, 8.0, 8.0, 24.0, nan]\n",
      "\n",
      "Processing file: 63385_2024-07-28_A_units_table_withDLC.pkl\n",
      "Grouped channels: {3: [32, 40, 45, 48, 58]}\n",
      "Middle channel per group: {3: 45.0}\n",
      "Output list (length 10): [45.0, 45.0, 45.0, 45.0, 45.0]\n",
      "Lower four dict (by group): {3: 33.0}\n",
      "Lower four output list: [33.0, 33.0, 33.0, 33.0, 33.0]\n",
      "\n",
      "Processing file: 63385_2024-07-28_B_units_table_withDLC.pkl\n",
      "Grouped channels: {3: [36, 48, 56, 56], 2: [18, 27], 4: [44]}\n",
      "Middle channel per group: {3: 48.0, 2: 18.0, 4: 44.0}\n",
      "Output list (length 10): [48.0, 48.0, 48.0, 48.0, 18.0, 18.0, 44.0]\n",
      "Lower four dict (by group): {3: 32.0, 2: 28.0, 4: nan}\n",
      "Lower four output list: [32.0, 32.0, 32.0, 32.0, 28.0, 28.0, nan]\n",
      "\n",
      "Processing file: 63385_2024-07-28_C_units_table_withDLC.pkl\n",
      "Grouped channels: {3: [40, 58, 36, 48, 58], 0: [19], 4: [60]}\n",
      "Middle channel per group: {3: 58.0, 0: 19.0, 4: 60.0}\n",
      "Output list (length 10): [58.0, 58.0, 58.0, 58.0, 58.0, 19.0, 60.0]\n",
      "Lower four dict (by group): {3: 53.0, 0: 5.0, 4: nan}\n",
      "Lower four output list: [53.0, 53.0, 53.0, 53.0, 53.0, 5.0, nan]\n",
      "\n",
      "Processing file: 63385_2024-07-30_A_units_table_withDLC.pkl\n",
      "Grouped channels: {3: [47, 48, 48, 36]}\n",
      "Middle channel per group: {3: 48.0}\n",
      "Output list (length 10): [48.0, 48.0, 48.0, 48.0]\n",
      "Lower four dict (by group): {3: 32.0}\n",
      "Lower four output list: [32.0, 32.0, 32.0, 32.0]\n",
      "\n",
      "Processing file: 63385_2024-07-30_B_units_table_withDLC.pkl\n",
      "Grouped channels: {3: [36, 48, 48], 4: [57, 43]}\n",
      "Middle channel per group: {3: 48.0, 4: 57.0}\n",
      "Output list (length 10): [48.0, 48.0, 48.0, 57.0, 57.0]\n",
      "Lower four dict (by group): {3: 32.0, 4: 63.0}\n",
      "Lower four output list: [32.0, 32.0, 32.0, 63.0, 63.0]\n",
      "\n",
      "Processing file: 63385_2024-07-30_C_units_table_withDLC.pkl\n",
      "Grouped channels: {3: [48, 36]}\n",
      "Middle channel per group: {3: 48.0}\n",
      "Output list (length 10): [48.0, 48.0]\n",
      "Lower four dict (by group): {3: 32.0}\n",
      "Lower four output list: [32.0, 32.0]\n",
      "\n",
      "Processing file: 65091_2023-07-30_A_units_table_withDLC.pkl\n",
      "Grouped channels: {0: [0, 25], 1: [9, 22, 30], 2: [15, 28, 29], 3: [40, 40, 40]}\n",
      "Middle channel per group: {0: 25.0, 1: 22.0, 2: 15.0, 3: 40.0}\n",
      "Output list (length 10): [25.0, 25.0, 22.0, 22.0, 22.0, 15.0, 15.0, 15.0, 40.0, 40.0, 40.0]\n",
      "Lower four dict (by group): {0: nan, 1: nan, 2: 13.0, 3: nan}\n",
      "Lower four output list: [nan, nan, nan, nan, nan, 13.0, 13.0, 13.0, nan, nan, nan]\n",
      "\n",
      "Processing file: 65091_2023-08-01_A_units_table_withDLC.pkl\n",
      "Grouped channels: {1: [22, 30, 30], 2: [29, 29, 7], 0: [0, 14]}\n",
      "Middle channel per group: {1: 22.0, 2: 7.0, 0: 0.0}\n",
      "Output list (length 10): [22.0, 22.0, 22.0, 7.0, 7.0, 7.0, 0.0, 0.0]\n",
      "Lower four dict (by group): {1: nan, 2: nan, 0: nan}\n",
      "Lower four output list: [nan, nan, nan, nan, nan, nan, nan, nan]\n",
      "\n",
      "Processing file: 65091_2023-08-01_C_units_table_withDLC.pkl\n",
      "Grouped channels: {1: [10, 10, 22, 21], 3: [50], 0: [4], 2: [29, 29]}\n",
      "Middle channel per group: {1: 10.0, 3: 50.0, 0: 4.0, 2: 29.0}\n",
      "Output list (length 10): [10.0, 10.0, 10.0, 10.0, 50.0, 4.0, 29.0, 29.0]\n",
      "Lower four dict (by group): {1: 1.0, 3: nan, 0: nan, 2: nan}\n",
      "Lower four output list: [1.0, 1.0, 1.0, 1.0, nan, nan, nan, nan]\n",
      "\n",
      "Processing file: 65091_2023-08-04_A_units_table_withDLC.pkl\n",
      "Grouped channels: {0: [20, 20, 26], 1: [21, 6, 16, 6], 3: [32], 2: [12], 4: [49, 63]}\n",
      "Middle channel per group: {0: 20.0, 1: 6.0, 3: 32.0, 2: 12.0, 4: 63.0}\n",
      "Output list (length 10): [20.0, 20.0, 20.0, 6.0, 6.0, 6.0, 6.0, 32.0, 12.0, 63.0, 63.0]\n",
      "Lower four dict (by group): {0: 0.0, 1: 30.0, 3: 40.0, 2: 11.0, 4: nan}\n",
      "Lower four output list: [0.0, 0.0, 0.0, 30.0, 30.0, 30.0, 30.0, 40.0, 11.0, nan, nan]\n",
      "\n",
      "Processing file: 65091_2023-08-08_A_units_table_withDLC.pkl\n",
      "Grouped channels: {3: [36], 4: [44, 44, 44, 44, 49], 1: [6]}\n",
      "Middle channel per group: {3: 36.0, 4: 44.0, 1: 6.0}\n",
      "Output list (length 10): [36.0, 44.0, 44.0, 44.0, 44.0, 44.0, 6.0]\n",
      "Lower four dict (by group): {3: 45.0, 4: nan, 1: 30.0}\n",
      "Lower four output list: [45.0, nan, nan, nan, nan, nan, 30.0]\n",
      "\n",
      "Processing file: 65091_2023-08-08_B_units_table_withDLC.pkl\n",
      "Grouped channels: {1: [6], 3: [36, 48, 58], 4: [44, 49, 63, 44, 60]}\n",
      "Middle channel per group: {1: 6.0, 3: 48.0, 4: 44.0}\n",
      "Output list (length 10): [6.0, 48.0, 48.0, 48.0, 44.0, 44.0, 44.0, 44.0, 44.0]\n",
      "Lower four dict (by group): {1: 30.0, 3: 32.0, 4: nan}\n",
      "Lower four output list: [30.0, 32.0, 32.0, 32.0, nan, nan, nan, nan, nan]\n",
      "\n",
      "Processing file: 65091_2023-08-08_C_units_table_withDLC.pkl\n",
      "Grouped channels: {0: [3], 1: [6], 3: [36, 48, 36], 4: [60, 44, 44, 44, 49, 60, 60]}\n",
      "Middle channel per group: {0: 3.0, 1: 6.0, 3: 48.0, 4: 49.0}\n",
      "Output list (length 10): [3.0, 6.0, 48.0, 48.0, 48.0, 49.0, 49.0, 49.0, 49.0, 49.0, 49.0, 49.0]\n",
      "Lower four dict (by group): {0: 8.0, 1: 30.0, 3: 32.0, 4: nan}\n",
      "Lower four output list: [8.0, 30.0, 32.0, 32.0, 32.0, nan, nan, nan, nan, nan, nan, nan]\n",
      "No pyramidal cells found in 65165_2023-06-29_A_units_table_withDLC.pkl\n",
      "No pyramidal cells found in 65165_2023-06-30_A_units_table_withDLC.pkl\n",
      "\n",
      "Processing file: 65165_2023-07-01_A_units_table_withDLC.pkl\n",
      "Grouped channels: {1: [16], 2: [13, 13, 29, 29, 13], 3: [40, 40], 4: [41]}\n",
      "Middle channel per group: {1: 16.0, 2: 13.0, 3: 40.0, 4: 41.0}\n",
      "Output list (length 10): [16.0, 13.0, 13.0, 13.0, 13.0, 13.0, 40.0, 40.0, 41.0]\n",
      "Lower four dict (by group): {1: 10.0, 2: nan, 3: nan, 4: 37.0}\n",
      "Lower four output list: [10.0, nan, nan, nan, nan, nan, nan, nan, 37.0]\n",
      "\n",
      "Processing file: 65165_2023-07-03_A_units_table_withDLC.pkl\n",
      "Grouped channels: {1: [1, 1, 9, 9, 22, 9], 4: [44], 5: [55, 55], 2: [13, 28, 11, 11, 12], 3: [40, 32, 45, 53, 32, 32, 47, 32, 45], 0: [5]}\n",
      "Middle channel per group: {1: 9.0, 4: 44.0, 5: 55.0, 2: 11.0, 3: 53.0, 0: 5.0}\n",
      "Output list (length 10): [9.0, 9.0, 9.0, 9.0, 9.0, 9.0, 44.0, 55.0, 55.0, 11.0, 11.0, 11.0, 11.0, 11.0, 53.0, 53.0, 53.0, 53.0, 53.0, 53.0, 53.0, 53.0, 53.0, 5.0]\n",
      "Lower four dict (by group): {1: nan, 4: nan, 5: nan, 2: nan, 3: 50.0, 0: 4.0}\n",
      "Lower four output list: [nan, nan, nan, nan, nan, nan, nan, nan, nan, nan, nan, nan, nan, nan, 50.0, 50.0, 50.0, 50.0, 50.0, 50.0, 50.0, 50.0, 50.0, 4.0]\n",
      "\n",
      "Processing file: 65165_2023-07-04_A_units_table_withDLC.pkl\n",
      "Grouped channels: {4: [44, 44], 1: [1]}\n",
      "Middle channel per group: {4: 44.0, 1: 1.0}\n",
      "Output list (length 10): [44.0, 44.0, 1.0]\n",
      "Lower four dict (by group): {4: nan, 1: nan}\n",
      "Lower four output list: [nan, nan, nan]\n",
      "\n",
      "Processing file: 65165_2023-07-10_A_units_table_withDLC.pkl\n",
      "Grouped channels: {0: [14, 4, 5, 14], 5: [38, 39, 39, 59, 61]}\n",
      "Middle channel per group: {0: 14.0, 5: 39.0}\n",
      "Output list (length 10): [14.0, 14.0, 14.0, 14.0, 39.0, 39.0, 39.0, 39.0, 39.0]\n",
      "Lower four dict (by group): {0: nan, 5: 38.0}\n",
      "Lower four output list: [nan, nan, nan, nan, 38.0, 38.0, 38.0, 38.0, 38.0]\n"
     ]
    },
    {
     "name": "stderr",
     "output_type": "stream",
     "text": [
      "C:\\Users\\sachur\\AppData\\Roaming\\Python\\Python311\\site-packages\\pynwb\\ecephys.py:90: UserWarning: ElectricalSeries 'lfp_car': The second dimension of data does not match the length of electrodes. Your data may be transposed.\n",
      "  warnings.warn(\"%s '%s': The second dimension of data does not match the length of electrodes. \"\n"
     ]
    },
    {
     "name": "stdout",
     "output_type": "stream",
     "text": [
      "\n",
      "Processing file: 65165_2023-07-10_B_units_table_withDLC.pkl\n",
      "Grouped channels: {0: [5, 14, 5, 20, 26], 2: [27, 31], 4: [34, 37], 5: [38]}\n",
      "Middle channel per group: {0: 5.0, 2: 31.0, 4: 37.0, 5: 38.0}\n",
      "Output list (length 10): [5.0, 5.0, 5.0, 5.0, 5.0, 31.0, 31.0, 37.0, 37.0, 38.0]\n",
      "Lower four dict (by group): {0: 4.0, 2: 15.0, 4: 44.0, 5: nan}\n",
      "Lower four output list: [4.0, 4.0, 4.0, 4.0, 4.0, 15.0, 15.0, 44.0, 44.0, nan]\n"
     ]
    },
    {
     "name": "stderr",
     "output_type": "stream",
     "text": [
      "C:\\Users\\sachur\\AppData\\Roaming\\Python\\Python311\\site-packages\\pynwb\\ecephys.py:90: UserWarning: ElectricalSeries 'lfp_car': The second dimension of data does not match the length of electrodes. Your data may be transposed.\n",
      "  warnings.warn(\"%s '%s': The second dimension of data does not match the length of electrodes. \"\n"
     ]
    },
    {
     "name": "stdout",
     "output_type": "stream",
     "text": [
      "\n",
      "Processing file: 65165_2023-07-10_C_units_table_withDLC.pkl\n",
      "Grouped channels: {5: [38, 35, 59], 0: [5, 5, 8, 5, 5, 8, 20, 26]}\n",
      "Middle channel per group: {5: 35.0, 0: 5.0}\n",
      "Output list (length 10): [35.0, 35.0, 35.0, 5.0, 5.0, 5.0, 5.0, 5.0, 5.0, 5.0, 5.0]\n",
      "Lower four dict (by group): {5: 55.0, 0: 4.0}\n",
      "Lower four output list: [55.0, 55.0, 55.0, 4.0, 4.0, 4.0, 4.0, 4.0, 4.0, 4.0, 4.0]\n"
     ]
    },
    {
     "name": "stderr",
     "output_type": "stream",
     "text": [
      "C:\\Users\\sachur\\AppData\\Roaming\\Python\\Python311\\site-packages\\pynwb\\ecephys.py:90: UserWarning: ElectricalSeries 'lfp_car': The second dimension of data does not match the length of electrodes. Your data may be transposed.\n",
      "  warnings.warn(\"%s '%s': The second dimension of data does not match the length of electrodes. \"\n"
     ]
    },
    {
     "name": "stdout",
     "output_type": "stream",
     "text": [
      "\n",
      "Processing file: 65165_2023-07-19_A_units_table_withDLC.pkl\n",
      "Grouped channels: {1: [24], 0: [26]}\n",
      "Middle channel per group: {1: 24.0, 0: 26.0}\n",
      "Output list (length 10): [24.0, 26.0]\n",
      "Lower four dict (by group): {1: 22.0, 0: 14.0}\n",
      "Lower four output list: [22.0, 14.0]\n",
      "No pyramidal cells found in 65165_2023-07-20_A_units_table_withDLC.pkl\n",
      "\n",
      "Processing file: 65165_2023-07-25_A_units_table_withDLC.pkl\n",
      "Grouped channels: {1: [16], 0: [14]}\n",
      "Middle channel per group: {1: 16.0, 0: 14.0}\n",
      "Output list (length 10): [16.0, 14.0]\n",
      "Lower four dict (by group): {1: 10.0, 0: nan}\n",
      "Lower four output list: [10.0, nan]\n"
     ]
    },
    {
     "name": "stderr",
     "output_type": "stream",
     "text": [
      "C:\\Users\\sachur\\AppData\\Roaming\\Python\\Python311\\site-packages\\pynwb\\ecephys.py:90: UserWarning: ElectricalSeries 'lfp_car': The second dimension of data does not match the length of electrodes. Your data may be transposed.\n",
      "  warnings.warn(\"%s '%s': The second dimension of data does not match the length of electrodes. \"\n"
     ]
    },
    {
     "name": "stdout",
     "output_type": "stream",
     "text": [
      "\n",
      "Processing file: 65165_2023-07-26_A_units_table_withDLC.pkl\n",
      "Grouped channels: {0: [26]}\n",
      "Middle channel per group: {0: 26.0}\n",
      "Output list (length 10): [26.0]\n",
      "Lower four dict (by group): {0: 14.0}\n",
      "Lower four output list: [14.0]\n",
      "\n",
      "Processing file: 65165_2023-07-29_A_units_table_withDLC.pkl\n",
      "Grouped channels: {3: [58], 0: [26, 4, 14]}\n",
      "Middle channel per group: {3: 58.0, 0: 14.0}\n",
      "Output list (length 10): [58.0, 14.0, 14.0, 14.0]\n",
      "Lower four dict (by group): {3: 53.0, 0: nan}\n",
      "Lower four output list: [53.0, nan, nan, nan]\n",
      "\n",
      "Processing file: 65588_2024-03-04_A_units_table_withDLC.pkl\n",
      "Grouped channels: {0: [19], 1: [21, 22, 6, 17, 21, 22, 24, 24, 6], 2: [12, 31, 12], 3: [32, 45, 47, 53, 45, 40], 4: [44, 49, 63]}\n",
      "Middle channel per group: {0: 19.0, 1: 24.0, 2: 12.0, 3: 53.0, 4: 44.0}\n",
      "Output list (length 10): [19.0, 24.0, 24.0, 24.0, 24.0, 24.0, 24.0, 24.0, 24.0, 24.0, 12.0, 12.0, 12.0, 53.0, 53.0, 53.0, 53.0, 53.0, 53.0, 44.0, 44.0, 44.0]\n",
      "Lower four dict (by group): {0: 5.0, 1: 22.0, 2: 11.0, 3: 50.0, 4: nan}\n",
      "Lower four output list: [5.0, 22.0, 22.0, 22.0, 22.0, 22.0, 22.0, 22.0, 22.0, 22.0, 11.0, 11.0, 11.0, 50.0, 50.0, 50.0, 50.0, 50.0, 50.0, nan, nan, nan]\n",
      "\n",
      "Processing file: 65588_2024-03-04_B_units_table_withDLC.pkl\n",
      "Grouped channels: {0: [19, 19], 1: [21, 21, 24, 17, 21], 4: [44, 44, 44, 63], 2: [12, 12, 23, 31], 3: [32, 45, 45, 47]}\n",
      "Middle channel per group: {0: 19.0, 1: 24.0, 4: 63.0, 2: 12.0, 3: 32.0}\n",
      "Output list (length 10): [19.0, 19.0, 24.0, 24.0, 24.0, 24.0, 24.0, 63.0, 63.0, 63.0, 63.0, 12.0, 12.0, 12.0, 12.0, 32.0, 32.0, 32.0, 32.0]\n",
      "Lower four dict (by group): {0: 5.0, 1: 22.0, 4: nan, 2: 11.0, 3: 40.0}\n",
      "Lower four output list: [5.0, 5.0, 22.0, 22.0, 22.0, 22.0, 22.0, nan, nan, nan, nan, 11.0, 11.0, 11.0, 11.0, 40.0, 40.0, 40.0, 40.0]\n",
      "\n",
      "Processing file: 65588_2024-03-04_C_units_table_withDLC.pkl\n",
      "Grouped channels: {1: [17, 24, 6, 21, 2, 10, 17, 21, 6], 2: [12, 12, 31, 12, 23, 11, 31], 4: [44, 44, 49, 63], 0: [19, 3, 19, 19], 3: [40, 45, 47, 47, 53]}\n",
      "Middle channel per group: {1: 24.0, 2: 23.0, 4: 44.0, 0: 3.0, 3: 47.0}\n",
      "Output list (length 10): [24.0, 24.0, 24.0, 24.0, 24.0, 24.0, 24.0, 24.0, 24.0, 23.0, 23.0, 23.0, 23.0, 23.0, 23.0, 23.0, 44.0, 44.0, 44.0, 44.0, 3.0, 3.0, 3.0, 3.0, 47.0, 47.0, 47.0, 47.0, 47.0]\n",
      "Lower four dict (by group): {1: 22.0, 2: 29.0, 4: nan, 0: 8.0, 3: nan}\n",
      "Lower four output list: [22.0, 22.0, 22.0, 22.0, 22.0, 22.0, 22.0, 22.0, 22.0, 29.0, 29.0, 29.0, 29.0, 29.0, 29.0, 29.0, nan, nan, nan, nan, 8.0, 8.0, 8.0, 8.0, nan, nan, nan, nan, nan]\n"
     ]
    },
    {
     "name": "stderr",
     "output_type": "stream",
     "text": [
      "C:\\Users\\sachur\\AppData\\Roaming\\Python\\Python311\\site-packages\\pynwb\\ecephys.py:90: UserWarning: ElectricalSeries 'lfp_car': The second dimension of data does not match the length of electrodes. Your data may be transposed.\n",
      "  warnings.warn(\"%s '%s': The second dimension of data does not match the length of electrodes. \"\n"
     ]
    },
    {
     "name": "stdout",
     "output_type": "stream",
     "text": [
      "\n",
      "Processing file: 65588_2024-03-06_A_units_table_withDLC.pkl\n",
      "Grouped channels: {1: [21, 21, 2, 2, 6], 3: [45, 56, 45, 45, 45, 47], 4: [60, 49, 49, 49], 2: [7, 11, 31, 31, 31]}\n",
      "Middle channel per group: {1: 6.0, 3: 45.0, 4: 49.0, 2: 11.0}\n",
      "Output list (length 10): [6.0, 6.0, 6.0, 6.0, 6.0, 45.0, 45.0, 45.0, 45.0, 45.0, 45.0, 49.0, 49.0, 49.0, 49.0, 11.0, 11.0, 11.0, 11.0, 11.0]\n",
      "Lower four dict (by group): {1: 30.0, 3: 33.0, 4: nan, 2: nan}\n",
      "Lower four output list: [30.0, 30.0, 30.0, 30.0, 30.0, 33.0, 33.0, 33.0, 33.0, 33.0, 33.0, nan, nan, nan, nan, nan, nan, nan, nan, nan]\n",
      "\n",
      "Processing file: 65588_2024-03-06_B_units_table_withDLC.pkl\n",
      "Grouped channels: {1: [2, 24, 2, 6, 6, 17], 2: [31, 11, 13], 3: [45, 45, 47, 56, 45, 45, 45], 4: [49, 57, 44, 49, 49], 0: [19, 26, 5]}\n",
      "Middle channel per group: {1: 6.0, 2: 11.0, 3: 45.0, 4: 49.0, 0: 26.0}\n",
      "Output list (length 10): [6.0, 6.0, 6.0, 6.0, 6.0, 6.0, 11.0, 11.0, 11.0, 45.0, 45.0, 45.0, 45.0, 45.0, 45.0, 45.0, 49.0, 49.0, 49.0, 49.0, 49.0, 26.0, 26.0, 26.0]\n",
      "Lower four dict (by group): {1: 30.0, 2: nan, 3: 33.0, 4: nan, 0: 14.0}\n",
      "Lower four output list: [30.0, 30.0, 30.0, 30.0, 30.0, 30.0, nan, nan, nan, 33.0, 33.0, 33.0, 33.0, 33.0, 33.0, 33.0, nan, nan, nan, nan, nan, 14.0, 14.0, 14.0]\n",
      "\n",
      "Processing file: 65588_2024-03-06_C_units_table_withDLC.pkl\n",
      "Grouped channels: {0: [19, 5], 2: [11, 31, 31], 3: [32, 45, 56, 33, 40, 45, 45], 4: [44, 49, 49, 49, 60], 1: [2, 24, 21, 6, 17]}\n",
      "Middle channel per group: {0: 5.0, 2: 11.0, 3: 32.0, 4: 49.0, 1: 6.0}\n",
      "Output list (length 10): [5.0, 5.0, 11.0, 11.0, 11.0, 32.0, 32.0, 32.0, 32.0, 32.0, 32.0, 32.0, 49.0, 49.0, 49.0, 49.0, 49.0, 6.0, 6.0, 6.0, 6.0, 6.0]\n",
      "Lower four dict (by group): {0: 4.0, 2: nan, 3: 40.0, 4: nan, 1: 30.0}\n",
      "Lower four output list: [4.0, 4.0, nan, nan, nan, 40.0, 40.0, 40.0, 40.0, 40.0, 40.0, 40.0, nan, nan, nan, nan, nan, 30.0, 30.0, 30.0, 30.0, 30.0]\n",
      "\n",
      "Processing file: 65588_2024-03-08_A_units_table_withDLC.pkl\n",
      "Grouped channels: {1: [6, 21, 2, 2, 6, 6], 2: [11], 3: [45, 32, 45, 45, 47, 58], 4: [60, 57, 49, 63]}\n",
      "Middle channel per group: {1: 6.0, 2: 11.0, 3: 32.0, 4: 49.0}\n",
      "Output list (length 10): [6.0, 6.0, 6.0, 6.0, 6.0, 6.0, 11.0, 32.0, 32.0, 32.0, 32.0, 32.0, 32.0, 49.0, 49.0, 49.0, 49.0]\n",
      "Lower four dict (by group): {1: 30.0, 2: nan, 3: 40.0, 4: nan}\n",
      "Lower four output list: [30.0, 30.0, 30.0, 30.0, 30.0, 30.0, nan, 40.0, 40.0, 40.0, 40.0, 40.0, 40.0, nan, nan, nan, nan]\n",
      "\n",
      "Processing file: 65588_2024-03-08_B_units_table_withDLC.pkl\n",
      "Grouped channels: {2: [18, 18, 27, 31], 4: [49, 57], 1: [2, 21, 17], 3: [32, 53, 32, 58, 45]}\n",
      "Middle channel per group: {2: 18.0, 4: 49.0, 1: 17.0, 3: 32.0}\n",
      "Output list (length 10): [18.0, 18.0, 18.0, 18.0, 49.0, 49.0, 17.0, 17.0, 17.0, 32.0, 32.0, 32.0, 32.0, 32.0]\n",
      "Lower four dict (by group): {2: 28.0, 4: nan, 1: 21.0, 3: 40.0}\n",
      "Lower four output list: [28.0, 28.0, 28.0, 28.0, nan, nan, 21.0, 21.0, 21.0, 40.0, 40.0, 40.0, 40.0, 40.0]\n",
      "\n",
      "Processing file: 65588_2024-03-08_C_units_table_withDLC.pkl\n",
      "Grouped channels: {2: [27], 3: [45, 53, 32, 58, 58], 4: [60, 49, 57, 60], 1: [24, 17, 21]}\n",
      "Middle channel per group: {2: 27.0, 3: 32.0, 4: 60.0, 1: 24.0}\n",
      "Output list (length 10): [27.0, 32.0, 32.0, 32.0, 32.0, 32.0, 60.0, 60.0, 60.0, 60.0, 24.0, 24.0, 24.0]\n",
      "Lower four dict (by group): {2: 23.0, 3: 40.0, 4: nan, 1: 22.0}\n",
      "Lower four output list: [23.0, 40.0, 40.0, 40.0, 40.0, 40.0, nan, nan, nan, nan, 22.0, 22.0, 22.0]\n",
      "\n",
      "Processing file: 65588_2024-03-10_A_units_table_withDLC.pkl\n",
      "Grouped channels: {1: [17, 17, 6], 4: [37, 57], 5: [42], 3: [56, 56]}\n",
      "Middle channel per group: {1: 6.0, 4: 57.0, 5: 42.0, 3: 56.0}\n",
      "Output list (length 10): [6.0, 6.0, 6.0, 57.0, 57.0, 42.0, 56.0, 56.0]\n",
      "Lower four dict (by group): {1: 30.0, 4: 63.0, 5: nan, 3: 47.0}\n",
      "Lower four output list: [30.0, 30.0, 30.0, 63.0, 63.0, nan, 47.0, 47.0]\n"
     ]
    },
    {
     "name": "stderr",
     "output_type": "stream",
     "text": [
      "C:\\Users\\sachur\\AppData\\Roaming\\Python\\Python311\\site-packages\\pynwb\\ecephys.py:90: UserWarning: ElectricalSeries 'lfp_car': The second dimension of data does not match the length of electrodes. Your data may be transposed.\n",
      "  warnings.warn(\"%s '%s': The second dimension of data does not match the length of electrodes. \"\n"
     ]
    },
    {
     "name": "stdout",
     "output_type": "stream",
     "text": [
      "\n",
      "Processing file: 65588_2024-03-10_B_units_table_withDLC.pkl\n",
      "Grouped channels: {3: [48, 56], 4: [43, 37, 57], 1: [6, 2, 21, 17], 2: [27]}\n",
      "Middle channel per group: {3: 56.0, 4: 37.0, 1: 6.0, 2: 27.0}\n",
      "Output list (length 10): [56.0, 56.0, 37.0, 37.0, 37.0, 6.0, 6.0, 6.0, 6.0, 27.0]\n",
      "Lower four dict (by group): {3: 47.0, 4: 44.0, 1: 30.0, 2: 23.0}\n",
      "Lower four output list: [47.0, 47.0, 44.0, 44.0, 44.0, 30.0, 30.0, 30.0, 30.0, 23.0]\n",
      "\n",
      "Processing file: 65588_2024-03-10_C_units_table_withDLC.pkl\n",
      "Grouped channels: {3: [58, 36, 47, 45, 56, 56], 1: [17, 17], 4: [37, 37, 43, 57], 5: [38]}\n",
      "Middle channel per group: {3: 56.0, 1: 17.0, 4: 37.0, 5: 38.0}\n",
      "Output list (length 10): [56.0, 56.0, 56.0, 56.0, 56.0, 56.0, 17.0, 17.0, 37.0, 37.0, 37.0, 37.0, 38.0]\n",
      "Lower four dict (by group): {3: 47.0, 1: 21.0, 4: 44.0, 5: nan}\n",
      "Lower four output list: [47.0, 47.0, 47.0, 47.0, 47.0, 47.0, 21.0, 21.0, 44.0, 44.0, 44.0, 44.0, nan]\n",
      "\n",
      "Processing file: 65588_2024-03-12_A_units_table_withDLC.pkl\n",
      "Grouped channels: {3: [32, 48, 50], 4: [43, 54, 54]}\n",
      "Middle channel per group: {3: 32.0, 4: 43.0}\n",
      "Output list (length 10): [32.0, 32.0, 32.0, 43.0, 43.0, 43.0]\n",
      "Lower four dict (by group): {3: 40.0, 4: 49.0}\n",
      "Lower four output list: [40.0, 40.0, 40.0, 49.0, 49.0, 49.0]\n"
     ]
    },
    {
     "name": "stderr",
     "output_type": "stream",
     "text": [
      "C:\\Users\\sachur\\AppData\\Roaming\\Python\\Python311\\site-packages\\pynwb\\ecephys.py:90: UserWarning: ElectricalSeries 'lfp_car': The second dimension of data does not match the length of electrodes. Your data may be transposed.\n",
      "  warnings.warn(\"%s '%s': The second dimension of data does not match the length of electrodes. \"\n"
     ]
    },
    {
     "name": "stdout",
     "output_type": "stream",
     "text": [
      "\n",
      "Processing file: 65588_2024-03-12_B_units_table_withDLC.pkl\n",
      "Grouped channels: {3: [48, 36, 36, 32, 48, 48], 4: [43, 54, 54, 54], 5: [38]}\n",
      "Middle channel per group: {3: 48.0, 4: 43.0, 5: 38.0}\n",
      "Output list (length 10): [48.0, 48.0, 48.0, 48.0, 48.0, 48.0, 43.0, 43.0, 43.0, 43.0, 38.0]\n",
      "Lower four dict (by group): {3: 32.0, 4: 49.0, 5: nan}\n",
      "Lower four output list: [32.0, 32.0, 32.0, 32.0, 32.0, 32.0, 49.0, 49.0, 49.0, 49.0, nan]\n"
     ]
    },
    {
     "name": "stderr",
     "output_type": "stream",
     "text": [
      "C:\\Users\\sachur\\AppData\\Roaming\\Python\\Python311\\site-packages\\pynwb\\ecephys.py:90: UserWarning: ElectricalSeries 'lfp_car': The second dimension of data does not match the length of electrodes. Your data may be transposed.\n",
      "  warnings.warn(\"%s '%s': The second dimension of data does not match the length of electrodes. \"\n"
     ]
    },
    {
     "name": "stdout",
     "output_type": "stream",
     "text": [
      "\n",
      "Processing file: 65588_2024-03-12_C_units_table_withDLC.pkl\n",
      "Grouped channels: {0: [19], 3: [56, 32], 4: [54, 43, 54, 54, 54], 5: [38], 1: [2]}\n",
      "Middle channel per group: {0: 19.0, 3: 32.0, 4: 43.0, 5: 38.0, 1: 2.0}\n",
      "Output list (length 10): [19.0, 32.0, 32.0, 43.0, 43.0, 43.0, 43.0, 43.0, 38.0, 2.0]\n",
      "Lower four dict (by group): {0: 5.0, 3: 40.0, 4: 49.0, 5: nan, 1: 24.0}\n",
      "Lower four output list: [5.0, 40.0, 40.0, 49.0, 49.0, 49.0, 49.0, 49.0, nan, 24.0]\n"
     ]
    },
    {
     "name": "stderr",
     "output_type": "stream",
     "text": [
      "C:\\Users\\sachur\\AppData\\Roaming\\Python\\Python311\\site-packages\\pynwb\\ecephys.py:90: UserWarning: ElectricalSeries 'lfp_car': The second dimension of data does not match the length of electrodes. Your data may be transposed.\n",
      "  warnings.warn(\"%s '%s': The second dimension of data does not match the length of electrodes. \"\n"
     ]
    },
    {
     "name": "stdout",
     "output_type": "stream",
     "text": [
      "\n",
      "Processing file: 65588_2024-03-14_A_units_table_withDLC.pkl\n",
      "Grouped channels: {3: [48, 32, 50], 4: [43], 5: [62]}\n",
      "Middle channel per group: {3: 32.0, 4: 43.0, 5: 62.0}\n",
      "Output list (length 10): [32.0, 32.0, 32.0, 43.0, 62.0]\n",
      "Lower four dict (by group): {3: 40.0, 4: 49.0, 5: nan}\n",
      "Lower four output list: [40.0, 40.0, 40.0, 49.0, nan]\n",
      "\n",
      "Processing file: 65588_2024-03-14_B_units_table_withDLC.pkl\n",
      "Grouped channels: {3: [48, 36, 36, 48, 48, 32, 45, 50, 53], 4: [54, 43, 43, 43, 37, 54], 0: [19], 1: [17], 5: [62, 62]}\n",
      "Middle channel per group: {3: 32.0, 4: 43.0, 0: 19.0, 1: 17.0, 5: 62.0}\n",
      "Output list (length 10): [32.0, 32.0, 32.0, 32.0, 32.0, 32.0, 32.0, 32.0, 32.0, 43.0, 43.0, 43.0, 43.0, 43.0, 43.0, 19.0, 17.0, 62.0, 62.0]\n",
      "Lower four dict (by group): {3: 40.0, 4: 49.0, 0: 5.0, 1: 21.0, 5: nan}\n",
      "Lower four output list: [40.0, 40.0, 40.0, 40.0, 40.0, 40.0, 40.0, 40.0, 40.0, 49.0, 49.0, 49.0, 49.0, 49.0, 49.0, 5.0, 21.0, nan, nan]\n",
      "\n",
      "Processing file: 65588_2024-03-14_C_units_table_withDLC.pkl\n",
      "Grouped channels: {1: [17, 16], 4: [34, 43, 37], 5: [42, 62], 3: [36, 36, 32, 48, 48, 48, 50]}\n",
      "Middle channel per group: {1: 16.0, 4: 43.0, 5: 42.0, 3: 32.0}\n",
      "Output list (length 10): [16.0, 16.0, 43.0, 43.0, 43.0, 42.0, 42.0, 32.0, 32.0, 32.0, 32.0, 32.0, 32.0, 32.0]\n",
      "Lower four dict (by group): {1: 10.0, 4: 49.0, 5: nan, 3: 40.0}\n",
      "Lower four output list: [10.0, 10.0, 49.0, 49.0, 49.0, nan, nan, 40.0, 40.0, 40.0, 40.0, 40.0, 40.0, 40.0]\n",
      "\n",
      "Processing file: 65622_2024-04-30_A_units_table_withDLC.pkl\n",
      "Grouped channels: {2: [15, 15, 15, 11], 3: [32, 40, 45], 4: [60], 5: [38, 38, 55]}\n",
      "Middle channel per group: {2: 11.0, 3: 32.0, 4: 60.0, 5: 55.0}\n",
      "Output list (length 10): [11.0, 11.0, 11.0, 11.0, 32.0, 32.0, 32.0, 60.0, 55.0, 55.0, 55.0]\n",
      "Lower four dict (by group): {2: nan, 3: 40.0, 4: nan, 5: nan}\n",
      "Lower four output list: [nan, nan, nan, nan, 40.0, 40.0, 40.0, nan, nan, nan, nan]\n"
     ]
    },
    {
     "name": "stderr",
     "output_type": "stream",
     "text": [
      "C:\\Users\\sachur\\AppData\\Roaming\\Python\\Python311\\site-packages\\pynwb\\ecephys.py:90: UserWarning: ElectricalSeries 'lfp_car': The second dimension of data does not match the length of electrodes. Your data may be transposed.\n",
      "  warnings.warn(\"%s '%s': The second dimension of data does not match the length of electrodes. \"\n"
     ]
    },
    {
     "name": "stdout",
     "output_type": "stream",
     "text": [
      "\n",
      "Processing file: 66537_2024-11-22_A_units_table_withDLC.pkl\n",
      "Grouped channels: {1: [30, 9]}\n",
      "Middle channel per group: {1: 9.0}\n",
      "Output list (length 10): [9.0, 9.0]\n",
      "Lower four dict (by group): {1: nan}\n",
      "Lower four output list: [nan, nan]\n",
      "\n",
      "Processing file: 66537_2024-11-22_B_units_table_withDLC.pkl\n",
      "Grouped channels: {0: [20]}\n",
      "Middle channel per group: {0: 20.0}\n",
      "Output list (length 10): [20.0]\n",
      "Lower four dict (by group): {0: 0.0}\n",
      "Lower four output list: [0.0]\n",
      "\n",
      "Processing file: 66537_2024-11-22_C_units_table_withDLC.pkl\n",
      "Grouped channels: {1: [21], 2: [29]}\n",
      "Middle channel per group: {1: 21.0, 2: 29.0}\n",
      "Output list (length 10): [21.0, 29.0]\n",
      "Lower four dict (by group): {1: 9.0, 2: nan}\n",
      "Lower four output list: [9.0, nan]\n",
      "\n",
      "Processing file: 66537_2024-11-26_A_units_table_withDLC.pkl\n",
      "Grouped channels: {2: [11]}\n",
      "Middle channel per group: {2: 11.0}\n",
      "Output list (length 10): [11.0]\n",
      "Lower four dict (by group): {2: nan}\n",
      "Lower four output list: [nan]\n",
      "\n",
      "Processing file: 66537_2024-11-26_B_units_table_withDLC.pkl\n",
      "Grouped channels: {2: [11, 15]}\n",
      "Middle channel per group: {2: 11.0}\n",
      "Output list (length 10): [11.0, 11.0]\n",
      "Lower four dict (by group): {2: nan}\n",
      "Lower four output list: [nan, nan]\n"
     ]
    },
    {
     "name": "stderr",
     "output_type": "stream",
     "text": [
      "C:\\Users\\sachur\\AppData\\Roaming\\Python\\Python311\\site-packages\\pynwb\\ecephys.py:90: UserWarning: ElectricalSeries 'lfp_car': The second dimension of data does not match the length of electrodes. Your data may be transposed.\n",
      "  warnings.warn(\"%s '%s': The second dimension of data does not match the length of electrodes. \"\n"
     ]
    },
    {
     "name": "stdout",
     "output_type": "stream",
     "text": [
      "\n",
      "Processing file: 66537_2024-11-26_C_units_table_withDLC.pkl\n",
      "Grouped channels: {2: [11]}\n",
      "Middle channel per group: {2: 11.0}\n",
      "Output list (length 10): [11.0]\n",
      "Lower four dict (by group): {2: nan}\n",
      "Lower four output list: [nan]\n"
     ]
    },
    {
     "name": "stderr",
     "output_type": "stream",
     "text": [
      "C:\\Users\\sachur\\AppData\\Roaming\\Python\\Python311\\site-packages\\pynwb\\ecephys.py:90: UserWarning: ElectricalSeries 'lfp_car': The second dimension of data does not match the length of electrodes. Your data may be transposed.\n",
      "  warnings.warn(\"%s '%s': The second dimension of data does not match the length of electrodes. \"\n"
     ]
    },
    {
     "name": "stdout",
     "output_type": "stream",
     "text": [
      "\n",
      "Processing file: 66537_2024-11-29_A_units_table_withDLC.pkl\n",
      "Grouped channels: {2: [15], 3: [53, 45, 47, 53, 53]}\n",
      "Middle channel per group: {2: 15.0, 3: 53.0}\n",
      "Output list (length 10): [15.0, 53.0, 53.0, 53.0, 53.0, 53.0]\n",
      "Lower four dict (by group): {2: 13.0, 3: 50.0}\n",
      "Lower four output list: [13.0, 50.0, 50.0, 50.0, 50.0, 50.0]\n"
     ]
    },
    {
     "name": "stderr",
     "output_type": "stream",
     "text": [
      "C:\\Users\\sachur\\AppData\\Roaming\\Python\\Python311\\site-packages\\pynwb\\ecephys.py:90: UserWarning: ElectricalSeries 'lfp_car': The second dimension of data does not match the length of electrodes. Your data may be transposed.\n",
      "  warnings.warn(\"%s '%s': The second dimension of data does not match the length of electrodes. \"\n"
     ]
    },
    {
     "name": "stdout",
     "output_type": "stream",
     "text": [
      "No pyramidal cells found in 66537_2024-11-29_B_units_table_withDLC.pkl\n",
      "\n",
      "Processing file: 66537_2024-11-29_C_units_table_withDLC.pkl\n",
      "Grouped channels: {3: [47]}\n",
      "Middle channel per group: {3: 47.0}\n",
      "Output list (length 10): [47.0]\n",
      "Lower four dict (by group): {3: nan}\n",
      "Lower four output list: [nan]\n"
     ]
    },
    {
     "name": "stderr",
     "output_type": "stream",
     "text": [
      "C:\\Users\\sachur\\AppData\\Roaming\\Python\\Python311\\site-packages\\pynwb\\ecephys.py:90: UserWarning: ElectricalSeries 'lfp_car': The second dimension of data does not match the length of electrodes. Your data may be transposed.\n",
      "  warnings.warn(\"%s '%s': The second dimension of data does not match the length of electrodes. \"\n"
     ]
    },
    {
     "name": "stdout",
     "output_type": "stream",
     "text": [
      "\n",
      "Processing file: 66537_2024-12-02_A_units_table_withDLC.pkl\n",
      "Grouped channels: {3: [47]}\n",
      "Middle channel per group: {3: 47.0}\n",
      "Output list (length 10): [47.0]\n",
      "Lower four dict (by group): {3: nan}\n",
      "Lower four output list: [nan]\n"
     ]
    },
    {
     "name": "stderr",
     "output_type": "stream",
     "text": [
      "C:\\Users\\sachur\\AppData\\Roaming\\Python\\Python311\\site-packages\\pynwb\\ecephys.py:90: UserWarning: ElectricalSeries 'lfp_car': The second dimension of data does not match the length of electrodes. Your data may be transposed.\n",
      "  warnings.warn(\"%s '%s': The second dimension of data does not match the length of electrodes. \"\n"
     ]
    },
    {
     "name": "stdout",
     "output_type": "stream",
     "text": [
      "\n",
      "Processing file: 66537_2024-12-02_B_units_table_withDLC.pkl\n",
      "Grouped channels: {3: [33, 47]}\n",
      "Middle channel per group: {3: 33.0}\n",
      "Output list (length 10): [33.0, 33.0]\n",
      "Lower four dict (by group): {3: nan}\n",
      "Lower four output list: [nan, nan]\n"
     ]
    },
    {
     "name": "stderr",
     "output_type": "stream",
     "text": [
      "C:\\Users\\sachur\\AppData\\Roaming\\Python\\Python311\\site-packages\\pynwb\\ecephys.py:90: UserWarning: ElectricalSeries 'lfp_car': The second dimension of data does not match the length of electrodes. Your data may be transposed.\n",
      "  warnings.warn(\"%s '%s': The second dimension of data does not match the length of electrodes. \"\n"
     ]
    },
    {
     "name": "stdout",
     "output_type": "stream",
     "text": [
      "\n",
      "Processing file: 66537_2024-12-02_C_units_table_withDLC.pkl\n",
      "Grouped channels: {3: [47, 53]}\n",
      "Middle channel per group: {3: 47.0}\n",
      "Output list (length 10): [47.0, 47.0]\n",
      "Lower four dict (by group): {3: nan}\n",
      "Lower four output list: [nan, nan]\n"
     ]
    },
    {
     "name": "stderr",
     "output_type": "stream",
     "text": [
      "C:\\Users\\sachur\\AppData\\Roaming\\Python\\Python311\\site-packages\\pynwb\\ecephys.py:90: UserWarning: ElectricalSeries 'lfp_car': The second dimension of data does not match the length of electrodes. Your data may be transposed.\n",
      "  warnings.warn(\"%s '%s': The second dimension of data does not match the length of electrodes. \"\n"
     ]
    },
    {
     "name": "stdout",
     "output_type": "stream",
     "text": [
      "\n",
      "Processing file: 66537_2024-12-04_A_units_table_withDLC.pkl\n",
      "Grouped channels: {3: [33, 33]}\n",
      "Middle channel per group: {3: 33.0}\n",
      "Output list (length 10): [33.0, 33.0]\n",
      "Lower four dict (by group): {3: nan}\n",
      "Lower four output list: [nan, nan]\n"
     ]
    },
    {
     "name": "stderr",
     "output_type": "stream",
     "text": [
      "C:\\Users\\sachur\\AppData\\Roaming\\Python\\Python311\\site-packages\\pynwb\\ecephys.py:90: UserWarning: ElectricalSeries 'lfp_car': The second dimension of data does not match the length of electrodes. Your data may be transposed.\n",
      "  warnings.warn(\"%s '%s': The second dimension of data does not match the length of electrodes. \"\n"
     ]
    },
    {
     "name": "stdout",
     "output_type": "stream",
     "text": [
      "\n",
      "Processing file: 66537_2024-12-04_B_units_table_withDLC.pkl\n",
      "Grouped channels: {2: [18], 3: [33, 36]}\n",
      "Middle channel per group: {2: 18.0, 3: 33.0}\n",
      "Output list (length 10): [18.0, 33.0, 33.0]\n",
      "Lower four dict (by group): {2: 28.0, 3: nan}\n",
      "Lower four output list: [28.0, nan, nan]\n"
     ]
    },
    {
     "name": "stderr",
     "output_type": "stream",
     "text": [
      "C:\\Users\\sachur\\AppData\\Roaming\\Python\\Python311\\site-packages\\pynwb\\ecephys.py:90: UserWarning: ElectricalSeries 'lfp_car': The second dimension of data does not match the length of electrodes. Your data may be transposed.\n",
      "  warnings.warn(\"%s '%s': The second dimension of data does not match the length of electrodes. \"\n"
     ]
    },
    {
     "name": "stdout",
     "output_type": "stream",
     "text": [
      "\n",
      "Processing file: 66537_2024-12-04_C_units_table_withDLC.pkl\n",
      "Grouped channels: {3: [33, 36, 40]}\n",
      "Middle channel per group: {3: 33.0}\n",
      "Output list (length 10): [33.0, 33.0, 33.0]\n",
      "Lower four dict (by group): {3: nan}\n",
      "Lower four output list: [nan, nan, nan]\n"
     ]
    },
    {
     "name": "stderr",
     "output_type": "stream",
     "text": [
      "C:\\Users\\sachur\\AppData\\Roaming\\Python\\Python311\\site-packages\\pynwb\\ecephys.py:90: UserWarning: ElectricalSeries 'lfp_car': The second dimension of data does not match the length of electrodes. Your data may be transposed.\n",
      "  warnings.warn(\"%s '%s': The second dimension of data does not match the length of electrodes. \"\n"
     ]
    },
    {
     "name": "stdout",
     "output_type": "stream",
     "text": [
      "\n",
      "Processing file: 66537_2024-12-06_A_units_table_withDLC.pkl\n",
      "Grouped channels: {3: [36, 47]}\n",
      "Middle channel per group: {3: 47.0}\n",
      "Output list (length 10): [47.0, 47.0]\n",
      "Lower four dict (by group): {3: nan}\n",
      "Lower four output list: [nan, nan]\n"
     ]
    },
    {
     "name": "stderr",
     "output_type": "stream",
     "text": [
      "C:\\Users\\sachur\\AppData\\Roaming\\Python\\Python311\\site-packages\\pynwb\\ecephys.py:90: UserWarning: ElectricalSeries 'lfp_car': The second dimension of data does not match the length of electrodes. Your data may be transposed.\n",
      "  warnings.warn(\"%s '%s': The second dimension of data does not match the length of electrodes. \"\n"
     ]
    },
    {
     "name": "stdout",
     "output_type": "stream",
     "text": [
      "No pyramidal cells found in 66537_2024-12-06_B_units_table_withDLC.pkl\n",
      "\n",
      "Processing file: 66537_2024-12-06_C_units_table_withDLC.pkl\n",
      "Grouped channels: {2: [29], 3: [36, 56]}\n",
      "Middle channel per group: {2: 29.0, 3: 56.0}\n",
      "Output list (length 10): [29.0, 56.0, 56.0]\n",
      "Lower four dict (by group): {2: nan, 3: 47.0}\n",
      "Lower four output list: [nan, 47.0, 47.0]\n"
     ]
    },
    {
     "name": "stderr",
     "output_type": "stream",
     "text": [
      "C:\\Users\\sachur\\AppData\\Roaming\\Python\\Python311\\site-packages\\pynwb\\ecephys.py:90: UserWarning: ElectricalSeries 'lfp_car': The second dimension of data does not match the length of electrodes. Your data may be transposed.\n",
      "  warnings.warn(\"%s '%s': The second dimension of data does not match the length of electrodes. \"\n"
     ]
    },
    {
     "name": "stdout",
     "output_type": "stream",
     "text": [
      "\n",
      "Processing file: 66537_2024-12-08_A_units_table_withDLC.pkl\n",
      "Grouped channels: {3: [33]}\n",
      "Middle channel per group: {3: 33.0}\n",
      "Output list (length 10): [33.0]\n",
      "Lower four dict (by group): {3: nan}\n",
      "Lower four output list: [nan]\n"
     ]
    },
    {
     "name": "stderr",
     "output_type": "stream",
     "text": [
      "C:\\Users\\sachur\\AppData\\Roaming\\Python\\Python311\\site-packages\\pynwb\\ecephys.py:90: UserWarning: ElectricalSeries 'lfp_car': The second dimension of data does not match the length of electrodes. Your data may be transposed.\n",
      "  warnings.warn(\"%s '%s': The second dimension of data does not match the length of electrodes. \"\n"
     ]
    },
    {
     "name": "stdout",
     "output_type": "stream",
     "text": [
      "\n",
      "Processing file: 66537_2024-12-08_B_units_table_withDLC.pkl\n",
      "Grouped channels: {3: [33, 45]}\n",
      "Middle channel per group: {3: 33.0}\n",
      "Output list (length 10): [33.0, 33.0]\n",
      "Lower four dict (by group): {3: nan}\n",
      "Lower four output list: [nan, nan]\n"
     ]
    },
    {
     "name": "stderr",
     "output_type": "stream",
     "text": [
      "C:\\Users\\sachur\\AppData\\Roaming\\Python\\Python311\\site-packages\\pynwb\\ecephys.py:90: UserWarning: ElectricalSeries 'lfp_car': The second dimension of data does not match the length of electrodes. Your data may be transposed.\n",
      "  warnings.warn(\"%s '%s': The second dimension of data does not match the length of electrodes. \"\n"
     ]
    },
    {
     "name": "stdout",
     "output_type": "stream",
     "text": [
      "\n",
      "Processing file: 66537_2024-12-08_C_units_table_withDLC.pkl\n",
      "Grouped channels: {3: [33, 47]}\n",
      "Middle channel per group: {3: 33.0}\n",
      "Output list (length 10): [33.0, 33.0]\n",
      "Lower four dict (by group): {3: nan}\n",
      "Lower four output list: [nan, nan]\n"
     ]
    },
    {
     "name": "stderr",
     "output_type": "stream",
     "text": [
      "C:\\Users\\sachur\\AppData\\Roaming\\Python\\Python311\\site-packages\\pynwb\\ecephys.py:90: UserWarning: ElectricalSeries 'lfp_car': The second dimension of data does not match the length of electrodes. Your data may be transposed.\n",
      "  warnings.warn(\"%s '%s': The second dimension of data does not match the length of electrodes. \"\n"
     ]
    },
    {
     "name": "stdout",
     "output_type": "stream",
     "text": [
      "\n",
      "Processing file: 66537_2024-12-18_A_units_table_withDLC.pkl\n",
      "Grouped channels: {3: [33, 47, 50], 2: [12]}\n",
      "Middle channel per group: {3: 33.0, 2: 12.0}\n",
      "Output list (length 10): [33.0, 33.0, 33.0, 12.0]\n",
      "Lower four dict (by group): {3: nan, 2: 11.0}\n",
      "Lower four output list: [nan, nan, nan, 11.0]\n"
     ]
    },
    {
     "name": "stderr",
     "output_type": "stream",
     "text": [
      "C:\\Users\\sachur\\AppData\\Roaming\\Python\\Python311\\site-packages\\pynwb\\ecephys.py:90: UserWarning: ElectricalSeries 'lfp_car': The second dimension of data does not match the length of electrodes. Your data may be transposed.\n",
      "  warnings.warn(\"%s '%s': The second dimension of data does not match the length of electrodes. \"\n"
     ]
    },
    {
     "name": "stdout",
     "output_type": "stream",
     "text": [
      "\n",
      "Processing file: 66537_2024-12-18_B_units_table_withDLC.pkl\n",
      "Grouped channels: {3: [47]}\n",
      "Middle channel per group: {3: 47.0}\n",
      "Output list (length 10): [47.0]\n",
      "Lower four dict (by group): {3: nan}\n",
      "Lower four output list: [nan]\n"
     ]
    },
    {
     "name": "stderr",
     "output_type": "stream",
     "text": [
      "C:\\Users\\sachur\\AppData\\Roaming\\Python\\Python311\\site-packages\\pynwb\\ecephys.py:90: UserWarning: ElectricalSeries 'lfp_car': The second dimension of data does not match the length of electrodes. Your data may be transposed.\n",
      "  warnings.warn(\"%s '%s': The second dimension of data does not match the length of electrodes. \"\n"
     ]
    },
    {
     "name": "stdout",
     "output_type": "stream",
     "text": [
      "No pyramidal cells found in 66537_2024-12-18_C_units_table_withDLC.pkl\n",
      "No pyramidal cells found in 66537_2024-12-19_A_units_table_withDLC.pkl\n",
      "\n",
      "Processing file: 66537_2024-12-19_B_units_table_withDLC.pkl\n",
      "Grouped channels: {2: [15]}\n",
      "Middle channel per group: {2: 15.0}\n",
      "Output list (length 10): [15.0]\n",
      "Lower four dict (by group): {2: 13.0}\n",
      "Lower four output list: [13.0]\n"
     ]
    },
    {
     "name": "stderr",
     "output_type": "stream",
     "text": [
      "C:\\Users\\sachur\\AppData\\Roaming\\Python\\Python311\\site-packages\\pynwb\\ecephys.py:90: UserWarning: ElectricalSeries 'lfp_car': The second dimension of data does not match the length of electrodes. Your data may be transposed.\n",
      "  warnings.warn(\"%s '%s': The second dimension of data does not match the length of electrodes. \"\n"
     ]
    },
    {
     "name": "stdout",
     "output_type": "stream",
     "text": [
      "No pyramidal cells found in 66537_2024-12-19_C_units_table_withDLC.pkl\n",
      "\n",
      "Processing file: 66537_2024-12-21_A_units_table_withDLC.pkl\n",
      "Grouped channels: {5: [62]}\n",
      "Middle channel per group: {5: 62.0}\n",
      "Output list (length 10): [62.0]\n",
      "Lower four dict (by group): {5: nan}\n",
      "Lower four output list: [nan]\n",
      "\n",
      "Processing file: 66537_2024-12-21_B_units_table_withDLC.pkl\n",
      "Grouped channels: {3: [36]}\n",
      "Middle channel per group: {3: 36.0}\n",
      "Output list (length 10): [36.0]\n",
      "Lower four dict (by group): {3: 45.0}\n",
      "Lower four output list: [45.0]\n",
      "\n",
      "Processing file: 66537_2024-12-21_C_units_table_withDLC.pkl\n",
      "Grouped channels: {3: [36]}\n",
      "Middle channel per group: {3: 36.0}\n",
      "Output list (length 10): [36.0]\n",
      "Lower four dict (by group): {3: 45.0}\n",
      "Lower four output list: [45.0]\n",
      "\n",
      "Processing file: 66538_2024-11-22_A_units_table_withDLC.pkl\n",
      "Grouped channels: {1: [10, 21]}\n",
      "Middle channel per group: {1: 10.0}\n",
      "Output list (length 10): [10.0, 10.0]\n",
      "Lower four dict (by group): {1: 1.0}\n",
      "Lower four output list: [1.0, 1.0]\n",
      "No pyramidal cells found in 66538_2024-11-22_B_units_table_withDLC.pkl\n",
      "No pyramidal cells found in 66538_2024-11-22_C_units_table_withDLC.pkl\n",
      "No pyramidal cells found in 66538_2024-11-25_A_units_table_withDLC.pkl\n",
      "\n",
      "Processing file: 66538_2024-11-25_B_units_table_withDLC.pkl\n",
      "Grouped channels: {3: [33], 1: [16, 21]}\n",
      "Middle channel per group: {3: 33.0, 1: 21.0}\n",
      "Output list (length 10): [33.0, 21.0, 21.0]\n",
      "Lower four dict (by group): {3: nan, 1: 9.0}\n",
      "Lower four output list: [nan, 9.0, 9.0]\n",
      "No pyramidal cells found in 66538_2024-11-25_C_units_table_withDLC.pkl\n",
      "\n",
      "Processing file: 66538_2024-11-29_A_units_table_withDLC.pkl\n",
      "Grouped channels: {3: [53]}\n",
      "Middle channel per group: {3: 53.0}\n",
      "Output list (length 10): [53.0]\n",
      "Lower four dict (by group): {3: 50.0}\n",
      "Lower four output list: [50.0]\n",
      "No pyramidal cells found in 66538_2024-11-29_B_units_table_withDLC.pkl\n",
      "No pyramidal cells found in 66538_2024-11-29_C_units_table_withDLC.pkl\n",
      "\n",
      "Processing file: 66538_2024-12-02_A_units_table_withDLC.pkl\n",
      "Grouped channels: {1: [17]}\n",
      "Middle channel per group: {1: 17.0}\n",
      "Output list (length 10): [17.0]\n",
      "Lower four dict (by group): {1: 21.0}\n",
      "Lower four output list: [21.0]\n",
      "No pyramidal cells found in 66538_2024-12-02_B_units_table_withDLC.pkl\n",
      "No pyramidal cells found in 66538_2024-12-02_C_units_table_withDLC.pkl\n",
      "No pyramidal cells found in 66538_2024-12-04_A_units_table_withDLC.pkl\n",
      "No pyramidal cells found in 66538_2024-12-04_B_units_table_withDLC.pkl\n",
      "No pyramidal cells found in 66538_2024-12-04_C_units_table_withDLC.pkl\n",
      "No pyramidal cells found in 66538_2024-12-06_A_units_table_withDLC.pkl\n",
      "No pyramidal cells found in 66538_2024-12-06_B_units_table_withDLC.pkl\n",
      "No pyramidal cells found in 66538_2024-12-06_C_units_table_withDLC.pkl\n",
      "No pyramidal cells found in 66538_2024-12-08_A_units_table_withDLC.pkl\n",
      "No pyramidal cells found in 66538_2024-12-08_B_units_table_withDLC.pkl\n",
      "No pyramidal cells found in 66538_2024-12-08_C_units_table_withDLC.pkl\n",
      "No pyramidal cells found in 66538_2024-12-10_A_units_table_withDLC.pkl\n",
      "No pyramidal cells found in 66538_2024-12-10_B_units_table_withDLC.pkl\n",
      "No pyramidal cells found in 66538_2024-12-10_C_units_table_withDLC.pkl\n",
      "\n",
      "Processing file: 66538_2024-12-12_A_units_table_withDLC.pkl\n",
      "Grouped channels: {1: [22]}\n",
      "Middle channel per group: {1: 22.0}\n",
      "Output list (length 10): [22.0]\n",
      "Lower four dict (by group): {1: nan}\n",
      "Lower four output list: [nan]\n",
      "\n",
      "Processing file: 66538_2024-12-12_B_units_table_withDLC.pkl\n",
      "Grouped channels: {1: [22]}\n",
      "Middle channel per group: {1: 22.0}\n",
      "Output list (length 10): [22.0]\n",
      "Lower four dict (by group): {1: nan}\n",
      "Lower four output list: [nan]\n",
      "\n",
      "Processing file: 66538_2024-12-12_C_units_table_withDLC.pkl\n",
      "Grouped channels: {1: [22]}\n",
      "Middle channel per group: {1: 22.0}\n",
      "Output list (length 10): [22.0]\n",
      "Lower four dict (by group): {1: nan}\n",
      "Lower four output list: [nan]\n",
      "\n",
      "Processing file: 66538_2024-12-16_A_units_table_withDLC.pkl\n",
      "Grouped channels: {0: [4], 1: [10]}\n",
      "Middle channel per group: {0: 4.0, 1: 10.0}\n",
      "Output list (length 10): [4.0, 10.0]\n",
      "Lower four dict (by group): {0: nan, 1: 1.0}\n",
      "Lower four output list: [nan, 1.0]\n"
     ]
    },
    {
     "name": "stderr",
     "output_type": "stream",
     "text": [
      "C:\\Users\\sachur\\AppData\\Roaming\\Python\\Python311\\site-packages\\pynwb\\ecephys.py:90: UserWarning: ElectricalSeries 'lfp_car': The second dimension of data does not match the length of electrodes. Your data may be transposed.\n",
      "  warnings.warn(\"%s '%s': The second dimension of data does not match the length of electrodes. \"\n"
     ]
    },
    {
     "name": "stdout",
     "output_type": "stream",
     "text": [
      "No pyramidal cells found in 66538_2024-12-16_B_units_table_withDLC.pkl\n",
      "No pyramidal cells found in 66538_2024-12-16_C_units_table_withDLC.pkl\n",
      "\n",
      "Processing file: 66539_2024-11-19_A_units_table_withDLC.pkl\n",
      "Grouped channels: {1: [24, 16, 24, 21, 24], 2: [11, 12, 18], 0: [4, 25], 3: [56]}\n",
      "Middle channel per group: {1: 24.0, 2: 12.0, 0: 25.0, 3: 56.0}\n",
      "Output list (length 10): [24.0, 24.0, 24.0, 24.0, 24.0, 12.0, 12.0, 12.0, 25.0, 25.0, 56.0]\n",
      "Lower four dict (by group): {1: 22.0, 2: 11.0, 0: nan, 3: 47.0}\n",
      "Lower four output list: [22.0, 22.0, 22.0, 22.0, 22.0, 11.0, 11.0, 11.0, nan, nan, 47.0]\n",
      "\n",
      "Processing file: 66539_2024-11-19_B_units_table_withDLC.pkl\n",
      "Grouped channels: {0: [8, 14], 1: [2, 2]}\n",
      "Middle channel per group: {0: 14.0, 1: 2.0}\n",
      "Output list (length 10): [14.0, 14.0, 2.0, 2.0]\n",
      "Lower four dict (by group): {0: nan, 1: 24.0}\n",
      "Lower four output list: [nan, nan, 24.0, 24.0]\n",
      "\n",
      "Processing file: 66539_2024-11-19_C_units_table_withDLC.pkl\n",
      "Grouped channels: {0: [0, 8], 4: [44]}\n",
      "Middle channel per group: {0: 0.0, 4: 44.0}\n",
      "Output list (length 10): [0.0, 0.0, 44.0]\n",
      "Lower four dict (by group): {0: nan, 4: nan}\n",
      "Lower four output list: [nan, nan, nan]\n",
      "\n",
      "Processing file: 66539_2024-11-22_A_units_table_withDLC.pkl\n",
      "Grouped channels: {1: [16, 17], 2: [11, 15, 29]}\n",
      "Middle channel per group: {1: 16.0, 2: 11.0}\n",
      "Output list (length 10): [16.0, 16.0, 11.0, 11.0, 11.0]\n",
      "Lower four dict (by group): {1: 10.0, 2: nan}\n",
      "Lower four output list: [10.0, 10.0, nan, nan, nan]\n",
      "\n",
      "Processing file: 66539_2024-11-22_B_units_table_withDLC.pkl\n",
      "Grouped channels: {1: [1], 2: [11, 7, 15, 29, 29], 3: [33, 40]}\n",
      "Middle channel per group: {1: 1.0, 2: 29.0, 3: 40.0}\n",
      "Output list (length 10): [1.0, 29.0, 29.0, 29.0, 29.0, 29.0, 40.0, 40.0]\n",
      "Lower four dict (by group): {1: nan, 2: nan, 3: nan}\n",
      "Lower four output list: [nan, nan, nan, nan, nan, nan, nan, nan]\n",
      "\n",
      "Processing file: 66539_2024-11-22_C_units_table_withDLC.pkl\n",
      "Grouped channels: {1: [9], 2: [15, 15, 23], 3: [33, 47, 53, 53]}\n",
      "Middle channel per group: {1: 9.0, 2: 15.0, 3: 47.0}\n",
      "Output list (length 10): [9.0, 15.0, 15.0, 15.0, 47.0, 47.0, 47.0, 47.0]\n",
      "Lower four dict (by group): {1: nan, 2: 13.0, 3: nan}\n",
      "Lower four output list: [nan, 13.0, 13.0, 13.0, nan, nan, nan, nan]\n",
      "\n",
      "Processing file: 66539_2024-11-25_A_units_table_withDLC.pkl\n",
      "Grouped channels: {1: [17, 17], 2: [11, 29]}\n",
      "Middle channel per group: {1: 17.0, 2: 29.0}\n",
      "Output list (length 10): [17.0, 17.0, 29.0, 29.0]\n",
      "Lower four dict (by group): {1: 21.0, 2: nan}\n",
      "Lower four output list: [21.0, 21.0, nan, nan]\n",
      "\n",
      "Processing file: 66539_2024-11-25_B_units_table_withDLC.pkl\n",
      "Grouped channels: {2: [13, 23, 7, 7, 7, 29, 29], 1: [9]}\n",
      "Middle channel per group: {2: 7.0, 1: 9.0}\n",
      "Output list (length 10): [7.0, 7.0, 7.0, 7.0, 7.0, 7.0, 7.0, 9.0]\n",
      "Lower four dict (by group): {2: nan, 1: nan}\n",
      "Lower four output list: [nan, nan, nan, nan, nan, nan, nan, nan]\n"
     ]
    },
    {
     "name": "stderr",
     "output_type": "stream",
     "text": [
      "C:\\Users\\sachur\\AppData\\Roaming\\Python\\Python311\\site-packages\\pynwb\\ecephys.py:90: UserWarning: ElectricalSeries 'lfp_car': The second dimension of data does not match the length of electrodes. Your data may be transposed.\n",
      "  warnings.warn(\"%s '%s': The second dimension of data does not match the length of electrodes. \"\n"
     ]
    },
    {
     "name": "stdout",
     "output_type": "stream",
     "text": [
      "\n",
      "Processing file: 66539_2024-11-25_C_units_table_withDLC.pkl\n",
      "Grouped channels: {1: [9, 30], 2: [11, 31]}\n",
      "Middle channel per group: {1: 9.0, 2: 11.0}\n",
      "Output list (length 10): [9.0, 9.0, 11.0, 11.0]\n",
      "Lower four dict (by group): {1: nan, 2: nan}\n",
      "Lower four output list: [nan, nan, nan, nan]\n",
      "\n",
      "Processing file: 66539_2024-11-28_A_units_table_withDLC.pkl\n",
      "Grouped channels: {1: [21, 30], 2: [28, 15, 23, 18]}\n",
      "Middle channel per group: {1: 30.0, 2: 28.0}\n",
      "Output list (length 10): [30.0, 30.0, 28.0, 28.0, 28.0, 28.0]\n",
      "Lower four dict (by group): {1: nan, 2: 7.0}\n",
      "Lower four output list: [nan, nan, 7.0, 7.0, 7.0, 7.0]\n",
      "\n",
      "Processing file: 66539_2024-11-28_B_units_table_withDLC.pkl\n",
      "Grouped channels: {1: [21], 2: [11, 12, 27], 3: [53]}\n",
      "Middle channel per group: {1: 21.0, 2: 12.0, 3: 53.0}\n",
      "Output list (length 10): [21.0, 12.0, 12.0, 12.0, 53.0]\n",
      "Lower four dict (by group): {1: 9.0, 2: 11.0, 3: 50.0}\n",
      "Lower four output list: [9.0, 11.0, 11.0, 11.0, 50.0]\n"
     ]
    },
    {
     "name": "stderr",
     "output_type": "stream",
     "text": [
      "C:\\Users\\sachur\\AppData\\Roaming\\Python\\Python311\\site-packages\\pynwb\\ecephys.py:90: UserWarning: ElectricalSeries 'lfp_car': The second dimension of data does not match the length of electrodes. Your data may be transposed.\n",
      "  warnings.warn(\"%s '%s': The second dimension of data does not match the length of electrodes. \"\n"
     ]
    },
    {
     "name": "stdout",
     "output_type": "stream",
     "text": [
      "\n",
      "Processing file: 66539_2024-11-28_C_units_table_withDLC.pkl\n",
      "Grouped channels: {1: [21], 2: [23, 27], 3: [53]}\n",
      "Middle channel per group: {1: 21.0, 2: 23.0, 3: 53.0}\n",
      "Output list (length 10): [21.0, 23.0, 23.0, 53.0]\n",
      "Lower four dict (by group): {1: 9.0, 2: 29.0, 3: 50.0}\n",
      "Lower four output list: [9.0, 29.0, 29.0, 50.0]\n",
      "\n",
      "Processing file: 66539_2024-12-01_A_units_table_withDLC.pkl\n",
      "Grouped channels: {0: [14, 14]}\n",
      "Middle channel per group: {0: 14.0}\n",
      "Output list (length 10): [14.0, 14.0]\n",
      "Lower four dict (by group): {0: nan}\n",
      "Lower four output list: [nan, nan]\n",
      "No pyramidal cells found in 66539_2024-12-01_B_units_table_withDLC.pkl\n",
      "No pyramidal cells found in 66539_2024-12-01_C_units_table_withDLC.pkl\n",
      "No pyramidal cells found in 66539_2024-12-03_A_units_table_withDLC.pkl\n",
      "No pyramidal cells found in 66539_2024-12-03_B_units_table_withDLC.pkl\n",
      "\n",
      "Processing file: 66539_2024-12-03_C_units_table_withDLC.pkl\n",
      "Grouped channels: {0: [3]}\n",
      "Middle channel per group: {0: 3.0}\n",
      "Output list (length 10): [3.0]\n",
      "Lower four dict (by group): {0: 8.0}\n",
      "Lower four output list: [8.0]\n",
      "\n",
      "Processing file: 66539_2024-12-05_A_units_table_withDLC.pkl\n",
      "Grouped channels: {3: [48]}\n",
      "Middle channel per group: {3: 48.0}\n",
      "Output list (length 10): [48.0]\n",
      "Lower four dict (by group): {3: 32.0}\n",
      "Lower four output list: [32.0]\n",
      "No pyramidal cells found in 66539_2024-12-05_B_units_table_withDLC.pkl\n",
      "\n",
      "Processing file: 66539_2024-12-05_C_units_table_withDLC.pkl\n",
      "Grouped channels: {0: [19]}\n",
      "Middle channel per group: {0: 19.0}\n",
      "Output list (length 10): [19.0]\n",
      "Lower four dict (by group): {0: 5.0}\n",
      "Lower four output list: [5.0]\n",
      "No pyramidal cells found in 66539_2024-12-07_A_units_table_withDLC.pkl\n",
      "\n",
      "Processing file: 66539_2024-12-07_B_units_table_withDLC.pkl\n",
      "Grouped channels: {4: [57]}\n",
      "Middle channel per group: {4: 57.0}\n",
      "Output list (length 10): [57.0]\n",
      "Lower four dict (by group): {4: 63.0}\n",
      "Lower four output list: [63.0]\n",
      "\n",
      "Processing file: 66539_2024-12-07_C_units_table_withDLC.pkl\n",
      "Grouped channels: {3: [48]}\n",
      "Middle channel per group: {3: 48.0}\n",
      "Output list (length 10): [48.0]\n",
      "Lower four dict (by group): {3: 32.0}\n",
      "Lower four output list: [32.0]\n",
      "No pyramidal cells found in 66539_2024-12-09_A_units_table_withDLC.pkl\n",
      "\n",
      "Processing file: 66539_2024-12-09_B_units_table_withDLC.pkl\n",
      "Grouped channels: {4: [43, 44]}\n",
      "Middle channel per group: {4: 44.0}\n",
      "Output list (length 10): [44.0, 44.0]\n",
      "Lower four dict (by group): {4: nan}\n",
      "Lower four output list: [nan, nan]\n",
      "\n",
      "Processing file: 66539_2024-12-09_C_units_table_withDLC.pkl\n",
      "Grouped channels: {4: [60]}\n",
      "Middle channel per group: {4: 60.0}\n",
      "Output list (length 10): [60.0]\n",
      "Lower four dict (by group): {4: nan}\n",
      "Lower four output list: [nan]\n",
      "\n",
      "Processing file: 66539_2024-12-17_A_units_table_withDLC.pkl\n",
      "Grouped channels: {4: [44, 49, 52], 5: [35]}\n",
      "Middle channel per group: {4: 49.0, 5: 35.0}\n",
      "Output list (length 10): [49.0, 49.0, 49.0, 35.0]\n",
      "Lower four dict (by group): {4: nan, 5: 55.0}\n",
      "Lower four output list: [nan, nan, nan, 55.0]\n",
      "\n",
      "Processing file: 66539_2024-12-17_B_units_table_withDLC.pkl\n",
      "Grouped channels: {2: [31], 4: [60]}\n",
      "Middle channel per group: {2: 31.0, 4: 60.0}\n",
      "Output list (length 10): [31.0, 60.0]\n",
      "Lower four dict (by group): {2: 15.0, 4: nan}\n",
      "Lower four output list: [15.0, nan]\n"
     ]
    },
    {
     "name": "stderr",
     "output_type": "stream",
     "text": [
      "C:\\Users\\sachur\\AppData\\Roaming\\Python\\Python311\\site-packages\\pynwb\\ecephys.py:90: UserWarning: ElectricalSeries 'lfp_car': The second dimension of data does not match the length of electrodes. Your data may be transposed.\n",
      "  warnings.warn(\"%s '%s': The second dimension of data does not match the length of electrodes. \"\n"
     ]
    },
    {
     "name": "stdout",
     "output_type": "stream",
     "text": [
      "\n",
      "Processing file: 66539_2024-12-17_C_units_table_withDLC.pkl\n",
      "Grouped channels: {2: [27], 4: [43, 60]}\n",
      "Middle channel per group: {2: 27.0, 4: 60.0}\n",
      "Output list (length 10): [27.0, 60.0, 60.0]\n",
      "Lower four dict (by group): {2: 23.0, 4: nan}\n",
      "Lower four output list: [23.0, nan, nan]\n"
     ]
    },
    {
     "name": "stderr",
     "output_type": "stream",
     "text": [
      "C:\\Users\\sachur\\AppData\\Roaming\\Python\\Python311\\site-packages\\pynwb\\ecephys.py:90: UserWarning: ElectricalSeries 'lfp_car': The second dimension of data does not match the length of electrodes. Your data may be transposed.\n",
      "  warnings.warn(\"%s '%s': The second dimension of data does not match the length of electrodes. \"\n"
     ]
    },
    {
     "name": "stdout",
     "output_type": "stream",
     "text": [
      "\n",
      "Processing file: 66539_2024-12-18_A_units_table_withDLC.pkl\n",
      "Grouped channels: {5: [51], 4: [37, 43, 52, 57, 60, 37]}\n",
      "Middle channel per group: {5: 51.0, 4: 37.0}\n",
      "Output list (length 10): [51.0, 37.0, 37.0, 37.0, 37.0, 37.0, 37.0]\n",
      "Lower four dict (by group): {5: 39.0, 4: 44.0}\n",
      "Lower four output list: [39.0, 44.0, 44.0, 44.0, 44.0, 44.0, 44.0]\n"
     ]
    },
    {
     "name": "stderr",
     "output_type": "stream",
     "text": [
      "C:\\Users\\sachur\\AppData\\Roaming\\Python\\Python311\\site-packages\\pynwb\\ecephys.py:90: UserWarning: ElectricalSeries 'lfp_car': The second dimension of data does not match the length of electrodes. Your data may be transposed.\n",
      "  warnings.warn(\"%s '%s': The second dimension of data does not match the length of electrodes. \"\n"
     ]
    },
    {
     "name": "stdout",
     "output_type": "stream",
     "text": [
      "\n",
      "Processing file: 66539_2024-12-18_B_units_table_withDLC.pkl\n",
      "Grouped channels: {4: [34, 49, 52]}\n",
      "Middle channel per group: {4: 52.0}\n",
      "Output list (length 10): [52.0, 52.0, 52.0]\n",
      "Lower four dict (by group): {4: 57.0}\n",
      "Lower four output list: [57.0, 57.0, 57.0]\n"
     ]
    },
    {
     "name": "stderr",
     "output_type": "stream",
     "text": [
      "C:\\Users\\sachur\\AppData\\Roaming\\Python\\Python311\\site-packages\\pynwb\\ecephys.py:90: UserWarning: ElectricalSeries 'lfp_car': The second dimension of data does not match the length of electrodes. Your data may be transposed.\n",
      "  warnings.warn(\"%s '%s': The second dimension of data does not match the length of electrodes. \"\n"
     ]
    },
    {
     "name": "stdout",
     "output_type": "stream",
     "text": [
      "\n",
      "Processing file: 66539_2024-12-18_C_units_table_withDLC.pkl\n",
      "Grouped channels: {4: [37, 43, 49]}\n",
      "Middle channel per group: {4: 37.0}\n",
      "Output list (length 10): [37.0, 37.0, 37.0]\n",
      "Lower four dict (by group): {4: 44.0}\n",
      "Lower four output list: [44.0, 44.0, 44.0]\n"
     ]
    },
    {
     "name": "stderr",
     "output_type": "stream",
     "text": [
      "C:\\Users\\sachur\\AppData\\Roaming\\Python\\Python311\\site-packages\\pynwb\\ecephys.py:90: UserWarning: ElectricalSeries 'lfp_car': The second dimension of data does not match the length of electrodes. Your data may be transposed.\n",
      "  warnings.warn(\"%s '%s': The second dimension of data does not match the length of electrodes. \"\n"
     ]
    },
    {
     "name": "stdout",
     "output_type": "stream",
     "text": [
      "\n",
      "Processing file: 66539_2024-12-22_A_units_table_withDLC.pkl\n",
      "Grouped channels: {5: [35, 38, 35, 42, 62]}\n",
      "Middle channel per group: {5: 42.0}\n",
      "Output list (length 10): [42.0, 42.0, 42.0, 42.0, 42.0]\n",
      "Lower four dict (by group): {5: nan}\n",
      "Lower four output list: [nan, nan, nan, nan, nan]\n"
     ]
    },
    {
     "name": "stderr",
     "output_type": "stream",
     "text": [
      "C:\\Users\\sachur\\AppData\\Roaming\\Python\\Python311\\site-packages\\pynwb\\ecephys.py:90: UserWarning: ElectricalSeries 'lfp_car': The second dimension of data does not match the length of electrodes. Your data may be transposed.\n",
      "  warnings.warn(\"%s '%s': The second dimension of data does not match the length of electrodes. \"\n"
     ]
    },
    {
     "name": "stdout",
     "output_type": "stream",
     "text": [
      "\n",
      "Processing file: 66539_2024-12-22_B_units_table_withDLC.pkl\n",
      "Grouped channels: {5: [39, 39, 59, 61]}\n",
      "Middle channel per group: {5: 59.0}\n",
      "Output list (length 10): [59.0, 59.0, 59.0, 59.0]\n",
      "Lower four dict (by group): {5: 42.0}\n",
      "Lower four output list: [42.0, 42.0, 42.0, 42.0]\n"
     ]
    },
    {
     "name": "stderr",
     "output_type": "stream",
     "text": [
      "C:\\Users\\sachur\\AppData\\Roaming\\Python\\Python311\\site-packages\\pynwb\\ecephys.py:90: UserWarning: ElectricalSeries 'lfp_car': The second dimension of data does not match the length of electrodes. Your data may be transposed.\n",
      "  warnings.warn(\"%s '%s': The second dimension of data does not match the length of electrodes. \"\n"
     ]
    },
    {
     "name": "stdout",
     "output_type": "stream",
     "text": [
      "\n",
      "Processing file: 66539_2024-12-22_C_units_table_withDLC.pkl\n",
      "Grouped channels: {5: [46, 59, 61, 39]}\n",
      "Middle channel per group: {5: 59.0}\n",
      "Output list (length 10): [59.0, 59.0, 59.0, 59.0]\n",
      "Lower four dict (by group): {5: 42.0}\n",
      "Lower four output list: [42.0, 42.0, 42.0, 42.0]\n"
     ]
    },
    {
     "name": "stderr",
     "output_type": "stream",
     "text": [
      "C:\\Users\\sachur\\AppData\\Roaming\\Python\\Python311\\site-packages\\pynwb\\ecephys.py:90: UserWarning: ElectricalSeries 'lfp_car': The second dimension of data does not match the length of electrodes. Your data may be transposed.\n",
      "  warnings.warn(\"%s '%s': The second dimension of data does not match the length of electrodes. \"\n"
     ]
    },
    {
     "name": "stdout",
     "output_type": "stream",
     "text": [
      "\n",
      "Processing file: 66922_2024-09-25_A_units_table_withDLC.pkl\n",
      "Grouped channels: {3: [33, 33, 33, 45, 47, 50, 56], 4: [44, 44, 44, 49, 57, 60], 0: [0, 26], 1: [22, 9, 22, 1, 22], 2: [11, 15, 27], 5: [55, 55]}\n",
      "Middle channel per group: {3: 47.0, 4: 49.0, 0: 0.0, 1: 9.0, 2: 15.0, 5: 55.0}\n",
      "Output list (length 10): [47.0, 47.0, 47.0, 47.0, 47.0, 47.0, 47.0, 49.0, 49.0, 49.0, 49.0, 49.0, 49.0, 0.0, 0.0, 9.0, 9.0, 9.0, 9.0, 9.0, 15.0, 15.0, 15.0, 55.0, 55.0]\n",
      "Lower four dict (by group): {3: nan, 4: nan, 0: nan, 1: nan, 2: 13.0, 5: nan}\n",
      "Lower four output list: [nan, nan, nan, nan, nan, nan, nan, nan, nan, nan, nan, nan, nan, nan, nan, nan, nan, nan, nan, nan, 13.0, 13.0, 13.0, nan, nan]\n"
     ]
    },
    {
     "ename": "OSError",
     "evalue": "Cannot save file into a non-existent directory: 'Q:\\sachuriga\\CR_CA1_paper\\ables'",
     "output_type": "error",
     "traceback": [
      "\u001b[1;31m---------------------------------------------------------------------------\u001b[0m",
      "\u001b[1;31mOSError\u001b[0m                                   Traceback (most recent call last)",
      "Cell \u001b[1;32mIn[8], line 127\u001b[0m\n\u001b[0;32m    124\u001b[0m final_df \u001b[38;5;241m=\u001b[39m pd\u001b[38;5;241m.\u001b[39mconcat(all_dataframes, ignore_index\u001b[38;5;241m=\u001b[39m\u001b[38;5;28;01mTrue\u001b[39;00m)\n\u001b[0;32m    126\u001b[0m \u001b[38;5;66;03m# Optional: Save to file\u001b[39;00m\n\u001b[1;32m--> 127\u001b[0m \u001b[43mfinal_df\u001b[49m\u001b[38;5;241;43m.\u001b[39;49m\u001b[43mto_pickle\u001b[49m\u001b[43m(\u001b[49m\u001b[38;5;124;43mr\u001b[39;49m\u001b[38;5;124;43m'\u001b[39;49m\u001b[38;5;124;43mQ:/sachuriga/CR_CA1_paper/ables/combined_data_for_LFP.pkl\u001b[39;49m\u001b[38;5;124;43m'\u001b[39;49m\u001b[43m)\u001b[49m\n\u001b[0;32m    129\u001b[0m \u001b[38;5;28mprint\u001b[39m(\u001b[38;5;124mf\u001b[39m\u001b[38;5;124m\"\u001b[39m\u001b[38;5;130;01m\\n\u001b[39;00m\u001b[38;5;124mProcessed \u001b[39m\u001b[38;5;132;01m{\u001b[39;00m\u001b[38;5;28mlen\u001b[39m(all_dataframes)\u001b[38;5;132;01m}\u001b[39;00m\u001b[38;5;124m files\u001b[39m\u001b[38;5;124m\"\u001b[39m)\n\u001b[0;32m    130\u001b[0m \u001b[38;5;28mprint\u001b[39m(\u001b[38;5;124mf\u001b[39m\u001b[38;5;124m\"\u001b[39m\u001b[38;5;124mFinal DataFrame shape: \u001b[39m\u001b[38;5;132;01m{\u001b[39;00mfinal_df\u001b[38;5;241m.\u001b[39mshape\u001b[38;5;132;01m}\u001b[39;00m\u001b[38;5;124m\"\u001b[39m)\n",
      "File \u001b[1;32m~\\AppData\\Roaming\\Python\\Python311\\site-packages\\pandas\\util\\_decorators.py:333\u001b[0m, in \u001b[0;36mdeprecate_nonkeyword_arguments.<locals>.decorate.<locals>.wrapper\u001b[1;34m(*args, **kwargs)\u001b[0m\n\u001b[0;32m    327\u001b[0m \u001b[38;5;28;01mif\u001b[39;00m \u001b[38;5;28mlen\u001b[39m(args) \u001b[38;5;241m>\u001b[39m num_allow_args:\n\u001b[0;32m    328\u001b[0m     warnings\u001b[38;5;241m.\u001b[39mwarn(\n\u001b[0;32m    329\u001b[0m         msg\u001b[38;5;241m.\u001b[39mformat(arguments\u001b[38;5;241m=\u001b[39m_format_argument_list(allow_args)),\n\u001b[0;32m    330\u001b[0m         \u001b[38;5;167;01mFutureWarning\u001b[39;00m,\n\u001b[0;32m    331\u001b[0m         stacklevel\u001b[38;5;241m=\u001b[39mfind_stack_level(),\n\u001b[0;32m    332\u001b[0m     )\n\u001b[1;32m--> 333\u001b[0m \u001b[38;5;28;01mreturn\u001b[39;00m \u001b[43mfunc\u001b[49m\u001b[43m(\u001b[49m\u001b[38;5;241;43m*\u001b[39;49m\u001b[43margs\u001b[49m\u001b[43m,\u001b[49m\u001b[43m \u001b[49m\u001b[38;5;241;43m*\u001b[39;49m\u001b[38;5;241;43m*\u001b[39;49m\u001b[43mkwargs\u001b[49m\u001b[43m)\u001b[49m\n",
      "File \u001b[1;32m~\\AppData\\Roaming\\Python\\Python311\\site-packages\\pandas\\core\\generic.py:3162\u001b[0m, in \u001b[0;36mNDFrame.to_pickle\u001b[1;34m(self, path, compression, protocol, storage_options)\u001b[0m\n\u001b[0;32m   3112\u001b[0m \u001b[38;5;250m\u001b[39m\u001b[38;5;124;03m\"\"\"\u001b[39;00m\n\u001b[0;32m   3113\u001b[0m \u001b[38;5;124;03mPickle (serialize) object to file.\u001b[39;00m\n\u001b[0;32m   3114\u001b[0m \n\u001b[1;32m   (...)\u001b[0m\n\u001b[0;32m   3158\u001b[0m \u001b[38;5;124;03m4    4    9\u001b[39;00m\n\u001b[0;32m   3159\u001b[0m \u001b[38;5;124;03m\"\"\"\u001b[39;00m  \u001b[38;5;66;03m# noqa: E501\u001b[39;00m\n\u001b[0;32m   3160\u001b[0m \u001b[38;5;28;01mfrom\u001b[39;00m \u001b[38;5;21;01mpandas\u001b[39;00m\u001b[38;5;21;01m.\u001b[39;00m\u001b[38;5;21;01mio\u001b[39;00m\u001b[38;5;21;01m.\u001b[39;00m\u001b[38;5;21;01mpickle\u001b[39;00m \u001b[38;5;28;01mimport\u001b[39;00m to_pickle\n\u001b[1;32m-> 3162\u001b[0m \u001b[43mto_pickle\u001b[49m\u001b[43m(\u001b[49m\n\u001b[0;32m   3163\u001b[0m \u001b[43m    \u001b[49m\u001b[38;5;28;43mself\u001b[39;49m\u001b[43m,\u001b[49m\n\u001b[0;32m   3164\u001b[0m \u001b[43m    \u001b[49m\u001b[43mpath\u001b[49m\u001b[43m,\u001b[49m\n\u001b[0;32m   3165\u001b[0m \u001b[43m    \u001b[49m\u001b[43mcompression\u001b[49m\u001b[38;5;241;43m=\u001b[39;49m\u001b[43mcompression\u001b[49m\u001b[43m,\u001b[49m\n\u001b[0;32m   3166\u001b[0m \u001b[43m    \u001b[49m\u001b[43mprotocol\u001b[49m\u001b[38;5;241;43m=\u001b[39;49m\u001b[43mprotocol\u001b[49m\u001b[43m,\u001b[49m\n\u001b[0;32m   3167\u001b[0m \u001b[43m    \u001b[49m\u001b[43mstorage_options\u001b[49m\u001b[38;5;241;43m=\u001b[39;49m\u001b[43mstorage_options\u001b[49m\u001b[43m,\u001b[49m\n\u001b[0;32m   3168\u001b[0m \u001b[43m\u001b[49m\u001b[43m)\u001b[49m\n",
      "File \u001b[1;32m~\\AppData\\Roaming\\Python\\Python311\\site-packages\\pandas\\io\\pickle.py:103\u001b[0m, in \u001b[0;36mto_pickle\u001b[1;34m(obj, filepath_or_buffer, compression, protocol, storage_options)\u001b[0m\n\u001b[0;32m    100\u001b[0m \u001b[38;5;28;01mif\u001b[39;00m protocol \u001b[38;5;241m<\u001b[39m \u001b[38;5;241m0\u001b[39m:\n\u001b[0;32m    101\u001b[0m     protocol \u001b[38;5;241m=\u001b[39m pickle\u001b[38;5;241m.\u001b[39mHIGHEST_PROTOCOL\n\u001b[1;32m--> 103\u001b[0m \u001b[38;5;28;01mwith\u001b[39;00m \u001b[43mget_handle\u001b[49m\u001b[43m(\u001b[49m\n\u001b[0;32m    104\u001b[0m \u001b[43m    \u001b[49m\u001b[43mfilepath_or_buffer\u001b[49m\u001b[43m,\u001b[49m\n\u001b[0;32m    105\u001b[0m \u001b[43m    \u001b[49m\u001b[38;5;124;43m\"\u001b[39;49m\u001b[38;5;124;43mwb\u001b[39;49m\u001b[38;5;124;43m\"\u001b[39;49m\u001b[43m,\u001b[49m\n\u001b[0;32m    106\u001b[0m \u001b[43m    \u001b[49m\u001b[43mcompression\u001b[49m\u001b[38;5;241;43m=\u001b[39;49m\u001b[43mcompression\u001b[49m\u001b[43m,\u001b[49m\n\u001b[0;32m    107\u001b[0m \u001b[43m    \u001b[49m\u001b[43mis_text\u001b[49m\u001b[38;5;241;43m=\u001b[39;49m\u001b[38;5;28;43;01mFalse\u001b[39;49;00m\u001b[43m,\u001b[49m\n\u001b[0;32m    108\u001b[0m \u001b[43m    \u001b[49m\u001b[43mstorage_options\u001b[49m\u001b[38;5;241;43m=\u001b[39;49m\u001b[43mstorage_options\u001b[49m\u001b[43m,\u001b[49m\n\u001b[0;32m    109\u001b[0m \u001b[43m\u001b[49m\u001b[43m)\u001b[49m \u001b[38;5;28;01mas\u001b[39;00m handles:\n\u001b[0;32m    110\u001b[0m     \u001b[38;5;66;03m# letting pickle write directly to the buffer is more memory-efficient\u001b[39;00m\n\u001b[0;32m    111\u001b[0m     pickle\u001b[38;5;241m.\u001b[39mdump(obj, handles\u001b[38;5;241m.\u001b[39mhandle, protocol\u001b[38;5;241m=\u001b[39mprotocol)\n",
      "File \u001b[1;32m~\\AppData\\Roaming\\Python\\Python311\\site-packages\\pandas\\io\\common.py:749\u001b[0m, in \u001b[0;36mget_handle\u001b[1;34m(path_or_buf, mode, encoding, compression, memory_map, is_text, errors, storage_options)\u001b[0m\n\u001b[0;32m    747\u001b[0m \u001b[38;5;66;03m# Only for write methods\u001b[39;00m\n\u001b[0;32m    748\u001b[0m \u001b[38;5;28;01mif\u001b[39;00m \u001b[38;5;124m\"\u001b[39m\u001b[38;5;124mr\u001b[39m\u001b[38;5;124m\"\u001b[39m \u001b[38;5;129;01mnot\u001b[39;00m \u001b[38;5;129;01min\u001b[39;00m mode \u001b[38;5;129;01mand\u001b[39;00m is_path:\n\u001b[1;32m--> 749\u001b[0m     \u001b[43mcheck_parent_directory\u001b[49m\u001b[43m(\u001b[49m\u001b[38;5;28;43mstr\u001b[39;49m\u001b[43m(\u001b[49m\u001b[43mhandle\u001b[49m\u001b[43m)\u001b[49m\u001b[43m)\u001b[49m\n\u001b[0;32m    751\u001b[0m \u001b[38;5;28;01mif\u001b[39;00m compression:\n\u001b[0;32m    752\u001b[0m     \u001b[38;5;28;01mif\u001b[39;00m compression \u001b[38;5;241m!=\u001b[39m \u001b[38;5;124m\"\u001b[39m\u001b[38;5;124mzstd\u001b[39m\u001b[38;5;124m\"\u001b[39m:\n\u001b[0;32m    753\u001b[0m         \u001b[38;5;66;03m# compression libraries do not like an explicit text-mode\u001b[39;00m\n",
      "File \u001b[1;32m~\\AppData\\Roaming\\Python\\Python311\\site-packages\\pandas\\io\\common.py:616\u001b[0m, in \u001b[0;36mcheck_parent_directory\u001b[1;34m(path)\u001b[0m\n\u001b[0;32m    614\u001b[0m parent \u001b[38;5;241m=\u001b[39m Path(path)\u001b[38;5;241m.\u001b[39mparent\n\u001b[0;32m    615\u001b[0m \u001b[38;5;28;01mif\u001b[39;00m \u001b[38;5;129;01mnot\u001b[39;00m parent\u001b[38;5;241m.\u001b[39mis_dir():\n\u001b[1;32m--> 616\u001b[0m     \u001b[38;5;28;01mraise\u001b[39;00m \u001b[38;5;167;01mOSError\u001b[39;00m(\u001b[38;5;124mrf\u001b[39m\u001b[38;5;124m\"\u001b[39m\u001b[38;5;124mCannot save file into a non-existent directory: \u001b[39m\u001b[38;5;124m'\u001b[39m\u001b[38;5;132;01m{\u001b[39;00mparent\u001b[38;5;132;01m}\u001b[39;00m\u001b[38;5;124m'\u001b[39m\u001b[38;5;124m\"\u001b[39m)\n",
      "\u001b[1;31mOSError\u001b[0m: Cannot save file into a non-existent directory: 'Q:\\sachuriga\\CR_CA1_paper\\ables'"
     ]
    }
   ],
   "source": [
    "### Collecting LFPs\n",
    "\n",
    "pkl_files = get_pkl_files(r\"Q:/crhip\\Sachuriga/filre_with_table/adjust_y_with _meanVAlue/clusters_with_tsneLabel/\")\n",
    "base_folder = r\"Q:/crhip\\Sachuriga/filre_with_table/adjust_y_with _meanVAlue/\"\n",
    "all_dataframes = []\n",
    "for file in pkl_files:\n",
    "    # Read and process the pickle file\n",
    "    df_files = pd.read_pickle(fr\"{base_folder}{file}\")\n",
    "    unit_table = pd.DataFrame(df_files)\n",
    "    pyramidal_df = unit_table[unit_table['cell_type']==\"pyramidal\"]\n",
    "    \n",
    "    # Check if pyramidal_df is empty\n",
    "    if pyramidal_df.empty:\n",
    "        print(f\"No pyramidal cells found in {file}\")\n",
    "        continue\n",
    "    \n",
    "    file_path_nwb = pyramidal_df['session_id'].iloc[0]\n",
    "    channel_list = pyramidal_df['ch'].values\n",
    "\n",
    "    # Channel grouping and calculations\n",
    "    grouped_channels = group_channels_by_group(probe_df, channel_list)\n",
    "    middle_channels = find_middle_channel_per_group(probe_df, grouped_channels)\n",
    "    output_list = map_middle_channels_to_input(probe_df, channel_list, middle_channels)\n",
    "    lower_four_dict = find_lower_four_channel_per_group(probe_df, grouped_channels, middle_channels)\n",
    "    lower_four_output_list = map_lower_four_to_input(probe_df, channel_list, lower_four_dict)\n",
    "\n",
    "    # Print results\n",
    "    print(f\"\\nProcessing file: {file}\")\n",
    "    print(\"Grouped channels:\", grouped_channels)\n",
    "    print(\"Middle channel per group:\", middle_channels)\n",
    "    print(\"Output list (length 10):\", output_list)\n",
    "    print(\"Lower four dict (by group):\", lower_four_dict)\n",
    "    print(\"Lower four output list:\", lower_four_output_list)\n",
    "\n",
    "    # Channel selection\n",
    "    chs_py = np.int64(list(middle_channels.values()))\n",
    "    chs_sr = np.int64([num for num in lower_four_dict.values() if not np.isnan(num)])\n",
    "    \n",
    "    # Load NWB file\n",
    "    filepath = rf\"S:\\Sachuriga\\nwb\\test4neo/{file_path_nwb}\"\n",
    "    npdata = nap.load_file(filepath)\n",
    "    \n",
    "    # Extract data\n",
    "    eeg = npdata['lfp_raw']\n",
    "    lfp_times = npdata['lfp_times']\n",
    "    forward_ep = npdata[\"XY_mid_brain\"]\n",
    "    RUN_interval = nap.IntervalSet(forward_ep.start, forward_ep.end)\n",
    "    \n",
    "    # Position and speed processing\n",
    "    pos_cord = load_speed_fromNWB(npdata['XY_mid_brain'])\n",
    "    raw_pos, combined_array, mask, speeds, smoothed_speed, filtered_speed = pos2speed(\n",
    "        pos_cord[:,0], pos_cord[:,1], pos_cord[:,2],\n",
    "        filter_speed=True, min_speed=0.05\n",
    "    )\n",
    "    time_stemp = pos_cord[:,0]\n",
    "\n",
    "    # Initialize lists for this iteration\n",
    "    lfp_py = []\n",
    "    lfp_sr = []\n",
    "    lfp_py_time = []\n",
    "    lfp_sr_time = []\n",
    "    \n",
    "    # Get identifiers\n",
    "    animal_id = pyramidal_df['animal_id'].iloc[0]\n",
    "    session_id = pyramidal_df['session_id'].iloc[0]\n",
    "    day = pyramidal_df['matlab_day'].iloc[0]\n",
    "\n",
    "    # Process pyramidal channels\n",
    "    if any(chs_py):\n",
    "        for ch_num in chs_py:\n",
    "            eeg_example = eeg.restrict(RUN_interval)[:, ch_num]\n",
    "            fs = 1000\n",
    "            t = eeg_example.t\n",
    "            lfp_data = eeg_example.d\n",
    "\n",
    "            # Bandpass filter\n",
    "            lowcut = 0.1\n",
    "            highcut = 125\n",
    "            nyquist = fs / 2\n",
    "            order = 4\n",
    "            b, a = signal.butter(order, [lowcut / nyquist, highcut / nyquist], btype='band')\n",
    "            bandpassed_data = signal.filtfilt(b, a, lfp_data)\n",
    "            eeg_example = nap.Tsd(t=t, d=bandpassed_data)\n",
    "\n",
    "            lfp_py_time.append(t)\n",
    "            lfp_py.append(eeg_example)\n",
    "\n",
    "    # Process SR channels\n",
    "    if any(chs_sr):\n",
    "        for ch_num in chs_sr:\n",
    "            eeg_example = eeg.restrict(RUN_interval)[:, ch_num]\n",
    "            fs = 1000\n",
    "            t = eeg_example.t\n",
    "            lfp_data = eeg_example.d\n",
    "\n",
    "            # Bandpass filter\n",
    "            lowcut = 0.1\n",
    "            highcut = 125\n",
    "            nyquist = fs / 2\n",
    "            order = 4\n",
    "            b, a = signal.butter(order, [lowcut / nyquist, highcut / nyquist], btype='band')\n",
    "            bandpassed_data = signal.filtfilt(b, a, lfp_data)\n",
    "            eeg_example = nap.Tsd(t=t, d=bandpassed_data)\n",
    "\n",
    "            lfp_sr_time.append(t)\n",
    "            lfp_sr.append(eeg_example)\n",
    "\n",
    "    # Create DataFrame for this iteration\n",
    "    iteration_df = pd.DataFrame({\n",
    "        'animal_id': [animal_id],\n",
    "        'session_id': [session_id],\n",
    "        'matlab_day': [day],\n",
    "        'lfp_py': [lfp_py],\n",
    "        'lfp_sr': [lfp_sr],\n",
    "        'lfp_py_time': [lfp_py_time],\n",
    "        'lfp_sr_time': [lfp_sr_time],\n",
    "        'smoothed_speed': [smoothed_speed],\n",
    "        'time_stemp': [time_stemp],\n",
    "        'file_path': [file]  # Adding source file info\n",
    "    })\n",
    "    \n",
    "    # Append to list of DataFrames\n",
    "    all_dataframes.append(iteration_df)\n",
    "\n",
    "# Combine all DataFrames into one\n",
    "final_df = pd.concat(all_dataframes, ignore_index=True)\n",
    "\n",
    "# Optional: Save to file\n",
    "final_df.to_pickle(r'Q:/sachuriga/CR_CA1_paper/tables/combined_data_for_LFP.pkl')\n",
    "\n",
    "print(f\"\\nProcessed {len(all_dataframes)} files\")\n",
    "print(f\"Final DataFrame shape: {final_df.shape}\")\n",
    "print(\"Columns:\", final_df.columns.tolist())"
   ]
  },
  {
   "cell_type": "code",
   "execution_count": null,
   "metadata": {},
   "outputs": [],
   "source": [
    "## colleting the ripples\n",
    "\n"
   ]
  },
  {
   "cell_type": "code",
   "execution_count": 9,
   "metadata": {},
   "outputs": [
    {
     "name": "stdout",
     "output_type": "stream",
     "text": [
      "\n",
      "Processed 150 files\n",
      "Final DataFrame shape: (150, 10)\n",
      "Columns: ['animal_id', 'session_id', 'matlab_day', 'lfp_py', 'lfp_sr', 'lfp_py_time', 'lfp_sr_time', 'smoothed_speed', 'time_stemp', 'file_path']\n"
     ]
    }
   ],
   "source": [
    "# Optional: Save to file\n",
    "final_df.to_pickle(r'Q:/sachuriga/CR_CA1_paper/tables/combined_data_for_LFP.pkl')\n",
    "\n",
    "print(f\"\\nProcessed {len(all_dataframes)} files\")\n",
    "print(f\"Final DataFrame shape: {final_df.shape}\")\n",
    "print(\"Columns:\", final_df.columns.tolist())"
   ]
  },
  {
   "cell_type": "code",
   "execution_count": 3,
   "metadata": {},
   "outputs": [
    {
     "name": "stderr",
     "output_type": "stream",
     "text": [
      "Q:\\sachuriga\\Sachuriga_Python\\quattrocolo-nwb4fp\\src\\nwb4fp\\analyses\\examples\\tracking_plot.py:5: DeprecationWarning: Please import `center_of_mass` from the `scipy.ndimage` namespace; the `scipy.ndimage.measurements` namespace is deprecated and will be removed in SciPy 2.0.0.\n",
      "  from scipy.ndimage.measurements import center_of_mass\n"
     ]
    }
   ],
   "source": [
    "import numpy as np\n",
    "from scipy import signal\n",
    "from neurochat.nc_data import NData\n",
    "from neurochat.nc_spike import NSpike\n",
    "from neurochat.nc_spatial import NSpatial\n",
    "import neurochat.nc_plot as nc_plot\n",
    "from neurochat.nc_lfp import NLfp\n",
    "import matplotlib.pyplot as plt\n",
    "import numpy as np\n",
    "from pynwb import NWBHDF5IO\n",
    "import matplotlib.pyplot as plt\n",
    "import numpy as np\n",
    "import math\n",
    "import pynapple as nap\n",
    "import numpy as np\n",
    "from scipy import signal\n",
    "import matplotlib.pyplot as plt\n",
    "import numpy as np\n",
    "from sklearn.preprocessing import normalize\n",
    "\n",
    "import sys\n",
    "import nwb4fp.analyses.maps as mapp\n",
    "from nwb4fp.analyses.examples.tracking_plot import plot_ratemap,plot_path,plot_ratemap_ax\n",
    "from nwb4fp.analyses.fields import separate_fields_by_laplace, separate_fields_by_dilation,find_peaks,separate_fields_by_laplace_of_gaussian,calculate_field_centers,distance_to_edge_function, remove_fields_by_area, map_pass_to_unit_circle,which_field,compute_crossings\n",
    "from elephant.statistics import time_histogram, instantaneous_rate\n",
    "from nwb4fp.analyses import maps\n",
    "from nwb4fp.analyses.data import pos2speed,speed_filtered_spikes,load_speed_fromNWB,load_units_fromNWB,find_run_indices\n",
    "from nwb4fp.data.helpers import unit_location_ch\n",
    "from scipy.ndimage import gaussian_filter\n",
    "import ast\n",
    "import numpy as np\n",
    "from scipy import signal\n",
    "from scipy.ndimage import gaussian_filter1d\n",
    "import matplotlib.pyplot as plt\n",
    "import os\n",
    "import pandas as pd\n",
    "\n",
    "\n",
    "def bandpass_filter(signal_data, fs, f_stop_low, f_pass_low, f_pass_high, f_stop_high, numtaps=101):\n",
    "    \"\"\"\n",
    "    Apply an acausal (zero phase shift) FIR bandpass filter to a signal.\n",
    "    \n",
    "    Parameters:\n",
    "    - signal_data: Input signal (e.g., LFP data as a 1D NumPy array)\n",
    "    - fs: Sampling frequency in Hz\n",
    "    - f_stop_low: Stopband low cutoff frequency (Hz)\n",
    "    - f_pass_low: Passband low cutoff frequency (Hz)\n",
    "    - f_pass_high: Passband high cutoff frequency (Hz)\n",
    "    - f_stop_high: Stopband high cutoff frequency (Hz)\n",
    "    - numtaps: Number of filter taps (order + 1, default=101, higher for sharper transitions)\n",
    "    \n",
    "    Returns:\n",
    "    - filtered_signal: The bandpass-filtered signal\n",
    "    \"\"\"\n",
    "    # Nyquist frequency\n",
    "    nyquist = fs / 2\n",
    "    \n",
    "    # Normalized frequencies for filter design\n",
    "    freqs = [f_stop_low, f_pass_low, f_pass_high, f_stop_high]\n",
    "    freqs_normalized = [f / nyquist for f in freqs]\n",
    "    \n",
    "    # Amplitude response: 0 for stopband, 1 for passband\n",
    "    amps = [0, 1, 1, 0]\n",
    "    \n",
    "    # Design FIR filter using least-squares method\n",
    "    coeffs = signal.firls(numtaps, freqs_normalized, amps)\n",
    "    \n",
    "    # Apply zero-phase filtering (acausal)\n",
    "    filtered_signal = signal.filtfilt(coeffs, 1.0, signal_data)\n",
    "    \n",
    "    return filtered_signal\n",
    "\n",
    "import numpy as np\n",
    "from scipy.signal import butter, filtfilt, welch\n",
    "from scipy.fft import fft, fftfreq\n",
    "import numpy as np\n",
    "from scipy.signal import butter, filtfilt, hilbert\n",
    "import pynapple as nap\n",
    "import numpy as np\n",
    "from scipy.signal import butter, filtfilt, hilbert\n",
    "from scipy.fft import fft, fftfreq\n",
    "# Bandpass filter for gamma (30-100 Hz)\n",
    "\n",
    "def butter_bandpass_butter(lowcut, highcut, fs, order=4):\n",
    "    nyquist = 0.5 * fs\n",
    "    low = lowcut / nyquist\n",
    "    high = highcut / nyquist\n",
    "    b, a = butter(order, [low, high], btype='band')\n",
    "    return b, a\n",
    "\n",
    "def gamma_event(signal, time_input, gamma_band):\n",
    "    # Simulate a signal (replace with your actual LFP data)\n",
    "    fs = 1000\n",
    "    signal = signal\n",
    "    t =  time_input  # Time in seconds\n",
    "\n",
    "\n",
    "    # Step 1 & 2: Compute time-varying power in gamma band\n",
    "    window_size = 0.1 * fs  # 100 ms window\n",
    "    step_size = 0.01 * fs   # 10 ms step\n",
    "    times = []\n",
    "    power_values = []\n",
    "\n",
    "    for start in range(0, len(signal) - int(window_size), int(step_size)):\n",
    "        window = signal[start:start + int(window_size)]\n",
    "        f = fftfreq(int(window_size), 1/fs)\n",
    "        psd = np.abs(fft(window))**2\n",
    "        idx = np.logical_and(f >= gamma_band[0], f <= gamma_band[1])\n",
    "        avg_power = np.mean(psd[idx])\n",
    "        times.append(start + window_size / 2)  # Center of window\n",
    "        power_values.append(avg_power)\n",
    "\n",
    "    times = np.array(times) * (1000 / fs)  # Convert to ms\n",
    "    power_values = np.array(power_values)\n",
    "\n",
    "    # Step 3: Threshold power at 2 SD above mean\n",
    "    mean_power = np.mean(power_values)\n",
    "    std_power = np.std(power_values)\n",
    "    threshold = mean_power + 2 * std_power\n",
    "    high_power_times = times[power_values > threshold]\n",
    "\n",
    "    # Step 4: Extract 160 ms windows around high-power points\n",
    "    window_160ms = 160  # ms\n",
    "    samples_160ms = int(window_160ms * fs / 1000 / 2)  # Half window in samples\n",
    "    gamma_windows = []\n",
    "\n",
    "    b, a = butter_bandpass_butter(30, 100, fs)\n",
    "    filtered_signal = filtfilt(b, a, signal)\n",
    "\n",
    "    for t in high_power_times:\n",
    "        center = int(t * fs / 1000)\n",
    "        start = max(0, center - samples_160ms)\n",
    "        end = min(len(signal), center + samples_160ms)\n",
    "        gamma_windows.append((start, end))\n",
    "\n",
    "    # Step 5: Find maxima in gamma filtered signal within each window\n",
    "    maxima_times = []\n",
    "    for start, end in gamma_windows:\n",
    "        segment = filtered_signal[start:end]\n",
    "        peak_idx = start + np.argmax(segment)\n",
    "        maxima_times.append(peak_idx * 1000 / fs)  # Convert to ms\n",
    "\n",
    "    # Step 6: Remove duplicates and enforce 100 ms separation\n",
    "    maxima_times = np.unique(maxima_times)  # Remove identical maxima\n",
    "    filtered_maxima = []\n",
    "    for i, t in enumerate(maxima_times):\n",
    "        if i == 0 or (t - maxima_times[i-1]) >= 100:\n",
    "            filtered_maxima.append(t)\n",
    "\n",
    "    # Step 7: Construct 400 ms windows around maxima from original signal\n",
    "    window_400ms = 400  # ms\n",
    "    samples_400ms = int(window_400ms * fs / 1000 / 2)  # Half window in samples\n",
    "    final_windows = []\n",
    "\n",
    "    for t in filtered_maxima:\n",
    "        center = int(t * fs / 1000)\n",
    "        start = max(0, center - samples_400ms)\n",
    "        end = min(len(signal), center + samples_400ms)\n",
    "        final_windows.append(signal[start:end])\n",
    "\n",
    "    # Theta-gamma coupling analysis\n",
    "    data = signal  # Raw NumPy array\n",
    "    times = time_input  # Time points in seconds\n",
    "\n",
    "    # Step 1: Bandpass filter LFP in theta range (6-10 Hz)\n",
    "    b_theta, a_theta = butter_bandpass_butter(6, 10, fs)\n",
    "    theta_filtered = filtfilt(b_theta, a_theta, data)\n",
    "\n",
    "    # Step 2: Compute theta phase using Hilbert transform\n",
    "    analytic_signal = hilbert(theta_filtered)\n",
    "    theta_phase = np.angle(analytic_signal)  # Phases in radians (-pi to pi)\n",
    "\n",
    "    # Step 3: Extract theta phases at gamma maxima\n",
    "    gamma_maxima_idx = [np.argmin(np.abs(times * 1000 - t)) for t in filtered_maxima]\n",
    "    gamma_phases_rad = theta_phase[gamma_maxima_idx]  # Phases in radians\n",
    "\n",
    "    # Step 4: Calculate resultant vector from phase distribution\n",
    "    # Convert phases to complex numbers (unit vectors on the complex plane)\n",
    "    phase_vectors = np.exp(1j * gamma_phases_rad)\n",
    "    resultant_vector = np.mean(phase_vectors)  # Mean resultant vector\n",
    "    coupling_strength = np.abs(resultant_vector)  # Length of resultant vector\n",
    "\n",
    "    # Step 5: Bin gamma phases into 30° bins for distribution (optional visualization)\n",
    "    theta_phase_deg = np.degrees(theta_phase)  # Convert to degrees for binning\n",
    "    gamma_phases_deg = theta_phase_deg[gamma_maxima_idx]\n",
    "    bins = np.arange(0, 360 + 30, 30)  # 12 bins: [0-30), [30-60), ..., [330-360)\n",
    "    gamma_phase_hist, _ = np.histogram(gamma_phases_deg, bins=bins)\n",
    "\n",
    "    # Step 6: Normalize by total number of gamma events\n",
    "    total_gamma_events = len(filtered_maxima)\n",
    "    gamma_phase_dist = gamma_phase_hist / total_gamma_events\n",
    "\n",
    "    # Step 7: Calculate gamma events per second\n",
    "    signal_duration = len(times)/1000  # Duration in seconds\n",
    "    gamma_event_rate = total_gamma_events / signal_duration\n",
    "\n",
    "    print(f\"\\nTotal gamma events: {total_gamma_events}\")\n",
    "    print(f\"Signal duration: {signal_duration:.2f} seconds\")\n",
    "    print(f\"Gamma event rate: {gamma_event_rate:.2f} events/second\")\n",
    "    print(f\"Strength of theta-gamma coupling (resultant vector length): {coupling_strength:.3f}\")\n",
    "\n",
    "    return gamma_event_rate, coupling_strength\n",
    "\n",
    "# # Example usage\n",
    "# slow_gamma_band = (20,41)  # Define gamma band\n",
    "# slow_event_rate, slow_theta_gamma_coupling = gamma_event(signal,t, slow_gamma_band)\n",
    "# fast_gamma_band = (39,91)\n",
    "# fast_event_rate, fast_theta_gamma_coupling = gamma_event(signal,t, fast_gamma_band)"
   ]
  },
  {
   "cell_type": "code",
   "execution_count": 4,
   "metadata": {},
   "outputs": [],
   "source": [
    "final_df = pd.read_pickle(r\"Q:/sachuriga/CR_CA1_paper/tables/combined_data_for_LFP.pkl\")"
   ]
  },
  {
   "cell_type": "code",
   "execution_count": 5,
   "metadata": {},
   "outputs": [
    {
     "name": "stderr",
     "output_type": "stream",
     "text": [
      "C:\\Users\\sachur\\AppData\\Local\\Temp\\ipykernel_3332\\3316901180.py:11: UserWarning: Some epochs have no duration\n",
      "  run_ep = nap.IntervalSet(start=time_stemp[starts], end=time_stemp[stops], time_units='s')\n",
      "C:\\Users\\sachur\\AppData\\Local\\Temp\\ipykernel_3332\\3316901180.py:29: UserWarning: Some epochs have no duration\n",
      "  run_ep = nap.IntervalSet(start=time_stemp[starts], end=time_stemp[stops], time_units='s')\n"
     ]
    },
    {
     "name": "stdout",
     "output_type": "stream",
     "text": [
      "\n",
      "Total gamma events: 897\n",
      "Signal duration: 687.32 seconds\n",
      "Gamma event rate: 1.31 events/second\n",
      "Strength of theta-gamma coupling (resultant vector length): 0.132\n",
      "\n",
      "Total gamma events: 714\n",
      "Signal duration: 687.32 seconds\n",
      "Gamma event rate: 1.04 events/second\n",
      "Strength of theta-gamma coupling (resultant vector length): 0.157\n"
     ]
    },
    {
     "name": "stderr",
     "output_type": "stream",
     "text": [
      "C:\\Users\\sachur\\AppData\\Local\\Temp\\ipykernel_3332\\3316901180.py:29: UserWarning: Some epochs have no duration\n",
      "  run_ep = nap.IntervalSet(start=time_stemp[starts], end=time_stemp[stops], time_units='s')\n"
     ]
    },
    {
     "name": "stdout",
     "output_type": "stream",
     "text": [
      "\n",
      "Total gamma events: 934\n",
      "Signal duration: 687.32 seconds\n",
      "Gamma event rate: 1.36 events/second\n",
      "Strength of theta-gamma coupling (resultant vector length): 0.147\n",
      "\n",
      "Total gamma events: 712\n",
      "Signal duration: 687.32 seconds\n",
      "Gamma event rate: 1.04 events/second\n",
      "Strength of theta-gamma coupling (resultant vector length): 0.120\n"
     ]
    },
    {
     "name": "stderr",
     "output_type": "stream",
     "text": [
      "C:\\Users\\sachur\\AppData\\Local\\Temp\\ipykernel_3332\\3316901180.py:29: UserWarning: Some epochs have no duration\n",
      "  run_ep = nap.IntervalSet(start=time_stemp[starts], end=time_stemp[stops], time_units='s')\n"
     ]
    },
    {
     "name": "stdout",
     "output_type": "stream",
     "text": [
      "\n",
      "Total gamma events: 912\n",
      "Signal duration: 687.32 seconds\n",
      "Gamma event rate: 1.33 events/second\n",
      "Strength of theta-gamma coupling (resultant vector length): 0.141\n",
      "\n",
      "Total gamma events: 696\n",
      "Signal duration: 687.32 seconds\n",
      "Gamma event rate: 1.01 events/second\n",
      "Strength of theta-gamma coupling (resultant vector length): 0.135\n"
     ]
    },
    {
     "name": "stderr",
     "output_type": "stream",
     "text": [
      "C:\\Users\\sachur\\AppData\\Local\\Temp\\ipykernel_3332\\3316901180.py:91: UserWarning: Some epochs have no duration\n",
      "  run_ep = nap.IntervalSet(start=time_stemp[starts], end=time_stemp[stops], time_units='s')\n"
     ]
    },
    {
     "name": "stdout",
     "output_type": "stream",
     "text": [
      "\n",
      "Total gamma events: 912\n",
      "Signal duration: 687.32 seconds\n",
      "Gamma event rate: 1.33 events/second\n",
      "Strength of theta-gamma coupling (resultant vector length): 0.141\n",
      "\n",
      "Total gamma events: 696\n",
      "Signal duration: 687.32 seconds\n",
      "Gamma event rate: 1.01 events/second\n",
      "Strength of theta-gamma coupling (resultant vector length): 0.135\n"
     ]
    },
    {
     "name": "stderr",
     "output_type": "stream",
     "text": [
      "C:\\Users\\sachur\\AppData\\Local\\Temp\\ipykernel_3332\\3316901180.py:91: UserWarning: Some epochs have no duration\n",
      "  run_ep = nap.IntervalSet(start=time_stemp[starts], end=time_stemp[stops], time_units='s')\n"
     ]
    },
    {
     "name": "stdout",
     "output_type": "stream",
     "text": [
      "\n",
      "Total gamma events: 912\n",
      "Signal duration: 687.32 seconds\n",
      "Gamma event rate: 1.33 events/second\n",
      "Strength of theta-gamma coupling (resultant vector length): 0.141\n",
      "\n",
      "Total gamma events: 696\n",
      "Signal duration: 687.32 seconds\n",
      "Gamma event rate: 1.01 events/second\n",
      "Strength of theta-gamma coupling (resultant vector length): 0.135\n"
     ]
    },
    {
     "name": "stderr",
     "output_type": "stream",
     "text": [
      "C:\\Users\\sachur\\AppData\\Local\\Temp\\ipykernel_3332\\3316901180.py:91: UserWarning: Some epochs have no duration\n",
      "  run_ep = nap.IntervalSet(start=time_stemp[starts], end=time_stemp[stops], time_units='s')\n"
     ]
    },
    {
     "name": "stdout",
     "output_type": "stream",
     "text": [
      "\n",
      "Total gamma events: 912\n",
      "Signal duration: 687.32 seconds\n",
      "Gamma event rate: 1.33 events/second\n",
      "Strength of theta-gamma coupling (resultant vector length): 0.141\n",
      "\n",
      "Total gamma events: 696\n",
      "Signal duration: 687.32 seconds\n",
      "Gamma event rate: 1.01 events/second\n",
      "Strength of theta-gamma coupling (resultant vector length): 0.135\n"
     ]
    },
    {
     "name": "stderr",
     "output_type": "stream",
     "text": [
      "C:\\Users\\sachur\\AppData\\Local\\Temp\\ipykernel_3332\\3316901180.py:91: UserWarning: Some epochs have no duration\n",
      "  run_ep = nap.IntervalSet(start=time_stemp[starts], end=time_stemp[stops], time_units='s')\n"
     ]
    },
    {
     "name": "stdout",
     "output_type": "stream",
     "text": [
      "\n",
      "Total gamma events: 912\n",
      "Signal duration: 687.32 seconds\n",
      "Gamma event rate: 1.33 events/second\n",
      "Strength of theta-gamma coupling (resultant vector length): 0.141\n",
      "\n",
      "Total gamma events: 696\n",
      "Signal duration: 687.32 seconds\n",
      "Gamma event rate: 1.01 events/second\n",
      "Strength of theta-gamma coupling (resultant vector length): 0.135\n"
     ]
    },
    {
     "name": "stderr",
     "output_type": "stream",
     "text": [
      "C:\\Users\\sachur\\AppData\\Local\\Temp\\ipykernel_3332\\3316901180.py:91: UserWarning: Some epochs have no duration\n",
      "  run_ep = nap.IntervalSet(start=time_stemp[starts], end=time_stemp[stops], time_units='s')\n"
     ]
    },
    {
     "name": "stdout",
     "output_type": "stream",
     "text": [
      "\n",
      "Total gamma events: 912\n",
      "Signal duration: 687.32 seconds\n",
      "Gamma event rate: 1.33 events/second\n",
      "Strength of theta-gamma coupling (resultant vector length): 0.141\n",
      "\n",
      "Total gamma events: 696\n",
      "Signal duration: 687.32 seconds\n",
      "Gamma event rate: 1.01 events/second\n",
      "Strength of theta-gamma coupling (resultant vector length): 0.135\n"
     ]
    },
    {
     "name": "stderr",
     "output_type": "stream",
     "text": [
      "C:\\Users\\sachur\\AppData\\Local\\Temp\\ipykernel_3332\\3316901180.py:91: UserWarning: Some epochs have no duration\n",
      "  run_ep = nap.IntervalSet(start=time_stemp[starts], end=time_stemp[stops], time_units='s')\n"
     ]
    },
    {
     "name": "stdout",
     "output_type": "stream",
     "text": [
      "\n",
      "Total gamma events: 912\n",
      "Signal duration: 687.32 seconds\n",
      "Gamma event rate: 1.33 events/second\n",
      "Strength of theta-gamma coupling (resultant vector length): 0.141\n",
      "\n",
      "Total gamma events: 696\n",
      "Signal duration: 687.32 seconds\n",
      "Gamma event rate: 1.01 events/second\n",
      "Strength of theta-gamma coupling (resultant vector length): 0.135\n"
     ]
    },
    {
     "name": "stderr",
     "output_type": "stream",
     "text": [
      "C:\\Users\\sachur\\AppData\\Local\\Temp\\ipykernel_3332\\3316901180.py:11: UserWarning: Some epochs have no duration\n",
      "  run_ep = nap.IntervalSet(start=time_stemp[starts], end=time_stemp[stops], time_units='s')\n",
      "C:\\Users\\sachur\\AppData\\Local\\Temp\\ipykernel_3332\\3316901180.py:29: UserWarning: Some epochs have no duration\n",
      "  run_ep = nap.IntervalSet(start=time_stemp[starts], end=time_stemp[stops], time_units='s')\n"
     ]
    },
    {
     "name": "stdout",
     "output_type": "stream",
     "text": [
      "\n",
      "Total gamma events: 1107\n",
      "Signal duration: 863.11 seconds\n",
      "Gamma event rate: 1.28 events/second\n",
      "Strength of theta-gamma coupling (resultant vector length): 0.076\n",
      "\n",
      "Total gamma events: 762\n",
      "Signal duration: 863.11 seconds\n",
      "Gamma event rate: 0.88 events/second\n",
      "Strength of theta-gamma coupling (resultant vector length): 0.053\n"
     ]
    },
    {
     "name": "stderr",
     "output_type": "stream",
     "text": [
      "C:\\Users\\sachur\\AppData\\Local\\Temp\\ipykernel_3332\\3316901180.py:29: UserWarning: Some epochs have no duration\n",
      "  run_ep = nap.IntervalSet(start=time_stemp[starts], end=time_stemp[stops], time_units='s')\n"
     ]
    },
    {
     "name": "stdout",
     "output_type": "stream",
     "text": [
      "\n",
      "Total gamma events: 1095\n",
      "Signal duration: 863.11 seconds\n",
      "Gamma event rate: 1.27 events/second\n",
      "Strength of theta-gamma coupling (resultant vector length): 0.058\n",
      "\n",
      "Total gamma events: 760\n",
      "Signal duration: 863.11 seconds\n",
      "Gamma event rate: 0.88 events/second\n",
      "Strength of theta-gamma coupling (resultant vector length): 0.023\n"
     ]
    },
    {
     "name": "stderr",
     "output_type": "stream",
     "text": [
      "C:\\Users\\sachur\\AppData\\Local\\Temp\\ipykernel_3332\\3316901180.py:29: UserWarning: Some epochs have no duration\n",
      "  run_ep = nap.IntervalSet(start=time_stemp[starts], end=time_stemp[stops], time_units='s')\n"
     ]
    },
    {
     "name": "stdout",
     "output_type": "stream",
     "text": [
      "\n",
      "Total gamma events: 1032\n",
      "Signal duration: 863.11 seconds\n",
      "Gamma event rate: 1.20 events/second\n",
      "Strength of theta-gamma coupling (resultant vector length): 0.128\n",
      "\n",
      "Total gamma events: 900\n",
      "Signal duration: 863.11 seconds\n",
      "Gamma event rate: 1.04 events/second\n",
      "Strength of theta-gamma coupling (resultant vector length): 0.098\n"
     ]
    },
    {
     "name": "stderr",
     "output_type": "stream",
     "text": [
      "C:\\Users\\sachur\\AppData\\Local\\Temp\\ipykernel_3332\\3316901180.py:29: UserWarning: Some epochs have no duration\n",
      "  run_ep = nap.IntervalSet(start=time_stemp[starts], end=time_stemp[stops], time_units='s')\n"
     ]
    },
    {
     "name": "stdout",
     "output_type": "stream",
     "text": [
      "\n",
      "Total gamma events: 1045\n",
      "Signal duration: 863.11 seconds\n",
      "Gamma event rate: 1.21 events/second\n",
      "Strength of theta-gamma coupling (resultant vector length): 0.086\n",
      "\n",
      "Total gamma events: 817\n",
      "Signal duration: 863.11 seconds\n",
      "Gamma event rate: 0.95 events/second\n",
      "Strength of theta-gamma coupling (resultant vector length): 0.063\n"
     ]
    },
    {
     "name": "stderr",
     "output_type": "stream",
     "text": [
      "C:\\Users\\sachur\\AppData\\Local\\Temp\\ipykernel_3332\\3316901180.py:91: UserWarning: Some epochs have no duration\n",
      "  run_ep = nap.IntervalSet(start=time_stemp[starts], end=time_stemp[stops], time_units='s')\n"
     ]
    },
    {
     "name": "stdout",
     "output_type": "stream",
     "text": [
      "\n",
      "Total gamma events: 1045\n",
      "Signal duration: 863.11 seconds\n",
      "Gamma event rate: 1.21 events/second\n",
      "Strength of theta-gamma coupling (resultant vector length): 0.086\n",
      "\n",
      "Total gamma events: 817\n",
      "Signal duration: 863.11 seconds\n",
      "Gamma event rate: 0.95 events/second\n",
      "Strength of theta-gamma coupling (resultant vector length): 0.063\n"
     ]
    },
    {
     "name": "stderr",
     "output_type": "stream",
     "text": [
      "C:\\Users\\sachur\\AppData\\Local\\Temp\\ipykernel_3332\\3316901180.py:91: UserWarning: Some epochs have no duration\n",
      "  run_ep = nap.IntervalSet(start=time_stemp[starts], end=time_stemp[stops], time_units='s')\n"
     ]
    },
    {
     "name": "stdout",
     "output_type": "stream",
     "text": [
      "\n",
      "Total gamma events: 1045\n",
      "Signal duration: 863.11 seconds\n",
      "Gamma event rate: 1.21 events/second\n",
      "Strength of theta-gamma coupling (resultant vector length): 0.086\n",
      "\n",
      "Total gamma events: 817\n",
      "Signal duration: 863.11 seconds\n",
      "Gamma event rate: 0.95 events/second\n",
      "Strength of theta-gamma coupling (resultant vector length): 0.063\n"
     ]
    },
    {
     "name": "stderr",
     "output_type": "stream",
     "text": [
      "C:\\Users\\sachur\\AppData\\Local\\Temp\\ipykernel_3332\\3316901180.py:91: UserWarning: Some epochs have no duration\n",
      "  run_ep = nap.IntervalSet(start=time_stemp[starts], end=time_stemp[stops], time_units='s')\n"
     ]
    },
    {
     "name": "stdout",
     "output_type": "stream",
     "text": [
      "\n",
      "Total gamma events: 1045\n",
      "Signal duration: 863.11 seconds\n",
      "Gamma event rate: 1.21 events/second\n",
      "Strength of theta-gamma coupling (resultant vector length): 0.086\n",
      "\n",
      "Total gamma events: 817\n",
      "Signal duration: 863.11 seconds\n",
      "Gamma event rate: 0.95 events/second\n",
      "Strength of theta-gamma coupling (resultant vector length): 0.063\n"
     ]
    },
    {
     "name": "stderr",
     "output_type": "stream",
     "text": [
      "C:\\Users\\sachur\\AppData\\Local\\Temp\\ipykernel_3332\\3316901180.py:91: UserWarning: Some epochs have no duration\n",
      "  run_ep = nap.IntervalSet(start=time_stemp[starts], end=time_stemp[stops], time_units='s')\n"
     ]
    },
    {
     "name": "stdout",
     "output_type": "stream",
     "text": [
      "\n",
      "Total gamma events: 1045\n",
      "Signal duration: 863.11 seconds\n",
      "Gamma event rate: 1.21 events/second\n",
      "Strength of theta-gamma coupling (resultant vector length): 0.086\n",
      "\n",
      "Total gamma events: 817\n",
      "Signal duration: 863.11 seconds\n",
      "Gamma event rate: 0.95 events/second\n",
      "Strength of theta-gamma coupling (resultant vector length): 0.063\n"
     ]
    }
   ],
   "source": [
    "#final_df = pd.read_pickle(r\"Q:/sachuriga/CR_CA1_paper/tables/combined_data_for_LFP.pkl\")\n",
    "fs=1000\n",
    "all_temp_rows = []\n",
    "i=0\n",
    "for index,row in final_df.iterrows():\n",
    "\n",
    "    smoothed_speed = row['smoothed_speed']\n",
    "    time_stemp = row['time_stemp'] \n",
    "    ## calculate ran epoch\n",
    "    starts,stops = find_run_indices(smoothed_speed, threshold=0.05)\n",
    "    run_ep = nap.IntervalSet(start=time_stemp[starts], end=time_stemp[stops], time_units='s')\n",
    "    wake_ep = nap.IntervalSet(start=time_stemp[0], end=time_stemp[-1], time_units='s')\n",
    "    rest_ep = wake_ep.set_diff(run_ep)\n",
    "    ## Calculated the power\n",
    "    #power = nap.compute_power_spectral_density(eeg_example, fs=1000, ep=wake_ep)\n",
    "\n",
    "    if  any(final_df['lfp_sr']):\n",
    "        lfp_sr_norm = []\n",
    "        lfp_sr_norm_run = []\n",
    "        lfp_sr_norm_rest = []\n",
    "        sr=[]\n",
    "        sttr=[]\n",
    "        fsr=[]\n",
    "        fstr=[]\n",
    "        for eeg_example in row['lfp_sr']:\n",
    "\n",
    "            fs=1000\n",
    "            starts,stops = find_run_indices(smoothed_speed, threshold=0.05)\n",
    "            run_ep = nap.IntervalSet(start=time_stemp[starts], end=time_stemp[stops], time_units='s')\n",
    "            wake_ep = nap.IntervalSet(start=time_stemp[0], end=time_stemp[-1], time_units='s')\n",
    "            rest_ep = wake_ep.set_diff(run_ep)\n",
    "\n",
    "            power = nap.compute_power_spectral_density(eeg_example, fs=1000, ep=wake_ep)\n",
    "            # Define the frequency range for normalization (1–100 Hz)\n",
    "\n",
    "            freqs = power.index.values  # Frequency array\n",
    "            power_vals = power.values    # Power array\n",
    "\n",
    "            freq_mask = (freqs >= 1) & (freqs <= 100)\n",
    "            freqs_range = freqs[freq_mask]\n",
    "            power_range = power_vals[freq_mask]\n",
    "\n",
    "            # Compute total power in the 1–100 Hz band\n",
    "            total_power = np.sum(power_range)\n",
    "\n",
    "            # Normalize the power\n",
    "            normalized_power = power_vals / total_power\n",
    "\n",
    "            power_run = nap.compute_mean_power_spectral_density(\n",
    "                eeg_example, 1.5, fs=fs, ep=run_ep\n",
    "            )\n",
    "            power_rest = nap.compute_mean_power_spectral_density(\n",
    "                eeg_example, 1.5, fs=fs, ep=rest_ep\n",
    "            )\n",
    "            # Normalize run and rest power\n",
    "            power_run[0] = power_run.values / np.sum(power_run.values[(power_run.index >= 1) & (power_run.index <= 100)])\n",
    "            power_rest[0]  = power_rest.values / np.sum(power_rest.values[(power_rest.index >= 1) & (power_rest.index <= 100)])\n",
    "            lfp_sr_norm_run.append(power_run[0])\n",
    "            lfp_sr_norm_rest.append(power_rest[0])\n",
    "            fs=1000\n",
    "            signal = eeg_example.restrict(run_ep).values\n",
    "            t = eeg_example.restrict(run_ep).index.values\n",
    "            # Example usage\n",
    "            # Example usage\n",
    "            slow_gamma_band = (20,41)  # Define gamma band\n",
    "            slow_event_rate, slow_theta_gamma_coupling = gamma_event(signal,t, slow_gamma_band)\n",
    "            fast_gamma_band = (39,91)\n",
    "            fast_event_rate, fast_theta_gamma_coupling = gamma_event(signal,t, fast_gamma_band)\n",
    "            sr.append(slow_event_rate)\n",
    "            sttr.append(slow_theta_gamma_coupling)\n",
    "            fsr.append(fast_event_rate)\n",
    "            fstr.append(fast_theta_gamma_coupling )\n",
    "        row['lfp_sr_norm_run']=lfp_sr_norm_run\n",
    "        row['lfp_sr_norm_rest']=lfp_sr_norm_rest\n",
    "        row['slow_event_rate_sr']=sr\n",
    "        row['slow_theta_gamma_coupling_sr']=sttr\n",
    "        row['fast_event_rate_sr']=fsr\n",
    "        row['fast_theta_gamma_coupling_sr']=fstr\n",
    "\n",
    "    if  any(final_df['lfp_py']):\n",
    "        lfp_py_norm = []\n",
    "        lfp_py_norm_run = []\n",
    "        lfp_py_norm_rest = []\n",
    "        sr=[]\n",
    "        sttr=[]\n",
    "        fsr=[]\n",
    "        fstr=[]\n",
    "        for eeg_example in row['lfp_py']:\n",
    "            fs=1000\n",
    "            starts,stops = find_run_indices(smoothed_speed, threshold=0.05)\n",
    "            run_ep = nap.IntervalSet(start=time_stemp[starts], end=time_stemp[stops], time_units='s')\n",
    "            wake_ep = nap.IntervalSet(start=time_stemp[0], end=time_stemp[-1], time_units='s')\n",
    "            rest_ep = wake_ep.set_diff(run_ep)\n",
    "\n",
    "            power = nap.compute_power_spectral_density(eeg_example, fs=1000, ep=wake_ep)\n",
    "            # Define the frequency range for normalization (1–100 Hz)\n",
    "\n",
    "            freqs = power.index.values  # Frequency array\n",
    "            power_vals = power.values    # Power array\n",
    "\n",
    "            freq_mask = (freqs >= 1) & (freqs <= 100)\n",
    "            freqs_range = freqs[freq_mask]\n",
    "            power_range = power_vals[freq_mask]\n",
    "\n",
    "            # Compute total power in the 1–100 Hz band\n",
    "            total_power = np.sum(power_range)\n",
    "\n",
    "            # Normalize the power\n",
    "            normalized_power = power_vals / total_power\n",
    "\n",
    "            power_run = nap.compute_mean_power_spectral_density(\n",
    "                eeg_example, 1.5, fs=fs, ep=run_ep\n",
    "            )\n",
    "            power_rest = nap.compute_mean_power_spectral_density(\n",
    "                eeg_example, 1.5, fs=fs, ep=rest_ep\n",
    "            )\n",
    "            # Normalize run and rest power\n",
    "            power_run[0] = power_run.values / np.sum(power_run.values[(power_run.index >= 1) & (power_run.index <= 100)])\n",
    "            power_rest[0]  = power_rest.values / np.sum(power_rest.values[(power_rest.index >= 1) & (power_rest.index <= 100)])\n",
    "            lfp_py_norm_run.append(power_run[0])\n",
    "            lfp_py_norm_rest.append(power_rest[0])\n",
    "            slow_gamma_band = (20,41)  # Define gamma band\n",
    "            slow_event_rate, slow_theta_gamma_coupling = gamma_event(signal,t, slow_gamma_band)\n",
    "            fast_gamma_band = (39,91)\n",
    "            fast_event_rate, fast_theta_gamma_coupling = gamma_event(signal,t, fast_gamma_band)\n",
    "            sr.append(slow_event_rate)\n",
    "            sttr.append(slow_theta_gamma_coupling)\n",
    "            fsr.append(fast_event_rate)\n",
    "            fstr.append(fast_theta_gamma_coupling )\n",
    "        row['lfp_py_norm_run']=lfp_sr_norm_run\n",
    "        row['lfp_py_norm_rest']=lfp_sr_norm_rest\n",
    "        row['slow_event_rate_py']=sr\n",
    "        row['slow_theta_gamma_coupling_py']=sttr\n",
    "        row['fast_event_rate_py']=fsr\n",
    "        row['fast_theta_gamma_coupling_py']=fstr\n",
    "        \n",
    "    all_temp_rows.append(pd.DataFrame([row[::-1]], columns=row.index[::-1]))\n",
    "    i+=1\n",
    "    if i==2:\n",
    "        break"
   ]
  },
  {
   "cell_type": "code",
   "execution_count": null,
   "metadata": {},
   "outputs": [
    {
     "data": {
      "application/vnd.microsoft.datawrangler.viewer.v0+json": {
       "columns": [
        {
         "name": "index",
         "rawType": "int64",
         "type": "integer"
        },
        {
         "name": "fast_theta_gamma_coupling_py",
         "rawType": "object",
         "type": "unknown"
        },
        {
         "name": "fast_event_rate_py",
         "rawType": "object",
         "type": "unknown"
        },
        {
         "name": "slow_theta_gamma_coupling_py",
         "rawType": "object",
         "type": "unknown"
        },
        {
         "name": "slow_event_rate_py",
         "rawType": "object",
         "type": "unknown"
        },
        {
         "name": "lfp_py_norm_rest",
         "rawType": "object",
         "type": "unknown"
        },
        {
         "name": "lfp_py_norm_run",
         "rawType": "object",
         "type": "unknown"
        },
        {
         "name": "fast_theta_gamma_coupling_sr",
         "rawType": "object",
         "type": "unknown"
        },
        {
         "name": "fast_event_rate_sr",
         "rawType": "object",
         "type": "unknown"
        },
        {
         "name": "slow_theta_gamma_coupling_sr",
         "rawType": "object",
         "type": "unknown"
        },
        {
         "name": "slow_event_rate_sr",
         "rawType": "object",
         "type": "unknown"
        },
        {
         "name": "lfp_sr_norm_rest",
         "rawType": "object",
         "type": "unknown"
        },
        {
         "name": "lfp_sr_norm_run",
         "rawType": "object",
         "type": "unknown"
        },
        {
         "name": "file_path",
         "rawType": "object",
         "type": "string"
        },
        {
         "name": "time_stemp",
         "rawType": "object",
         "type": "unknown"
        },
        {
         "name": "smoothed_speed",
         "rawType": "object",
         "type": "unknown"
        },
        {
         "name": "lfp_sr_time",
         "rawType": "object",
         "type": "unknown"
        },
        {
         "name": "lfp_py_time",
         "rawType": "object",
         "type": "unknown"
        },
        {
         "name": "lfp_sr",
         "rawType": "object",
         "type": "unknown"
        },
        {
         "name": "lfp_py",
         "rawType": "object",
         "type": "unknown"
        },
        {
         "name": "matlab_day",
         "rawType": "object",
         "type": "string"
        },
        {
         "name": "session_id",
         "rawType": "object",
         "type": "string"
        },
        {
         "name": "animal_id",
         "rawType": "object",
         "type": "string"
        }
       ],
       "conversionMethod": "pd.DataFrame",
       "ref": "13650b5f-1b2b-49a2-a627-fd03f9abe569",
       "rows": [
        [
         "0",
         "[0.13547981133704654]",
         "[1.012630234287136]",
         "[0.14138062714250513]",
         "[1.3268947897555576]",
         "[0.000000      1.846738e-04\n0.666667      4.133462e-03\n1.333333      1.454727e-02\n2.000000      2.476313e-02\n2.666667      2.026836e-02\n                  ...     \n496.666667    1.063877e-08\n497.333333    1.063834e-08\n498.000000    1.063800e-08\n498.666667    1.063776e-08\n499.333333    1.063762e-08\nName: 0, Length: 750, dtype: float64, 0.000000      1.678123e-04\n0.666667      3.779863e-03\n1.333333      1.230795e-02\n2.000000      2.274068e-02\n2.666667      1.940004e-02\n                  ...     \n496.666667    1.037229e-08\n497.333333    1.037187e-08\n498.000000    1.037154e-08\n498.666667    1.037131e-08\n499.333333    1.037117e-08\nName: 0, Length: 750, dtype: float64, 0.000000      1.017846e-04\n0.666667      3.444380e-03\n1.333333      1.190848e-02\n2.000000      2.271766e-02\n2.666667      1.988641e-02\n                  ...     \n496.666667    1.003331e-08\n497.333333    1.003290e-08\n498.000000    1.003259e-08\n498.666667    1.003236e-08\n499.333333    1.003222e-08\nName: 0, Length: 750, dtype: float64]",
         "[0.000000      1.148271e-03\n0.666667      4.904282e-03\n1.333333      1.279190e-02\n2.000000      1.170650e-02\n2.666667      8.787122e-03\n                  ...     \n496.666667    8.537289e-09\n497.333333    8.536937e-09\n498.000000    8.536664e-09\n498.666667    8.536469e-09\n499.333333    8.536352e-09\nName: 0, Length: 750, dtype: float64, 0.000000      1.187285e-03\n0.666667      4.605910e-03\n1.333333      1.150997e-02\n2.000000      1.073825e-02\n2.666667      8.191286e-03\n                  ...     \n496.666667    8.873775e-09\n497.333333    8.873408e-09\n498.000000    8.873124e-09\n498.666667    8.872920e-09\n499.333333    8.872798e-09\nName: 0, Length: 750, dtype: float64, 0.000000      1.975790e-03\n0.666667      4.938316e-03\n1.333333      1.015002e-02\n2.000000      1.169561e-02\n2.666667      8.496774e-03\n                  ...     \n496.666667    8.796032e-09\n497.333333    8.795667e-09\n498.000000    8.795383e-09\n498.666667    8.795180e-09\n499.333333    8.795058e-09\nName: 0, Length: 750, dtype: float64]",
         "[0.13547981133704654]",
         "[1.012630234287136]",
         "[0.14138062714250513]",
         "[1.3268947897555576]",
         "[0.000000      1.846738e-04\n0.666667      4.133462e-03\n1.333333      1.454727e-02\n2.000000      2.476313e-02\n2.666667      2.026836e-02\n                  ...     \n496.666667    1.063877e-08\n497.333333    1.063834e-08\n498.000000    1.063800e-08\n498.666667    1.063776e-08\n499.333333    1.063762e-08\nName: 0, Length: 750, dtype: float64, 0.000000      1.678123e-04\n0.666667      3.779863e-03\n1.333333      1.230795e-02\n2.000000      2.274068e-02\n2.666667      1.940004e-02\n                  ...     \n496.666667    1.037229e-08\n497.333333    1.037187e-08\n498.000000    1.037154e-08\n498.666667    1.037131e-08\n499.333333    1.037117e-08\nName: 0, Length: 750, dtype: float64, 0.000000      1.017846e-04\n0.666667      3.444380e-03\n1.333333      1.190848e-02\n2.000000      2.271766e-02\n2.666667      1.988641e-02\n                  ...     \n496.666667    1.003331e-08\n497.333333    1.003290e-08\n498.000000    1.003259e-08\n498.666667    1.003236e-08\n499.333333    1.003222e-08\nName: 0, Length: 750, dtype: float64]",
         "[0.000000      1.148271e-03\n0.666667      4.904282e-03\n1.333333      1.279190e-02\n2.000000      1.170650e-02\n2.666667      8.787122e-03\n                  ...     \n496.666667    8.537289e-09\n497.333333    8.536937e-09\n498.000000    8.536664e-09\n498.666667    8.536469e-09\n499.333333    8.536352e-09\nName: 0, Length: 750, dtype: float64, 0.000000      1.187285e-03\n0.666667      4.605910e-03\n1.333333      1.150997e-02\n2.000000      1.073825e-02\n2.666667      8.191286e-03\n                  ...     \n496.666667    8.873775e-09\n497.333333    8.873408e-09\n498.000000    8.873124e-09\n498.666667    8.872920e-09\n499.333333    8.872798e-09\nName: 0, Length: 750, dtype: float64, 0.000000      1.975790e-03\n0.666667      4.938316e-03\n1.333333      1.015002e-02\n2.000000      1.169561e-02\n2.666667      8.496774e-03\n                  ...     \n496.666667    8.796032e-09\n497.333333    8.795667e-09\n498.000000    8.795383e-09\n498.666667    8.795180e-09\n499.333333    8.795058e-09\nName: 0, Length: 750, dtype: float64]",
         "63383_2024-07-10_A_units_table_withDLC.pkl",
         "[  76.44529724   76.46530151   76.48529816 ... 1259.41430664 1259.43432617\n 1259.4543457 ]",
         "[0.         0.24352074 0.10861733 ... 0.01915097 0.02018213 0.02687573]",
         "[array([  76.44563333,   76.44663333,   76.44763333, ..., 1259.45163333,\n       1259.45263333, 1259.45363333]), array([  76.44563333,   76.44663333,   76.44763333, ..., 1259.45163333,\n       1259.45263333, 1259.45363333]), array([  76.44563333,   76.44663333,   76.44763333, ..., 1259.45163333,\n       1259.45263333, 1259.45363333])]",
         "[array([  76.44563333,   76.44663333,   76.44763333, ..., 1259.45163333,\n       1259.45263333, 1259.45363333]), array([  76.44563333,   76.44663333,   76.44763333, ..., 1259.45163333,\n       1259.45263333, 1259.45363333]), array([  76.44563333,   76.44663333,   76.44763333, ..., 1259.45163333,\n       1259.45263333, 1259.45363333]), array([  76.44563333,   76.44663333,   76.44763333, ..., 1259.45163333,\n       1259.45263333, 1259.45363333]), array([  76.44563333,   76.44663333,   76.44763333, ..., 1259.45163333,\n       1259.45263333, 1259.45363333]), array([  76.44563333,   76.44663333,   76.44763333, ..., 1259.45163333,\n       1259.45263333, 1259.45363333])]",
         "[Time (s)\n--------------  ---------\n76.445633333     -43.6227\n76.446633333     -88.2748\n76.447633333    -122.764\n76.448633333    -140.993\n76.449633333    -143.569\n76.450633333    -137.916\n76.451633333    -135.535\n...\n1259.447633333  -196.459\n1259.448633333  -176.549\n1259.449633333  -150.125\n1259.450633333  -122.015\n1259.451633333   -94.5588\n1259.452633333   -68.2106\n1259.453633333   -42.529\ndtype: float64, shape: (1183009,), Time (s)\n--------------  ---------\n76.445633333     -47.4911\n76.446633333    -111.187\n76.447633333    -160.356\n76.448633333    -186.122\n76.449633333    -188.912\n76.450633333    -178.564\n76.451633333    -170.374\n...\n1259.447633333  -222.478\n1259.448633333  -196.33\n1259.449633333  -162.406\n1259.450633333  -127.294\n1259.451633333   -95.1425\n1259.452633333   -67.0794\n1259.453633333   -41.7295\ndtype: float64, shape: (1183009,), Time (s)\n--------------  ---------\n76.445633333     -63.0301\n76.446633333    -160.528\n76.447633333    -235.994\n76.448633333    -275.036\n76.449633333    -276.105\n76.450633333    -251.01\n76.451633333    -219.93\n...\n1259.447633333  -405.207\n1259.448633333  -371.437\n1259.449633333  -321.003\n1259.450633333  -262.709\n1259.451633333  -203.587\n1259.452633333  -147.141\n1259.453633333   -93.1771\ndtype: float64, shape: (1183009,)]",
         "[Time (s)\n--------------  ----------\n76.445633333      -2.88763\n76.446633333     -28.1858\n76.447633333     -41.4661\n76.448633333     -35.3149\n76.449633333      -9.89717\n76.450633333      26.6767\n76.451633333      60.8057\n...\n1259.447633333  -313.46\n1259.448633333  -297.424\n1259.449633333  -276.5\n1259.450633333  -254.234\n1259.451633333  -232.677\n1259.452633333  -212.402\n1259.453633333  -192.983\ndtype: float64, shape: (1183009,), Time (s)\n--------------  ----------\n76.445633333      -6.68411\n76.446633333     -43.2914\n76.447633333     -65.8064\n76.448633333     -65.4543\n76.449633333     -42.2692\n76.450633333      -5.45008\n76.451633333      29.8034\n...\n1259.447633333  -335.709\n1259.448633333  -320.894\n1259.449633333  -295.899\n1259.450633333  -265.581\n1259.451633333  -233.76\n1259.452633333  -202.405\n1259.453633333  -171.762\ndtype: float64, shape: (1183009,), Time (s)\n--------------  ---------\n76.445633333     -60.7957\n76.446633333    -128.227\n76.447633333    -178.443\n76.448633333    -201.245\n76.449633333    -197.627\n76.450633333    -179.263\n76.451633333    -163.333\n...\n1259.447633333  -346.13\n1259.448633333  -319.476\n1259.449633333  -280.116\n1259.450633333  -234.707\n1259.451633333  -188.161\n1259.452633333  -142.829\n1259.453633333   -98.747\ndtype: float64, shape: (1183009,), Time (s)\n--------------  ---------\n76.445633333     -34.1983\n76.446633333    -114.878\n76.447633333    -172.115\n76.448633333    -190.786\n76.449633333    -169.808\n76.450633333    -122.707\n76.451633333     -71.9062\n...\n1259.447633333  -443.472\n1259.448633333  -428.588\n1259.449633333  -395.484\n1259.450633333  -349.214\n1259.451633333  -295.327\n1259.452633333  -238.121\n1259.453633333  -179.937\ndtype: float64, shape: (1183009,), Time (s)\n--------------  ----------\n76.445633333     -17.5238\n76.446633333     -84.1474\n76.447633333    -124.72\n76.448633333    -122.712\n76.449633333     -77.3072\n76.450633333      -3.64638\n76.451633333      73.5943\n...\n1259.447633333  -528.424\n1259.448633333  -525.87\n1259.449633333  -504.172\n1259.450633333  -463.945\n1259.451633333  -407.232\n1259.452633333  -337.748\n1259.453633333  -261.152\ndtype: float64, shape: (1183009,), Time (s)\n--------------  ---------\n76.445633333      13.2236\n76.446633333     -79.4645\n76.447633333    -143.585\n76.448633333    -161.023\n76.449633333    -130.029\n76.450633333     -64.2751\n76.451633333      13.8353\n...\n1259.447633333  -478.158\n1259.448633333  -476.15\n1259.449633333  -458.364\n1259.450633333  -423.405\n1259.451633333  -371.347\n1259.452633333  -304.98\n1259.453633333  -230.327\ndtype: float64, shape: (1183009,)]",
         "2024-07-10",
         "63383_2024-07-10_15-37-51_A_phy_k_manual.nwb",
         "63383"
        ],
        [
         "1",
         "[0.06252412462525682]",
         "[0.9465736236159111]",
         "[0.08621857867869313]",
         "[1.2107337046250026]",
         "[0.000000      2.440597e-04\n0.666667      4.897540e-03\n1.333333      1.359857e-02\n2.000000      1.525852e-02\n2.666667      1.724729e-02\n                  ...     \n496.666667    8.441205e-09\n497.333333    8.440850e-09\n498.000000    8.440574e-09\n498.666667    8.440377e-09\n499.333333    8.440258e-09\nName: 0, Length: 750, dtype: float64, 0.000000      2.481289e-04\n0.666667      4.810372e-03\n1.333333      1.335816e-02\n2.000000      1.499095e-02\n2.666667      1.702249e-02\n                  ...     \n496.666667    7.887395e-09\n497.333333    7.887063e-09\n498.000000    7.886804e-09\n498.666667    7.886620e-09\n499.333333    7.886509e-09\nName: 0, Length: 750, dtype: float64, 0.000000      2.307533e-04\n0.666667      5.683104e-03\n1.333333      2.353365e-02\n2.000000      2.789216e-02\n2.666667      2.424912e-02\n                  ...     \n496.666667    7.742035e-09\n497.333333    7.741715e-09\n498.000000    7.741465e-09\n498.666667    7.741287e-09\n499.333333    7.741181e-09\nName: 0, Length: 750, dtype: float64, 0.000000      2.289003e-04\n0.666667      5.229241e-03\n1.333333      1.915177e-02\n2.000000      2.309016e-02\n2.666667      2.142366e-02\n                  ...     \n496.666667    8.287328e-09\n497.333333    8.286983e-09\n498.000000    8.286715e-09\n498.666667    8.286523e-09\n499.333333    8.286408e-09\nName: 0, Length: 750, dtype: float64]",
         "[0.000000      1.251423e-04\n0.666667      2.146371e-03\n1.333333      9.213928e-03\n2.000000      1.100144e-02\n2.666667      8.324708e-03\n                  ...     \n496.666667    6.481180e-09\n497.333333    6.480912e-09\n498.000000    6.480703e-09\n498.666667    6.480554e-09\n499.333333    6.480465e-09\nName: 0, Length: 750, dtype: float64, 0.000000      1.221650e-04\n0.666667      2.248252e-03\n1.333333      1.001038e-02\n2.000000      1.184265e-02\n2.666667      8.073482e-03\n                  ...     \n496.666667    6.796925e-09\n497.333333    6.796644e-09\n498.000000    6.796425e-09\n498.666667    6.796268e-09\n499.333333    6.796175e-09\nName: 0, Length: 750, dtype: float64, 0.000000      2.429666e-04\n0.666667      3.579211e-03\n1.333333      1.230702e-02\n2.000000      1.453259e-02\n2.666667      1.142000e-02\n                  ...     \n496.666667    6.863567e-09\n497.333333    6.863287e-09\n498.000000    6.863068e-09\n498.666667    6.862912e-09\n499.333333    6.862819e-09\nName: 0, Length: 750, dtype: float64, 0.000000      1.869795e-04\n0.666667      2.940261e-03\n1.333333      1.112849e-02\n2.000000      1.278885e-02\n2.666667      9.451025e-03\n                  ...     \n496.666667    6.760114e-09\n497.333333    6.759836e-09\n498.000000    6.759619e-09\n498.666667    6.759465e-09\n499.333333    6.759372e-09\nName: 0, Length: 750, dtype: float64]",
         "[0.06252412462525682]",
         "[0.9465736236159111]",
         "[0.08621857867869313]",
         "[1.2107337046250026]",
         "[0.000000      2.440597e-04\n0.666667      4.897540e-03\n1.333333      1.359857e-02\n2.000000      1.525852e-02\n2.666667      1.724729e-02\n                  ...     \n496.666667    8.441205e-09\n497.333333    8.440850e-09\n498.000000    8.440574e-09\n498.666667    8.440377e-09\n499.333333    8.440258e-09\nName: 0, Length: 750, dtype: float64, 0.000000      2.481289e-04\n0.666667      4.810372e-03\n1.333333      1.335816e-02\n2.000000      1.499095e-02\n2.666667      1.702249e-02\n                  ...     \n496.666667    7.887395e-09\n497.333333    7.887063e-09\n498.000000    7.886804e-09\n498.666667    7.886620e-09\n499.333333    7.886509e-09\nName: 0, Length: 750, dtype: float64, 0.000000      2.307533e-04\n0.666667      5.683104e-03\n1.333333      2.353365e-02\n2.000000      2.789216e-02\n2.666667      2.424912e-02\n                  ...     \n496.666667    7.742035e-09\n497.333333    7.741715e-09\n498.000000    7.741465e-09\n498.666667    7.741287e-09\n499.333333    7.741181e-09\nName: 0, Length: 750, dtype: float64, 0.000000      2.289003e-04\n0.666667      5.229241e-03\n1.333333      1.915177e-02\n2.000000      2.309016e-02\n2.666667      2.142366e-02\n                  ...     \n496.666667    8.287328e-09\n497.333333    8.286983e-09\n498.000000    8.286715e-09\n498.666667    8.286523e-09\n499.333333    8.286408e-09\nName: 0, Length: 750, dtype: float64]",
         "[0.000000      1.251423e-04\n0.666667      2.146371e-03\n1.333333      9.213928e-03\n2.000000      1.100144e-02\n2.666667      8.324708e-03\n                  ...     \n496.666667    6.481180e-09\n497.333333    6.480912e-09\n498.000000    6.480703e-09\n498.666667    6.480554e-09\n499.333333    6.480465e-09\nName: 0, Length: 750, dtype: float64, 0.000000      1.221650e-04\n0.666667      2.248252e-03\n1.333333      1.001038e-02\n2.000000      1.184265e-02\n2.666667      8.073482e-03\n                  ...     \n496.666667    6.796925e-09\n497.333333    6.796644e-09\n498.000000    6.796425e-09\n498.666667    6.796268e-09\n499.333333    6.796175e-09\nName: 0, Length: 750, dtype: float64, 0.000000      2.429666e-04\n0.666667      3.579211e-03\n1.333333      1.230702e-02\n2.000000      1.453259e-02\n2.666667      1.142000e-02\n                  ...     \n496.666667    6.863567e-09\n497.333333    6.863287e-09\n498.000000    6.863068e-09\n498.666667    6.862912e-09\n499.333333    6.862819e-09\nName: 0, Length: 750, dtype: float64, 0.000000      1.869795e-04\n0.666667      2.940261e-03\n1.333333      1.112849e-02\n2.000000      1.278885e-02\n2.666667      9.451025e-03\n                  ...     \n496.666667    6.760114e-09\n497.333333    6.759836e-09\n498.000000    6.759619e-09\n498.666667    6.759465e-09\n499.333333    6.759372e-09\nName: 0, Length: 750, dtype: float64]",
         "63383_2024-07-13_A_units_table_withDLC.pkl",
         "[  37.72303391   37.74303436   37.76303482 ... 1566.6373291  1566.65734863\n 1566.67724609]",
         "[0.         0.         0.         ... 0.16775197 0.06576292 0.10166951]",
         "[array([  37.72383333,   37.72483333,   37.72583333, ..., 1566.67483333,\n       1566.67583333, 1566.67683333]), array([  37.72383333,   37.72483333,   37.72583333, ..., 1566.67483333,\n       1566.67583333, 1566.67683333]), array([  37.72383333,   37.72483333,   37.72583333, ..., 1566.67483333,\n       1566.67583333, 1566.67683333]), array([  37.72383333,   37.72483333,   37.72583333, ..., 1566.67483333,\n       1566.67583333, 1566.67683333])]",
         "[array([  37.72383333,   37.72483333,   37.72583333, ..., 1566.67483333,\n       1566.67583333, 1566.67683333]), array([  37.72383333,   37.72483333,   37.72583333, ..., 1566.67483333,\n       1566.67583333, 1566.67683333]), array([  37.72383333,   37.72483333,   37.72583333, ..., 1566.67483333,\n       1566.67583333, 1566.67683333]), array([  37.72383333,   37.72483333,   37.72583333, ..., 1566.67483333,\n       1566.67583333, 1566.67683333])]",
         "[Time (s)\n--------------  ---------\n37.723833333     205.285\n37.724833333     224.51\n37.725833333     237.587\n37.726833333     240.286\n37.727833333     231.836\n37.728833333     215.516\n37.729833333     197.476\n...\n1566.670833333  -106.71\n1566.671833333  -118.989\n1566.672833333   -80.2168\n1566.673833333   -10.1356\n1566.674833333    65.7486\n1566.675833333   130.235\n1566.676833333   182.578\ndtype: float64, shape: (1528954,), Time (s)\n--------------  --------\n37.723833333    194.478\n37.724833333    210.607\n37.725833333    221.441\n37.726833333    223.685\n37.727833333    217.326\n37.728833333    205.662\n37.729833333    193.716\n...\n1566.670833333  -72.0359\n1566.671833333  -72.6116\n1566.672833333  -27.979\n1566.673833333   39.8421\n1566.674833333  105.023\n1566.675833333  152.073\n1566.676833333  183.328\ndtype: float64, shape: (1528954,), Time (s)\n--------------  ---------\n37.723833333     209.196\n37.724833333     234.949\n37.725833333     253.124\n37.726833333     257.753\n37.727833333     246.429\n37.728833333     221.957\n37.729833333     192.156\n...\n1566.670833333  -453.633\n1566.671833333  -440.462\n1566.672833333  -384.711\n1566.673833333  -304.55\n1566.674833333  -222.431\n1566.675833333  -152.826\n1566.676833333   -95.2657\ndtype: float64, shape: (1528954,), Time (s)\n--------------  ---------\n37.723833333     213.038\n37.724833333     241.122\n37.725833333     261.292\n37.726833333     267.642\n37.727833333     258.26\n37.728833333     236.523\n37.729833333     210.411\n...\n1566.670833333  -307.795\n1566.671833333  -301.248\n1566.672833333  -251.004\n1566.673833333  -175.214\n1566.674833333   -96.569\n1566.675833333   -29.8779\n1566.676833333    25.0196\ndtype: float64, shape: (1528954,)]",
         "[Time (s)\n--------------  -------\n37.723833333    147.28\n37.724833333    169.443\n37.725833333    191.608\n37.726833333    212.027\n37.727833333    227.22\n37.728833333    233.896\n37.729833333    231.028\n...\n1566.670833333  267.054\n1566.671833333  228.843\n1566.672833333  248.993\n1566.673833333  303.96\n1566.674833333  362.545\n1566.675833333  404.215\n1566.676833333  429.332\ndtype: float64, shape: (1528954,), Time (s)\n--------------  -------\n37.723833333    143.943\n37.724833333    160.012\n37.725833333    174.352\n37.726833333    185.132\n37.727833333    190.754\n37.728833333    190.576\n37.729833333    185.305\n...\n1566.670833333  249.651\n1566.671833333  222.937\n1566.672833333  249.674\n1566.673833333  304.472\n1566.674833333  357.118\n1566.675833333  389.422\n1566.676833333  403.814\ndtype: float64, shape: (1528954,), Time (s)\n--------------  ---------\n37.723833333    109.564\n37.724833333    114.882\n37.725833333    118.558\n37.726833333    118.752\n37.727833333    113.839\n37.728833333    103.376\n37.729833333     88.8056\n...\n1566.670833333   35.6342\n1566.671833333   -1.09879\n1566.672833333   -5.93859\n1566.673833333   16.2517\n1566.674833333   54.3835\n1566.675833333   97.941\n1566.676833333  141.767\ndtype: float64, shape: (1528954,), Time (s)\n--------------  ---------\n37.723833333    192.191\n37.724833333    205.874\n37.725833333    217.337\n37.726833333    223.744\n37.727833333    222.46\n37.728833333    213.059\n37.729833333    198.469\n...\n1566.670833333    2.43633\n1566.671833333  -16.9103\n1566.672833333   15.784\n1566.673833333   80.1376\n1566.674833333  149.441\n1566.675833333  205.85\n1566.676833333  249\ndtype: float64, shape: (1528954,)]",
         "2024-07-13",
         "63383_2024-07-13_14-10-05_A_phy_k_manual.nwb",
         "63383"
        ]
       ],
       "shape": {
        "columns": 22,
        "rows": 2
       }
      },
      "text/html": [
       "<div>\n",
       "<style scoped>\n",
       "    .dataframe tbody tr th:only-of-type {\n",
       "        vertical-align: middle;\n",
       "    }\n",
       "\n",
       "    .dataframe tbody tr th {\n",
       "        vertical-align: top;\n",
       "    }\n",
       "\n",
       "    .dataframe thead th {\n",
       "        text-align: right;\n",
       "    }\n",
       "</style>\n",
       "<table border=\"1\" class=\"dataframe\">\n",
       "  <thead>\n",
       "    <tr style=\"text-align: right;\">\n",
       "      <th></th>\n",
       "      <th>fast_theta_gamma_coupling_py</th>\n",
       "      <th>fast_event_rate_py</th>\n",
       "      <th>slow_theta_gamma_coupling_py</th>\n",
       "      <th>slow_event_rate_py</th>\n",
       "      <th>lfp_py_norm_rest</th>\n",
       "      <th>lfp_py_norm_run</th>\n",
       "      <th>fast_theta_gamma_coupling_sr</th>\n",
       "      <th>fast_event_rate_sr</th>\n",
       "      <th>slow_theta_gamma_coupling_sr</th>\n",
       "      <th>slow_event_rate_sr</th>\n",
       "      <th>...</th>\n",
       "      <th>file_path</th>\n",
       "      <th>time_stemp</th>\n",
       "      <th>smoothed_speed</th>\n",
       "      <th>lfp_sr_time</th>\n",
       "      <th>lfp_py_time</th>\n",
       "      <th>lfp_sr</th>\n",
       "      <th>lfp_py</th>\n",
       "      <th>matlab_day</th>\n",
       "      <th>session_id</th>\n",
       "      <th>animal_id</th>\n",
       "    </tr>\n",
       "  </thead>\n",
       "  <tbody>\n",
       "    <tr>\n",
       "      <th>0</th>\n",
       "      <td>[0.13547981133704654]</td>\n",
       "      <td>[1.012630234287136]</td>\n",
       "      <td>[0.14138062714250513]</td>\n",
       "      <td>[1.3268947897555576]</td>\n",
       "      <td>[[0.00018467382924071152, 0.004133461640721958...</td>\n",
       "      <td>[[0.0011482705475896618, 0.004904281816638039,...</td>\n",
       "      <td>[0.13547981133704654]</td>\n",
       "      <td>[1.012630234287136]</td>\n",
       "      <td>[0.14138062714250513]</td>\n",
       "      <td>[1.3268947897555576]</td>\n",
       "      <td>...</td>\n",
       "      <td>63383_2024-07-10_A_units_table_withDLC.pkl</td>\n",
       "      <td>[76.445297241, 76.465301514, 76.485298157, 76....</td>\n",
       "      <td>[0.0, 0.24352073669433594, 0.1086173272350508,...</td>\n",
       "      <td>[[76.445633333, 76.446633333, 76.447633333, 76...</td>\n",
       "      <td>[[76.445633333, 76.446633333, 76.447633333, 76...</td>\n",
       "      <td>[[-43.62272888712767, -88.27483547588128, -122...</td>\n",
       "      <td>[[-2.8876309351105895, -28.185761649259554, -4...</td>\n",
       "      <td>2024-07-10</td>\n",
       "      <td>63383_2024-07-10_15-37-51_A_phy_k_manual.nwb</td>\n",
       "      <td>63383</td>\n",
       "    </tr>\n",
       "    <tr>\n",
       "      <th>1</th>\n",
       "      <td>[0.06252412462525682]</td>\n",
       "      <td>[0.9465736236159111]</td>\n",
       "      <td>[0.08621857867869313]</td>\n",
       "      <td>[1.2107337046250026]</td>\n",
       "      <td>[[0.00024405970963201076, 0.004897539840865044...</td>\n",
       "      <td>[[0.00012514227958471233, 0.002146370730200562...</td>\n",
       "      <td>[0.06252412462525682]</td>\n",
       "      <td>[0.9465736236159111]</td>\n",
       "      <td>[0.08621857867869313]</td>\n",
       "      <td>[1.2107337046250026]</td>\n",
       "      <td>...</td>\n",
       "      <td>63383_2024-07-13_A_units_table_withDLC.pkl</td>\n",
       "      <td>[37.723033905, 37.743034363, 37.763034821, 37....</td>\n",
       "      <td>[0.0, 0.0, 0.0, 0.17481993991266132, 0.4633332...</td>\n",
       "      <td>[[37.723833333, 37.724833333, 37.725833333, 37...</td>\n",
       "      <td>[[37.723833333, 37.724833333, 37.725833333, 37...</td>\n",
       "      <td>[[205.28546383689815, 224.50952993685243, 237....</td>\n",
       "      <td>[[147.28015512450148, 169.44266392677136, 191....</td>\n",
       "      <td>2024-07-13</td>\n",
       "      <td>63383_2024-07-13_14-10-05_A_phy_k_manual.nwb</td>\n",
       "      <td>63383</td>\n",
       "    </tr>\n",
       "  </tbody>\n",
       "</table>\n",
       "<p>2 rows × 22 columns</p>\n",
       "</div>"
      ],
      "text/plain": [
       "  fast_theta_gamma_coupling_py    fast_event_rate_py  \\\n",
       "0        [0.13547981133704654]   [1.012630234287136]   \n",
       "1        [0.06252412462525682]  [0.9465736236159111]   \n",
       "\n",
       "  slow_theta_gamma_coupling_py    slow_event_rate_py  \\\n",
       "0        [0.14138062714250513]  [1.3268947897555576]   \n",
       "1        [0.08621857867869313]  [1.2107337046250026]   \n",
       "\n",
       "                                    lfp_py_norm_rest  \\\n",
       "0  [[0.00018467382924071152, 0.004133461640721958...   \n",
       "1  [[0.00024405970963201076, 0.004897539840865044...   \n",
       "\n",
       "                                     lfp_py_norm_run  \\\n",
       "0  [[0.0011482705475896618, 0.004904281816638039,...   \n",
       "1  [[0.00012514227958471233, 0.002146370730200562...   \n",
       "\n",
       "  fast_theta_gamma_coupling_sr    fast_event_rate_sr  \\\n",
       "0        [0.13547981133704654]   [1.012630234287136]   \n",
       "1        [0.06252412462525682]  [0.9465736236159111]   \n",
       "\n",
       "  slow_theta_gamma_coupling_sr    slow_event_rate_sr  ...  \\\n",
       "0        [0.14138062714250513]  [1.3268947897555576]  ...   \n",
       "1        [0.08621857867869313]  [1.2107337046250026]  ...   \n",
       "\n",
       "                                    file_path  \\\n",
       "0  63383_2024-07-10_A_units_table_withDLC.pkl   \n",
       "1  63383_2024-07-13_A_units_table_withDLC.pkl   \n",
       "\n",
       "                                          time_stemp  \\\n",
       "0  [76.445297241, 76.465301514, 76.485298157, 76....   \n",
       "1  [37.723033905, 37.743034363, 37.763034821, 37....   \n",
       "\n",
       "                                      smoothed_speed  \\\n",
       "0  [0.0, 0.24352073669433594, 0.1086173272350508,...   \n",
       "1  [0.0, 0.0, 0.0, 0.17481993991266132, 0.4633332...   \n",
       "\n",
       "                                         lfp_sr_time  \\\n",
       "0  [[76.445633333, 76.446633333, 76.447633333, 76...   \n",
       "1  [[37.723833333, 37.724833333, 37.725833333, 37...   \n",
       "\n",
       "                                         lfp_py_time  \\\n",
       "0  [[76.445633333, 76.446633333, 76.447633333, 76...   \n",
       "1  [[37.723833333, 37.724833333, 37.725833333, 37...   \n",
       "\n",
       "                                              lfp_sr  \\\n",
       "0  [[-43.62272888712767, -88.27483547588128, -122...   \n",
       "1  [[205.28546383689815, 224.50952993685243, 237....   \n",
       "\n",
       "                                              lfp_py  matlab_day  \\\n",
       "0  [[-2.8876309351105895, -28.185761649259554, -4...  2024-07-10   \n",
       "1  [[147.28015512450148, 169.44266392677136, 191....  2024-07-13   \n",
       "\n",
       "                                     session_id animal_id  \n",
       "0  63383_2024-07-10_15-37-51_A_phy_k_manual.nwb     63383  \n",
       "1  63383_2024-07-13_14-10-05_A_phy_k_manual.nwb     63383  \n",
       "\n",
       "[2 rows x 22 columns]"
      ]
     },
     "execution_count": 8,
     "metadata": {},
     "output_type": "execute_result"
    }
   ],
   "source": [
    "combined_temp_nwb = pd.concat(all_temp_rows, ignore_index=True)\n",
    "combined_temp_nwb.to_pickle(r\"S:\\Sachuriga\\Ephys_Recording\\CR_CA1\\LFP/LFp.pkl\")"
   ]
  },
  {
   "cell_type": "code",
   "execution_count": null,
   "metadata": {},
   "outputs": [
    {
     "name": "stdout",
     "output_type": "stream",
     "text": [
      "\n",
      "Total gamma events: 868\n",
      "Signal duration: 687.32 seconds\n",
      "Gamma event rate: 1.26 events/second\n",
      "Strength of theta-gamma coupling (resultant vector length): 0.151\n",
      "\n",
      "Total gamma events: 613\n",
      "Signal duration: 687.32 seconds\n",
      "Gamma event rate: 0.89 events/second\n",
      "Strength of theta-gamma coupling (resultant vector length): 0.158\n"
     ]
    }
   ],
   "source": [
    "import numpy as np\n",
    "from scipy.signal import butter, filtfilt, welch\n",
    "from scipy.fft import fft, fftfreq\n",
    "import numpy as np\n",
    "from scipy.signal import butter, filtfilt, hilbert\n",
    "import pynapple as nap\n",
    "import numpy as np\n",
    "from scipy.signal import butter, filtfilt, hilbert\n",
    "from scipy.fft import fft, fftfreq\n",
    "# Bandpass filter for gamma (30-100 Hz)\n",
    "\n",
    "def butter_bandpass(lowcut, highcut, fs, order=4):\n",
    "    nyquist = 0.5 * fs\n",
    "    low = lowcut / nyquist\n",
    "    high = highcut / nyquist\n",
    "    b, a = butter(order, [low, high], btype='band')\n",
    "    return b, a\n",
    "\n",
    "def gamma_event(signal, time_input, gamma_band):\n",
    "    # Simulate a signal (replace with your actual LFP data)\n",
    "    fs = 1000\n",
    "    signal = signal\n",
    "    t =  time_input  # Time in seconds\n",
    "\n",
    "\n",
    "    # Step 1 & 2: Compute time-varying power in gamma band\n",
    "    window_size = 0.1 * fs  # 100 ms window\n",
    "    step_size = 0.01 * fs   # 10 ms step\n",
    "    times = []\n",
    "    power_values = []\n",
    "\n",
    "    for start in range(0, len(signal) - int(window_size), int(step_size)):\n",
    "        window = signal[start:start + int(window_size)]\n",
    "        f = fftfreq(int(window_size), 1/fs)\n",
    "        psd = np.abs(fft(window))**2\n",
    "        idx = np.logical_and(f >= gamma_band[0], f <= gamma_band[1])\n",
    "        avg_power = np.mean(psd[idx])\n",
    "        times.append(start + window_size / 2)  # Center of window\n",
    "        power_values.append(avg_power)\n",
    "\n",
    "    times = np.array(times) * (1000 / fs)  # Convert to ms\n",
    "    power_values = np.array(power_values)\n",
    "\n",
    "    # Step 3: Threshold power at 2 SD above mean\n",
    "    mean_power = np.mean(power_values)\n",
    "    std_power = np.std(power_values)\n",
    "    threshold = mean_power + 2 * std_power\n",
    "    high_power_times = times[power_values > threshold]\n",
    "\n",
    "    # Step 4: Extract 160 ms windows around high-power points\n",
    "    window_160ms = 160  # ms\n",
    "    samples_160ms = int(window_160ms * fs / 1000 / 2)  # Half window in samples\n",
    "    gamma_windows = []\n",
    "\n",
    "    b, a = butter_bandpass(30, 100, fs)\n",
    "    filtered_signal = filtfilt(b, a, signal)\n",
    "\n",
    "    for t in high_power_times:\n",
    "        center = int(t * fs / 1000)\n",
    "        start = max(0, center - samples_160ms)\n",
    "        end = min(len(signal), center + samples_160ms)\n",
    "        gamma_windows.append((start, end))\n",
    "\n",
    "    # Step 5: Find maxima in gamma filtered signal within each window\n",
    "    maxima_times = []\n",
    "    for start, end in gamma_windows:\n",
    "        segment = filtered_signal[start:end]\n",
    "        peak_idx = start + np.argmax(segment)\n",
    "        maxima_times.append(peak_idx * 1000 / fs)  # Convert to ms\n",
    "\n",
    "    # Step 6: Remove duplicates and enforce 100 ms separation\n",
    "    maxima_times = np.unique(maxima_times)  # Remove identical maxima\n",
    "    filtered_maxima = []\n",
    "    for i, t in enumerate(maxima_times):\n",
    "        if i == 0 or (t - maxima_times[i-1]) >= 100:\n",
    "            filtered_maxima.append(t)\n",
    "\n",
    "    # Step 7: Construct 400 ms windows around maxima from original signal\n",
    "    window_400ms = 400  # ms\n",
    "    samples_400ms = int(window_400ms * fs / 1000 / 2)  # Half window in samples\n",
    "    final_windows = []\n",
    "\n",
    "    for t in filtered_maxima:\n",
    "        center = int(t * fs / 1000)\n",
    "        start = max(0, center - samples_400ms)\n",
    "        end = min(len(signal), center + samples_400ms)\n",
    "        final_windows.append(signal[start:end])\n",
    "\n",
    "    # Theta-gamma coupling analysis\n",
    "    data = signal  # Raw NumPy array\n",
    "    times = time_input  # Time points in seconds\n",
    "\n",
    "    # Step 1: Bandpass filter LFP in theta range (6-10 Hz)\n",
    "    b_theta, a_theta = butter_bandpass(6, 10, fs)\n",
    "    theta_filtered = filtfilt(b_theta, a_theta, data)\n",
    "\n",
    "    # Step 2: Compute theta phase using Hilbert transform\n",
    "    analytic_signal = hilbert(theta_filtered)\n",
    "    theta_phase = np.angle(analytic_signal)  # Phases in radians (-pi to pi)\n",
    "\n",
    "    # Step 3: Extract theta phases at gamma maxima\n",
    "    gamma_maxima_idx = [np.argmin(np.abs(times * 1000 - t)) for t in filtered_maxima]\n",
    "    gamma_phases_rad = theta_phase[gamma_maxima_idx]  # Phases in radians\n",
    "\n",
    "    # Step 4: Calculate resultant vector from phase distribution\n",
    "    # Convert phases to complex numbers (unit vectors on the complex plane)\n",
    "    phase_vectors = np.exp(1j * gamma_phases_rad)\n",
    "    resultant_vector = np.mean(phase_vectors)  # Mean resultant vector\n",
    "    coupling_strength = np.abs(resultant_vector)  # Length of resultant vector\n",
    "\n",
    "    # Step 5: Bin gamma phases into 30° bins for distribution (optional visualization)\n",
    "    theta_phase_deg = np.degrees(theta_phase)  # Convert to degrees for binning\n",
    "    gamma_phases_deg = theta_phase_deg[gamma_maxima_idx]\n",
    "    bins = np.arange(0, 360 + 30, 30)  # 12 bins: [0-30), [30-60), ..., [330-360)\n",
    "    gamma_phase_hist, _ = np.histogram(gamma_phases_deg, bins=bins)\n",
    "\n",
    "    # Step 6: Normalize by total number of gamma events\n",
    "    total_gamma_events = len(filtered_maxima)\n",
    "    gamma_phase_dist = gamma_phase_hist / total_gamma_events\n",
    "\n",
    "    # Step 7: Calculate gamma events per second\n",
    "    signal_duration = len(times)/1000  # Duration in seconds\n",
    "    gamma_event_rate = total_gamma_events / signal_duration\n",
    "\n",
    "    print(f\"\\nTotal gamma events: {total_gamma_events}\")\n",
    "    print(f\"Signal duration: {signal_duration:.2f} seconds\")\n",
    "    print(f\"Gamma event rate: {gamma_event_rate:.2f} events/second\")\n",
    "    print(f\"Strength of theta-gamma coupling (resultant vector length): {coupling_strength:.3f}\")\n",
    "\n",
    "    return gamma_event_rate, coupling_strength\n",
    "\n",
    "# Example usage\n",
    "slow_gamma_band = (20,41)  # Define gamma band\n",
    "slow_event_rate, slow_theta_gamma_coupling = gamma_event(signal,t, slow_gamma_band)\n",
    "fast_gamma_band = (39,91)\n",
    "fast_event_rate, fast_theta_gamma_coupling = gamma_event(signal,t, fast_gamma_band)"
   ]
  },
  {
   "cell_type": "code",
   "execution_count": 12,
   "metadata": {},
   "outputs": [
    {
     "data": {
      "text/plain": [
       "<matplotlib.legend.Legend at 0x1f555c1a8d0>"
      ]
     },
     "execution_count": 12,
     "metadata": {},
     "output_type": "execute_result"
    },
    {
     "data": {
      "image/png": "[encoded data removed]",
      "text/plain": [
       "<Figure size 1000x400 with 1 Axes>"
      ]
     },
     "metadata": {},
     "output_type": "display_data"
    }
   ],
   "source": [
    "fig, ax = plt.subplots(1, constrained_layout=True, figsize=(10, 4))\n",
    "ax.plot(\n",
    "    power_run[(power_run.index >= 1.0) & (power_run.index <= 100)],\n",
    "    alpha=1,\n",
    "    label=\"Run\",\n",
    "    linewidth=2,\n",
    ")\n",
    "ax.plot(\n",
    "    power_rest[(power_rest.index >= 1.0) & (power_rest.index <= 80)],\n",
    "    alpha=1,\n",
    "    label=\"Rest\",\n",
    "    linewidth=2,\n",
    ")\n",
    "ax.axvspan(6, 12, color=\"red\", alpha=0.1)\n",
    "ax.set_xlabel(\"Freq (Hz)\")\n",
    "ax.set_ylabel(\"Power/Frequency\")\n",
    "ax.set_title(\"LFP Fourier Decomposition\")\n",
    "ax.legend()"
   ]
  },
  {
   "cell_type": "code",
   "execution_count": 74,
   "metadata": {},
   "outputs": [
    {
     "data": {
      "application/vnd.microsoft.datawrangler.viewer.v0+json": {
       "columns": [
        {
         "name": "index",
         "rawType": "float64",
         "type": "float"
        },
        {
         "name": "0",
         "rawType": "float64",
         "type": "float"
        }
       ],
       "conversionMethod": "pd.DataFrame",
       "ref": "9a185f92-d0a1-4ee0-8d6b-32300cd81424",
       "rows": [
        [
         "1.3333333333333333",
         "0.012791904993837403"
        ],
        [
         "2.0",
         "0.011706496045680225"
        ],
        [
         "2.6666666666666665",
         "0.008787122316181872"
        ],
        [
         "3.333333333333333",
         "0.008530609048681026"
        ],
        [
         "4.0",
         "0.008128512095443824"
        ],
        [
         "4.666666666666666",
         "0.008724372747874628"
        ],
        [
         "5.333333333333333",
         "0.010338648616546903"
        ],
        [
         "6.0",
         "0.011052791179045828"
        ],
        [
         "6.666666666666666",
         "0.015512773088562406"
        ],
        [
         "7.333333333333333",
         "0.03259852816226265"
        ],
        [
         "8.0",
         "0.10734615913557063"
        ],
        [
         "8.666666666666666",
         "0.15834504513973735"
        ],
        [
         "9.333333333333332",
         "0.062059477494239436"
        ],
        [
         "10.0",
         "0.024985230302731573"
        ],
        [
         "10.666666666666666",
         "0.01213820842829784"
        ],
        [
         "11.333333333333332",
         "0.007897495592963575"
        ],
        [
         "12.0",
         "0.006536005872907692"
        ],
        [
         "12.666666666666666",
         "0.005601516940413173"
        ],
        [
         "13.333333333333332",
         "0.0057408917417299254"
        ],
        [
         "14.0",
         "0.00554516945699747"
        ],
        [
         "14.666666666666666",
         "0.006292441151884163"
        ],
        [
         "15.333333333333332",
         "0.007407233145294901"
        ],
        [
         "16.0",
         "0.012854781530081806"
        ],
        [
         "16.666666666666664",
         "0.018213744872693106"
        ],
        [
         "17.333333333333332",
         "0.023539130643511073"
        ],
        [
         "18.0",
         "0.01773250186514748"
        ],
        [
         "18.666666666666664",
         "0.014332633056593854"
        ],
        [
         "19.333333333333332",
         "0.008159199462612649"
        ],
        [
         "20.0",
         "0.006599821617865888"
        ],
        [
         "20.666666666666664",
         "0.005823520056004564"
        ],
        [
         "21.333333333333332",
         "0.005246309697284886"
        ],
        [
         "22.0",
         "0.0048634090287124985"
        ],
        [
         "22.666666666666664",
         "0.0037248524011766204"
        ],
        [
         "23.333333333333332",
         "0.0035530719614256536"
        ],
        [
         "24.0",
         "0.004017208845691052"
        ],
        [
         "24.666666666666664",
         "0.0038030814981393395"
        ],
        [
         "25.333333333333332",
         "0.004280201084833265"
        ],
        [
         "26.0",
         "0.004603092694670327"
        ],
        [
         "26.666666666666664",
         "0.004271542257031929"
        ],
        [
         "27.333333333333332",
         "0.003993924905457072"
        ],
        [
         "28.0",
         "0.004265314541877799"
        ],
        [
         "28.666666666666664",
         "0.004492265892208388"
        ],
        [
         "29.333333333333332",
         "0.004136813179790606"
        ],
        [
         "30.0",
         "0.0044498446556815105"
        ],
        [
         "30.666666666666664",
         "0.004759729432016653"
        ],
        [
         "31.333333333333332",
         "0.004190813722919164"
        ],
        [
         "32.0",
         "0.0039316616125011075"
        ],
        [
         "32.666666666666664",
         "0.004019176608580182"
        ],
        [
         "33.33333333333333",
         "0.0043732961561746275"
        ],
        [
         "34.0",
         "0.003989039210871257"
        ]
       ],
       "shape": {
        "columns": 1,
        "rows": 149
       }
      },
      "text/html": [
       "<div>\n",
       "<style scoped>\n",
       "    .dataframe tbody tr th:only-of-type {\n",
       "        vertical-align: middle;\n",
       "    }\n",
       "\n",
       "    .dataframe tbody tr th {\n",
       "        vertical-align: top;\n",
       "    }\n",
       "\n",
       "    .dataframe thead th {\n",
       "        text-align: right;\n",
       "    }\n",
       "</style>\n",
       "<table border=\"1\" class=\"dataframe\">\n",
       "  <thead>\n",
       "    <tr style=\"text-align: right;\">\n",
       "      <th></th>\n",
       "      <th>0</th>\n",
       "    </tr>\n",
       "  </thead>\n",
       "  <tbody>\n",
       "    <tr>\n",
       "      <th>1.333333</th>\n",
       "      <td>0.012792</td>\n",
       "    </tr>\n",
       "    <tr>\n",
       "      <th>2.000000</th>\n",
       "      <td>0.011706</td>\n",
       "    </tr>\n",
       "    <tr>\n",
       "      <th>2.666667</th>\n",
       "      <td>0.008787</td>\n",
       "    </tr>\n",
       "    <tr>\n",
       "      <th>3.333333</th>\n",
       "      <td>0.008531</td>\n",
       "    </tr>\n",
       "    <tr>\n",
       "      <th>4.000000</th>\n",
       "      <td>0.008129</td>\n",
       "    </tr>\n",
       "    <tr>\n",
       "      <th>...</th>\n",
       "      <td>...</td>\n",
       "    </tr>\n",
       "    <tr>\n",
       "      <th>97.333333</th>\n",
       "      <td>0.000780</td>\n",
       "    </tr>\n",
       "    <tr>\n",
       "      <th>98.000000</th>\n",
       "      <td>0.000856</td>\n",
       "    </tr>\n",
       "    <tr>\n",
       "      <th>98.666667</th>\n",
       "      <td>0.000691</td>\n",
       "    </tr>\n",
       "    <tr>\n",
       "      <th>99.333333</th>\n",
       "      <td>0.000570</td>\n",
       "    </tr>\n",
       "    <tr>\n",
       "      <th>100.000000</th>\n",
       "      <td>0.000466</td>\n",
       "    </tr>\n",
       "  </tbody>\n",
       "</table>\n",
       "<p>149 rows × 1 columns</p>\n",
       "</div>"
      ],
      "text/plain": [
       "                   0\n",
       "1.333333    0.012792\n",
       "2.000000    0.011706\n",
       "2.666667    0.008787\n",
       "3.333333    0.008531\n",
       "4.000000    0.008129\n",
       "...              ...\n",
       "97.333333   0.000780\n",
       "98.000000   0.000856\n",
       "98.666667   0.000691\n",
       "99.333333   0.000570\n",
       "100.000000  0.000466\n",
       "\n",
       "[149 rows x 1 columns]"
      ]
     },
     "execution_count": 74,
     "metadata": {},
     "output_type": "execute_result"
    }
   ],
   "source": [
    "power_run[(power_run.index >= 1.0) & (power_run.index <= 100)]"
   ]
  },
  {
   "cell_type": "code",
   "execution_count": null,
   "metadata": {},
   "outputs": [
    {
     "ename": "NameError",
     "evalue": "name 'power_run' is not defined",
     "output_type": "error",
     "traceback": [
      "\u001b[1;31m---------------------------------------------------------------------------\u001b[0m",
      "\u001b[1;31mNameError\u001b[0m                                 Traceback (most recent call last)",
      "Cell \u001b[1;32mIn[3], line 103\u001b[0m\n\u001b[0;32m    101\u001b[0m     \u001b[38;5;28;01mreturn\u001b[39;00m fig\n\u001b[0;32m    102\u001b[0m \u001b[38;5;66;03m# Assuming power_run is a pandas Series with frequency as index and power as values\u001b[39;00m\n\u001b[1;32m--> 103\u001b[0m frequencies \u001b[38;5;241m=\u001b[39m np\u001b[38;5;241m.\u001b[39marray(\u001b[43mpower_run\u001b[49m[(power_run\u001b[38;5;241m.\u001b[39mindex \u001b[38;5;241m>\u001b[39m\u001b[38;5;241m=\u001b[39m \u001b[38;5;241m1.0\u001b[39m) \u001b[38;5;241m&\u001b[39m (power_run\u001b[38;5;241m.\u001b[39mindex \u001b[38;5;241m<\u001b[39m\u001b[38;5;241m=\u001b[39m \u001b[38;5;241m100\u001b[39m)]\u001b[38;5;241m.\u001b[39mindex\u001b[38;5;241m.\u001b[39mto_numpy())  \u001b[38;5;66;03m# First column: frequency\u001b[39;00m\n\u001b[0;32m    104\u001b[0m power_spectrum \u001b[38;5;241m=\u001b[39m [num[\u001b[38;5;241m0\u001b[39m] \u001b[38;5;28;01mfor\u001b[39;00m num \u001b[38;5;129;01min\u001b[39;00m np\u001b[38;5;241m.\u001b[39marray(power_run[(power_run\u001b[38;5;241m.\u001b[39mindex \u001b[38;5;241m>\u001b[39m\u001b[38;5;241m=\u001b[39m \u001b[38;5;241m1.0\u001b[39m) \u001b[38;5;241m&\u001b[39m (power_run\u001b[38;5;241m.\u001b[39mindex \u001b[38;5;241m<\u001b[39m\u001b[38;5;241m=\u001b[39m \u001b[38;5;241m100\u001b[39m)]\u001b[38;5;241m.\u001b[39mto_numpy())]  \u001b[38;5;66;03m# Second column: power\u001b[39;00m\n\u001b[0;32m    106\u001b[0m \u001b[38;5;66;03m# Plot\u001b[39;00m\n",
      "\u001b[1;31mNameError\u001b[0m: name 'power_run' is not defined"
     ]
    }
   ],
   "source": [
    "import numpy as np\n",
    "import matplotlib.pyplot as plt\n",
    "from scipy import signal\n",
    "\n",
    "def plot_cross_freq_coherence(freq_power, freqs=None, fs=1000, window_size=None, \n",
    "                             vmin=None, vmax=None, cmap='viridis'):\n",
    "    \"\"\"\n",
    "    Plot cross-frequency coherence from a power spectrum vector with simulated coupling.\n",
    "    \n",
    "    Parameters:\n",
    "    -----------\n",
    "    freq_power : array-like\n",
    "        Vector where values are power and indices correspond to frequencies\n",
    "    freqs : array-like, optional\n",
    "        Actual frequency values corresponding to indices. If None, uses indices\n",
    "    fs : float, optional\n",
    "        Sampling frequency (default: 1000 Hz)\n",
    "    window_size : int, optional\n",
    "        Size of the window for coherence calculation (default: auto-set)\n",
    "    vmin : float, optional\n",
    "        Minimum value for color scale (default: auto-set)\n",
    "    vmax : float, optional\n",
    "        Maximum value for color scale (default: auto-set)\n",
    "    cmap : str, optional\n",
    "        Colormap to use (default: 'viridis')\n",
    "    \n",
    "    Returns:\n",
    "    -------\n",
    "    fig : matplotlib.figure.Figure\n",
    "        The generated figure object\n",
    "    \"\"\"\n",
    "    \n",
    "    # Convert input to numpy array and ensure 1D\n",
    "    power_data = np.array(freq_power).flatten()\n",
    "    if freqs is None:\n",
    "        freqs = np.arange(len(power_data))\n",
    "    else:\n",
    "        freqs = np.array(freqs).flatten()\n",
    "    \n",
    "    if len(freqs) != len(power_data):\n",
    "        raise ValueError(f\"Length of freqs ({len(freqs)}) must match length of freq_power ({len(power_data)})\")\n",
    "    \n",
    "    # Create two synthetic time series with some coupling\n",
    "    t = np.linspace(0, 1, fs)\n",
    "    signal1 = np.zeros(len(t))\n",
    "    signal2 = np.zeros(len(t))\n",
    "    np.random.seed(42)  # For reproducibility\n",
    "    for i, freq in enumerate(freqs):\n",
    "        phase_shift = np.random.uniform(0, np.pi)  # Random phase shift for coupling\n",
    "        amplitude = np.sqrt(max(power_data[i], 0))\n",
    "        signal1 += amplitude * np.sin(2 * np.pi * freq * t)\n",
    "        signal2 += amplitude * np.sin(2 * np.pi * freq * t + phase_shift)  # Coupled signal\n",
    "    \n",
    "    # Auto-set window size\n",
    "    if window_size is None:\n",
    "        window_size = min(256, len(signal1) // 2)\n",
    "    \n",
    "    # Calculate coherence between the two signals\n",
    "    f, Cxy = signal.coherence(signal1, signal2, fs=fs, nperseg=window_size)\n",
    "    \n",
    "    # Create coherence matrix\n",
    "    n_freqs = len(freqs)\n",
    "    coherence_matrix = np.zeros((n_freqs, n_freqs))\n",
    "    for i in range(n_freqs):\n",
    "        for j in range(n_freqs):\n",
    "            idx_i = np.argmin(np.abs(f - freqs[i]))\n",
    "            idx_j = np.argmin(np.abs(f - freqs[j]))\n",
    "            coherence_matrix[i, j] = Cxy[idx_i] if idx_i == idx_j else np.mean(Cxy[[idx_i, idx_j]])\n",
    "    \n",
    "    # Auto-adjust vmin and vmax\n",
    "    if vmin is None:\n",
    "        vmin = np.min(coherence_matrix)\n",
    "    if vmax is None:\n",
    "        vmax = np.max(coherence_matrix)\n",
    "    \n",
    "    # Diagnostic output\n",
    "    print(f\"Coherence range: {vmin:.4f} to {vmax:.4f}\")\n",
    "    print(f\"Frequency range: {freqs[0]:.2f} to {freqs[-1]:.2f} Hz\")\n",
    "    print(f\"Window size: {window_size}\")\n",
    "    \n",
    "    # Create the plot\n",
    "    fig, ax = plt.subplots(figsize=(10, 8))\n",
    "    im = ax.imshow(coherence_matrix, \n",
    "                   cmap=cmap,\n",
    "                   vmin=vmin,\n",
    "                   vmax=vmax,\n",
    "                   origin='lower',\n",
    "                   extent=[freqs[0], freqs[-1], freqs[0], freqs[-1]],\n",
    "                   aspect='auto')\n",
    "    \n",
    "    # Add colorbar\n",
    "    plt.colorbar(im, label='Coherence')\n",
    "    \n",
    "    # Set labels\n",
    "    ax.set_xlabel('Frequency (Hz)')\n",
    "    ax.set_ylabel('Frequency (Hz)')\n",
    "    ax.set_title('Cross-Frequency Coherence')\n",
    "    \n",
    "    ax.grid(False)\n",
    "    plt.tight_layout()\n",
    "    return fig\n",
    "\n",
    "# Assuming power_run is a pandas Series with frequency as index and power as values\n",
    "frequencies = np.array(power_run[(power_run.index >= 1.0) & (power_run.index <= 100)].index.to_numpy())  # First column: frequency\n",
    "power_spectrum = [num[0] for num in np.array(power_run[(power_run.index >= 1.0) & (power_run.index <= 100)].to_numpy())]  # Second column: power\n",
    "\n",
    "# Plot\n",
    "fig = plot_cross_freq_coherence(power_spectrum, freqs=frequencies, fs=1000)\n",
    "plt.show()"
   ]
  },
  {
   "cell_type": "code",
   "execution_count": null,
   "metadata": {},
   "outputs": [
    {
     "data": {
      "image/png": "[encoded data removed]",
      "text/plain": [
       "<Figure size 1000x600 with 2 Axes>"
      ]
     },
     "metadata": {},
     "output_type": "display_data"
    }
   ],
   "source": [
    "import numpy as np\n",
    "from scipy import signal\n",
    "import matplotlib.pyplot as plt\n",
    "\n",
    "# Simulated LFP signal with 50 Hz noise\n",
    "fs = 1000  # Sampling frequency in Hz\n",
    "t = np.arange(0, 1, 1/fs)  # 1-second time vector\n",
    "lfp_clean = np.sin(2 * np.pi * 10 * t)  # Simulated 10 Hz LFP signal\n",
    "noise = 0.5 * np.sin(2 * np.pi * 50 * t)  # 50 Hz noise\n",
    "lfp_signal = lfp_clean + noise  # Noisy signal\n",
    "\n",
    "# Design the notch filter\n",
    "f0 = 50  # Frequency to remove (Hz)\n",
    "Q = 1   # Quality factor (higher = narrower bandwidth)\n",
    "b, a = signal.iirnotch(f0 / (fs / 2), Q)  # Normalized frequency: f0 / (fs/2)\n",
    "\n",
    "# Apply the filter\n",
    "lfp_filtered = signal.filtfilt(b, a, lfp_signal)  # Zero-phase filtering\n",
    "\n",
    "\n",
    "\n",
    "\n",
    "# Plot the results\n",
    "plt.figure(figsize=(10, 6))\n",
    "plt.subplot(2, 1, 1)\n",
    "plt.plot(t, lfp_signal, label=\"Noisy LFP\")\n",
    "plt.plot(t, lfp_filtered, label=\"Filtered LFP\")\n",
    "plt.title(\"Time Domain\")\n",
    "plt.legend()\n",
    "\n",
    "plt.subplot(2, 1, 2)\n",
    "freq, psd_noisy = signal.welch(lfp_signal, fs, nperseg=1024)\n",
    "freq, psd_filtered = signal.welch(lfp_filtered, fs, nperseg=1024)\n",
    "plt.semilogy(freq, psd_noisy, label=\"Noisy PSD\")\n",
    "plt.semilogy(freq, psd_filtered, label=\"Filtered PSD\")\n",
    "plt.title(\"Power Spectral Density\")\n",
    "plt.xlabel(\"Frequency (Hz)\")\n",
    "plt.legend()\n",
    "plt.tight_layout()\n",
    "plt.show()"
   ]
  }
 ],
 "metadata": {
  "kernelspec": {
   "display_name": "test1",
   "language": "python",
   "name": "python3"
  },
  "language_info": {
   "codemirror_mode": {
    "name": "ipython",
    "version": 3
   },
   "file_extension": ".py",
   "mimetype": "text/x-python",
   "name": "python",
   "nbconvert_exporter": "python",
   "pygments_lexer": "ipython3",
   "version": "3.11.0"
  }
 },
 "nbformat": 4,
 "nbformat_minor": 2
}

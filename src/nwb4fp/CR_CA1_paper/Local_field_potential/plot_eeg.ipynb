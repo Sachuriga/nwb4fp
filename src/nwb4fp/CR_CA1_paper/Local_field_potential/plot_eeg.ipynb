{
 "cells": [
  {
   "cell_type": "code",
   "execution_count": 1,
   "id": "5470c1c0",
   "metadata": {},
   "outputs": [
    {
     "data": {
      "text/plain": [
       "3    19\n",
       "8     3\n",
       "0    26\n",
       "2    20\n",
       "6     5\n",
       "5     8\n",
       "4    14\n",
       "9     0\n",
       "7     4\n",
       "1    25\n",
       "Name: channel_id, dtype: int64"
      ]
     },
     "execution_count": 1,
     "metadata": {},
     "output_type": "execute_result"
    }
   ],
   "source": [
    "import pandas as pd\n",
    "import matplotlib.pyplot as plt\n",
    "import numpy as np\n",
    "import seaborn as sns\n",
    "file_path = r\"Q:\\sachuriga\\Sachuriga_Python/quattrocolo-nwb4fp/ASSY-236-F.prb\"\n",
    "\n",
    "# Read the file and parse the dictionary\n",
    "local_vars = {'np': np}\n",
    "with open(file_path, 'r') as file:\n",
    "    exec(file.read(), local_vars)  # Execute the file content with NumPy in scope\n",
    "\n",
    "    \n",
    "channel_groups = local_vars.get('channel_groups')\n",
    "if channel_groups is None:\n",
    "    raise ValueError(f\"'channel_groups' not found in {file_path}\")\n",
    "\n",
    "# Assuming channel_groups is loaded from Step 1\n",
    "probe_data = []\n",
    "for group_id, group_data in channel_groups.items():\n",
    "    channels = group_data['channels']\n",
    "    geometry = group_data['geometry']\n",
    "    for channel in channels:\n",
    "        x, y = geometry[channel]\n",
    "        probe_data.append({\n",
    "            'group_id': group_id,\n",
    "            'channel_id': channel,\n",
    "            'x': x,\n",
    "            'y': y\n",
    "        })\n",
    "        \n",
    "probe_df = pd.DataFrame(probe_data)\n",
    "probe_df \n",
    "\n",
    "#for i in range(6):\n",
    "temp = probe_df[probe_df['group_id']==0]\n",
    "temp_chs = temp.sort_values('y', ascending=False)\n",
    "temp_chs['channel_id']"
   ]
  },
  {
   "cell_type": "code",
   "execution_count": 2,
   "id": "8e962230",
   "metadata": {},
   "outputs": [
    {
     "name": "stdout",
     "output_type": "stream",
     "text": [
      "Loaded!\n"
     ]
    }
   ],
   "source": [
    "#@markdown This is an interactive plot of the loaded data, where detected ripples are shown in blue. Data is displayed in chunks of 1 seconds and you can **move forward, backwards or jump to an specific second** using the control bar at the bottom.\\\n",
    "#@markdown \\\n",
    "#@markdown Run this cell to load the plotting method. Execute the **following** cell to use the method.\n",
    "\n",
    "import matplotlib.pyplot as plt\n",
    "downsampled_fs=1250\n",
    "def plot_ripples(data,k):\n",
    "  data_size = data.shape[0]\n",
    "  data_dur = data_size / downsampled_fs\n",
    "  times = np.arange(data_size) / downsampled_fs\n",
    "\n",
    "  if k >= times[-1]:\n",
    "    print(\"Data is only %ds long!\"%(times[-1]))\n",
    "    return\n",
    "  elif k < 0:\n",
    "    print(\"Please introduce a valid integer.\")\n",
    "    return\n",
    "\n",
    "  ini_idx = int((k-0.1) * downsampled_fs)\n",
    "  end_idx = np.minimum(int((k+.1) * downsampled_fs), data_size-1)\n",
    "\n",
    "\n",
    "  pos_mat = list(range(data.shape[1]-1, -1, -1)) * np.ones((end_idx-ini_idx, data.shape[1]))\n",
    "\n",
    "  fig = plt.figure(figsize=(9.75,5))\n",
    "  ax = fig.add_subplot(1, 1, 1)\n",
    "\n",
    "  ax.margins(x=0)\n",
    "  plt.tight_layout()\n",
    "  plt.xlabel(\"Time (s)\")\n",
    "\n",
    "\n",
    "  lines = ax.plot(times[ini_idx:end_idx], data[ini_idx:end_idx, :]*1/np.max(data[ini_idx:end_idx, :], axis=0) + pos_mat, color='k', linewidth=1)\n",
    "\n",
    "  fills = []\n",
    "  for pred in pred_indexes:\n",
    "      if (pred[0] >= ini_idx and pred[0] <= end_idx) or (pred[1] >= ini_idx and pred[1] <= end_idx):\n",
    "          rip_ini = (pred[0]) / downsampled_fs\n",
    "          rip_end = (pred[1]) / downsampled_fs\n",
    "          fill = ax.fill_between([rip_ini, rip_end], [-3, -3], [9, 9], color=\"tab:blue\", alpha=0.3)\n",
    "          fills.append(fill)\n",
    "\n",
    "  plt.show()\n",
    "\n",
    "print(\"Loaded!\")"
   ]
  },
  {
   "cell_type": "code",
   "execution_count": null,
   "id": "708b408b",
   "metadata": {},
   "outputs": [
    {
     "name": "stdout",
     "output_type": "stream",
     "text": [
      "Q:\\sachuriga\\Sachuriga_Python\\cnn-ripple-main\\src\\cnn\n"
     ]
    },
    {
     "ename": "ValueError",
     "evalue": "zero-size array to reduction operation maximum which has no identity",
     "output_type": "error",
     "traceback": [
      "\u001b[1;31m---------------------------------------------------------------------------\u001b[0m",
      "\u001b[1;31mValueError\u001b[0m                                Traceback (most recent call last)",
      "Cell \u001b[1;32mIn[16], line 24\u001b[0m\n\u001b[0;32m     21\u001b[0m pred_times \u001b[38;5;241m=\u001b[39m pred_indexes \u001b[38;5;241m/\u001b[39m downsampled_fs\n\u001b[0;32m     23\u001b[0m \u001b[38;5;28;01mfor\u001b[39;00m t \u001b[38;5;129;01min\u001b[39;00m pred_times:\n\u001b[1;32m---> 24\u001b[0m     \u001b[43mplot_ripples\u001b[49m\u001b[43m(\u001b[49m\u001b[43mdata_smooth\u001b[49m\u001b[43m,\u001b[49m\u001b[43mt\u001b[49m\u001b[43m[\u001b[49m\u001b[38;5;241;43m0\u001b[39;49m\u001b[43m]\u001b[49m\u001b[43m)\u001b[49m\n",
      "Cell \u001b[1;32mIn[12], line 33\u001b[0m, in \u001b[0;36mplot_ripples\u001b[1;34m(data, k)\u001b[0m\n\u001b[0;32m     29\u001b[0m plt\u001b[38;5;241m.\u001b[39mtight_layout()\n\u001b[0;32m     30\u001b[0m plt\u001b[38;5;241m.\u001b[39mxlabel(\u001b[38;5;124m\"\u001b[39m\u001b[38;5;124mTime (s)\u001b[39m\u001b[38;5;124m\"\u001b[39m)\n\u001b[1;32m---> 33\u001b[0m lines \u001b[38;5;241m=\u001b[39m ax\u001b[38;5;241m.\u001b[39mplot(times[ini_idx:end_idx], data[ini_idx:end_idx, :]\u001b[38;5;241m*\u001b[39m\u001b[38;5;241m1\u001b[39m\u001b[38;5;241m/\u001b[39m\u001b[43mnp\u001b[49m\u001b[38;5;241;43m.\u001b[39;49m\u001b[43mmax\u001b[49m\u001b[43m(\u001b[49m\u001b[43mdata\u001b[49m\u001b[43m[\u001b[49m\u001b[43mini_idx\u001b[49m\u001b[43m:\u001b[49m\u001b[43mend_idx\u001b[49m\u001b[43m,\u001b[49m\u001b[43m \u001b[49m\u001b[43m:\u001b[49m\u001b[43m]\u001b[49m\u001b[43m,\u001b[49m\u001b[43m \u001b[49m\u001b[43maxis\u001b[49m\u001b[38;5;241;43m=\u001b[39;49m\u001b[38;5;241;43m0\u001b[39;49m\u001b[43m)\u001b[49m \u001b[38;5;241m+\u001b[39m pos_mat, color\u001b[38;5;241m=\u001b[39m\u001b[38;5;124m'\u001b[39m\u001b[38;5;124mk\u001b[39m\u001b[38;5;124m'\u001b[39m, linewidth\u001b[38;5;241m=\u001b[39m\u001b[38;5;241m1\u001b[39m)\n\u001b[0;32m     35\u001b[0m fills \u001b[38;5;241m=\u001b[39m []\n\u001b[0;32m     36\u001b[0m \u001b[38;5;28;01mfor\u001b[39;00m pred \u001b[38;5;129;01min\u001b[39;00m pred_indexes:\n",
      "File \u001b[1;32m<__array_function__ internals>:180\u001b[0m, in \u001b[0;36mamax\u001b[1;34m(*args, **kwargs)\u001b[0m\n",
      "File \u001b[1;32mc:\\Users\\sachur\\AppData\\Local\\anaconda3\\envs\\tf-gpu-cuda9\\lib\\site-packages\\numpy\\core\\fromnumeric.py:2793\u001b[0m, in \u001b[0;36mamax\u001b[1;34m(a, axis, out, keepdims, initial, where)\u001b[0m\n\u001b[0;32m   2677\u001b[0m \u001b[38;5;129m@array_function_dispatch\u001b[39m(_amax_dispatcher)\n\u001b[0;32m   2678\u001b[0m \u001b[38;5;28;01mdef\u001b[39;00m \u001b[38;5;21mamax\u001b[39m(a, axis\u001b[38;5;241m=\u001b[39m\u001b[38;5;28;01mNone\u001b[39;00m, out\u001b[38;5;241m=\u001b[39m\u001b[38;5;28;01mNone\u001b[39;00m, keepdims\u001b[38;5;241m=\u001b[39mnp\u001b[38;5;241m.\u001b[39m_NoValue, initial\u001b[38;5;241m=\u001b[39mnp\u001b[38;5;241m.\u001b[39m_NoValue,\n\u001b[0;32m   2679\u001b[0m          where\u001b[38;5;241m=\u001b[39mnp\u001b[38;5;241m.\u001b[39m_NoValue):\n\u001b[0;32m   2680\u001b[0m \u001b[38;5;250m    \u001b[39m\u001b[38;5;124;03m\"\"\"\u001b[39;00m\n\u001b[0;32m   2681\u001b[0m \u001b[38;5;124;03m    Return the maximum of an array or maximum along an axis.\u001b[39;00m\n\u001b[0;32m   2682\u001b[0m \n\u001b[1;32m   (...)\u001b[0m\n\u001b[0;32m   2791\u001b[0m \u001b[38;5;124;03m    5\u001b[39;00m\n\u001b[0;32m   2792\u001b[0m \u001b[38;5;124;03m    \"\"\"\u001b[39;00m\n\u001b[1;32m-> 2793\u001b[0m     \u001b[38;5;28;01mreturn\u001b[39;00m \u001b[43m_wrapreduction\u001b[49m\u001b[43m(\u001b[49m\u001b[43ma\u001b[49m\u001b[43m,\u001b[49m\u001b[43m \u001b[49m\u001b[43mnp\u001b[49m\u001b[38;5;241;43m.\u001b[39;49m\u001b[43mmaximum\u001b[49m\u001b[43m,\u001b[49m\u001b[43m \u001b[49m\u001b[38;5;124;43m'\u001b[39;49m\u001b[38;5;124;43mmax\u001b[39;49m\u001b[38;5;124;43m'\u001b[39;49m\u001b[43m,\u001b[49m\u001b[43m \u001b[49m\u001b[43maxis\u001b[49m\u001b[43m,\u001b[49m\u001b[43m \u001b[49m\u001b[38;5;28;43;01mNone\u001b[39;49;00m\u001b[43m,\u001b[49m\u001b[43m \u001b[49m\u001b[43mout\u001b[49m\u001b[43m,\u001b[49m\n\u001b[0;32m   2794\u001b[0m \u001b[43m                          \u001b[49m\u001b[43mkeepdims\u001b[49m\u001b[38;5;241;43m=\u001b[39;49m\u001b[43mkeepdims\u001b[49m\u001b[43m,\u001b[49m\u001b[43m \u001b[49m\u001b[43minitial\u001b[49m\u001b[38;5;241;43m=\u001b[39;49m\u001b[43minitial\u001b[49m\u001b[43m,\u001b[49m\u001b[43m \u001b[49m\u001b[43mwhere\u001b[49m\u001b[38;5;241;43m=\u001b[39;49m\u001b[43mwhere\u001b[49m\u001b[43m)\u001b[49m\n",
      "File \u001b[1;32mc:\\Users\\sachur\\AppData\\Local\\anaconda3\\envs\\tf-gpu-cuda9\\lib\\site-packages\\numpy\\core\\fromnumeric.py:86\u001b[0m, in \u001b[0;36m_wrapreduction\u001b[1;34m(obj, ufunc, method, axis, dtype, out, **kwargs)\u001b[0m\n\u001b[0;32m     83\u001b[0m         \u001b[38;5;28;01melse\u001b[39;00m:\n\u001b[0;32m     84\u001b[0m             \u001b[38;5;28;01mreturn\u001b[39;00m reduction(axis\u001b[38;5;241m=\u001b[39maxis, out\u001b[38;5;241m=\u001b[39mout, \u001b[38;5;241m*\u001b[39m\u001b[38;5;241m*\u001b[39mpasskwargs)\n\u001b[1;32m---> 86\u001b[0m \u001b[38;5;28;01mreturn\u001b[39;00m \u001b[43mufunc\u001b[49m\u001b[38;5;241;43m.\u001b[39;49m\u001b[43mreduce\u001b[49m\u001b[43m(\u001b[49m\u001b[43mobj\u001b[49m\u001b[43m,\u001b[49m\u001b[43m \u001b[49m\u001b[43maxis\u001b[49m\u001b[43m,\u001b[49m\u001b[43m \u001b[49m\u001b[43mdtype\u001b[49m\u001b[43m,\u001b[49m\u001b[43m \u001b[49m\u001b[43mout\u001b[49m\u001b[43m,\u001b[49m\u001b[43m \u001b[49m\u001b[38;5;241;43m*\u001b[39;49m\u001b[38;5;241;43m*\u001b[39;49m\u001b[43mpasskwargs\u001b[49m\u001b[43m)\u001b[49m\n",
      "\u001b[1;31mValueError\u001b[0m: zero-size array to reduction operation maximum which has no identity"
     ]
    },
    {
     "data": {
      "image/png": "[encoded data removed]",
      "text/plain": [
       "<Figure size 975x500 with 1 Axes>"
      ]
     },
     "metadata": {},
     "output_type": "display_data"
    }
   ],
   "source": [
    "import sys\n",
    "%cd Q:\\sachuriga\\Sachuriga_Python\\cnn-ripple-main\\src\\cnn\n",
    "from utils import smooth2ripple\n",
    "from load_data import z_score_normalization, downsample_data\n",
    "\n",
    "lfp = np.load(r\"S:\\Sachuriga\\Ephys_Recording\\CR_CA1/63383/63383_2024-07-25_12-57-40_A_phy_k_manual/lfp_raw.npy\")\n",
    "lfp_time = np.load(r\"S:\\Sachuriga\\Ephys_Recording\\CR_CA1/63383/63383_2024-07-25_12-57-40_A_phy_k_manual/lfp_times.npy\")\n",
    "downsampled_fs=1250\n",
    "\n",
    "chs = temp_chs['channel_id']\n",
    "group_5 = lfp[:,chs]\n",
    "group_6=group_5.copy()\n",
    "\n",
    "#z_group6= z_score_normalization(group_6)\n",
    "data_smooth = smooth2ripple(group_5)\n",
    "\n",
    "#data = group_5\n",
    "pred_indexes=np.load(r\"S:\\Sachuriga\\Ephys_Recording\\CR_CA1/63383/63383_2024-07-25_12-57-40_A_phy_k_manual/pred_indexes.npy\")\n",
    "pred_times = pred_indexes / downsampled_fs\n",
    "\n",
    "for t in pred_times:\n",
    "    plot_ripples(data_smooth,t[0])"
   ]
  },
  {
   "cell_type": "code",
   "execution_count": 15,
   "id": "73e697ee",
   "metadata": {},
   "outputs": [
    {
     "data": {
      "text/plain": [
       "array([[6.4000000e-03, 1.8400000e-02],\n",
       "       [1.9200000e-02, 3.1200000e-02],\n",
       "       [2.5600000e-02, 3.7600000e-02],\n",
       "       ...,\n",
       "       [1.3053632e+03, 1.3053752e+03],\n",
       "       [1.3053696e+03, 1.3053816e+03],\n",
       "       [1.3053760e+03, 1.3053880e+03]])"
      ]
     },
     "execution_count": 15,
     "metadata": {},
     "output_type": "execute_result"
    }
   ],
   "source": [
    "pred_times"
   ]
  }
 ],
 "metadata": {
  "kernelspec": {
   "display_name": "tf-gpu-cuda9",
   "language": "python",
   "name": "python3"
  },
  "language_info": {
   "codemirror_mode": {
    "name": "ipython",
    "version": 3
   },
   "file_extension": ".py",
   "mimetype": "text/x-python",
   "name": "python",
   "nbconvert_exporter": "python",
   "pygments_lexer": "ipython3",
   "version": "3.8.19"
  }
 },
 "nbformat": 4,
 "nbformat_minor": 5
}

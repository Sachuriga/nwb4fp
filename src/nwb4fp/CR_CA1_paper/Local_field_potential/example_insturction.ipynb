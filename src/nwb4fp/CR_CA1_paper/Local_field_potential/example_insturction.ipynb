{
 "cells": [
  {
   "cell_type": "code",
   "execution_count": 1,
   "id": "10bcfdf0",
   "metadata": {},
   "outputs": [
    {
     "name": "stdout",
     "output_type": "stream",
     "text": [
      "Q:\\sachuriga\\Sachuriga_Python\\cnn-ripple-main\\src\\notebooks\n"
     ]
    }
   ],
   "source": [
    "# Imports\n",
    "import sys\n",
    "import numpy as np\n",
    "\n",
    "%cd Q:\\sachuriga\\Sachuriga_Python\\cnn-ripple-main\\src/notebooks\n",
    "sys.path.insert(1, 'Q:\\sachuriga\\Sachuriga_Python\\cnn-ripple-main\\src/cnn/')"
   ]
  },
  {
   "cell_type": "code",
   "execution_count": 2,
   "id": "f66bc072",
   "metadata": {},
   "outputs": [
    {
     "name": "stdout",
     "output_type": "stream",
     "text": [
      "Downloading data... Please wait\n",
      "Data downloaded!\n"
     ]
    }
   ],
   "source": [
    "import os\n",
    "sys.path.insert(1, r'Q:\\sachuriga\\Sachuriga_Python\\cnn-ripple-main/figshare')\n",
    "from figshare import Figshare\n",
    "\n",
    "fshare = Figshare()\n",
    "\n",
    "article_id = 14960085 # This is the ID of the data repository\n",
    "\n",
    "datapath = \"figshare_%d\"%(article_id)\n",
    "\n",
    "if os.path.isdir(datapath):\n",
    "    print(\"Data already exists. Moving on.\")\n",
    "else:\n",
    "    print(\"Downloading data... Please wait\")\n",
    "    fshare.retrieve_files_from_article(article_id)\n",
    "    print(\"Data downloaded!\")"
   ]
  },
  {
   "cell_type": "code",
   "execution_count": 4,
   "id": "28a6885c",
   "metadata": {},
   "outputs": [
    {
     "name": "stdout",
     "output_type": "stream",
     "text": [
      "Loading data... Done!\n",
      "Shape of loaded data:  (22326272, 8)\n"
     ]
    }
   ],
   "source": [
    "'''''''''''''''''\n",
    "Load data from the figshare files\n",
    "'''''''''''''''''\n",
    "article_id = 14960085\n",
    "datapath = \"figshare_%d\"%(article_id)\n",
    "from load_data import load_data\n",
    "\n",
    "shank = 1\n",
    "\n",
    "# Load data\n",
    "print(\"Loading data...\", end=\" \")\n",
    "loaded_data, fs = load_data(path=datapath, shank=shank)\n",
    "print(\"Done!\")\n",
    "\n",
    "print(\"Shape of loaded data: \", np.shape(loaded_data))"
   ]
  },
  {
   "cell_type": "code",
   "execution_count": 5,
   "id": "fbb86e97",
   "metadata": {},
   "outputs": [
    {
     "name": "stdout",
     "output_type": "stream",
     "text": [
      "Downsampling data from 30000 Hz to 1250 Hz... Done!\n",
      "Normalizing data... Done!\n",
      "Shape of loaded data after downsampling and z-score:  (930261, 8)\n"
     ]
    }
   ],
   "source": [
    "from load_data import z_score_normalization, downsample_data\n",
    "# Downsample data\n",
    "downsampled_fs = 1250\n",
    "print(\"Downsampling data from %d Hz to %d Hz...\"%(fs, downsampled_fs), end=\" \")\n",
    "data = downsample_data(loaded_data, fs, downsampled_fs)\n",
    "print(\"Done!\")\n",
    "\n",
    "# Normalize it with z-score\n",
    "print(\"Normalizing data...\", end=\" \")\n",
    "data = z_score_normalization(data)\n",
    "print(\"Done!\")\n",
    "\n",
    "print(\"Shape of loaded data after downsampling and z-score: \", np.shape(data))"
   ]
  },
  {
   "cell_type": "code",
   "execution_count": 6,
   "id": "adb8fa11",
   "metadata": {},
   "outputs": [
    {
     "name": "stdout",
     "output_type": "stream",
     "text": [
      "Generating windows... Done!\n"
     ]
    }
   ],
   "source": [
    "overlapping = True\n",
    "window_size = 0.0128\n",
    "\n",
    "print(\"Generating windows...\", end=\" \")\n",
    "if overlapping:\n",
    "    from load_data import generate_overlapping_windows\n",
    "    \n",
    "    stride = 0.0064\n",
    "\n",
    "    # Separate the data into 12.8ms windows with 6.4ms overlapping\n",
    "    X = generate_overlapping_windows(data, window_size, stride, downsampled_fs)\n",
    "else:\n",
    "    stride = window_size\n",
    "    X = np.expand_dims(data, 0)\n",
    "print(\"Done!\")"
   ]
  },
  {
   "cell_type": "code",
   "execution_count": 9,
   "id": "74c44147",
   "metadata": {},
   "outputs": [
    {
     "ename": "ImportError",
     "evalue": "Traceback (most recent call last):\n  File \"c:\\Users\\sachur\\AppData\\Local\\anaconda3\\envs\\test1\\Lib\\site-packages\\tensorflow\\python\\pywrap_tensorflow.py\", line 73, in <module>\n    from tensorflow.python._pywrap_tensorflow_internal import *\nImportError: DLL load failed while importing _pywrap_tensorflow_internal: A dynamic link library (DLL) initialization routine failed.\n\n\nFailed to load the native TensorFlow runtime.\nSee https://www.tensorflow.org/install/errors for some common causes and solutions.\nIf you need help, create an issue at https://github.com/tensorflow/tensorflow/issues and include the entire stack trace above this error message.",
     "output_type": "error",
     "traceback": [
      "\u001b[1;31m---------------------------------------------------------------------------\u001b[0m",
      "\u001b[1;31mImportError\u001b[0m                               Traceback (most recent call last)",
      "File \u001b[1;32mc:\\Users\\sachur\\AppData\\Local\\anaconda3\\envs\\test1\\Lib\\site-packages\\tensorflow\\python\\pywrap_tensorflow.py:73\u001b[0m\n\u001b[0;32m     72\u001b[0m \u001b[38;5;28;01mtry\u001b[39;00m:\n\u001b[1;32m---> 73\u001b[0m   \u001b[38;5;28;01mfrom\u001b[39;00m \u001b[38;5;21;01mtensorflow\u001b[39;00m\u001b[38;5;21;01m.\u001b[39;00m\u001b[38;5;21;01mpython\u001b[39;00m\u001b[38;5;21;01m.\u001b[39;00m\u001b[38;5;21;01m_pywrap_tensorflow_internal\u001b[39;00m \u001b[38;5;28;01mimport\u001b[39;00m \u001b[38;5;241m*\u001b[39m\n\u001b[0;32m     74\u001b[0m \u001b[38;5;66;03m# This try catch logic is because there is no bazel equivalent for py_extension.\u001b[39;00m\n\u001b[0;32m     75\u001b[0m \u001b[38;5;66;03m# Externally in opensource we must enable exceptions to load the shared object\u001b[39;00m\n\u001b[0;32m     76\u001b[0m \u001b[38;5;66;03m# by exposing the PyInit symbols with pybind. This error will only be\u001b[39;00m\n\u001b[0;32m     77\u001b[0m \u001b[38;5;66;03m# caught internally or if someone changes the name of the target _pywrap_tensorflow_internal.\u001b[39;00m\n\u001b[0;32m     78\u001b[0m \n\u001b[0;32m     79\u001b[0m \u001b[38;5;66;03m# This logic is used in other internal projects using py_extension.\u001b[39;00m\n",
      "\u001b[1;31mImportError\u001b[0m: DLL load failed while importing _pywrap_tensorflow_internal: A dynamic link library (DLL) initialization routine failed.",
      "\nDuring handling of the above exception, another exception occurred:\n",
      "\u001b[1;31mImportError\u001b[0m                               Traceback (most recent call last)",
      "Cell \u001b[1;32mIn[9], line 1\u001b[0m\n\u001b[1;32m----> 1\u001b[0m \u001b[38;5;28;01mimport\u001b[39;00m \u001b[38;5;21;01mtensorflow\u001b[39;00m\u001b[38;5;21;01m.\u001b[39;00m\u001b[38;5;21;01mkeras\u001b[39;00m\u001b[38;5;21;01m.\u001b[39;00m\u001b[38;5;21;01mbackend\u001b[39;00m \u001b[38;5;28;01mas\u001b[39;00m \u001b[38;5;21;01mK\u001b[39;00m\n\u001b[0;32m      2\u001b[0m \u001b[38;5;28;01mimport\u001b[39;00m \u001b[38;5;21;01mtensorflow\u001b[39;00m\u001b[38;5;21;01m.\u001b[39;00m\u001b[38;5;21;01mkeras\u001b[39;00m \u001b[38;5;28;01mas\u001b[39;00m \u001b[38;5;21;01mkr\u001b[39;00m\n\u001b[0;32m      4\u001b[0m \u001b[38;5;28mprint\u001b[39m(\u001b[38;5;124m\"\u001b[39m\u001b[38;5;124mLoading CNN model...\u001b[39m\u001b[38;5;124m\"\u001b[39m, end\u001b[38;5;241m=\u001b[39m\u001b[38;5;124m\"\u001b[39m\u001b[38;5;124m \u001b[39m\u001b[38;5;124m\"\u001b[39m)\n",
      "File \u001b[1;32mc:\\Users\\sachur\\AppData\\Local\\anaconda3\\envs\\test1\\Lib\\site-packages\\tensorflow\\__init__.py:40\u001b[0m\n\u001b[0;32m     37\u001b[0m _os\u001b[38;5;241m.\u001b[39menviron\u001b[38;5;241m.\u001b[39msetdefault(\u001b[38;5;124m\"\u001b[39m\u001b[38;5;124mENABLE_RUNTIME_UPTIME_TELEMETRY\u001b[39m\u001b[38;5;124m\"\u001b[39m, \u001b[38;5;124m\"\u001b[39m\u001b[38;5;124m1\u001b[39m\u001b[38;5;124m\"\u001b[39m)\n\u001b[0;32m     39\u001b[0m \u001b[38;5;66;03m# Do not remove this line; See https://github.com/tensorflow/tensorflow/issues/42596\u001b[39;00m\n\u001b[1;32m---> 40\u001b[0m \u001b[38;5;28;01mfrom\u001b[39;00m \u001b[38;5;21;01mtensorflow\u001b[39;00m\u001b[38;5;21;01m.\u001b[39;00m\u001b[38;5;21;01mpython\u001b[39;00m \u001b[38;5;28;01mimport\u001b[39;00m pywrap_tensorflow \u001b[38;5;28;01mas\u001b[39;00m _pywrap_tensorflow  \u001b[38;5;66;03m# pylint: disable=unused-import\u001b[39;00m\n\u001b[0;32m     41\u001b[0m \u001b[38;5;28;01mfrom\u001b[39;00m \u001b[38;5;21;01mtensorflow\u001b[39;00m\u001b[38;5;21;01m.\u001b[39;00m\u001b[38;5;21;01mpython\u001b[39;00m\u001b[38;5;21;01m.\u001b[39;00m\u001b[38;5;21;01mtools\u001b[39;00m \u001b[38;5;28;01mimport\u001b[39;00m module_util \u001b[38;5;28;01mas\u001b[39;00m _module_util\n\u001b[0;32m     42\u001b[0m \u001b[38;5;28;01mfrom\u001b[39;00m \u001b[38;5;21;01mtensorflow\u001b[39;00m\u001b[38;5;21;01m.\u001b[39;00m\u001b[38;5;21;01mpython\u001b[39;00m\u001b[38;5;21;01m.\u001b[39;00m\u001b[38;5;21;01mutil\u001b[39;00m\u001b[38;5;21;01m.\u001b[39;00m\u001b[38;5;21;01mlazy_loader\u001b[39;00m \u001b[38;5;28;01mimport\u001b[39;00m KerasLazyLoader \u001b[38;5;28;01mas\u001b[39;00m _KerasLazyLoader\n",
      "File \u001b[1;32mc:\\Users\\sachur\\AppData\\Local\\anaconda3\\envs\\test1\\Lib\\site-packages\\tensorflow\\python\\pywrap_tensorflow.py:88\u001b[0m\n\u001b[0;32m     86\u001b[0m     sys\u001b[38;5;241m.\u001b[39msetdlopenflags(_default_dlopen_flags)\n\u001b[0;32m     87\u001b[0m \u001b[38;5;28;01mexcept\u001b[39;00m \u001b[38;5;167;01mImportError\u001b[39;00m:\n\u001b[1;32m---> 88\u001b[0m   \u001b[38;5;28;01mraise\u001b[39;00m \u001b[38;5;167;01mImportError\u001b[39;00m(\n\u001b[0;32m     89\u001b[0m       \u001b[38;5;124mf\u001b[39m\u001b[38;5;124m'\u001b[39m\u001b[38;5;132;01m{\u001b[39;00mtraceback\u001b[38;5;241m.\u001b[39mformat_exc()\u001b[38;5;132;01m}\u001b[39;00m\u001b[38;5;124m'\u001b[39m\n\u001b[0;32m     90\u001b[0m       \u001b[38;5;124mf\u001b[39m\u001b[38;5;124m'\u001b[39m\u001b[38;5;130;01m\\n\u001b[39;00m\u001b[38;5;130;01m\\n\u001b[39;00m\u001b[38;5;124mFailed to load the native TensorFlow runtime.\u001b[39m\u001b[38;5;130;01m\\n\u001b[39;00m\u001b[38;5;124m'\u001b[39m\n\u001b[0;32m     91\u001b[0m       \u001b[38;5;124mf\u001b[39m\u001b[38;5;124m'\u001b[39m\u001b[38;5;124mSee https://www.tensorflow.org/install/errors \u001b[39m\u001b[38;5;124m'\u001b[39m\n\u001b[0;32m     92\u001b[0m       \u001b[38;5;124mf\u001b[39m\u001b[38;5;124m'\u001b[39m\u001b[38;5;124mfor some common causes and solutions.\u001b[39m\u001b[38;5;130;01m\\n\u001b[39;00m\u001b[38;5;124m'\u001b[39m\n\u001b[0;32m     93\u001b[0m       \u001b[38;5;124mf\u001b[39m\u001b[38;5;124m'\u001b[39m\u001b[38;5;124mIf you need help, create an issue \u001b[39m\u001b[38;5;124m'\u001b[39m\n\u001b[0;32m     94\u001b[0m       \u001b[38;5;124mf\u001b[39m\u001b[38;5;124m'\u001b[39m\u001b[38;5;124mat https://github.com/tensorflow/tensorflow/issues \u001b[39m\u001b[38;5;124m'\u001b[39m\n\u001b[0;32m     95\u001b[0m       \u001b[38;5;124mf\u001b[39m\u001b[38;5;124m'\u001b[39m\u001b[38;5;124mand include the entire stack trace above this error message.\u001b[39m\u001b[38;5;124m'\u001b[39m)\n\u001b[0;32m     97\u001b[0m \u001b[38;5;66;03m# pylint: enable=wildcard-import,g-import-not-at-top,unused-import,line-too-long\u001b[39;00m\n",
      "\u001b[1;31mImportError\u001b[0m: Traceback (most recent call last):\n  File \"c:\\Users\\sachur\\AppData\\Local\\anaconda3\\envs\\test1\\Lib\\site-packages\\tensorflow\\python\\pywrap_tensorflow.py\", line 73, in <module>\n    from tensorflow.python._pywrap_tensorflow_internal import *\nImportError: DLL load failed while importing _pywrap_tensorflow_internal: A dynamic link library (DLL) initialization routine failed.\n\n\nFailed to load the native TensorFlow runtime.\nSee https://www.tensorflow.org/install/errors for some common causes and solutions.\nIf you need help, create an issue at https://github.com/tensorflow/tensorflow/issues and include the entire stack trace above this error message."
     ]
    }
   ],
   "source": [
    "import tensorflow.keras.backend as K\n",
    "import tensorflow.keras as kr\n",
    "\n",
    "print(\"Loading CNN model...\", end=\" \")\n",
    "optimizer = kr.optimizers.Adam(learning_rate=0.001, beta_1=0.9, beta_2=0.999, epsilon=1e-07, amsgrad=False)\n",
    "model = kr.models.load_model(\"../../model\", compile=False)\n",
    "model.compile(loss=\"binary_crossentropy\", optimizer=optimizer)\n",
    "\n",
    "print(\"Done!\")"
   ]
  },
  {
   "cell_type": "code",
   "execution_count": null,
   "id": "358b5e3e",
   "metadata": {},
   "outputs": [],
   "source": [
    "print(\"Detecting ripples...\", end=\" \")\n",
    "predictions = model.predict(X, verbose=True)\n",
    "print(\"Done!\")"
   ]
  },
  {
   "cell_type": "code",
   "execution_count": null,
   "id": "f37600d3",
   "metadata": {},
   "outputs": [],
   "source": [
    "from format_predictions import get_predictions_indexes\n",
    "\n",
    "# This threshold can be changed\n",
    "threshold = 0.7\n",
    "\n",
    "print(\"Getting detected ripples indexes and times...\", end=\" \")\n",
    "pred_indexes = get_predictions_indexes(data, predictions, window_size=window_size, stride=stride, fs=downsampled_fs, threshold=threshold)\n",
    "\n",
    "pred_times = pred_indexes / downsampled_fs\n",
    "print(\"Done!\")"
   ]
  },
  {
   "cell_type": "code",
   "execution_count": null,
   "id": "fbc60e06",
   "metadata": {},
   "outputs": [],
   "source": [
    "#@markdown This is an interactive plot of the loaded data, where detected ripples are shown in blue. Data is displayed in chunks of 1 seconds and you can **move forward, backwards or jump to an specific second** using the control bar at the bottom.\\\n",
    "#@markdown \\\n",
    "#@markdown Run this cell to load the plotting method. Execute the **following** cell to use the method.\n",
    "\n",
    "import matplotlib.pyplot as plt\n",
    "\n",
    "def plot_ripples(k):\n",
    "  data_size = data.shape[0]\n",
    "  data_dur = data_size / downsampled_fs\n",
    "  times = np.arange(data_size) / downsampled_fs\n",
    "\n",
    "  if k >= times[-1]:\n",
    "    printf(\"Data is only %ds long!\"%(times[-1]))\n",
    "    return\n",
    "  elif k < 0:\n",
    "    print(\"Please introduce a valid integer.\")\n",
    "    return\n",
    "\n",
    "  ini_idx = int(k * downsampled_fs)\n",
    "  end_idx = np.minimum(int((k+1) * downsampled_fs), data_size-1)\n",
    "\n",
    "\n",
    "  pos_mat = list(range(data.shape[1]-1, -1, -1)) * np.ones((end_idx-ini_idx, data.shape[1]))\n",
    "\n",
    "  fig = plt.figure(figsize=(9.75,5))\n",
    "  ax = fig.add_subplot(1, 1, 1)\n",
    "  ax.set_ylim(-3, 9)\n",
    "  ax.margins(x=0)\n",
    "  plt.tight_layout()\n",
    "  plt.xlabel(\"Time (s)\")\n",
    "\n",
    "\n",
    "  lines = ax.plot(times[ini_idx:end_idx], data[ini_idx:end_idx, :]*1/np.max(data[ini_idx:end_idx, :], axis=0) + pos_mat, color='k', linewidth=1)\n",
    "\n",
    "  fills = []\n",
    "  for pred in pred_indexes:\n",
    "      if (pred[0] >= ini_idx and pred[0] <= end_idx) or (pred[1] >= ini_idx and pred[1] <= end_idx):\n",
    "          rip_ini = (pred[0]) / downsampled_fs\n",
    "          rip_end = (pred[1]) / downsampled_fs\n",
    "          fill = ax.fill_between([rip_ini, rip_end], [-3, -3], [9, 9], color=\"tab:blue\", alpha=0.3)\n",
    "          fills.append(fill)\n",
    "\n",
    "  plt.show()\n",
    "\n",
    "print(\"Loaded!\")"
   ]
  },
  {
   "cell_type": "code",
   "execution_count": null,
   "id": "4db1ba51",
   "metadata": {},
   "outputs": [],
   "source": [
    "#@title Time (in seconds) { run: \"auto\", vertical-output: true, display-mode: \"form\" }\n",
    "second =  0#@param {type:\"integer\"}\n",
    "\n",
    "plot_ripples(second)"
   ]
  }
 ],
 "metadata": {
  "kernelspec": {
   "display_name": "test1",
   "language": "python",
   "name": "python3"
  },
  "language_info": {
   "codemirror_mode": {
    "name": "ipython",
    "version": 3
   },
   "file_extension": ".py",
   "mimetype": "text/x-python",
   "name": "python",
   "nbconvert_exporter": "python",
   "pygments_lexer": "ipython3",
   "version": "3.11.0"
  }
 },
 "nbformat": 4,
 "nbformat_minor": 5
}

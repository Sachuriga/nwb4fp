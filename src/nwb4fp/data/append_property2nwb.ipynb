{
 "cells": [
  {
   "cell_type": "code",
   "execution_count": null,
   "metadata": {},
   "outputs": [
    {
     "name": "stdout",
     "output_type": "stream",
     "text": [
      "Processing column: animal\n",
      "Processing column: day\n",
      "Processing column: session\n",
      "Processing column: UIfile\n",
      "Processing column: UIanimal_session\n",
      "Processing column: acg_tau_rise\n",
      "Processing column: UIfile_1\n",
      "Processing column: UIanimal_session_1\n",
      "Processing column: acg_tau_rise_1\n",
      "Processing column: speedScores\n",
      "Processing column: stability_smooth1\n",
      "Processing column: test_stat_si\n",
      "Processing column: boarderscore\n",
      "Processing column: fields\n",
      "Processing column: sparsity\n",
      "Processing column: maxfsize\n",
      "Processing column: reject_h0\n",
      "Processing column: id\n",
      "Successfully processed 63383_2024-07-10_15-37-51_A_phy_k_manual.csv into 63383_2024-07-10_15-37-51_A_phy_k_manual.nwb\n",
      "Processing column: animal\n",
      "Processing column: day\n",
      "Processing column: session\n",
      "Processing column: UIfile\n",
      "Processing column: UIanimal_session\n",
      "Processing column: acg_tau_rise\n",
      "Processing column: UIfile_1\n",
      "Processing column: UIanimal_session_1\n",
      "Processing column: acg_tau_rise_1\n",
      "Processing column: speedScores\n",
      "Processing column: stability_smooth1\n",
      "Processing column: test_stat_si\n",
      "Processing column: boarderscore\n",
      "Processing column: fields\n",
      "Processing column: sparsity\n",
      "Processing column: maxfsize\n",
      "Processing column: reject_h0\n",
      "Processing column: id\n",
      "Successfully processed 63383_2024-07-13_14-10-05_A_phy_k_manual.csv into 63383_2024-07-13_14-10-05_A_phy_k_manual.nwb\n"
     ]
    },
    {
     "ename": "KeyboardInterrupt",
     "evalue": "",
     "output_type": "error",
     "traceback": [
      "\u001b[1;31m---------------------------------------------------------------------------\u001b[0m",
      "\u001b[1;31mKeyboardInterrupt\u001b[0m                         Traceback (most recent call last)",
      "Cell \u001b[1;32mIn[1], line 41\u001b[0m\n\u001b[0;32m     38\u001b[0m column_names \u001b[38;5;241m=\u001b[39m df\u001b[38;5;241m.\u001b[39mcolumns\u001b[38;5;241m.\u001b[39mtolist()\n\u001b[0;32m     40\u001b[0m \u001b[38;5;66;03m# Open and modify NWB file\u001b[39;00m\n\u001b[1;32m---> 41\u001b[0m \u001b[38;5;28;01mwith\u001b[39;00m \u001b[43mNWBHDF5IO\u001b[49m\u001b[43m(\u001b[49m\u001b[43mnwbpath\u001b[49m\u001b[43m,\u001b[49m\u001b[43m \u001b[49m\u001b[38;5;124;43m\"\u001b[39;49m\u001b[38;5;124;43ma\u001b[39;49m\u001b[38;5;124;43m\"\u001b[39;49m\u001b[43m)\u001b[49m \u001b[38;5;28;01mas\u001b[39;00m io:\n\u001b[0;32m     42\u001b[0m     nwb \u001b[38;5;241m=\u001b[39m io\u001b[38;5;241m.\u001b[39mread()\n\u001b[0;32m     43\u001b[0m     \u001b[38;5;28;01mfor\u001b[39;00m col \u001b[38;5;129;01min\u001b[39;00m column_names:\n",
      "File \u001b[1;32m~\\AppData\\Roaming\\Python\\Python311\\site-packages\\hdmf\\utils.py:668\u001b[0m, in \u001b[0;36mdocval.<locals>.dec.<locals>.func_call\u001b[1;34m(*args, **kwargs)\u001b[0m\n\u001b[0;32m    666\u001b[0m \u001b[38;5;28;01mdef\u001b[39;00m \u001b[38;5;21mfunc_call\u001b[39m(\u001b[38;5;241m*\u001b[39margs, \u001b[38;5;241m*\u001b[39m\u001b[38;5;241m*\u001b[39mkwargs):\n\u001b[0;32m    667\u001b[0m     pargs \u001b[38;5;241m=\u001b[39m _check_args(args, kwargs)\n\u001b[1;32m--> 668\u001b[0m     \u001b[38;5;28;01mreturn\u001b[39;00m \u001b[43mfunc\u001b[49m\u001b[43m(\u001b[49m\u001b[43margs\u001b[49m\u001b[43m[\u001b[49m\u001b[38;5;241;43m0\u001b[39;49m\u001b[43m]\u001b[49m\u001b[43m,\u001b[49m\u001b[43m \u001b[49m\u001b[38;5;241;43m*\u001b[39;49m\u001b[38;5;241;43m*\u001b[39;49m\u001b[43mpargs\u001b[49m\u001b[43m)\u001b[49m\n",
      "File \u001b[1;32m~\\AppData\\Roaming\\Python\\Python311\\site-packages\\pynwb\\__init__.py:274\u001b[0m, in \u001b[0;36mNWBHDF5IO.__init__\u001b[1;34m(self, **kwargs)\u001b[0m\n\u001b[0;32m    272\u001b[0m \u001b[38;5;28;01mif\u001b[39;00m load_namespaces:\n\u001b[0;32m    273\u001b[0m     tm \u001b[38;5;241m=\u001b[39m get_type_map()\n\u001b[1;32m--> 274\u001b[0m     \u001b[38;5;28;43msuper\u001b[39;49m\u001b[43m(\u001b[49m\u001b[43m)\u001b[49m\u001b[38;5;241;43m.\u001b[39;49m\u001b[43mload_namespaces\u001b[49m\u001b[43m(\u001b[49m\u001b[43mtm\u001b[49m\u001b[43m,\u001b[49m\u001b[43m \u001b[49m\u001b[43mpath\u001b[49m\u001b[43m,\u001b[49m\u001b[43m \u001b[49m\u001b[43mfile\u001b[49m\u001b[38;5;241;43m=\u001b[39;49m\u001b[43mfile_obj\u001b[49m\u001b[43m,\u001b[49m\u001b[43m \u001b[49m\u001b[43mdriver\u001b[49m\u001b[38;5;241;43m=\u001b[39;49m\u001b[43mdriver\u001b[49m\u001b[43m)\u001b[49m\n\u001b[0;32m    275\u001b[0m     manager \u001b[38;5;241m=\u001b[39m BuildManager(tm)\n\u001b[0;32m    277\u001b[0m     \u001b[38;5;66;03m# XXX: Leaving this here in case we want to revert to this strategy for\u001b[39;00m\n\u001b[0;32m    278\u001b[0m     \u001b[38;5;66;03m#      loading cached namespaces\u001b[39;00m\n\u001b[0;32m    279\u001b[0m     \u001b[38;5;66;03m# ns_catalog = NamespaceCatalog(NWBGroupSpec, NWBDatasetSpec, NWBNamespace)\u001b[39;00m\n\u001b[1;32m   (...)\u001b[0m\n\u001b[0;32m    282\u001b[0m     \u001b[38;5;66;03m# tm.copy_mappers(get_type_map())\u001b[39;00m\n\u001b[0;32m    283\u001b[0m \u001b[38;5;28;01melse\u001b[39;00m:\n",
      "File \u001b[1;32m~\\AppData\\Roaming\\Python\\Python311\\site-packages\\hdmf\\utils.py:668\u001b[0m, in \u001b[0;36mdocval.<locals>.dec.<locals>.func_call\u001b[1;34m(*args, **kwargs)\u001b[0m\n\u001b[0;32m    666\u001b[0m \u001b[38;5;28;01mdef\u001b[39;00m \u001b[38;5;21mfunc_call\u001b[39m(\u001b[38;5;241m*\u001b[39margs, \u001b[38;5;241m*\u001b[39m\u001b[38;5;241m*\u001b[39mkwargs):\n\u001b[0;32m    667\u001b[0m     pargs \u001b[38;5;241m=\u001b[39m _check_args(args, kwargs)\n\u001b[1;32m--> 668\u001b[0m     \u001b[38;5;28;01mreturn\u001b[39;00m \u001b[43mfunc\u001b[49m\u001b[43m(\u001b[49m\u001b[43margs\u001b[49m\u001b[43m[\u001b[49m\u001b[38;5;241;43m0\u001b[39;49m\u001b[43m]\u001b[49m\u001b[43m,\u001b[49m\u001b[43m \u001b[49m\u001b[38;5;241;43m*\u001b[39;49m\u001b[38;5;241;43m*\u001b[39;49m\u001b[43mpargs\u001b[49m\u001b[43m)\u001b[49m\n",
      "File \u001b[1;32m~\\AppData\\Roaming\\Python\\Python311\\site-packages\\hdmf\\backends\\hdf5\\h5tools.py:172\u001b[0m, in \u001b[0;36mHDF5IO.load_namespaces\u001b[1;34m(cls, **kwargs)\u001b[0m\n\u001b[0;32m    170\u001b[0m \u001b[38;5;28;01mif\u001b[39;00m file_obj \u001b[38;5;129;01mis\u001b[39;00m \u001b[38;5;28;01mNone\u001b[39;00m:  \u001b[38;5;66;03m# need to close the file object that we just opened\u001b[39;00m\n\u001b[0;32m    171\u001b[0m     \u001b[38;5;28;01mwith\u001b[39;00m open_file_obj:\n\u001b[1;32m--> 172\u001b[0m         \u001b[38;5;28;01mreturn\u001b[39;00m \u001b[38;5;28;43mcls\u001b[39;49m\u001b[38;5;241;43m.\u001b[39;49m\u001b[43m__load_namespaces\u001b[49m\u001b[43m(\u001b[49m\u001b[43mnamespace_catalog\u001b[49m\u001b[43m,\u001b[49m\u001b[43m \u001b[49m\u001b[43mnamespaces\u001b[49m\u001b[43m,\u001b[49m\u001b[43m \u001b[49m\u001b[43mopen_file_obj\u001b[49m\u001b[43m)\u001b[49m\n\u001b[0;32m    173\u001b[0m \u001b[38;5;28;01mreturn\u001b[39;00m \u001b[38;5;28mcls\u001b[39m\u001b[38;5;241m.\u001b[39m__load_namespaces(namespace_catalog, namespaces, open_file_obj)\n",
      "File \u001b[1;32m~\\AppData\\Roaming\\Python\\Python311\\site-packages\\hdmf\\backends\\hdf5\\h5tools.py:193\u001b[0m, in \u001b[0;36mHDF5IO.__load_namespaces\u001b[1;34m(cls, namespace_catalog, namespaces, file_obj)\u001b[0m\n\u001b[0;32m    191\u001b[0m latest_version \u001b[38;5;241m=\u001b[39m namespace_versions[ns]\n\u001b[0;32m    192\u001b[0m ns_group \u001b[38;5;241m=\u001b[39m spec_group[ns][latest_version]\n\u001b[1;32m--> 193\u001b[0m reader \u001b[38;5;241m=\u001b[39m \u001b[43mH5SpecReader\u001b[49m\u001b[43m(\u001b[49m\u001b[43mns_group\u001b[49m\u001b[43m)\u001b[49m\n\u001b[0;32m    194\u001b[0m readers[ns] \u001b[38;5;241m=\u001b[39m reader\n\u001b[0;32m    195\u001b[0m \u001b[38;5;66;03m# for each namespace in the 'namespace' dataset, track all included namespaces (dependencies)\u001b[39;00m\n",
      "File \u001b[1;32m~\\AppData\\Roaming\\Python\\Python311\\site-packages\\hdmf\\utils.py:668\u001b[0m, in \u001b[0;36mdocval.<locals>.dec.<locals>.func_call\u001b[1;34m(*args, **kwargs)\u001b[0m\n\u001b[0;32m    666\u001b[0m \u001b[38;5;28;01mdef\u001b[39;00m \u001b[38;5;21mfunc_call\u001b[39m(\u001b[38;5;241m*\u001b[39margs, \u001b[38;5;241m*\u001b[39m\u001b[38;5;241m*\u001b[39mkwargs):\n\u001b[0;32m    667\u001b[0m     pargs \u001b[38;5;241m=\u001b[39m _check_args(args, kwargs)\n\u001b[1;32m--> 668\u001b[0m     \u001b[38;5;28;01mreturn\u001b[39;00m \u001b[43mfunc\u001b[49m\u001b[43m(\u001b[49m\u001b[43margs\u001b[49m\u001b[43m[\u001b[49m\u001b[38;5;241;43m0\u001b[39;49m\u001b[43m]\u001b[49m\u001b[43m,\u001b[49m\u001b[43m \u001b[49m\u001b[38;5;241;43m*\u001b[39;49m\u001b[38;5;241;43m*\u001b[39;49m\u001b[43mpargs\u001b[49m\u001b[43m)\u001b[49m\n",
      "File \u001b[1;32m~\\AppData\\Roaming\\Python\\Python311\\site-packages\\hdmf\\backends\\hdf5\\h5_utils.py:384\u001b[0m, in \u001b[0;36mH5SpecReader.__init__\u001b[1;34m(self, **kwargs)\u001b[0m\n\u001b[0;32m    381\u001b[0m \u001b[38;5;129m@docval\u001b[39m({\u001b[38;5;124m'\u001b[39m\u001b[38;5;124mname\u001b[39m\u001b[38;5;124m'\u001b[39m: \u001b[38;5;124m'\u001b[39m\u001b[38;5;124mgroup\u001b[39m\u001b[38;5;124m'\u001b[39m, \u001b[38;5;124m'\u001b[39m\u001b[38;5;124mtype\u001b[39m\u001b[38;5;124m'\u001b[39m: Group, \u001b[38;5;124m'\u001b[39m\u001b[38;5;124mdoc\u001b[39m\u001b[38;5;124m'\u001b[39m: \u001b[38;5;124m'\u001b[39m\u001b[38;5;124mthe HDF5 group to read specs from\u001b[39m\u001b[38;5;124m'\u001b[39m})\n\u001b[0;32m    382\u001b[0m \u001b[38;5;28;01mdef\u001b[39;00m \u001b[38;5;21m__init__\u001b[39m(\u001b[38;5;28mself\u001b[39m, \u001b[38;5;241m*\u001b[39m\u001b[38;5;241m*\u001b[39mkwargs):\n\u001b[0;32m    383\u001b[0m     \u001b[38;5;28mself\u001b[39m\u001b[38;5;241m.\u001b[39m__group \u001b[38;5;241m=\u001b[39m popargs(\u001b[38;5;124m'\u001b[39m\u001b[38;5;124mgroup\u001b[39m\u001b[38;5;124m'\u001b[39m, kwargs)\n\u001b[1;32m--> 384\u001b[0m     source \u001b[38;5;241m=\u001b[39m \u001b[38;5;124m\"\u001b[39m\u001b[38;5;132;01m%s\u001b[39;00m\u001b[38;5;124m:\u001b[39m\u001b[38;5;132;01m%s\u001b[39;00m\u001b[38;5;124m\"\u001b[39m \u001b[38;5;241m%\u001b[39m (os\u001b[38;5;241m.\u001b[39mpath\u001b[38;5;241m.\u001b[39mabspath(\u001b[38;5;28mself\u001b[39m\u001b[38;5;241m.\u001b[39m__group\u001b[38;5;241m.\u001b[39mfile\u001b[38;5;241m.\u001b[39mname), \u001b[38;5;28;43mself\u001b[39;49m\u001b[38;5;241;43m.\u001b[39;49m\u001b[43m__group\u001b[49m\u001b[38;5;241;43m.\u001b[39;49m\u001b[43mname\u001b[49m)\n\u001b[0;32m    385\u001b[0m     \u001b[38;5;28msuper\u001b[39m()\u001b[38;5;241m.\u001b[39m\u001b[38;5;21m__init__\u001b[39m(source\u001b[38;5;241m=\u001b[39msource)\n\u001b[0;32m    386\u001b[0m     \u001b[38;5;28mself\u001b[39m\u001b[38;5;241m.\u001b[39m__cache \u001b[38;5;241m=\u001b[39m \u001b[38;5;28;01mNone\u001b[39;00m\n",
      "File \u001b[1;32mh5py\\_objects.pyx:54\u001b[0m, in \u001b[0;36mh5py._objects.with_phil.wrapper\u001b[1;34m()\u001b[0m\n",
      "File \u001b[1;32mh5py\\_objects.pyx:55\u001b[0m, in \u001b[0;36mh5py._objects.with_phil.wrapper\u001b[1;34m()\u001b[0m\n",
      "File \u001b[1;32m~\\AppData\\Roaming\\Python\\Python311\\site-packages\\h5py\\_hl\\base.py:293\u001b[0m, in \u001b[0;36mHLObject.name\u001b[1;34m(self)\u001b[0m\n\u001b[0;32m    289\u001b[0m \u001b[38;5;129m@property\u001b[39m\n\u001b[0;32m    290\u001b[0m \u001b[38;5;129m@with_phil\u001b[39m\n\u001b[0;32m    291\u001b[0m \u001b[38;5;28;01mdef\u001b[39;00m \u001b[38;5;21mname\u001b[39m(\u001b[38;5;28mself\u001b[39m):\n\u001b[0;32m    292\u001b[0m \u001b[38;5;250m    \u001b[39m\u001b[38;5;124;03m\"\"\" Return the full name of this object.  None if anonymous. \"\"\"\u001b[39;00m\n\u001b[1;32m--> 293\u001b[0m     \u001b[38;5;28;01mreturn\u001b[39;00m \u001b[38;5;28;43mself\u001b[39;49m\u001b[38;5;241;43m.\u001b[39;49m\u001b[43m_d\u001b[49m\u001b[43m(\u001b[49m\u001b[43mh5i\u001b[49m\u001b[38;5;241;43m.\u001b[39;49m\u001b[43mget_name\u001b[49m\u001b[43m(\u001b[49m\u001b[38;5;28;43mself\u001b[39;49m\u001b[38;5;241;43m.\u001b[39;49m\u001b[43mid\u001b[49m\u001b[43m)\u001b[49m\u001b[43m)\u001b[49m\n",
      "File \u001b[1;32m~\\AppData\\Roaming\\Python\\Python311\\site-packages\\h5py\\_hl\\base.py:212\u001b[0m, in \u001b[0;36mCommonStateObject._d\u001b[1;34m(self, name)\u001b[0m\n\u001b[0;32m    209\u001b[0m         \u001b[38;5;28;01mreturn\u001b[39;00m name, get_lcpl(coding)\n\u001b[0;32m    210\u001b[0m     \u001b[38;5;28;01mreturn\u001b[39;00m name\n\u001b[1;32m--> 212\u001b[0m \u001b[38;5;28;01mdef\u001b[39;00m \u001b[38;5;21m_d\u001b[39m(\u001b[38;5;28mself\u001b[39m, name):\n\u001b[0;32m    213\u001b[0m \u001b[38;5;250m    \u001b[39m\u001b[38;5;124;03m\"\"\" Decode a name according to the current file settings.\u001b[39;00m\n\u001b[0;32m    214\u001b[0m \n\u001b[0;32m    215\u001b[0m \u001b[38;5;124;03m    - Try to decode utf8\u001b[39;00m\n\u001b[1;32m   (...)\u001b[0m\n\u001b[0;32m    218\u001b[0m \u001b[38;5;124;03m    If name is None, returns None.\u001b[39;00m\n\u001b[0;32m    219\u001b[0m \u001b[38;5;124;03m    \"\"\"\u001b[39;00m\n\u001b[0;32m    220\u001b[0m     \u001b[38;5;28;01mif\u001b[39;00m name \u001b[38;5;129;01mis\u001b[39;00m \u001b[38;5;28;01mNone\u001b[39;00m:\n",
      "\u001b[1;31mKeyboardInterrupt\u001b[0m: "
     ]
    }
   ],
   "source": [
    "# Author: Sachuriga\n",
    "# Email: sachuriga3@gmail.com\n",
    "# Purpose: Process CSV files and add their columns to corresponding NWB files\n",
    "\n",
    "import pandas as pd\n",
    "from pynwb import NWBHDF5IO\n",
    "import os\n",
    "\n",
    "target_prefixes_control= ['65165', '65091', '63383', '66539','65622','283']\n",
    "target_prefixes_exp = ['65588', '63385', '66538', '66537','66922']\n",
    "\n",
    "\n",
    "# Set your base folder path\n",
    "base_folder = 'S:/Sachuriga/nwb/test4neo'\n",
    "\n",
    "# Get all files in the directory\n",
    "all_files = os.listdir(base_folder)\n",
    "\n",
    "# Filter for CSV and NWB files and create pairs\n",
    "csv_files = [f for f in all_files if f.endswith('.csv')]\n",
    "nwb_files = [f for f in all_files if f.endswith('.nwb')]\n",
    "\n",
    "# Process each pair of files\n",
    "for csv_file in csv_files:\n",
    "    # Try to find a matching NWB file (assuming similar base names)\n",
    "    base_name = os.path.splitext(csv_file)[0]\n",
    "    nwb_file = f\"{base_name}.nwb\"\n",
    "    \n",
    "    if nwb_file in nwb_files:\n",
    "        csvpath = os.path.join(base_folder, csv_file)\n",
    "        nwbpath = os.path.join(base_folder, nwb_file)\n",
    "        \n",
    "        try:\n",
    "            # Read the CSV file\n",
    "            df = pd.read_csv(csvpath)\n",
    "            \n",
    "            # Get column names\n",
    "            column_names = df.columns.tolist()\n",
    "            \n",
    "            # Open and modify NWB file\n",
    "            with NWBHDF5IO(nwbpath, \"a\") as io:\n",
    "                nwb = io.read()\n",
    "                for col in column_names:\n",
    "                    print(f\"Processing column: {col}\")\n",
    "                    nwb.units.add_column(\n",
    "                        name=f\"matlab_{col}\",\n",
    "                        description=f\"values of {col}\",\n",
    "                        data=df[col].tolist()\n",
    "                    )\n",
    "        \n",
    "                # Uncomment these if you need to modify subject info\n",
    "                # nwb.subject.genotype = \"NDNF-flp +/- and Pde1c +/-\"\n",
    "                # nwb.subject.set_modified()\n",
    "\n",
    "\n",
    "                # nwb.subject.genotype = \"NDNF-flp-/- and Pde1c -/-\"\n",
    "                \n",
    "                io.write(nwb)\n",
    "            print(f\"Successfully processed {csv_file} into {nwb_file}\")\n",
    "            \n",
    "        except Exception as e:\n",
    "            print(f\"Error processing {csv_file}: {str(e)}\")\n",
    "    else:\n",
    "        print(f\"Warning: No matching NWB file found for {csv_file}\")\n",
    "\n",
    "print(\"Processing complete!\")"
   ]
  },
  {
   "cell_type": "code",
   "execution_count": null,
   "metadata": {},
   "outputs": [
    {
     "name": "stdout",
     "output_type": "stream",
     "text": [
      "Found 187 NWB files: ['66922_2024-09-25_15-39-48_A_phy_k_manual.nwb', '63383_2024-07-10_15-37-51_A_phy_k_manual.nwb', '63383_2024-07-13_14-10-05_A_phy_k_manual.nwb', '63383_2024-07-13_14-42-37_B_phy_k_manual.nwb', '63383_2024-07-13_15-10-36_C_phy_k_manual.nwb', '63383_2024-07-15_14-51-19_A_phy_k_manual.nwb', '63383_2024-07-15_15-18-02_B_phy_k_manual.nwb', '63383_2024-07-15_15-44-58_C_phy_k_manual.nwb', '63383_2024-07-18_14-13-10_A_phy_k_manual.nwb', '63383_2024-07-18_14-39-54_B_phy_k_manual.nwb', '63383_2024-07-18_15-07-00_C_phy_k_manual.nwb', '63383_2024-07-20_14-21-42_A_phy_k_manual.nwb', '63383_2024-07-20_14-48-58_B_phy_k_manual.nwb', '63383_2024-07-20_15-16-56_C_phy_k_manual.nwb', '63383_2024-07-22_15-12-01_A_phy_k_manual.nwb', '63383_2024-07-22_15-40-20_B_phy_k_manual.nwb', '63383_2024-07-22_16-10-10_C_phy_k_manual.nwb', '63383_2024-07-25_12-57-40_A_phy_k_manual.nwb', '63383_2024-07-25_13-26-11_B_phy_k_manual.nwb', '63383_2024-07-25_13-53-06_C_phy_k_manual.nwb', '63383_2024-07-28_12-22-19_A_phy_k_manual.nwb', '63383_2024-07-28_12-49-40_B_phy_k_manual.nwb', '63383_2024-07-28_13-20-57_C_phy_k_manual.nwb', '63383_2024-07-30_12-33-52_A_phy_k_manual.nwb', '63383_2024-07-30_13-03-12_B_phy_k_manual.nwb', '63383_2024-07-30_13-33-47_C_phy_k_manual.nwb', '63385_2024-07-10_14-39-57_A_phy_k_manual.nwb', '63385_2024-07-11_14-42-01_A_phy_k_manual.nwb', '63385_2024-07-13_15-58-08_A_phy_k_manual.nwb', '63385_2024-07-13_16-26-59_B_phy_k_manual.nwb', '63385_2024-07-13_16-54-07_C_phy_k_manual.nwb', '63385_2024-07-15_16-50-28_A_phy_k_manual.nwb', '63385_2024-07-15_17-16-21_B_phy_k_manual.nwb', '63385_2024-07-15_17-42-19_C_phy_k_manual.nwb', '63385_2024-07-18_16-11-58_A_phy_k_manual.nwb', '63385_2024-07-18_16-38-08_B_phy_k_manual.nwb', '63385_2024-07-18_17-05-03_C_phy_k_manual.nwb', '63385_2024-07-20_16-14-52_A_phy_k_manual.nwb', '63385_2024-07-20_16-41-18_B_phy_k_manual.nwb', '63385_2024-07-20_17-08-19_C_phy_k_manual.nwb', '63385_2024-07-22_13-33-23_A_phy_k_manual.nwb', '63385_2024-07-22_14-00-58_B_phy_k_manual.nwb', '63385_2024-07-22_14-34-14_C_phy_k_manual.nwb', '63385_2024-07-25_14-40-47_A_phy_k_manual.nwb', '63385_2024-07-25_15-07-43_B_phy_k_manual.nwb', '63385_2024-07-25_15-33-13_C_phy_k_manual.nwb', '63385_2024-07-28_14-43-52_A_phy_k_manual.nwb', '63385_2024-07-28_15-09-56_B_phy_k_manual.nwb', '63385_2024-07-28_15-34-34_C_phy_k_manual.nwb', '63385_2024-07-30_14-48-28_A_phy_k_manual.nwb', '63385_2024-07-30_15-15-18_B_phy_k_manual.nwb', '63385_2024-07-30_15-41-00_C_phy_k_manual.nwb', '65091_2023-07-30_14-06-35_A_phy_k_manual.nwb', '65091_2023-08-01_13-40-26_A_phy_k_manual.nwb', '65091_2023-08-01_15-16-29_C_phy_k_manual.nwb', '65091_2023-08-04_14-07-54_A_phy_k_manual.nwb', '65091_2023-08-08_11-39-47_A_phy_k_manual.nwb', '65091_2023-08-08_13-05-04_B_phy_k_manual.nwb', '65091_2023-08-08_13-32-49_C_phy_k_manual.nwb', '65165_2023-06-29_17-02-50_A_phy_k_manual.nwb', '65165_2023-06-30_16-32-08_A_phy_k_manual.nwb', '65165_2023-07-01_15-38-12_A_phy_k_manual.nwb', '65165_2023-07-03_16-21-48_A_phy_k_manual.nwb', '65165_2023-07-04_13-41-46_A_phy_k_manual.nwb', '65165_2023-07-10_15-08-59_A_phy_k_manual.nwb', '65165_2023-07-10_16-19-04_B_phy_k_manual.nwb', '65165_2023-07-10_17-11-32_C_phy_k_manual.nwb', '65165_2023-07-19_13-24-38_A_phy_k_manual.nwb', '65165_2023-07-20_16-57-26_A_phy_k_manual.nwb', '65165_2023-07-25_14-02-32_A_phy_k_manual.nwb', '65165_2023-07-26_14-32-28_A_phy_k_manual.nwb', '65165_2023-07-29_15-34-20_A_phy_k_manual.nwb', '65588_2024-03-04_15-44-37_A_phy_k_manual.nwb', '65588_2024-03-04_16-34-21_B_phy_k_manual.nwb', '65588_2024-03-04_17-12-55_C_phy_k_manual.nwb', '65588_2024-03-06_15-45-53_A_phy_k_manual.nwb', '65588_2024-03-06_16-25-11_B_phy_k_manual.nwb', '65588_2024-03-06_16-56-57_C_phy_k_manual.nwb', '65588_2024-03-08_14-47-56_A_phy_k_manual.nwb', '65588_2024-03-08_15-41-55_B_phy_k_manual.nwb', '65588_2024-03-08_16-10-29_C_phy_k_manual.nwb', '65588_2024-03-10_15-18-16_A_phy_k_manual.nwb', '65588_2024-03-10_15-48-31_B_phy_k_manual.nwb', '65588_2024-03-10_16-17-14_C_phy_k_manual.nwb', '65588_2024-03-12_15-17-04_A_phy_k_manual.nwb', '65588_2024-03-12_15-44-58_B_phy_k_manual.nwb', '65588_2024-03-12_16-15-30_C_phy_k_manual.nwb', '65588_2024-03-14_14-26-31_A_phy_k_manual.nwb', '65588_2024-03-14_15-25-11_B_phy_k_manual.nwb', '65588_2024-03-14_15-52-08_C_phy_k_manual.nwb', '65622_2024-04-30_14-59-30_A_phy_k_manual.nwb', '66537_2024-11-22_16-36-59_A_phy_k_manual.nwb', '66537_2024-11-22_17-05-17_B_phy_k_manual.nwb', '66537_2024-11-22_17-30-53_C_phy_k_manual.nwb', '66537_2024-11-26_12-58-02_A_phy_k_manual.nwb', '66537_2024-11-26_13-23-16_B_phy_k_manual.nwb', '66537_2024-11-26_13-47-20_C_phy_k_manual.nwb', '66537_2024-11-29_10-51-02_A_phy_k_manual.nwb', '66537_2024-11-29_11-19-52_B_phy_k_manual.nwb', '66537_2024-11-29_11-43-49_C_phy_k_manual.nwb', '66537_2024-12-02_11-51-18_A_phy_k_manual.nwb', '66537_2024-12-02_12-18-56_B_phy_k_manual.nwb', '66537_2024-12-02_12-44-40_C_phy_k_manual.nwb', '66537_2024-12-04_14-35-16_A_phy_k_manual.nwb', '66537_2024-12-04_15-00-57_B_phy_k_manual.nwb', '66537_2024-12-04_15-27-58_C_phy_k_manual.nwb', '66537_2024-12-06_15-08-44_A_phy_k_manual.nwb', '66537_2024-12-06_15-35-02_B_phy_k_manual.nwb', '66537_2024-12-06_15-59-24_C_phy_k_manual.nwb', '66537_2024-12-08_15-50-09_A_phy_k_manual.nwb', '66537_2024-12-08_16-13-58_B_phy_k_manual.nwb', '66537_2024-12-08_16-38-13_C_phy_k_manual.nwb', '66537_2024-12-18_12-33-01_A_phy_k_manual.nwb', '66537_2024-12-18_12-57-53_B_phy_k_manual.nwb', '66537_2024-12-18_13-22-19_C_phy_k_manual.nwb', '66537_2024-12-19_16-42-27_A_phy_k_manual.nwb', '66537_2024-12-19_17-07-13_B_phy_k_manual.nwb', '66537_2024-12-19_17-30-23_C_phy_k_manual.nwb', '66537_2024-12-21_15-19-13_A_phy_k_manual.nwb', '66537_2024-12-21_15-47-12_B_phy_k_manual.nwb', '66537_2024-12-21_16-10-40_C_phy_k_manual.nwb', '66538_2024-11-22_17-59-41_A_phy_k_manual.nwb', '66538_2024-11-22_18-25-29_B_phy_k_manual.nwb', '66538_2024-11-22_18-53-59_C_phy_k_manual.nwb', '66538_2024-11-25_11-10-56_A_phy_k_manual.nwb', '66538_2024-11-25_11-36-52_B_phy_k_manual.nwb', '66538_2024-11-25_12-02-14_C_phy_k_manual.nwb', '66538_2024-11-29_12-21-00_A_phy_k_manual.nwb', '66538_2024-11-29_12-47-36_B_phy_k_manual.nwb', '66538_2024-11-29_13-11-22_C_phy_k_manual.nwb', '66538_2024-12-02_10-31-40_A_phy_k_manual.nwb', '66538_2024-12-02_10-57-29_B_phy_k_manual.nwb', '66538_2024-12-02_11-22-15_C_phy_k_manual.nwb', '66538_2024-12-04_10-46-52_A_phy_k_manual.nwb', '66538_2024-12-04_11-12-40_B_phy_k_manual.nwb', '66538_2024-12-04_11-36-38_C_phy_k_manual.nwb', '66538_2024-12-06_13-29-55_A_phy_k_manual.nwb', '66538_2024-12-06_13-56-13_B_phy_k_manual.nwb', '66538_2024-12-06_14-19-53_C_phy_k_manual.nwb', '66538_2024-12-08_14-24-17_A_phy_k_manual.nwb', '66538_2024-12-08_14-55-18_B_phy_k_manual.nwb', '66538_2024-12-08_15-19-37_C_phy_k_manual.nwb', '66538_2024-12-10_11-46-21_A_phy_k_manual.nwb', '66538_2024-12-10_12-12-09_B_phy_k_manual.nwb', '66538_2024-12-10_12-37-28_C_phy_k_manual.nwb', '66538_2024-12-12_09-34-43_A_phy_k_manual.nwb', '66538_2024-12-12_09-59-20_B_phy_k_manual.nwb', '66538_2024-12-12_10-25-55_C_phy_k_manual.nwb', '66538_2024-12-16_14-08-36_A_phy_k_manual.nwb', '66538_2024-12-16_14-34-32_B_phy_k_manual.nwb', '66538_2024-12-16_14-57-58_C_phy_k_manual.nwb', '66539_2024-11-19_13-16-17_A_phy_k_manual.nwb', '66539_2024-11-19_13-49-18_B_phy_k_manual.nwb', '66539_2024-11-19_14-19-54_C_phy_k_manual.nwb', '66539_2024-11-22_15-04-20_A_phy_k_manual.nwb', '66539_2024-11-22_15-31-06_B_phy_k_manual.nwb', '66539_2024-11-22_15-57-47_C_phy_k_manual.nwb', '66539_2024-11-25_12-41-43_A_phy_k_manual.nwb', '66539_2024-11-25_13-07-11_B_phy_k_manual.nwb', '66539_2024-11-25_13-31-20_C_phy_k_manual.nwb', '66539_2024-11-28_13-45-42_A_phy_k_manual.nwb', '66539_2024-11-28_14-10-31_B_phy_k_manual.nwb', '66539_2024-11-28_14-34-05_C_phy_k_manual.nwb', '66539_2024-12-01_13-38-21_A_phy_k_manual.nwb', '66539_2024-12-01_14-05-00_B_phy_k_manual.nwb', '66539_2024-12-01_14-28-19_C_phy_k_manual.nwb', '66539_2024-12-03_11-42-19_A_phy_k_manual.nwb', '66539_2024-12-03_12-12-32_B_phy_k_manual.nwb', '66539_2024-12-03_12-37-51_C_phy_k_manual.nwb', '66539_2024-12-05_11-10-35_A_phy_k_manual.nwb', '66539_2024-12-05_11-38-14_B_phy_k_manual.nwb', '66539_2024-12-05_12-02-58_C_phy_k_manual.nwb', '66539_2024-12-07_15-40-06_A_phy_k_manual.nwb', '66539_2024-12-07_16-04-24_B_phy_k_manual.nwb', '66539_2024-12-07_16-27-58_C_phy_k_manual.nwb', '66539_2024-12-09_11-27-55_A_phy_k_manual.nwb', '66539_2024-12-09_11-52-29_B_phy_k_manual.nwb', '66539_2024-12-09_12-16-12_C_phy_k_manual.nwb', '66539_2024-12-17_14-15-32_A_phy_k_manual.nwb', '66539_2024-12-17_14-39-47_B_phy_k_manual.nwb', '66539_2024-12-17_15-07-12_C_phy_k_manual.nwb', '66539_2024-12-18_14-06-26_A_phy_k_manual.nwb', '66539_2024-12-18_14-32-02_B_phy_k_manual.nwb', '66539_2024-12-18_14-59-51_C_phy_k_manual.nwb', '66539_2024-12-22_16-57-58_A_phy_k_manual.nwb', '66539_2024-12-22_17-23-44_B_phy_k_manual.nwb', '66539_2024-12-22_17-49-05_C_phy_k_manual.nwb']\n",
      "Processing S:/Sachuriga/nwb/test4neo/66922_2024-09-25_15-39-48_A_phy_k_manual.nwb\n",
      "Animal ID: 66922\n",
      "AttributeError for 66922, skipping subject update\n",
      "Processing S:/Sachuriga/nwb/test4neo/63383_2024-07-10_15-37-51_A_phy_k_manual.nwb\n",
      "Animal ID: 63383\n",
      "AttributeError for 63383, skipping subject update\n",
      "Processing S:/Sachuriga/nwb/test4neo/63383_2024-07-13_14-10-05_A_phy_k_manual.nwb\n",
      "Animal ID: 63383\n",
      "AttributeError for 63383, skipping subject update\n",
      "Processing S:/Sachuriga/nwb/test4neo/63383_2024-07-13_14-42-37_B_phy_k_manual.nwb\n",
      "Animal ID: 63383\n",
      "AttributeError for 63383, skipping subject update\n",
      "Processing S:/Sachuriga/nwb/test4neo/63383_2024-07-13_15-10-36_C_phy_k_manual.nwb\n",
      "Animal ID: 63383\n",
      "AttributeError for 63383, skipping subject update\n",
      "Processing S:/Sachuriga/nwb/test4neo/63383_2024-07-15_14-51-19_A_phy_k_manual.nwb\n"
     ]
    },
    {
     "name": "stderr",
     "output_type": "stream",
     "text": [
      "C:\\Users\\sachur\\AppData\\Roaming\\Python\\Python311\\site-packages\\pynwb\\ecephys.py:90: UserWarning: ElectricalSeries 'lfp_car': The second dimension of data does not match the length of electrodes. Your data may be transposed.\n",
      "  warnings.warn(\"%s '%s': The second dimension of data does not match the length of electrodes. \"\n"
     ]
    },
    {
     "name": "stdout",
     "output_type": "stream",
     "text": [
      "Animal ID: 63383\n",
      "AttributeError for 63383, skipping subject update\n",
      "Processing S:/Sachuriga/nwb/test4neo/63383_2024-07-15_15-18-02_B_phy_k_manual.nwb\n"
     ]
    },
    {
     "name": "stderr",
     "output_type": "stream",
     "text": [
      "C:\\Users\\sachur\\AppData\\Roaming\\Python\\Python311\\site-packages\\pynwb\\ecephys.py:90: UserWarning: ElectricalSeries 'lfp_car': The second dimension of data does not match the length of electrodes. Your data may be transposed.\n",
      "  warnings.warn(\"%s '%s': The second dimension of data does not match the length of electrodes. \"\n"
     ]
    },
    {
     "name": "stdout",
     "output_type": "stream",
     "text": [
      "Animal ID: 63383\n",
      "AttributeError for 63383, skipping subject update\n",
      "Processing S:/Sachuriga/nwb/test4neo/63383_2024-07-15_15-44-58_C_phy_k_manual.nwb\n"
     ]
    },
    {
     "name": "stderr",
     "output_type": "stream",
     "text": [
      "C:\\Users\\sachur\\AppData\\Roaming\\Python\\Python311\\site-packages\\pynwb\\ecephys.py:90: UserWarning: ElectricalSeries 'lfp_car': The second dimension of data does not match the length of electrodes. Your data may be transposed.\n",
      "  warnings.warn(\"%s '%s': The second dimension of data does not match the length of electrodes. \"\n"
     ]
    },
    {
     "name": "stdout",
     "output_type": "stream",
     "text": [
      "Animal ID: 63383\n",
      "AttributeError for 63383, skipping subject update\n",
      "Processing S:/Sachuriga/nwb/test4neo/63383_2024-07-18_14-13-10_A_phy_k_manual.nwb\n",
      "Animal ID: 63383\n",
      "AttributeError for 63383, skipping subject update\n",
      "Processing S:/Sachuriga/nwb/test4neo/63383_2024-07-18_14-39-54_B_phy_k_manual.nwb\n",
      "Animal ID: 63383\n",
      "AttributeError for 63383, skipping subject update\n",
      "Processing S:/Sachuriga/nwb/test4neo/63383_2024-07-18_15-07-00_C_phy_k_manual.nwb\n",
      "Animal ID: 63383\n",
      "AttributeError for 63383, skipping subject update\n",
      "Processing S:/Sachuriga/nwb/test4neo/63383_2024-07-20_14-21-42_A_phy_k_manual.nwb\n",
      "Animal ID: 63383\n",
      "AttributeError for 63383, skipping subject update\n",
      "Processing S:/Sachuriga/nwb/test4neo/63383_2024-07-20_14-48-58_B_phy_k_manual.nwb\n",
      "Animal ID: 63383\n",
      "AttributeError for 63383, skipping subject update\n",
      "Processing S:/Sachuriga/nwb/test4neo/63383_2024-07-20_15-16-56_C_phy_k_manual.nwb\n",
      "Animal ID: 63383\n",
      "AttributeError for 63383, skipping subject update\n",
      "Processing S:/Sachuriga/nwb/test4neo/63383_2024-07-22_15-12-01_A_phy_k_manual.nwb\n",
      "Animal ID: 63383\n",
      "AttributeError for 63383, skipping subject update\n",
      "Processing S:/Sachuriga/nwb/test4neo/63383_2024-07-22_15-40-20_B_phy_k_manual.nwb\n",
      "Animal ID: 63383\n",
      "AttributeError for 63383, skipping subject update\n",
      "Processing S:/Sachuriga/nwb/test4neo/63383_2024-07-22_16-10-10_C_phy_k_manual.nwb\n",
      "Animal ID: 63383\n",
      "AttributeError for 63383, skipping subject update\n",
      "Processing S:/Sachuriga/nwb/test4neo/63383_2024-07-25_12-57-40_A_phy_k_manual.nwb\n",
      "Animal ID: 63383\n",
      "AttributeError for 63383, skipping subject update\n",
      "Processing S:/Sachuriga/nwb/test4neo/63383_2024-07-25_13-26-11_B_phy_k_manual.nwb\n",
      "Animal ID: 63383\n",
      "AttributeError for 63383, skipping subject update\n",
      "Processing S:/Sachuriga/nwb/test4neo/63383_2024-07-25_13-53-06_C_phy_k_manual.nwb\n",
      "Animal ID: 63383\n",
      "AttributeError for 63383, skipping subject update\n",
      "Processing S:/Sachuriga/nwb/test4neo/63383_2024-07-28_12-22-19_A_phy_k_manual.nwb\n",
      "Animal ID: 63383\n",
      "AttributeError for 63383, skipping subject update\n",
      "Processing S:/Sachuriga/nwb/test4neo/63383_2024-07-28_12-49-40_B_phy_k_manual.nwb\n",
      "Animal ID: 63383\n",
      "AttributeError for 63383, skipping subject update\n",
      "Processing S:/Sachuriga/nwb/test4neo/63383_2024-07-28_13-20-57_C_phy_k_manual.nwb\n",
      "Animal ID: 63383\n",
      "AttributeError for 63383, skipping subject update\n",
      "Processing S:/Sachuriga/nwb/test4neo/63383_2024-07-30_12-33-52_A_phy_k_manual.nwb\n",
      "Animal ID: 63383\n",
      "AttributeError for 63383, skipping subject update\n",
      "Processing S:/Sachuriga/nwb/test4neo/63383_2024-07-30_13-03-12_B_phy_k_manual.nwb\n",
      "Animal ID: 63383\n",
      "AttributeError for 63383, skipping subject update\n",
      "Processing S:/Sachuriga/nwb/test4neo/63383_2024-07-30_13-33-47_C_phy_k_manual.nwb\n",
      "Animal ID: 63383\n",
      "AttributeError for 63383, skipping subject update\n",
      "Processing S:/Sachuriga/nwb/test4neo/63385_2024-07-10_14-39-57_A_phy_k_manual.nwb\n",
      "Animal ID: 63385\n",
      "AttributeError for 63385, skipping subject update\n",
      "Processing S:/Sachuriga/nwb/test4neo/63385_2024-07-11_14-42-01_A_phy_k_manual.nwb\n",
      "Animal ID: 63385\n",
      "AttributeError for 63385, skipping subject update\n",
      "Processing S:/Sachuriga/nwb/test4neo/63385_2024-07-13_15-58-08_A_phy_k_manual.nwb\n",
      "Animal ID: 63385\n",
      "AttributeError for 63385, skipping subject update\n",
      "Processing S:/Sachuriga/nwb/test4neo/63385_2024-07-13_16-26-59_B_phy_k_manual.nwb\n",
      "Animal ID: 63385\n",
      "AttributeError for 63385, skipping subject update\n",
      "Processing S:/Sachuriga/nwb/test4neo/63385_2024-07-13_16-54-07_C_phy_k_manual.nwb\n",
      "Animal ID: 63385\n",
      "AttributeError for 63385, skipping subject update\n",
      "Processing S:/Sachuriga/nwb/test4neo/63385_2024-07-15_16-50-28_A_phy_k_manual.nwb\n",
      "Animal ID: 63385\n",
      "AttributeError for 63385, skipping subject update\n",
      "Processing S:/Sachuriga/nwb/test4neo/63385_2024-07-15_17-16-21_B_phy_k_manual.nwb\n",
      "Animal ID: 63385\n",
      "AttributeError for 63385, skipping subject update\n",
      "Processing S:/Sachuriga/nwb/test4neo/63385_2024-07-15_17-42-19_C_phy_k_manual.nwb\n",
      "Animal ID: 63385\n",
      "AttributeError for 63385, skipping subject update\n",
      "Processing S:/Sachuriga/nwb/test4neo/63385_2024-07-18_16-11-58_A_phy_k_manual.nwb\n",
      "Animal ID: 63385\n",
      "AttributeError for 63385, skipping subject update\n",
      "Processing S:/Sachuriga/nwb/test4neo/63385_2024-07-18_16-38-08_B_phy_k_manual.nwb\n",
      "Animal ID: 63385\n",
      "AttributeError for 63385, skipping subject update\n",
      "Processing S:/Sachuriga/nwb/test4neo/63385_2024-07-18_17-05-03_C_phy_k_manual.nwb\n",
      "Animal ID: 63385\n",
      "AttributeError for 63385, skipping subject update\n",
      "Processing S:/Sachuriga/nwb/test4neo/63385_2024-07-20_16-14-52_A_phy_k_manual.nwb\n",
      "Animal ID: 63385\n",
      "AttributeError for 63385, skipping subject update\n",
      "Processing S:/Sachuriga/nwb/test4neo/63385_2024-07-20_16-41-18_B_phy_k_manual.nwb\n",
      "Animal ID: 63385\n",
      "AttributeError for 63385, skipping subject update\n",
      "Processing S:/Sachuriga/nwb/test4neo/63385_2024-07-20_17-08-19_C_phy_k_manual.nwb\n",
      "Animal ID: 63385\n",
      "AttributeError for 63385, skipping subject update\n",
      "Processing S:/Sachuriga/nwb/test4neo/63385_2024-07-22_13-33-23_A_phy_k_manual.nwb\n",
      "Animal ID: 63385\n",
      "AttributeError for 63385, skipping subject update\n",
      "Processing S:/Sachuriga/nwb/test4neo/63385_2024-07-22_14-00-58_B_phy_k_manual.nwb\n",
      "Animal ID: 63385\n",
      "AttributeError for 63385, skipping subject update\n",
      "Processing S:/Sachuriga/nwb/test4neo/63385_2024-07-22_14-34-14_C_phy_k_manual.nwb\n",
      "Animal ID: 63385\n",
      "AttributeError for 63385, skipping subject update\n",
      "Processing S:/Sachuriga/nwb/test4neo/63385_2024-07-25_14-40-47_A_phy_k_manual.nwb\n",
      "Animal ID: 63385\n",
      "AttributeError for 63385, skipping subject update\n",
      "Processing S:/Sachuriga/nwb/test4neo/63385_2024-07-25_15-07-43_B_phy_k_manual.nwb\n",
      "Animal ID: 63385\n",
      "AttributeError for 63385, skipping subject update\n",
      "Processing S:/Sachuriga/nwb/test4neo/63385_2024-07-25_15-33-13_C_phy_k_manual.nwb\n",
      "Animal ID: 63385\n",
      "AttributeError for 63385, skipping subject update\n",
      "Processing S:/Sachuriga/nwb/test4neo/63385_2024-07-28_14-43-52_A_phy_k_manual.nwb\n",
      "Animal ID: 63385\n",
      "AttributeError for 63385, skipping subject update\n",
      "Processing S:/Sachuriga/nwb/test4neo/63385_2024-07-28_15-09-56_B_phy_k_manual.nwb\n",
      "Animal ID: 63385\n",
      "AttributeError for 63385, skipping subject update\n",
      "Processing S:/Sachuriga/nwb/test4neo/63385_2024-07-28_15-34-34_C_phy_k_manual.nwb\n",
      "Animal ID: 63385\n",
      "AttributeError for 63385, skipping subject update\n",
      "Processing S:/Sachuriga/nwb/test4neo/63385_2024-07-30_14-48-28_A_phy_k_manual.nwb\n",
      "Animal ID: 63385\n",
      "AttributeError for 63385, skipping subject update\n",
      "Processing S:/Sachuriga/nwb/test4neo/63385_2024-07-30_15-15-18_B_phy_k_manual.nwb\n",
      "Animal ID: 63385\n",
      "AttributeError for 63385, skipping subject update\n",
      "Processing S:/Sachuriga/nwb/test4neo/63385_2024-07-30_15-41-00_C_phy_k_manual.nwb\n",
      "Animal ID: 63385\n",
      "AttributeError for 63385, skipping subject update\n",
      "Processing S:/Sachuriga/nwb/test4neo/65091_2023-07-30_14-06-35_A_phy_k_manual.nwb\n",
      "Animal ID: 65091\n",
      "AttributeError for 65091, skipping subject update\n",
      "Processing S:/Sachuriga/nwb/test4neo/65091_2023-08-01_13-40-26_A_phy_k_manual.nwb\n",
      "Animal ID: 65091\n",
      "AttributeError for 65091, skipping subject update\n",
      "Processing S:/Sachuriga/nwb/test4neo/65091_2023-08-01_15-16-29_C_phy_k_manual.nwb\n",
      "Animal ID: 65091\n",
      "AttributeError for 65091, skipping subject update\n",
      "Processing S:/Sachuriga/nwb/test4neo/65091_2023-08-04_14-07-54_A_phy_k_manual.nwb\n",
      "Animal ID: 65091\n",
      "AttributeError for 65091, skipping subject update\n",
      "Processing S:/Sachuriga/nwb/test4neo/65091_2023-08-08_11-39-47_A_phy_k_manual.nwb\n",
      "Animal ID: 65091\n",
      "AttributeError for 65091, skipping subject update\n",
      "Processing S:/Sachuriga/nwb/test4neo/65091_2023-08-08_13-05-04_B_phy_k_manual.nwb\n",
      "Animal ID: 65091\n",
      "AttributeError for 65091, skipping subject update\n",
      "Processing S:/Sachuriga/nwb/test4neo/65091_2023-08-08_13-32-49_C_phy_k_manual.nwb\n",
      "Animal ID: 65091\n",
      "AttributeError for 65091, skipping subject update\n",
      "Processing S:/Sachuriga/nwb/test4neo/65165_2023-06-29_17-02-50_A_phy_k_manual.nwb\n",
      "Animal ID: 65165\n",
      "AttributeError for 65165, skipping subject update\n",
      "Processing S:/Sachuriga/nwb/test4neo/65165_2023-06-30_16-32-08_A_phy_k_manual.nwb\n"
     ]
    },
    {
     "name": "stderr",
     "output_type": "stream",
     "text": [
      "C:\\Users\\sachur\\AppData\\Roaming\\Python\\Python311\\site-packages\\pynwb\\ecephys.py:90: UserWarning: ElectricalSeries 'lfp_car': The second dimension of data does not match the length of electrodes. Your data may be transposed.\n",
      "  warnings.warn(\"%s '%s': The second dimension of data does not match the length of electrodes. \"\n"
     ]
    },
    {
     "name": "stdout",
     "output_type": "stream",
     "text": [
      "Animal ID: 65165\n",
      "AttributeError for 65165, skipping subject update\n",
      "Processing S:/Sachuriga/nwb/test4neo/65165_2023-07-01_15-38-12_A_phy_k_manual.nwb\n",
      "Animal ID: 65165\n",
      "AttributeError for 65165, skipping subject update\n",
      "Processing S:/Sachuriga/nwb/test4neo/65165_2023-07-03_16-21-48_A_phy_k_manual.nwb\n",
      "Animal ID: 65165\n",
      "AttributeError for 65165, skipping subject update\n",
      "Processing S:/Sachuriga/nwb/test4neo/65165_2023-07-04_13-41-46_A_phy_k_manual.nwb\n",
      "Animal ID: 65165\n",
      "AttributeError for 65165, skipping subject update\n",
      "Processing S:/Sachuriga/nwb/test4neo/65165_2023-07-10_15-08-59_A_phy_k_manual.nwb\n"
     ]
    },
    {
     "name": "stderr",
     "output_type": "stream",
     "text": [
      "C:\\Users\\sachur\\AppData\\Roaming\\Python\\Python311\\site-packages\\pynwb\\ecephys.py:90: UserWarning: ElectricalSeries 'lfp_car': The second dimension of data does not match the length of electrodes. Your data may be transposed.\n",
      "  warnings.warn(\"%s '%s': The second dimension of data does not match the length of electrodes. \"\n"
     ]
    },
    {
     "name": "stdout",
     "output_type": "stream",
     "text": [
      "Animal ID: 65165\n",
      "AttributeError for 65165, skipping subject update\n",
      "Processing S:/Sachuriga/nwb/test4neo/65165_2023-07-10_16-19-04_B_phy_k_manual.nwb\n"
     ]
    },
    {
     "name": "stderr",
     "output_type": "stream",
     "text": [
      "C:\\Users\\sachur\\AppData\\Roaming\\Python\\Python311\\site-packages\\pynwb\\ecephys.py:90: UserWarning: ElectricalSeries 'lfp_car': The second dimension of data does not match the length of electrodes. Your data may be transposed.\n",
      "  warnings.warn(\"%s '%s': The second dimension of data does not match the length of electrodes. \"\n"
     ]
    },
    {
     "name": "stdout",
     "output_type": "stream",
     "text": [
      "Animal ID: 65165\n",
      "AttributeError for 65165, skipping subject update\n",
      "Processing S:/Sachuriga/nwb/test4neo/65165_2023-07-10_17-11-32_C_phy_k_manual.nwb\n"
     ]
    },
    {
     "name": "stderr",
     "output_type": "stream",
     "text": [
      "C:\\Users\\sachur\\AppData\\Roaming\\Python\\Python311\\site-packages\\pynwb\\ecephys.py:90: UserWarning: ElectricalSeries 'lfp_car': The second dimension of data does not match the length of electrodes. Your data may be transposed.\n",
      "  warnings.warn(\"%s '%s': The second dimension of data does not match the length of electrodes. \"\n"
     ]
    },
    {
     "name": "stdout",
     "output_type": "stream",
     "text": [
      "Animal ID: 65165\n",
      "AttributeError for 65165, skipping subject update\n",
      "Processing S:/Sachuriga/nwb/test4neo/65165_2023-07-19_13-24-38_A_phy_k_manual.nwb\n",
      "Animal ID: 65165\n",
      "AttributeError for 65165, skipping subject update\n",
      "Processing S:/Sachuriga/nwb/test4neo/65165_2023-07-20_16-57-26_A_phy_k_manual.nwb\n"
     ]
    },
    {
     "name": "stderr",
     "output_type": "stream",
     "text": [
      "C:\\Users\\sachur\\AppData\\Roaming\\Python\\Python311\\site-packages\\pynwb\\ecephys.py:90: UserWarning: ElectricalSeries 'lfp_car': The second dimension of data does not match the length of electrodes. Your data may be transposed.\n",
      "  warnings.warn(\"%s '%s': The second dimension of data does not match the length of electrodes. \"\n"
     ]
    },
    {
     "name": "stdout",
     "output_type": "stream",
     "text": [
      "Animal ID: 65165\n",
      "AttributeError for 65165, skipping subject update\n",
      "Processing S:/Sachuriga/nwb/test4neo/65165_2023-07-25_14-02-32_A_phy_k_manual.nwb\n"
     ]
    },
    {
     "name": "stderr",
     "output_type": "stream",
     "text": [
      "C:\\Users\\sachur\\AppData\\Roaming\\Python\\Python311\\site-packages\\pynwb\\ecephys.py:90: UserWarning: ElectricalSeries 'lfp_car': The second dimension of data does not match the length of electrodes. Your data may be transposed.\n",
      "  warnings.warn(\"%s '%s': The second dimension of data does not match the length of electrodes. \"\n"
     ]
    },
    {
     "name": "stdout",
     "output_type": "stream",
     "text": [
      "Animal ID: 65165\n",
      "AttributeError for 65165, skipping subject update\n",
      "Processing S:/Sachuriga/nwb/test4neo/65165_2023-07-26_14-32-28_A_phy_k_manual.nwb\n",
      "Animal ID: 65165\n",
      "AttributeError for 65165, skipping subject update\n",
      "Processing S:/Sachuriga/nwb/test4neo/65165_2023-07-29_15-34-20_A_phy_k_manual.nwb\n",
      "Animal ID: 65165\n",
      "AttributeError for 65165, skipping subject update\n",
      "Processing S:/Sachuriga/nwb/test4neo/65588_2024-03-04_15-44-37_A_phy_k_manual.nwb\n",
      "Animal ID: 65588\n",
      "AttributeError for 65588, skipping subject update\n",
      "Processing S:/Sachuriga/nwb/test4neo/65588_2024-03-04_16-34-21_B_phy_k_manual.nwb\n",
      "Animal ID: 65588\n",
      "AttributeError for 65588, skipping subject update\n",
      "Processing S:/Sachuriga/nwb/test4neo/65588_2024-03-04_17-12-55_C_phy_k_manual.nwb\n"
     ]
    },
    {
     "name": "stderr",
     "output_type": "stream",
     "text": [
      "C:\\Users\\sachur\\AppData\\Roaming\\Python\\Python311\\site-packages\\pynwb\\ecephys.py:90: UserWarning: ElectricalSeries 'lfp_car': The second dimension of data does not match the length of electrodes. Your data may be transposed.\n",
      "  warnings.warn(\"%s '%s': The second dimension of data does not match the length of electrodes. \"\n"
     ]
    },
    {
     "name": "stdout",
     "output_type": "stream",
     "text": [
      "Animal ID: 65588\n",
      "AttributeError for 65588, skipping subject update\n",
      "Processing S:/Sachuriga/nwb/test4neo/65588_2024-03-06_15-45-53_A_phy_k_manual.nwb\n",
      "Animal ID: 65588\n",
      "AttributeError for 65588, skipping subject update\n",
      "Processing S:/Sachuriga/nwb/test4neo/65588_2024-03-06_16-25-11_B_phy_k_manual.nwb\n",
      "Animal ID: 65588\n",
      "AttributeError for 65588, skipping subject update\n",
      "Processing S:/Sachuriga/nwb/test4neo/65588_2024-03-06_16-56-57_C_phy_k_manual.nwb\n",
      "Animal ID: 65588\n",
      "AttributeError for 65588, skipping subject update\n",
      "Processing S:/Sachuriga/nwb/test4neo/65588_2024-03-08_14-47-56_A_phy_k_manual.nwb\n",
      "Animal ID: 65588\n",
      "AttributeError for 65588, skipping subject update\n",
      "Processing S:/Sachuriga/nwb/test4neo/65588_2024-03-08_15-41-55_B_phy_k_manual.nwb\n",
      "Animal ID: 65588\n",
      "AttributeError for 65588, skipping subject update\n",
      "Processing S:/Sachuriga/nwb/test4neo/65588_2024-03-08_16-10-29_C_phy_k_manual.nwb\n",
      "Animal ID: 65588\n",
      "AttributeError for 65588, skipping subject update\n",
      "Processing S:/Sachuriga/nwb/test4neo/65588_2024-03-10_15-18-16_A_phy_k_manual.nwb\n"
     ]
    },
    {
     "name": "stderr",
     "output_type": "stream",
     "text": [
      "C:\\Users\\sachur\\AppData\\Roaming\\Python\\Python311\\site-packages\\pynwb\\ecephys.py:90: UserWarning: ElectricalSeries 'lfp_car': The second dimension of data does not match the length of electrodes. Your data may be transposed.\n",
      "  warnings.warn(\"%s '%s': The second dimension of data does not match the length of electrodes. \"\n"
     ]
    },
    {
     "name": "stdout",
     "output_type": "stream",
     "text": [
      "Animal ID: 65588\n",
      "AttributeError for 65588, skipping subject update\n",
      "Processing S:/Sachuriga/nwb/test4neo/65588_2024-03-10_15-48-31_B_phy_k_manual.nwb\n",
      "Animal ID: 65588\n",
      "AttributeError for 65588, skipping subject update\n",
      "Processing S:/Sachuriga/nwb/test4neo/65588_2024-03-10_16-17-14_C_phy_k_manual.nwb\n",
      "Animal ID: 65588\n",
      "AttributeError for 65588, skipping subject update\n",
      "Processing S:/Sachuriga/nwb/test4neo/65588_2024-03-12_15-17-04_A_phy_k_manual.nwb\n"
     ]
    },
    {
     "name": "stderr",
     "output_type": "stream",
     "text": [
      "C:\\Users\\sachur\\AppData\\Roaming\\Python\\Python311\\site-packages\\pynwb\\ecephys.py:90: UserWarning: ElectricalSeries 'lfp_car': The second dimension of data does not match the length of electrodes. Your data may be transposed.\n",
      "  warnings.warn(\"%s '%s': The second dimension of data does not match the length of electrodes. \"\n"
     ]
    },
    {
     "name": "stdout",
     "output_type": "stream",
     "text": [
      "Animal ID: 65588\n",
      "AttributeError for 65588, skipping subject update\n",
      "Processing S:/Sachuriga/nwb/test4neo/65588_2024-03-12_15-44-58_B_phy_k_manual.nwb\n"
     ]
    },
    {
     "name": "stderr",
     "output_type": "stream",
     "text": [
      "C:\\Users\\sachur\\AppData\\Roaming\\Python\\Python311\\site-packages\\pynwb\\ecephys.py:90: UserWarning: ElectricalSeries 'lfp_car': The second dimension of data does not match the length of electrodes. Your data may be transposed.\n",
      "  warnings.warn(\"%s '%s': The second dimension of data does not match the length of electrodes. \"\n"
     ]
    },
    {
     "name": "stdout",
     "output_type": "stream",
     "text": [
      "Animal ID: 65588\n",
      "AttributeError for 65588, skipping subject update\n",
      "Processing S:/Sachuriga/nwb/test4neo/65588_2024-03-12_16-15-30_C_phy_k_manual.nwb\n"
     ]
    },
    {
     "name": "stderr",
     "output_type": "stream",
     "text": [
      "C:\\Users\\sachur\\AppData\\Roaming\\Python\\Python311\\site-packages\\pynwb\\ecephys.py:90: UserWarning: ElectricalSeries 'lfp_car': The second dimension of data does not match the length of electrodes. Your data may be transposed.\n",
      "  warnings.warn(\"%s '%s': The second dimension of data does not match the length of electrodes. \"\n"
     ]
    },
    {
     "name": "stdout",
     "output_type": "stream",
     "text": [
      "Animal ID: 65588\n",
      "AttributeError for 65588, skipping subject update\n",
      "Processing S:/Sachuriga/nwb/test4neo/65588_2024-03-14_14-26-31_A_phy_k_manual.nwb\n",
      "Animal ID: 65588\n",
      "AttributeError for 65588, skipping subject update\n",
      "Processing S:/Sachuriga/nwb/test4neo/65588_2024-03-14_15-25-11_B_phy_k_manual.nwb\n",
      "Animal ID: 65588\n",
      "AttributeError for 65588, skipping subject update\n",
      "Processing S:/Sachuriga/nwb/test4neo/65588_2024-03-14_15-52-08_C_phy_k_manual.nwb\n",
      "Animal ID: 65588\n",
      "AttributeError for 65588, skipping subject update\n",
      "Processing S:/Sachuriga/nwb/test4neo/65622_2024-04-30_14-59-30_A_phy_k_manual.nwb\n"
     ]
    },
    {
     "name": "stderr",
     "output_type": "stream",
     "text": [
      "C:\\Users\\sachur\\AppData\\Roaming\\Python\\Python311\\site-packages\\pynwb\\ecephys.py:90: UserWarning: ElectricalSeries 'lfp_car': The second dimension of data does not match the length of electrodes. Your data may be transposed.\n",
      "  warnings.warn(\"%s '%s': The second dimension of data does not match the length of electrodes. \"\n"
     ]
    },
    {
     "name": "stdout",
     "output_type": "stream",
     "text": [
      "Animal ID: 65622\n",
      "AttributeError for 65622, skipping subject update\n",
      "Processing S:/Sachuriga/nwb/test4neo/66537_2024-11-22_16-36-59_A_phy_k_manual.nwb\n",
      "Animal ID: 66537\n",
      "AttributeError for 66537, skipping subject update\n",
      "Processing S:/Sachuriga/nwb/test4neo/66537_2024-11-22_17-05-17_B_phy_k_manual.nwb\n",
      "Animal ID: 66537\n",
      "AttributeError for 66537, skipping subject update\n",
      "Processing S:/Sachuriga/nwb/test4neo/66537_2024-11-22_17-30-53_C_phy_k_manual.nwb\n",
      "Animal ID: 66537\n",
      "AttributeError for 66537, skipping subject update\n",
      "Processing S:/Sachuriga/nwb/test4neo/66537_2024-11-26_12-58-02_A_phy_k_manual.nwb\n",
      "Animal ID: 66537\n",
      "AttributeError for 66537, skipping subject update\n",
      "Processing S:/Sachuriga/nwb/test4neo/66537_2024-11-26_13-23-16_B_phy_k_manual.nwb\n"
     ]
    },
    {
     "name": "stderr",
     "output_type": "stream",
     "text": [
      "C:\\Users\\sachur\\AppData\\Roaming\\Python\\Python311\\site-packages\\pynwb\\ecephys.py:90: UserWarning: ElectricalSeries 'lfp_car': The second dimension of data does not match the length of electrodes. Your data may be transposed.\n",
      "  warnings.warn(\"%s '%s': The second dimension of data does not match the length of electrodes. \"\n"
     ]
    },
    {
     "name": "stdout",
     "output_type": "stream",
     "text": [
      "Animal ID: 66537\n",
      "AttributeError for 66537, skipping subject update\n",
      "Processing S:/Sachuriga/nwb/test4neo/66537_2024-11-26_13-47-20_C_phy_k_manual.nwb\n"
     ]
    },
    {
     "name": "stderr",
     "output_type": "stream",
     "text": [
      "C:\\Users\\sachur\\AppData\\Roaming\\Python\\Python311\\site-packages\\pynwb\\ecephys.py:90: UserWarning: ElectricalSeries 'lfp_car': The second dimension of data does not match the length of electrodes. Your data may be transposed.\n",
      "  warnings.warn(\"%s '%s': The second dimension of data does not match the length of electrodes. \"\n"
     ]
    },
    {
     "name": "stdout",
     "output_type": "stream",
     "text": [
      "Animal ID: 66537\n",
      "AttributeError for 66537, skipping subject update\n",
      "Processing S:/Sachuriga/nwb/test4neo/66537_2024-11-29_10-51-02_A_phy_k_manual.nwb\n"
     ]
    },
    {
     "name": "stderr",
     "output_type": "stream",
     "text": [
      "C:\\Users\\sachur\\AppData\\Roaming\\Python\\Python311\\site-packages\\pynwb\\ecephys.py:90: UserWarning: ElectricalSeries 'lfp_car': The second dimension of data does not match the length of electrodes. Your data may be transposed.\n",
      "  warnings.warn(\"%s '%s': The second dimension of data does not match the length of electrodes. \"\n"
     ]
    },
    {
     "name": "stdout",
     "output_type": "stream",
     "text": [
      "Animal ID: 66537\n",
      "AttributeError for 66537, skipping subject update\n",
      "Processing S:/Sachuriga/nwb/test4neo/66537_2024-11-29_11-19-52_B_phy_k_manual.nwb\n"
     ]
    },
    {
     "name": "stderr",
     "output_type": "stream",
     "text": [
      "C:\\Users\\sachur\\AppData\\Roaming\\Python\\Python311\\site-packages\\pynwb\\ecephys.py:90: UserWarning: ElectricalSeries 'lfp_car': The second dimension of data does not match the length of electrodes. Your data may be transposed.\n",
      "  warnings.warn(\"%s '%s': The second dimension of data does not match the length of electrodes. \"\n"
     ]
    },
    {
     "name": "stdout",
     "output_type": "stream",
     "text": [
      "Animal ID: 66537\n",
      "AttributeError for 66537, skipping subject update\n",
      "Processing S:/Sachuriga/nwb/test4neo/66537_2024-11-29_11-43-49_C_phy_k_manual.nwb\n"
     ]
    },
    {
     "name": "stderr",
     "output_type": "stream",
     "text": [
      "C:\\Users\\sachur\\AppData\\Roaming\\Python\\Python311\\site-packages\\pynwb\\ecephys.py:90: UserWarning: ElectricalSeries 'lfp_car': The second dimension of data does not match the length of electrodes. Your data may be transposed.\n",
      "  warnings.warn(\"%s '%s': The second dimension of data does not match the length of electrodes. \"\n"
     ]
    },
    {
     "name": "stdout",
     "output_type": "stream",
     "text": [
      "Animal ID: 66537\n",
      "AttributeError for 66537, skipping subject update\n",
      "Processing S:/Sachuriga/nwb/test4neo/66537_2024-12-02_11-51-18_A_phy_k_manual.nwb\n"
     ]
    },
    {
     "name": "stderr",
     "output_type": "stream",
     "text": [
      "C:\\Users\\sachur\\AppData\\Roaming\\Python\\Python311\\site-packages\\pynwb\\ecephys.py:90: UserWarning: ElectricalSeries 'lfp_car': The second dimension of data does not match the length of electrodes. Your data may be transposed.\n",
      "  warnings.warn(\"%s '%s': The second dimension of data does not match the length of electrodes. \"\n"
     ]
    },
    {
     "name": "stdout",
     "output_type": "stream",
     "text": [
      "Animal ID: 66537\n",
      "AttributeError for 66537, skipping subject update\n",
      "Processing S:/Sachuriga/nwb/test4neo/66537_2024-12-02_12-18-56_B_phy_k_manual.nwb\n"
     ]
    },
    {
     "name": "stderr",
     "output_type": "stream",
     "text": [
      "C:\\Users\\sachur\\AppData\\Roaming\\Python\\Python311\\site-packages\\pynwb\\ecephys.py:90: UserWarning: ElectricalSeries 'lfp_car': The second dimension of data does not match the length of electrodes. Your data may be transposed.\n",
      "  warnings.warn(\"%s '%s': The second dimension of data does not match the length of electrodes. \"\n"
     ]
    },
    {
     "name": "stdout",
     "output_type": "stream",
     "text": [
      "Animal ID: 66537\n",
      "AttributeError for 66537, skipping subject update\n",
      "Processing S:/Sachuriga/nwb/test4neo/66537_2024-12-02_12-44-40_C_phy_k_manual.nwb\n"
     ]
    },
    {
     "name": "stderr",
     "output_type": "stream",
     "text": [
      "C:\\Users\\sachur\\AppData\\Roaming\\Python\\Python311\\site-packages\\pynwb\\ecephys.py:90: UserWarning: ElectricalSeries 'lfp_car': The second dimension of data does not match the length of electrodes. Your data may be transposed.\n",
      "  warnings.warn(\"%s '%s': The second dimension of data does not match the length of electrodes. \"\n"
     ]
    },
    {
     "name": "stdout",
     "output_type": "stream",
     "text": [
      "Animal ID: 66537\n",
      "AttributeError for 66537, skipping subject update\n",
      "Processing S:/Sachuriga/nwb/test4neo/66537_2024-12-04_14-35-16_A_phy_k_manual.nwb\n"
     ]
    },
    {
     "name": "stderr",
     "output_type": "stream",
     "text": [
      "C:\\Users\\sachur\\AppData\\Roaming\\Python\\Python311\\site-packages\\pynwb\\ecephys.py:90: UserWarning: ElectricalSeries 'lfp_car': The second dimension of data does not match the length of electrodes. Your data may be transposed.\n",
      "  warnings.warn(\"%s '%s': The second dimension of data does not match the length of electrodes. \"\n"
     ]
    },
    {
     "name": "stdout",
     "output_type": "stream",
     "text": [
      "Animal ID: 66537\n",
      "AttributeError for 66537, skipping subject update\n",
      "Processing S:/Sachuriga/nwb/test4neo/66537_2024-12-04_15-00-57_B_phy_k_manual.nwb\n"
     ]
    },
    {
     "name": "stderr",
     "output_type": "stream",
     "text": [
      "C:\\Users\\sachur\\AppData\\Roaming\\Python\\Python311\\site-packages\\pynwb\\ecephys.py:90: UserWarning: ElectricalSeries 'lfp_car': The second dimension of data does not match the length of electrodes. Your data may be transposed.\n",
      "  warnings.warn(\"%s '%s': The second dimension of data does not match the length of electrodes. \"\n"
     ]
    },
    {
     "name": "stdout",
     "output_type": "stream",
     "text": [
      "Animal ID: 66537\n",
      "AttributeError for 66537, skipping subject update\n",
      "Processing S:/Sachuriga/nwb/test4neo/66537_2024-12-04_15-27-58_C_phy_k_manual.nwb\n"
     ]
    },
    {
     "name": "stderr",
     "output_type": "stream",
     "text": [
      "C:\\Users\\sachur\\AppData\\Roaming\\Python\\Python311\\site-packages\\pynwb\\ecephys.py:90: UserWarning: ElectricalSeries 'lfp_car': The second dimension of data does not match the length of electrodes. Your data may be transposed.\n",
      "  warnings.warn(\"%s '%s': The second dimension of data does not match the length of electrodes. \"\n"
     ]
    },
    {
     "name": "stdout",
     "output_type": "stream",
     "text": [
      "Animal ID: 66537\n",
      "AttributeError for 66537, skipping subject update\n",
      "Processing S:/Sachuriga/nwb/test4neo/66537_2024-12-06_15-08-44_A_phy_k_manual.nwb\n"
     ]
    },
    {
     "name": "stderr",
     "output_type": "stream",
     "text": [
      "C:\\Users\\sachur\\AppData\\Roaming\\Python\\Python311\\site-packages\\pynwb\\ecephys.py:90: UserWarning: ElectricalSeries 'lfp_car': The second dimension of data does not match the length of electrodes. Your data may be transposed.\n",
      "  warnings.warn(\"%s '%s': The second dimension of data does not match the length of electrodes. \"\n"
     ]
    },
    {
     "name": "stdout",
     "output_type": "stream",
     "text": [
      "Animal ID: 66537\n",
      "AttributeError for 66537, skipping subject update\n",
      "Processing S:/Sachuriga/nwb/test4neo/66537_2024-12-06_15-35-02_B_phy_k_manual.nwb\n"
     ]
    },
    {
     "name": "stderr",
     "output_type": "stream",
     "text": [
      "C:\\Users\\sachur\\AppData\\Roaming\\Python\\Python311\\site-packages\\pynwb\\ecephys.py:90: UserWarning: ElectricalSeries 'lfp_car': The second dimension of data does not match the length of electrodes. Your data may be transposed.\n",
      "  warnings.warn(\"%s '%s': The second dimension of data does not match the length of electrodes. \"\n"
     ]
    },
    {
     "name": "stdout",
     "output_type": "stream",
     "text": [
      "Animal ID: 66537\n",
      "AttributeError for 66537, skipping subject update\n",
      "Processing S:/Sachuriga/nwb/test4neo/66537_2024-12-06_15-59-24_C_phy_k_manual.nwb\n"
     ]
    },
    {
     "name": "stderr",
     "output_type": "stream",
     "text": [
      "C:\\Users\\sachur\\AppData\\Roaming\\Python\\Python311\\site-packages\\pynwb\\ecephys.py:90: UserWarning: ElectricalSeries 'lfp_car': The second dimension of data does not match the length of electrodes. Your data may be transposed.\n",
      "  warnings.warn(\"%s '%s': The second dimension of data does not match the length of electrodes. \"\n"
     ]
    },
    {
     "name": "stdout",
     "output_type": "stream",
     "text": [
      "Animal ID: 66537\n",
      "AttributeError for 66537, skipping subject update\n",
      "Processing S:/Sachuriga/nwb/test4neo/66537_2024-12-08_15-50-09_A_phy_k_manual.nwb\n"
     ]
    },
    {
     "name": "stderr",
     "output_type": "stream",
     "text": [
      "C:\\Users\\sachur\\AppData\\Roaming\\Python\\Python311\\site-packages\\pynwb\\ecephys.py:90: UserWarning: ElectricalSeries 'lfp_car': The second dimension of data does not match the length of electrodes. Your data may be transposed.\n",
      "  warnings.warn(\"%s '%s': The second dimension of data does not match the length of electrodes. \"\n"
     ]
    },
    {
     "name": "stdout",
     "output_type": "stream",
     "text": [
      "Animal ID: 66537\n",
      "AttributeError for 66537, skipping subject update\n",
      "Processing S:/Sachuriga/nwb/test4neo/66537_2024-12-08_16-13-58_B_phy_k_manual.nwb\n"
     ]
    },
    {
     "name": "stderr",
     "output_type": "stream",
     "text": [
      "C:\\Users\\sachur\\AppData\\Roaming\\Python\\Python311\\site-packages\\pynwb\\ecephys.py:90: UserWarning: ElectricalSeries 'lfp_car': The second dimension of data does not match the length of electrodes. Your data may be transposed.\n",
      "  warnings.warn(\"%s '%s': The second dimension of data does not match the length of electrodes. \"\n"
     ]
    },
    {
     "name": "stdout",
     "output_type": "stream",
     "text": [
      "Animal ID: 66537\n",
      "AttributeError for 66537, skipping subject update\n",
      "Processing S:/Sachuriga/nwb/test4neo/66537_2024-12-08_16-38-13_C_phy_k_manual.nwb\n"
     ]
    },
    {
     "name": "stderr",
     "output_type": "stream",
     "text": [
      "C:\\Users\\sachur\\AppData\\Roaming\\Python\\Python311\\site-packages\\pynwb\\ecephys.py:90: UserWarning: ElectricalSeries 'lfp_car': The second dimension of data does not match the length of electrodes. Your data may be transposed.\n",
      "  warnings.warn(\"%s '%s': The second dimension of data does not match the length of electrodes. \"\n"
     ]
    },
    {
     "name": "stdout",
     "output_type": "stream",
     "text": [
      "Animal ID: 66537\n",
      "AttributeError for 66537, skipping subject update\n",
      "Processing S:/Sachuriga/nwb/test4neo/66537_2024-12-18_12-33-01_A_phy_k_manual.nwb\n"
     ]
    },
    {
     "name": "stderr",
     "output_type": "stream",
     "text": [
      "C:\\Users\\sachur\\AppData\\Roaming\\Python\\Python311\\site-packages\\pynwb\\ecephys.py:90: UserWarning: ElectricalSeries 'lfp_car': The second dimension of data does not match the length of electrodes. Your data may be transposed.\n",
      "  warnings.warn(\"%s '%s': The second dimension of data does not match the length of electrodes. \"\n"
     ]
    },
    {
     "name": "stdout",
     "output_type": "stream",
     "text": [
      "Animal ID: 66537\n",
      "AttributeError for 66537, skipping subject update\n",
      "Processing S:/Sachuriga/nwb/test4neo/66537_2024-12-18_12-57-53_B_phy_k_manual.nwb\n"
     ]
    },
    {
     "name": "stderr",
     "output_type": "stream",
     "text": [
      "C:\\Users\\sachur\\AppData\\Roaming\\Python\\Python311\\site-packages\\pynwb\\ecephys.py:90: UserWarning: ElectricalSeries 'lfp_car': The second dimension of data does not match the length of electrodes. Your data may be transposed.\n",
      "  warnings.warn(\"%s '%s': The second dimension of data does not match the length of electrodes. \"\n"
     ]
    },
    {
     "name": "stdout",
     "output_type": "stream",
     "text": [
      "Animal ID: 66537\n",
      "AttributeError for 66537, skipping subject update\n",
      "Processing S:/Sachuriga/nwb/test4neo/66537_2024-12-18_13-22-19_C_phy_k_manual.nwb\n"
     ]
    },
    {
     "name": "stderr",
     "output_type": "stream",
     "text": [
      "C:\\Users\\sachur\\AppData\\Roaming\\Python\\Python311\\site-packages\\pynwb\\ecephys.py:90: UserWarning: ElectricalSeries 'lfp_car': The second dimension of data does not match the length of electrodes. Your data may be transposed.\n",
      "  warnings.warn(\"%s '%s': The second dimension of data does not match the length of electrodes. \"\n"
     ]
    },
    {
     "name": "stdout",
     "output_type": "stream",
     "text": [
      "Animal ID: 66537\n",
      "AttributeError for 66537, skipping subject update\n",
      "Processing S:/Sachuriga/nwb/test4neo/66537_2024-12-19_16-42-27_A_phy_k_manual.nwb\n"
     ]
    },
    {
     "name": "stderr",
     "output_type": "stream",
     "text": [
      "C:\\Users\\sachur\\AppData\\Roaming\\Python\\Python311\\site-packages\\pynwb\\ecephys.py:90: UserWarning: ElectricalSeries 'lfp_car': The second dimension of data does not match the length of electrodes. Your data may be transposed.\n",
      "  warnings.warn(\"%s '%s': The second dimension of data does not match the length of electrodes. \"\n"
     ]
    },
    {
     "name": "stdout",
     "output_type": "stream",
     "text": [
      "Animal ID: 66537\n",
      "AttributeError for 66537, skipping subject update\n",
      "Processing S:/Sachuriga/nwb/test4neo/66537_2024-12-19_17-07-13_B_phy_k_manual.nwb\n"
     ]
    },
    {
     "name": "stderr",
     "output_type": "stream",
     "text": [
      "C:\\Users\\sachur\\AppData\\Roaming\\Python\\Python311\\site-packages\\pynwb\\ecephys.py:90: UserWarning: ElectricalSeries 'lfp_car': The second dimension of data does not match the length of electrodes. Your data may be transposed.\n",
      "  warnings.warn(\"%s '%s': The second dimension of data does not match the length of electrodes. \"\n"
     ]
    },
    {
     "name": "stdout",
     "output_type": "stream",
     "text": [
      "Animal ID: 66537\n",
      "AttributeError for 66537, skipping subject update\n",
      "Processing S:/Sachuriga/nwb/test4neo/66537_2024-12-19_17-30-23_C_phy_k_manual.nwb\n"
     ]
    },
    {
     "name": "stderr",
     "output_type": "stream",
     "text": [
      "C:\\Users\\sachur\\AppData\\Roaming\\Python\\Python311\\site-packages\\pynwb\\ecephys.py:90: UserWarning: ElectricalSeries 'lfp_car': The second dimension of data does not match the length of electrodes. Your data may be transposed.\n",
      "  warnings.warn(\"%s '%s': The second dimension of data does not match the length of electrodes. \"\n"
     ]
    },
    {
     "name": "stdout",
     "output_type": "stream",
     "text": [
      "Animal ID: 66537\n",
      "AttributeError for 66537, skipping subject update\n",
      "Processing S:/Sachuriga/nwb/test4neo/66537_2024-12-21_15-19-13_A_phy_k_manual.nwb\n",
      "Animal ID: 66537\n",
      "AttributeError for 66537, skipping subject update\n",
      "Processing S:/Sachuriga/nwb/test4neo/66537_2024-12-21_15-47-12_B_phy_k_manual.nwb\n",
      "Animal ID: 66537\n",
      "AttributeError for 66537, skipping subject update\n",
      "Processing S:/Sachuriga/nwb/test4neo/66537_2024-12-21_16-10-40_C_phy_k_manual.nwb\n",
      "Animal ID: 66537\n",
      "AttributeError for 66537, skipping subject update\n",
      "Processing S:/Sachuriga/nwb/test4neo/66538_2024-11-22_17-59-41_A_phy_k_manual.nwb\n",
      "Animal ID: 66538\n",
      "AttributeError for 66538, skipping subject update\n",
      "Processing S:/Sachuriga/nwb/test4neo/66538_2024-11-22_18-25-29_B_phy_k_manual.nwb\n",
      "Animal ID: 66538\n",
      "AttributeError for 66538, skipping subject update\n",
      "Processing S:/Sachuriga/nwb/test4neo/66538_2024-11-22_18-53-59_C_phy_k_manual.nwb\n",
      "Animal ID: 66538\n",
      "AttributeError for 66538, skipping subject update\n",
      "Processing S:/Sachuriga/nwb/test4neo/66538_2024-11-25_11-10-56_A_phy_k_manual.nwb\n",
      "Animal ID: 66538\n",
      "AttributeError for 66538, skipping subject update\n",
      "Processing S:/Sachuriga/nwb/test4neo/66538_2024-11-25_11-36-52_B_phy_k_manual.nwb\n",
      "Animal ID: 66538\n",
      "AttributeError for 66538, skipping subject update\n",
      "Processing S:/Sachuriga/nwb/test4neo/66538_2024-11-25_12-02-14_C_phy_k_manual.nwb\n",
      "Animal ID: 66538\n",
      "AttributeError for 66538, skipping subject update\n",
      "Processing S:/Sachuriga/nwb/test4neo/66538_2024-11-29_12-21-00_A_phy_k_manual.nwb\n",
      "Animal ID: 66538\n",
      "AttributeError for 66538, skipping subject update\n",
      "Processing S:/Sachuriga/nwb/test4neo/66538_2024-11-29_12-47-36_B_phy_k_manual.nwb\n",
      "Animal ID: 66538\n",
      "AttributeError for 66538, skipping subject update\n",
      "Processing S:/Sachuriga/nwb/test4neo/66538_2024-11-29_13-11-22_C_phy_k_manual.nwb\n",
      "Animal ID: 66538\n",
      "AttributeError for 66538, skipping subject update\n",
      "Processing S:/Sachuriga/nwb/test4neo/66538_2024-12-02_10-31-40_A_phy_k_manual.nwb\n",
      "Animal ID: 66538\n",
      "AttributeError for 66538, skipping subject update\n",
      "Processing S:/Sachuriga/nwb/test4neo/66538_2024-12-02_10-57-29_B_phy_k_manual.nwb\n",
      "Animal ID: 66538\n",
      "AttributeError for 66538, skipping subject update\n",
      "Processing S:/Sachuriga/nwb/test4neo/66538_2024-12-02_11-22-15_C_phy_k_manual.nwb\n",
      "Animal ID: 66538\n",
      "AttributeError for 66538, skipping subject update\n",
      "Processing S:/Sachuriga/nwb/test4neo/66538_2024-12-04_10-46-52_A_phy_k_manual.nwb\n",
      "Animal ID: 66538\n",
      "AttributeError for 66538, skipping subject update\n",
      "Processing S:/Sachuriga/nwb/test4neo/66538_2024-12-04_11-12-40_B_phy_k_manual.nwb\n",
      "Animal ID: 66538\n",
      "AttributeError for 66538, skipping subject update\n",
      "Processing S:/Sachuriga/nwb/test4neo/66538_2024-12-04_11-36-38_C_phy_k_manual.nwb\n",
      "Animal ID: 66538\n",
      "AttributeError for 66538, skipping subject update\n",
      "Processing S:/Sachuriga/nwb/test4neo/66538_2024-12-06_13-29-55_A_phy_k_manual.nwb\n",
      "Animal ID: 66538\n",
      "AttributeError for 66538, skipping subject update\n",
      "Processing S:/Sachuriga/nwb/test4neo/66538_2024-12-06_13-56-13_B_phy_k_manual.nwb\n",
      "Animal ID: 66538\n",
      "AttributeError for 66538, skipping subject update\n",
      "Processing S:/Sachuriga/nwb/test4neo/66538_2024-12-06_14-19-53_C_phy_k_manual.nwb\n",
      "Animal ID: 66538\n",
      "AttributeError for 66538, skipping subject update\n",
      "Processing S:/Sachuriga/nwb/test4neo/66538_2024-12-08_14-24-17_A_phy_k_manual.nwb\n",
      "Animal ID: 66538\n",
      "AttributeError for 66538, skipping subject update\n",
      "Processing S:/Sachuriga/nwb/test4neo/66538_2024-12-08_14-55-18_B_phy_k_manual.nwb\n",
      "Animal ID: 66538\n",
      "AttributeError for 66538, skipping subject update\n",
      "Processing S:/Sachuriga/nwb/test4neo/66538_2024-12-08_15-19-37_C_phy_k_manual.nwb\n",
      "Animal ID: 66538\n",
      "AttributeError for 66538, skipping subject update\n",
      "Processing S:/Sachuriga/nwb/test4neo/66538_2024-12-10_11-46-21_A_phy_k_manual.nwb\n",
      "Animal ID: 66538\n",
      "AttributeError for 66538, skipping subject update\n",
      "Processing S:/Sachuriga/nwb/test4neo/66538_2024-12-10_12-12-09_B_phy_k_manual.nwb\n",
      "Animal ID: 66538\n",
      "AttributeError for 66538, skipping subject update\n",
      "Processing S:/Sachuriga/nwb/test4neo/66538_2024-12-10_12-37-28_C_phy_k_manual.nwb\n",
      "Animal ID: 66538\n",
      "AttributeError for 66538, skipping subject update\n",
      "Processing S:/Sachuriga/nwb/test4neo/66538_2024-12-12_09-34-43_A_phy_k_manual.nwb\n",
      "Animal ID: 66538\n",
      "AttributeError for 66538, skipping subject update\n",
      "Processing S:/Sachuriga/nwb/test4neo/66538_2024-12-12_09-59-20_B_phy_k_manual.nwb\n",
      "Animal ID: 66538\n",
      "AttributeError for 66538, skipping subject update\n",
      "Processing S:/Sachuriga/nwb/test4neo/66538_2024-12-12_10-25-55_C_phy_k_manual.nwb\n",
      "Animal ID: 66538\n",
      "AttributeError for 66538, skipping subject update\n",
      "Processing S:/Sachuriga/nwb/test4neo/66538_2024-12-16_14-08-36_A_phy_k_manual.nwb\n"
     ]
    },
    {
     "name": "stderr",
     "output_type": "stream",
     "text": [
      "C:\\Users\\sachur\\AppData\\Roaming\\Python\\Python311\\site-packages\\pynwb\\ecephys.py:90: UserWarning: ElectricalSeries 'lfp_car': The second dimension of data does not match the length of electrodes. Your data may be transposed.\n",
      "  warnings.warn(\"%s '%s': The second dimension of data does not match the length of electrodes. \"\n"
     ]
    },
    {
     "name": "stdout",
     "output_type": "stream",
     "text": [
      "Animal ID: 66538\n",
      "AttributeError for 66538, skipping subject update\n",
      "Processing S:/Sachuriga/nwb/test4neo/66538_2024-12-16_14-34-32_B_phy_k_manual.nwb\n"
     ]
    },
    {
     "name": "stderr",
     "output_type": "stream",
     "text": [
      "C:\\Users\\sachur\\AppData\\Roaming\\Python\\Python311\\site-packages\\pynwb\\ecephys.py:90: UserWarning: ElectricalSeries 'lfp_car': The second dimension of data does not match the length of electrodes. Your data may be transposed.\n",
      "  warnings.warn(\"%s '%s': The second dimension of data does not match the length of electrodes. \"\n"
     ]
    },
    {
     "name": "stdout",
     "output_type": "stream",
     "text": [
      "Animal ID: 66538\n",
      "AttributeError for 66538, skipping subject update\n",
      "Processing S:/Sachuriga/nwb/test4neo/66538_2024-12-16_14-57-58_C_phy_k_manual.nwb\n"
     ]
    },
    {
     "name": "stderr",
     "output_type": "stream",
     "text": [
      "C:\\Users\\sachur\\AppData\\Roaming\\Python\\Python311\\site-packages\\pynwb\\ecephys.py:90: UserWarning: ElectricalSeries 'lfp_car': The second dimension of data does not match the length of electrodes. Your data may be transposed.\n",
      "  warnings.warn(\"%s '%s': The second dimension of data does not match the length of electrodes. \"\n"
     ]
    },
    {
     "name": "stdout",
     "output_type": "stream",
     "text": [
      "Animal ID: 66538\n",
      "AttributeError for 66538, skipping subject update\n",
      "Processing S:/Sachuriga/nwb/test4neo/66539_2024-11-19_13-16-17_A_phy_k_manual.nwb\n",
      "Animal ID: 66539\n",
      "AttributeError for 66539, skipping subject update\n",
      "Processing S:/Sachuriga/nwb/test4neo/66539_2024-11-19_13-49-18_B_phy_k_manual.nwb\n",
      "Animal ID: 66539\n",
      "AttributeError for 66539, skipping subject update\n",
      "Processing S:/Sachuriga/nwb/test4neo/66539_2024-11-19_14-19-54_C_phy_k_manual.nwb\n",
      "Animal ID: 66539\n",
      "AttributeError for 66539, skipping subject update\n",
      "Processing S:/Sachuriga/nwb/test4neo/66539_2024-11-22_15-04-20_A_phy_k_manual.nwb\n",
      "Animal ID: 66539\n",
      "AttributeError for 66539, skipping subject update\n",
      "Processing S:/Sachuriga/nwb/test4neo/66539_2024-11-22_15-31-06_B_phy_k_manual.nwb\n",
      "Animal ID: 66539\n",
      "AttributeError for 66539, skipping subject update\n",
      "Processing S:/Sachuriga/nwb/test4neo/66539_2024-11-22_15-57-47_C_phy_k_manual.nwb\n",
      "Animal ID: 66539\n",
      "AttributeError for 66539, skipping subject update\n",
      "Processing S:/Sachuriga/nwb/test4neo/66539_2024-11-25_12-41-43_A_phy_k_manual.nwb\n",
      "Animal ID: 66539\n",
      "AttributeError for 66539, skipping subject update\n",
      "Processing S:/Sachuriga/nwb/test4neo/66539_2024-11-25_13-07-11_B_phy_k_manual.nwb\n"
     ]
    },
    {
     "name": "stderr",
     "output_type": "stream",
     "text": [
      "C:\\Users\\sachur\\AppData\\Roaming\\Python\\Python311\\site-packages\\pynwb\\ecephys.py:90: UserWarning: ElectricalSeries 'lfp_car': The second dimension of data does not match the length of electrodes. Your data may be transposed.\n",
      "  warnings.warn(\"%s '%s': The second dimension of data does not match the length of electrodes. \"\n"
     ]
    },
    {
     "name": "stdout",
     "output_type": "stream",
     "text": [
      "Animal ID: 66539\n",
      "AttributeError for 66539, skipping subject update\n",
      "Processing S:/Sachuriga/nwb/test4neo/66539_2024-11-25_13-31-20_C_phy_k_manual.nwb\n",
      "Animal ID: 66539\n",
      "AttributeError for 66539, skipping subject update\n",
      "Processing S:/Sachuriga/nwb/test4neo/66539_2024-11-28_13-45-42_A_phy_k_manual.nwb\n",
      "Animal ID: 66539\n",
      "AttributeError for 66539, skipping subject update\n",
      "Processing S:/Sachuriga/nwb/test4neo/66539_2024-11-28_14-10-31_B_phy_k_manual.nwb\n"
     ]
    },
    {
     "name": "stderr",
     "output_type": "stream",
     "text": [
      "C:\\Users\\sachur\\AppData\\Roaming\\Python\\Python311\\site-packages\\pynwb\\ecephys.py:90: UserWarning: ElectricalSeries 'lfp_car': The second dimension of data does not match the length of electrodes. Your data may be transposed.\n",
      "  warnings.warn(\"%s '%s': The second dimension of data does not match the length of electrodes. \"\n"
     ]
    },
    {
     "name": "stdout",
     "output_type": "stream",
     "text": [
      "Animal ID: 66539\n",
      "AttributeError for 66539, skipping subject update\n",
      "Processing S:/Sachuriga/nwb/test4neo/66539_2024-11-28_14-34-05_C_phy_k_manual.nwb\n",
      "Animal ID: 66539\n",
      "AttributeError for 66539, skipping subject update\n",
      "Processing S:/Sachuriga/nwb/test4neo/66539_2024-12-01_13-38-21_A_phy_k_manual.nwb\n",
      "Animal ID: 66539\n",
      "AttributeError for 66539, skipping subject update\n",
      "Processing S:/Sachuriga/nwb/test4neo/66539_2024-12-01_14-05-00_B_phy_k_manual.nwb\n",
      "Animal ID: 66539\n",
      "AttributeError for 66539, skipping subject update\n",
      "Processing S:/Sachuriga/nwb/test4neo/66539_2024-12-01_14-28-19_C_phy_k_manual.nwb\n",
      "Animal ID: 66539\n",
      "AttributeError for 66539, skipping subject update\n",
      "Processing S:/Sachuriga/nwb/test4neo/66539_2024-12-03_11-42-19_A_phy_k_manual.nwb\n",
      "Animal ID: 66539\n",
      "AttributeError for 66539, skipping subject update\n",
      "Processing S:/Sachuriga/nwb/test4neo/66539_2024-12-03_12-12-32_B_phy_k_manual.nwb\n",
      "Animal ID: 66539\n",
      "AttributeError for 66539, skipping subject update\n",
      "Processing S:/Sachuriga/nwb/test4neo/66539_2024-12-03_12-37-51_C_phy_k_manual.nwb\n",
      "Animal ID: 66539\n",
      "AttributeError for 66539, skipping subject update\n",
      "Processing S:/Sachuriga/nwb/test4neo/66539_2024-12-05_11-10-35_A_phy_k_manual.nwb\n",
      "Animal ID: 66539\n",
      "AttributeError for 66539, skipping subject update\n",
      "Processing S:/Sachuriga/nwb/test4neo/66539_2024-12-05_11-38-14_B_phy_k_manual.nwb\n",
      "Animal ID: 66539\n",
      "AttributeError for 66539, skipping subject update\n",
      "Processing S:/Sachuriga/nwb/test4neo/66539_2024-12-05_12-02-58_C_phy_k_manual.nwb\n",
      "Animal ID: 66539\n",
      "AttributeError for 66539, skipping subject update\n",
      "Processing S:/Sachuriga/nwb/test4neo/66539_2024-12-07_15-40-06_A_phy_k_manual.nwb\n",
      "Animal ID: 66539\n",
      "AttributeError for 66539, skipping subject update\n",
      "Processing S:/Sachuriga/nwb/test4neo/66539_2024-12-07_16-04-24_B_phy_k_manual.nwb\n",
      "Animal ID: 66539\n",
      "AttributeError for 66539, skipping subject update\n",
      "Processing S:/Sachuriga/nwb/test4neo/66539_2024-12-07_16-27-58_C_phy_k_manual.nwb\n",
      "Animal ID: 66539\n",
      "AttributeError for 66539, skipping subject update\n",
      "Processing S:/Sachuriga/nwb/test4neo/66539_2024-12-09_11-27-55_A_phy_k_manual.nwb\n",
      "Animal ID: 66539\n",
      "AttributeError for 66539, skipping subject update\n",
      "Processing S:/Sachuriga/nwb/test4neo/66539_2024-12-09_11-52-29_B_phy_k_manual.nwb\n",
      "Animal ID: 66539\n",
      "AttributeError for 66539, skipping subject update\n",
      "Processing S:/Sachuriga/nwb/test4neo/66539_2024-12-09_12-16-12_C_phy_k_manual.nwb\n",
      "Animal ID: 66539\n",
      "AttributeError for 66539, skipping subject update\n",
      "Processing S:/Sachuriga/nwb/test4neo/66539_2024-12-17_14-15-32_A_phy_k_manual.nwb\n",
      "Animal ID: 66539\n",
      "AttributeError for 66539, skipping subject update\n",
      "Processing S:/Sachuriga/nwb/test4neo/66539_2024-12-17_14-39-47_B_phy_k_manual.nwb\n"
     ]
    },
    {
     "name": "stderr",
     "output_type": "stream",
     "text": [
      "C:\\Users\\sachur\\AppData\\Roaming\\Python\\Python311\\site-packages\\pynwb\\ecephys.py:90: UserWarning: ElectricalSeries 'lfp_car': The second dimension of data does not match the length of electrodes. Your data may be transposed.\n",
      "  warnings.warn(\"%s '%s': The second dimension of data does not match the length of electrodes. \"\n"
     ]
    },
    {
     "name": "stdout",
     "output_type": "stream",
     "text": [
      "Animal ID: 66539\n",
      "AttributeError for 66539, skipping subject update\n",
      "Processing S:/Sachuriga/nwb/test4neo/66539_2024-12-17_15-07-12_C_phy_k_manual.nwb\n"
     ]
    },
    {
     "name": "stderr",
     "output_type": "stream",
     "text": [
      "C:\\Users\\sachur\\AppData\\Roaming\\Python\\Python311\\site-packages\\pynwb\\ecephys.py:90: UserWarning: ElectricalSeries 'lfp_car': The second dimension of data does not match the length of electrodes. Your data may be transposed.\n",
      "  warnings.warn(\"%s '%s': The second dimension of data does not match the length of electrodes. \"\n"
     ]
    },
    {
     "name": "stdout",
     "output_type": "stream",
     "text": [
      "Animal ID: 66539\n",
      "AttributeError for 66539, skipping subject update\n",
      "Processing S:/Sachuriga/nwb/test4neo/66539_2024-12-18_14-06-26_A_phy_k_manual.nwb\n"
     ]
    },
    {
     "name": "stderr",
     "output_type": "stream",
     "text": [
      "C:\\Users\\sachur\\AppData\\Roaming\\Python\\Python311\\site-packages\\pynwb\\ecephys.py:90: UserWarning: ElectricalSeries 'lfp_car': The second dimension of data does not match the length of electrodes. Your data may be transposed.\n",
      "  warnings.warn(\"%s '%s': The second dimension of data does not match the length of electrodes. \"\n"
     ]
    },
    {
     "name": "stdout",
     "output_type": "stream",
     "text": [
      "Animal ID: 66539\n",
      "AttributeError for 66539, skipping subject update\n",
      "Processing S:/Sachuriga/nwb/test4neo/66539_2024-12-18_14-32-02_B_phy_k_manual.nwb\n"
     ]
    },
    {
     "name": "stderr",
     "output_type": "stream",
     "text": [
      "C:\\Users\\sachur\\AppData\\Roaming\\Python\\Python311\\site-packages\\pynwb\\ecephys.py:90: UserWarning: ElectricalSeries 'lfp_car': The second dimension of data does not match the length of electrodes. Your data may be transposed.\n",
      "  warnings.warn(\"%s '%s': The second dimension of data does not match the length of electrodes. \"\n"
     ]
    },
    {
     "name": "stdout",
     "output_type": "stream",
     "text": [
      "Animal ID: 66539\n",
      "AttributeError for 66539, skipping subject update\n",
      "Processing S:/Sachuriga/nwb/test4neo/66539_2024-12-18_14-59-51_C_phy_k_manual.nwb\n"
     ]
    },
    {
     "name": "stderr",
     "output_type": "stream",
     "text": [
      "C:\\Users\\sachur\\AppData\\Roaming\\Python\\Python311\\site-packages\\pynwb\\ecephys.py:90: UserWarning: ElectricalSeries 'lfp_car': The second dimension of data does not match the length of electrodes. Your data may be transposed.\n",
      "  warnings.warn(\"%s '%s': The second dimension of data does not match the length of electrodes. \"\n"
     ]
    },
    {
     "name": "stdout",
     "output_type": "stream",
     "text": [
      "Animal ID: 66539\n",
      "AttributeError for 66539, skipping subject update\n",
      "Processing S:/Sachuriga/nwb/test4neo/66539_2024-12-22_16-57-58_A_phy_k_manual.nwb\n"
     ]
    },
    {
     "name": "stderr",
     "output_type": "stream",
     "text": [
      "C:\\Users\\sachur\\AppData\\Roaming\\Python\\Python311\\site-packages\\pynwb\\ecephys.py:90: UserWarning: ElectricalSeries 'lfp_car': The second dimension of data does not match the length of electrodes. Your data may be transposed.\n",
      "  warnings.warn(\"%s '%s': The second dimension of data does not match the length of electrodes. \"\n"
     ]
    },
    {
     "name": "stdout",
     "output_type": "stream",
     "text": [
      "Animal ID: 66539\n",
      "AttributeError for 66539, skipping subject update\n",
      "Processing S:/Sachuriga/nwb/test4neo/66539_2024-12-22_17-23-44_B_phy_k_manual.nwb\n"
     ]
    },
    {
     "name": "stderr",
     "output_type": "stream",
     "text": [
      "C:\\Users\\sachur\\AppData\\Roaming\\Python\\Python311\\site-packages\\pynwb\\ecephys.py:90: UserWarning: ElectricalSeries 'lfp_car': The second dimension of data does not match the length of electrodes. Your data may be transposed.\n",
      "  warnings.warn(\"%s '%s': The second dimension of data does not match the length of electrodes. \"\n"
     ]
    },
    {
     "name": "stdout",
     "output_type": "stream",
     "text": [
      "Animal ID: 66539\n",
      "AttributeError for 66539, skipping subject update\n",
      "Processing S:/Sachuriga/nwb/test4neo/66539_2024-12-22_17-49-05_C_phy_k_manual.nwb\n"
     ]
    },
    {
     "name": "stderr",
     "output_type": "stream",
     "text": [
      "C:\\Users\\sachur\\AppData\\Roaming\\Python\\Python311\\site-packages\\pynwb\\ecephys.py:90: UserWarning: ElectricalSeries 'lfp_car': The second dimension of data does not match the length of electrodes. Your data may be transposed.\n",
      "  warnings.warn(\"%s '%s': The second dimension of data does not match the length of electrodes. \"\n"
     ]
    },
    {
     "name": "stdout",
     "output_type": "stream",
     "text": [
      "Animal ID: 66539\n",
      "AttributeError for 66539, skipping subject update\n",
      "Summary table saved to Q:/sachuriga/Temporal/CR_CA1_paper/tables/animal_summary_table.csv\n",
      "  Animal ID Sex                    Genotype              Experimenter  \\\n",
      "0     66922   F  NDNF-flp +/- and Pde1c +/-  Ingvild Lynneberg Glærum   \n",
      "1     63383   M   NDNF-flp-/- and Pde1c -/-                 Sachuriga   \n",
      "2     63385   M  NDNF-flp +/- and Pde1c +/-                 Sachuriga   \n",
      "3     65091   F   NDNF-flp-/- and Pde1c -/-                 Sachuriga   \n",
      "4     65165   M   NDNF-flp-/- and Pde1c -/-                 Sachuriga   \n",
      "5     65588   F  NDNF-flp +/- and Pde1c +/-                 Sachuriga   \n",
      "6     65622   M   NDNF-flp-/- and Pde1c -/-  Ingvild Lynneberg Glærum   \n",
      "7     66537   F  NDNF-flp +/- and Pde1c +/-                 Sachuriga   \n",
      "8     66538   F  NDNF-flp +/- and Pde1c +/-                 Sachuriga   \n",
      "9     66539   M   NDNF-flp-/- and Pde1c -/-                 Sachuriga   \n",
      "\n",
      "   Sessions  Good Units  Pyramidal Cells  Narrow Spike Interneurons  \\\n",
      "0         1          22               18                          3   \n",
      "1        25         272              190                         75   \n",
      "2        26         232              163                         42   \n",
      "3         7          59               50                          4   \n",
      "4        13          89               67                         22   \n",
      "5        18         239              203                         10   \n",
      "6         1          14               11                          3   \n",
      "7        30          47               42                          4   \n",
      "8        30          46               16                         26   \n",
      "9        36         138              100                         31   \n",
      "\n",
      "   Wide Spike Interneurons  Speed Cells  Place Cells  \n",
      "0                        1            3            2  \n",
      "1                        7           63           70  \n",
      "2                       27           35           74  \n",
      "3                        5            2           23  \n",
      "4                        0           12           28  \n",
      "5                       26            9           63  \n",
      "6                        0            2            6  \n",
      "7                        1            4            8  \n",
      "8                        4            9            0  \n",
      "9                        7           28           15  \n",
      "Processing complete!\n"
     ]
    }
   ],
   "source": [
    "import pandas as pd\n",
    "from pynwb import NWBHDF5IO\n",
    "import os\n",
    "from pathlib import Path\n",
    "from pynwb.file import Subject\n",
    "\n",
    "# Output path for the summary table\n",
    "output_path = r'Q:/sachuriga/Temporal/CR_CA1_paper/tables/'\n",
    "\n",
    "# Set your base folder path\n",
    "base_folder = 'S:/Sachuriga/nwb/test4neo/'\n",
    "\n",
    "# Define animal groups\n",
    "target_prefixes_control = ['65165', '65091', '63383', '66539', '65622']\n",
    "target_prefixes_exp = ['65588', '63385', '66538', '66537', '66922']\n",
    "males = ['65165', '63383', '66539', '63385', '65622']\n",
    "females = ['65091', '65588', '66538', '66537', '66922']\n",
    "surgry_sachuriga = ['65165', '63383', '66539', '63385', '65091', '65588', '66538', '66537', '65283']\n",
    "surgry_ingvild = ['66922', '65622']\n",
    "\n",
    "# Initialize a dictionary to store summary data for each animal\n",
    "summary_data = {}\n",
    "\n",
    "# Get all NWB files in the directory\n",
    "all_files = os.listdir(base_folder)\n",
    "nwb_files = [f for f in all_files if f.endswith('.nwb')]\n",
    "print(f\"Found {len(nwb_files)} NWB files: {nwb_files}\")\n",
    "\n",
    "# Process each NWB file\n",
    "for nwb_file in nwb_files:\n",
    "    nwbpath = os.path.join(base_folder, nwb_file)\n",
    "    print(f\"Processing {nwbpath}\")\n",
    "\n",
    "    # Open and modify NWB file for metadata\n",
    "    with NWBHDF5IO(Path(nwbpath), \"a\") as io:\n",
    "        nwb = io.read()\n",
    "        animal_id = nwbpath.split('/')[-1][:5]\n",
    "        print(f\"Animal ID: {animal_id}\")\n",
    "\n",
    "        # Assign sex\n",
    "        sex = \"M\" if animal_id in males else \"F\" if animal_id in females else \"Unknown\"\n",
    "\n",
    "        # Initialize genotype and experimenter as None in case they aren't set\n",
    "        genotype = None\n",
    "        experimenter = None\n",
    "\n",
    "        # Create or update subject\n",
    "        try:\n",
    "            subject = Subject(\n",
    "                subject_id=animal_id,\n",
    "                age=\"P90D\",\n",
    "                description=\"mouse 5\",\n",
    "                species=\"Mus musculus\",\n",
    "                sex=sex)\n",
    "            nwb.subject = subject\n",
    "            \n",
    "            if animal_id in target_prefixes_control:\n",
    "                nwb.subject.genotype = \"NDNF-flp-/- and Pde1c -/-\"\n",
    "            elif animal_id in target_prefixes_exp:\n",
    "                nwb.subject.genotype = \"NDNF-flp +/- and Pde1c +/-\"\n",
    "\n",
    "            if animal_id in surgry_sachuriga:\n",
    "                nwb.experimenter = (\"Sachuriga\",)  # NWB expects a tuple for experimenter\n",
    "            elif animal_id in surgry_ingvild:\n",
    "                nwb.experimenter = (\"Ingvild Lynneberg Glærum\",)\n",
    "\n",
    "            # Capture genotype and experimenter after setting them\n",
    "            genotype = nwb.subject.genotype\n",
    "            experimenter = nwb.experimenter[0] if nwb.experimenter else \"Unknown\"\n",
    "\n",
    "        except AttributeError:\n",
    "            print(f\"AttributeError for {animal_id}, skipping subject update\")\n",
    "            genotype = nwb.subject.genotype\n",
    "            experimenter = nwb.experimenter[0] if nwb.experimenter else \"Unknown\"\n",
    "\n",
    "        io.write(nwb)\n",
    "\n",
    "    # Open the NWB file again to process units\n",
    "    with NWBHDF5IO(Path(nwbpath), \"a\") as io:\n",
    "        nwb = io.read()\n",
    "        unit_table = nwb.units.to_dataframe()\n",
    "\n",
    "        # Initialize counters if animal_id not in summary_data\n",
    "        if animal_id not in summary_data:\n",
    "            summary_data[animal_id] = {\n",
    "                \"Animal ID\": animal_id,\n",
    "                \"Sex\": sex,\n",
    "                \"Genotype\": genotype,  # Add genotype to summary\n",
    "                \"Experimenter\": experimenter,  # Add experimenter to summary\n",
    "                \"Sessions\": 0,\n",
    "                \"Good Units\": 0,\n",
    "                \"Pyramidal Cells\": 0,\n",
    "                \"Narrow Spike Interneurons\": 0,\n",
    "                \"Wide Spike Interneurons\": 0,\n",
    "                \"Speed Cells\": 0,\n",
    "                \"Place Cells\": 0\n",
    "            }\n",
    "\n",
    "        # Increment session count\n",
    "        # Assuming sessions are counted as the number of NWB files per animal (since we're iterating over files)\n",
    "        # If sessions are stored in nwb.intervals['epochs'], uncomment the line below and adjust accordingly\n",
    "        summary_data[animal_id][\"Sessions\"] += 1\n",
    "        # total_sessions = len(nwb.intervals['epochs']) if 'epochs' in nwb.intervals else 0\n",
    "        # summary_data[animal_id][\"Sessions\"] += total_sessions\n",
    "\n",
    "        # Lists to store unit classifications\n",
    "        unit_quality = []\n",
    "        cell_type = []\n",
    "        functional_cell_type = []\n",
    "\n",
    "        # Classify each unit\n",
    "        for i in range(len(unit_table.index)):\n",
    "            # Identify good units\n",
    "            if (unit_table['isi_violations_ratio'][i] <= 0.02 and \n",
    "                unit_table['l_ratio'][i] <= 0.05 and \n",
    "                unit_table['amplitude_median'][i] <= -40):\n",
    "                unit_quality.append(\"good\")\n",
    "                summary_data[animal_id][\"Good Units\"] += 1\n",
    "\n",
    "                # Classify cell type\n",
    "                if unit_table['peak_to_valley'][i] <= 0.000425:\n",
    "                    cell_type.append(\"Narrow spike interneuron\")\n",
    "                    summary_data[animal_id][\"Narrow Spike Interneurons\"] += 1\n",
    "                    if unit_table['matlab_speedScores'][i] >= 0.3:\n",
    "                        functional_cell_type.append(\"Speed cell\")\n",
    "                        summary_data[animal_id][\"Speed Cells\"] += 1\n",
    "                    else:\n",
    "                        functional_cell_type.append(\"None\")\n",
    "                elif unit_table['peak_to_valley'][i] > 0.000425 and unit_table['matlab_acg_tau_rise'][i] >= 6:\n",
    "                    cell_type.append(\"Wide Spike Interneurons\")\n",
    "                    summary_data[animal_id][\"Wide Spike Interneurons\"] += 1\n",
    "                    if unit_table['matlab_speedScores'][i] >= 0.3:\n",
    "                        functional_cell_type.append(\"Speed cell\")\n",
    "                        summary_data[animal_id][\"Speed Cells\"] += 1\n",
    "                    else:\n",
    "                        functional_cell_type.append(\"None\")\n",
    "                elif unit_table['peak_to_valley'][i] > 0.000425 and unit_table['matlab_acg_tau_rise'][i] < 6:\n",
    "                    cell_type.append(\"Pyramidal cells\")\n",
    "                    summary_data[animal_id][\"Pyramidal Cells\"] += 1\n",
    "                    if (unit_table['matlab_reject_h0'][i] == 1 and \n",
    "                        unit_table['matlab_test_stat_si'][i] >= 1.71 and \n",
    "                        unit_table['matlab_maxfsize'][i] > 20):\n",
    "                        functional_cell_type.append(\"Place cell\")\n",
    "                        summary_data[animal_id][\"Place Cells\"] += 1\n",
    "                    else:\n",
    "                        functional_cell_type.append(\"None\")\n",
    "                else:\n",
    "                    cell_type.append(\"None\")\n",
    "                    functional_cell_type.append(\"None\")\n",
    "            else:\n",
    "                unit_quality.append(\"bad\")\n",
    "                cell_type.append(\"None\")\n",
    "                functional_cell_type.append(\"None\")\n",
    "\n",
    "        # Add columns to the NWB file\n",
    "        if \"unit_quality\" not in nwb.units.colnames:\n",
    "            nwb.units.add_column(name=\"unit_quality\", description=\"values of unit_quality\", data=unit_quality)\n",
    "        if \"Cell Type\" not in nwb.units.colnames:\n",
    "            nwb.units.add_column(name=\"Cell Type\", description=\"values of cell_type\", data=cell_type)\n",
    "        if \"Functional Cell Type\" not in nwb.units.colnames:\n",
    "            nwb.units.add_column(name=\"Functional Cell Type\", description=\"values of functional_cell_type\", data=functional_cell_type)\n",
    "\n",
    "        io.write(nwb)\n",
    "\n",
    "# Create a DataFrame from the summary data\n",
    "summary_df = pd.DataFrame(list(summary_data.values()))\n",
    "\n",
    "# Reorder columns to match the desired output, including Genotype and Experimenter\n",
    "summary_df = summary_df[[\n",
    "    \"Animal ID\", \"Sex\", \"Genotype\", \"Experimenter\", \"Sessions\", \"Good Units\", \n",
    "    \"Pyramidal Cells\", \"Narrow Spike Interneurons\", \"Wide Spike Interneurons\", \n",
    "    \"Speed Cells\", \"Place Cells\"\n",
    "]]\n",
    "\n",
    "# Save the summary table to a CSV file\n",
    "output_file = os.path.join(output_path, \"animal_summary_table.csv\")\n",
    "summary_df.to_csv(output_file, index=False)\n",
    "print(f\"Summary table saved to {output_file}\")\n",
    "\n",
    "# Print the summary table\n",
    "print(summary_df)\n",
    "\n",
    "print(\"Processing complete!\")"
   ]
  },
  {
   "cell_type": "code",
   "execution_count": 7,
   "metadata": {},
   "outputs": [
    {
     "name": "stdout",
     "output_type": "stream",
     "text": [
      "Found 187 NWB files: ['66922_2024-09-25_15-39-48_A_phy_k_manual.nwb', '63383_2024-07-10_15-37-51_A_phy_k_manual.nwb', '63383_2024-07-13_14-10-05_A_phy_k_manual.nwb', '63383_2024-07-13_14-42-37_B_phy_k_manual.nwb', '63383_2024-07-13_15-10-36_C_phy_k_manual.nwb', '63383_2024-07-15_14-51-19_A_phy_k_manual.nwb', '63383_2024-07-15_15-18-02_B_phy_k_manual.nwb', '63383_2024-07-15_15-44-58_C_phy_k_manual.nwb', '63383_2024-07-18_14-13-10_A_phy_k_manual.nwb', '63383_2024-07-18_14-39-54_B_phy_k_manual.nwb', '63383_2024-07-18_15-07-00_C_phy_k_manual.nwb', '63383_2024-07-20_14-21-42_A_phy_k_manual.nwb', '63383_2024-07-20_14-48-58_B_phy_k_manual.nwb', '63383_2024-07-20_15-16-56_C_phy_k_manual.nwb', '63383_2024-07-22_15-12-01_A_phy_k_manual.nwb', '63383_2024-07-22_15-40-20_B_phy_k_manual.nwb', '63383_2024-07-22_16-10-10_C_phy_k_manual.nwb', '63383_2024-07-25_12-57-40_A_phy_k_manual.nwb', '63383_2024-07-25_13-26-11_B_phy_k_manual.nwb', '63383_2024-07-25_13-53-06_C_phy_k_manual.nwb', '63383_2024-07-28_12-22-19_A_phy_k_manual.nwb', '63383_2024-07-28_12-49-40_B_phy_k_manual.nwb', '63383_2024-07-28_13-20-57_C_phy_k_manual.nwb', '63383_2024-07-30_12-33-52_A_phy_k_manual.nwb', '63383_2024-07-30_13-03-12_B_phy_k_manual.nwb', '63383_2024-07-30_13-33-47_C_phy_k_manual.nwb', '63385_2024-07-10_14-39-57_A_phy_k_manual.nwb', '63385_2024-07-11_14-42-01_A_phy_k_manual.nwb', '63385_2024-07-13_15-58-08_A_phy_k_manual.nwb', '63385_2024-07-13_16-26-59_B_phy_k_manual.nwb', '63385_2024-07-13_16-54-07_C_phy_k_manual.nwb', '63385_2024-07-15_16-50-28_A_phy_k_manual.nwb', '63385_2024-07-15_17-16-21_B_phy_k_manual.nwb', '63385_2024-07-15_17-42-19_C_phy_k_manual.nwb', '63385_2024-07-18_16-11-58_A_phy_k_manual.nwb', '63385_2024-07-18_16-38-08_B_phy_k_manual.nwb', '63385_2024-07-18_17-05-03_C_phy_k_manual.nwb', '63385_2024-07-20_16-14-52_A_phy_k_manual.nwb', '63385_2024-07-20_16-41-18_B_phy_k_manual.nwb', '63385_2024-07-20_17-08-19_C_phy_k_manual.nwb', '63385_2024-07-22_13-33-23_A_phy_k_manual.nwb', '63385_2024-07-22_14-00-58_B_phy_k_manual.nwb', '63385_2024-07-22_14-34-14_C_phy_k_manual.nwb', '63385_2024-07-25_14-40-47_A_phy_k_manual.nwb', '63385_2024-07-25_15-07-43_B_phy_k_manual.nwb', '63385_2024-07-25_15-33-13_C_phy_k_manual.nwb', '63385_2024-07-28_14-43-52_A_phy_k_manual.nwb', '63385_2024-07-28_15-09-56_B_phy_k_manual.nwb', '63385_2024-07-28_15-34-34_C_phy_k_manual.nwb', '63385_2024-07-30_14-48-28_A_phy_k_manual.nwb', '63385_2024-07-30_15-15-18_B_phy_k_manual.nwb', '63385_2024-07-30_15-41-00_C_phy_k_manual.nwb', '65091_2023-07-30_14-06-35_A_phy_k_manual.nwb', '65091_2023-08-01_13-40-26_A_phy_k_manual.nwb', '65091_2023-08-01_15-16-29_C_phy_k_manual.nwb', '65091_2023-08-04_14-07-54_A_phy_k_manual.nwb', '65091_2023-08-08_11-39-47_A_phy_k_manual.nwb', '65091_2023-08-08_13-05-04_B_phy_k_manual.nwb', '65091_2023-08-08_13-32-49_C_phy_k_manual.nwb', '65165_2023-06-29_17-02-50_A_phy_k_manual.nwb', '65165_2023-06-30_16-32-08_A_phy_k_manual.nwb', '65165_2023-07-01_15-38-12_A_phy_k_manual.nwb', '65165_2023-07-03_16-21-48_A_phy_k_manual.nwb', '65165_2023-07-04_13-41-46_A_phy_k_manual.nwb', '65165_2023-07-10_15-08-59_A_phy_k_manual.nwb', '65165_2023-07-10_16-19-04_B_phy_k_manual.nwb', '65165_2023-07-10_17-11-32_C_phy_k_manual.nwb', '65165_2023-07-19_13-24-38_A_phy_k_manual.nwb', '65165_2023-07-20_16-57-26_A_phy_k_manual.nwb', '65165_2023-07-25_14-02-32_A_phy_k_manual.nwb', '65165_2023-07-26_14-32-28_A_phy_k_manual.nwb', '65165_2023-07-29_15-34-20_A_phy_k_manual.nwb', '65588_2024-03-04_15-44-37_A_phy_k_manual.nwb', '65588_2024-03-04_16-34-21_B_phy_k_manual.nwb', '65588_2024-03-04_17-12-55_C_phy_k_manual.nwb', '65588_2024-03-06_15-45-53_A_phy_k_manual.nwb', '65588_2024-03-06_16-25-11_B_phy_k_manual.nwb', '65588_2024-03-06_16-56-57_C_phy_k_manual.nwb', '65588_2024-03-08_14-47-56_A_phy_k_manual.nwb', '65588_2024-03-08_15-41-55_B_phy_k_manual.nwb', '65588_2024-03-08_16-10-29_C_phy_k_manual.nwb', '65588_2024-03-10_15-18-16_A_phy_k_manual.nwb', '65588_2024-03-10_15-48-31_B_phy_k_manual.nwb', '65588_2024-03-10_16-17-14_C_phy_k_manual.nwb', '65588_2024-03-12_15-17-04_A_phy_k_manual.nwb', '65588_2024-03-12_15-44-58_B_phy_k_manual.nwb', '65588_2024-03-12_16-15-30_C_phy_k_manual.nwb', '65588_2024-03-14_14-26-31_A_phy_k_manual.nwb', '65588_2024-03-14_15-25-11_B_phy_k_manual.nwb', '65588_2024-03-14_15-52-08_C_phy_k_manual.nwb', '65622_2024-04-30_14-59-30_A_phy_k_manual.nwb', '66537_2024-11-22_16-36-59_A_phy_k_manual.nwb', '66537_2024-11-22_17-05-17_B_phy_k_manual.nwb', '66537_2024-11-22_17-30-53_C_phy_k_manual.nwb', '66537_2024-11-26_12-58-02_A_phy_k_manual.nwb', '66537_2024-11-26_13-23-16_B_phy_k_manual.nwb', '66537_2024-11-26_13-47-20_C_phy_k_manual.nwb', '66537_2024-11-29_10-51-02_A_phy_k_manual.nwb', '66537_2024-11-29_11-19-52_B_phy_k_manual.nwb', '66537_2024-11-29_11-43-49_C_phy_k_manual.nwb', '66537_2024-12-02_11-51-18_A_phy_k_manual.nwb', '66537_2024-12-02_12-18-56_B_phy_k_manual.nwb', '66537_2024-12-02_12-44-40_C_phy_k_manual.nwb', '66537_2024-12-04_14-35-16_A_phy_k_manual.nwb', '66537_2024-12-04_15-00-57_B_phy_k_manual.nwb', '66537_2024-12-04_15-27-58_C_phy_k_manual.nwb', '66537_2024-12-06_15-08-44_A_phy_k_manual.nwb', '66537_2024-12-06_15-35-02_B_phy_k_manual.nwb', '66537_2024-12-06_15-59-24_C_phy_k_manual.nwb', '66537_2024-12-08_15-50-09_A_phy_k_manual.nwb', '66537_2024-12-08_16-13-58_B_phy_k_manual.nwb', '66537_2024-12-08_16-38-13_C_phy_k_manual.nwb', '66537_2024-12-18_12-33-01_A_phy_k_manual.nwb', '66537_2024-12-18_12-57-53_B_phy_k_manual.nwb', '66537_2024-12-18_13-22-19_C_phy_k_manual.nwb', '66537_2024-12-19_16-42-27_A_phy_k_manual.nwb', '66537_2024-12-19_17-07-13_B_phy_k_manual.nwb', '66537_2024-12-19_17-30-23_C_phy_k_manual.nwb', '66537_2024-12-21_15-19-13_A_phy_k_manual.nwb', '66537_2024-12-21_15-47-12_B_phy_k_manual.nwb', '66537_2024-12-21_16-10-40_C_phy_k_manual.nwb', '66538_2024-11-22_17-59-41_A_phy_k_manual.nwb', '66538_2024-11-22_18-25-29_B_phy_k_manual.nwb', '66538_2024-11-22_18-53-59_C_phy_k_manual.nwb', '66538_2024-11-25_11-10-56_A_phy_k_manual.nwb', '66538_2024-11-25_11-36-52_B_phy_k_manual.nwb', '66538_2024-11-25_12-02-14_C_phy_k_manual.nwb', '66538_2024-11-29_12-21-00_A_phy_k_manual.nwb', '66538_2024-11-29_12-47-36_B_phy_k_manual.nwb', '66538_2024-11-29_13-11-22_C_phy_k_manual.nwb', '66538_2024-12-02_10-31-40_A_phy_k_manual.nwb', '66538_2024-12-02_10-57-29_B_phy_k_manual.nwb', '66538_2024-12-02_11-22-15_C_phy_k_manual.nwb', '66538_2024-12-04_10-46-52_A_phy_k_manual.nwb', '66538_2024-12-04_11-12-40_B_phy_k_manual.nwb', '66538_2024-12-04_11-36-38_C_phy_k_manual.nwb', '66538_2024-12-06_13-29-55_A_phy_k_manual.nwb', '66538_2024-12-06_13-56-13_B_phy_k_manual.nwb', '66538_2024-12-06_14-19-53_C_phy_k_manual.nwb', '66538_2024-12-08_14-24-17_A_phy_k_manual.nwb', '66538_2024-12-08_14-55-18_B_phy_k_manual.nwb', '66538_2024-12-08_15-19-37_C_phy_k_manual.nwb', '66538_2024-12-10_11-46-21_A_phy_k_manual.nwb', '66538_2024-12-10_12-12-09_B_phy_k_manual.nwb', '66538_2024-12-10_12-37-28_C_phy_k_manual.nwb', '66538_2024-12-12_09-34-43_A_phy_k_manual.nwb', '66538_2024-12-12_09-59-20_B_phy_k_manual.nwb', '66538_2024-12-12_10-25-55_C_phy_k_manual.nwb', '66538_2024-12-16_14-08-36_A_phy_k_manual.nwb', '66538_2024-12-16_14-34-32_B_phy_k_manual.nwb', '66538_2024-12-16_14-57-58_C_phy_k_manual.nwb', '66539_2024-11-19_13-16-17_A_phy_k_manual.nwb', '66539_2024-11-19_13-49-18_B_phy_k_manual.nwb', '66539_2024-11-19_14-19-54_C_phy_k_manual.nwb', '66539_2024-11-22_15-04-20_A_phy_k_manual.nwb', '66539_2024-11-22_15-31-06_B_phy_k_manual.nwb', '66539_2024-11-22_15-57-47_C_phy_k_manual.nwb', '66539_2024-11-25_12-41-43_A_phy_k_manual.nwb', '66539_2024-11-25_13-07-11_B_phy_k_manual.nwb', '66539_2024-11-25_13-31-20_C_phy_k_manual.nwb', '66539_2024-11-28_13-45-42_A_phy_k_manual.nwb', '66539_2024-11-28_14-10-31_B_phy_k_manual.nwb', '66539_2024-11-28_14-34-05_C_phy_k_manual.nwb', '66539_2024-12-01_13-38-21_A_phy_k_manual.nwb', '66539_2024-12-01_14-05-00_B_phy_k_manual.nwb', '66539_2024-12-01_14-28-19_C_phy_k_manual.nwb', '66539_2024-12-03_11-42-19_A_phy_k_manual.nwb', '66539_2024-12-03_12-12-32_B_phy_k_manual.nwb', '66539_2024-12-03_12-37-51_C_phy_k_manual.nwb', '66539_2024-12-05_11-10-35_A_phy_k_manual.nwb', '66539_2024-12-05_11-38-14_B_phy_k_manual.nwb', '66539_2024-12-05_12-02-58_C_phy_k_manual.nwb', '66539_2024-12-07_15-40-06_A_phy_k_manual.nwb', '66539_2024-12-07_16-04-24_B_phy_k_manual.nwb', '66539_2024-12-07_16-27-58_C_phy_k_manual.nwb', '66539_2024-12-09_11-27-55_A_phy_k_manual.nwb', '66539_2024-12-09_11-52-29_B_phy_k_manual.nwb', '66539_2024-12-09_12-16-12_C_phy_k_manual.nwb', '66539_2024-12-17_14-15-32_A_phy_k_manual.nwb', '66539_2024-12-17_14-39-47_B_phy_k_manual.nwb', '66539_2024-12-17_15-07-12_C_phy_k_manual.nwb', '66539_2024-12-18_14-06-26_A_phy_k_manual.nwb', '66539_2024-12-18_14-32-02_B_phy_k_manual.nwb', '66539_2024-12-18_14-59-51_C_phy_k_manual.nwb', '66539_2024-12-22_16-57-58_A_phy_k_manual.nwb', '66539_2024-12-22_17-23-44_B_phy_k_manual.nwb', '66539_2024-12-22_17-49-05_C_phy_k_manual.nwb']\n",
      "Processing S:/Sachuriga/nwb/test4neo/66922_2024-09-25_15-39-48_A_phy_k_manual.nwb\n",
      "Animal ID: 66922\n",
      "AttributeError for 66922, skipping subject update\n",
      "Processing S:/Sachuriga/nwb/test4neo/63383_2024-07-10_15-37-51_A_phy_k_manual.nwb\n",
      "Animal ID: 63383\n",
      "AttributeError for 63383, skipping subject update\n",
      "Processing S:/Sachuriga/nwb/test4neo/63383_2024-07-13_14-10-05_A_phy_k_manual.nwb\n",
      "Animal ID: 63383\n",
      "AttributeError for 63383, skipping subject update\n",
      "Processing S:/Sachuriga/nwb/test4neo/63383_2024-07-13_14-42-37_B_phy_k_manual.nwb\n",
      "Animal ID: 63383\n",
      "AttributeError for 63383, skipping subject update\n",
      "Processing S:/Sachuriga/nwb/test4neo/63383_2024-07-13_15-10-36_C_phy_k_manual.nwb\n",
      "Animal ID: 63383\n",
      "AttributeError for 63383, skipping subject update\n",
      "Processing S:/Sachuriga/nwb/test4neo/63383_2024-07-15_14-51-19_A_phy_k_manual.nwb\n"
     ]
    },
    {
     "name": "stderr",
     "output_type": "stream",
     "text": [
      "C:\\Users\\sachur\\AppData\\Roaming\\Python\\Python311\\site-packages\\pynwb\\ecephys.py:90: UserWarning: ElectricalSeries 'lfp_car': The second dimension of data does not match the length of electrodes. Your data may be transposed.\n",
      "  warnings.warn(\"%s '%s': The second dimension of data does not match the length of electrodes. \"\n"
     ]
    },
    {
     "name": "stdout",
     "output_type": "stream",
     "text": [
      "Animal ID: 63383\n",
      "AttributeError for 63383, skipping subject update\n",
      "Processing S:/Sachuriga/nwb/test4neo/63383_2024-07-15_15-18-02_B_phy_k_manual.nwb\n"
     ]
    },
    {
     "name": "stderr",
     "output_type": "stream",
     "text": [
      "C:\\Users\\sachur\\AppData\\Roaming\\Python\\Python311\\site-packages\\pynwb\\ecephys.py:90: UserWarning: ElectricalSeries 'lfp_car': The second dimension of data does not match the length of electrodes. Your data may be transposed.\n",
      "  warnings.warn(\"%s '%s': The second dimension of data does not match the length of electrodes. \"\n"
     ]
    },
    {
     "name": "stdout",
     "output_type": "stream",
     "text": [
      "Animal ID: 63383\n",
      "AttributeError for 63383, skipping subject update\n",
      "Processing S:/Sachuriga/nwb/test4neo/63383_2024-07-15_15-44-58_C_phy_k_manual.nwb\n"
     ]
    },
    {
     "name": "stderr",
     "output_type": "stream",
     "text": [
      "C:\\Users\\sachur\\AppData\\Roaming\\Python\\Python311\\site-packages\\pynwb\\ecephys.py:90: UserWarning: ElectricalSeries 'lfp_car': The second dimension of data does not match the length of electrodes. Your data may be transposed.\n",
      "  warnings.warn(\"%s '%s': The second dimension of data does not match the length of electrodes. \"\n"
     ]
    },
    {
     "name": "stdout",
     "output_type": "stream",
     "text": [
      "Animal ID: 63383\n",
      "AttributeError for 63383, skipping subject update\n",
      "Processing S:/Sachuriga/nwb/test4neo/63383_2024-07-18_14-13-10_A_phy_k_manual.nwb\n",
      "Animal ID: 63383\n",
      "AttributeError for 63383, skipping subject update\n",
      "Processing S:/Sachuriga/nwb/test4neo/63383_2024-07-18_14-39-54_B_phy_k_manual.nwb\n",
      "Animal ID: 63383\n",
      "AttributeError for 63383, skipping subject update\n",
      "Processing S:/Sachuriga/nwb/test4neo/63383_2024-07-18_15-07-00_C_phy_k_manual.nwb\n",
      "Animal ID: 63383\n",
      "AttributeError for 63383, skipping subject update\n",
      "Processing S:/Sachuriga/nwb/test4neo/63383_2024-07-20_14-21-42_A_phy_k_manual.nwb\n",
      "Animal ID: 63383\n",
      "AttributeError for 63383, skipping subject update\n",
      "Processing S:/Sachuriga/nwb/test4neo/63383_2024-07-20_14-48-58_B_phy_k_manual.nwb\n",
      "Animal ID: 63383\n",
      "AttributeError for 63383, skipping subject update\n",
      "Processing S:/Sachuriga/nwb/test4neo/63383_2024-07-20_15-16-56_C_phy_k_manual.nwb\n",
      "Animal ID: 63383\n",
      "AttributeError for 63383, skipping subject update\n",
      "Processing S:/Sachuriga/nwb/test4neo/63383_2024-07-22_15-12-01_A_phy_k_manual.nwb\n",
      "Animal ID: 63383\n",
      "AttributeError for 63383, skipping subject update\n",
      "Processing S:/Sachuriga/nwb/test4neo/63383_2024-07-22_15-40-20_B_phy_k_manual.nwb\n",
      "Animal ID: 63383\n",
      "AttributeError for 63383, skipping subject update\n",
      "Processing S:/Sachuriga/nwb/test4neo/63383_2024-07-22_16-10-10_C_phy_k_manual.nwb\n",
      "Animal ID: 63383\n",
      "AttributeError for 63383, skipping subject update\n",
      "Processing S:/Sachuriga/nwb/test4neo/63383_2024-07-25_12-57-40_A_phy_k_manual.nwb\n",
      "Animal ID: 63383\n",
      "AttributeError for 63383, skipping subject update\n",
      "Processing S:/Sachuriga/nwb/test4neo/63383_2024-07-25_13-26-11_B_phy_k_manual.nwb\n",
      "Animal ID: 63383\n",
      "AttributeError for 63383, skipping subject update\n",
      "Processing S:/Sachuriga/nwb/test4neo/63383_2024-07-25_13-53-06_C_phy_k_manual.nwb\n",
      "Animal ID: 63383\n",
      "AttributeError for 63383, skipping subject update\n",
      "Processing S:/Sachuriga/nwb/test4neo/63383_2024-07-28_12-22-19_A_phy_k_manual.nwb\n",
      "Animal ID: 63383\n",
      "AttributeError for 63383, skipping subject update\n",
      "Processing S:/Sachuriga/nwb/test4neo/63383_2024-07-28_12-49-40_B_phy_k_manual.nwb\n",
      "Animal ID: 63383\n",
      "AttributeError for 63383, skipping subject update\n",
      "Processing S:/Sachuriga/nwb/test4neo/63383_2024-07-28_13-20-57_C_phy_k_manual.nwb\n",
      "Animal ID: 63383\n",
      "AttributeError for 63383, skipping subject update\n",
      "Processing S:/Sachuriga/nwb/test4neo/63383_2024-07-30_12-33-52_A_phy_k_manual.nwb\n",
      "Animal ID: 63383\n",
      "AttributeError for 63383, skipping subject update\n",
      "Processing S:/Sachuriga/nwb/test4neo/63383_2024-07-30_13-03-12_B_phy_k_manual.nwb\n",
      "Animal ID: 63383\n",
      "AttributeError for 63383, skipping subject update\n",
      "Processing S:/Sachuriga/nwb/test4neo/63383_2024-07-30_13-33-47_C_phy_k_manual.nwb\n",
      "Animal ID: 63383\n",
      "AttributeError for 63383, skipping subject update\n",
      "Processing S:/Sachuriga/nwb/test4neo/63385_2024-07-10_14-39-57_A_phy_k_manual.nwb\n",
      "Animal ID: 63385\n",
      "AttributeError for 63385, skipping subject update\n",
      "Processing S:/Sachuriga/nwb/test4neo/63385_2024-07-11_14-42-01_A_phy_k_manual.nwb\n",
      "Animal ID: 63385\n",
      "AttributeError for 63385, skipping subject update\n",
      "Processing S:/Sachuriga/nwb/test4neo/63385_2024-07-13_15-58-08_A_phy_k_manual.nwb\n",
      "Animal ID: 63385\n",
      "AttributeError for 63385, skipping subject update\n",
      "Processing S:/Sachuriga/nwb/test4neo/63385_2024-07-13_16-26-59_B_phy_k_manual.nwb\n",
      "Animal ID: 63385\n",
      "AttributeError for 63385, skipping subject update\n",
      "Processing S:/Sachuriga/nwb/test4neo/63385_2024-07-13_16-54-07_C_phy_k_manual.nwb\n",
      "Animal ID: 63385\n",
      "AttributeError for 63385, skipping subject update\n",
      "Processing S:/Sachuriga/nwb/test4neo/63385_2024-07-15_16-50-28_A_phy_k_manual.nwb\n",
      "Animal ID: 63385\n",
      "AttributeError for 63385, skipping subject update\n",
      "Processing S:/Sachuriga/nwb/test4neo/63385_2024-07-15_17-16-21_B_phy_k_manual.nwb\n",
      "Animal ID: 63385\n",
      "AttributeError for 63385, skipping subject update\n",
      "Processing S:/Sachuriga/nwb/test4neo/63385_2024-07-15_17-42-19_C_phy_k_manual.nwb\n",
      "Animal ID: 63385\n",
      "AttributeError for 63385, skipping subject update\n",
      "Processing S:/Sachuriga/nwb/test4neo/63385_2024-07-18_16-11-58_A_phy_k_manual.nwb\n",
      "Animal ID: 63385\n",
      "AttributeError for 63385, skipping subject update\n",
      "Processing S:/Sachuriga/nwb/test4neo/63385_2024-07-18_16-38-08_B_phy_k_manual.nwb\n",
      "Animal ID: 63385\n",
      "AttributeError for 63385, skipping subject update\n",
      "Processing S:/Sachuriga/nwb/test4neo/63385_2024-07-18_17-05-03_C_phy_k_manual.nwb\n",
      "Animal ID: 63385\n",
      "AttributeError for 63385, skipping subject update\n",
      "Processing S:/Sachuriga/nwb/test4neo/63385_2024-07-20_16-14-52_A_phy_k_manual.nwb\n",
      "Animal ID: 63385\n",
      "AttributeError for 63385, skipping subject update\n",
      "Processing S:/Sachuriga/nwb/test4neo/63385_2024-07-20_16-41-18_B_phy_k_manual.nwb\n",
      "Animal ID: 63385\n",
      "AttributeError for 63385, skipping subject update\n",
      "Processing S:/Sachuriga/nwb/test4neo/63385_2024-07-20_17-08-19_C_phy_k_manual.nwb\n",
      "Animal ID: 63385\n",
      "AttributeError for 63385, skipping subject update\n",
      "Processing S:/Sachuriga/nwb/test4neo/63385_2024-07-22_13-33-23_A_phy_k_manual.nwb\n",
      "Animal ID: 63385\n",
      "AttributeError for 63385, skipping subject update\n",
      "Processing S:/Sachuriga/nwb/test4neo/63385_2024-07-22_14-00-58_B_phy_k_manual.nwb\n",
      "Animal ID: 63385\n",
      "AttributeError for 63385, skipping subject update\n",
      "Processing S:/Sachuriga/nwb/test4neo/63385_2024-07-22_14-34-14_C_phy_k_manual.nwb\n",
      "Animal ID: 63385\n",
      "AttributeError for 63385, skipping subject update\n",
      "Processing S:/Sachuriga/nwb/test4neo/63385_2024-07-25_14-40-47_A_phy_k_manual.nwb\n",
      "Animal ID: 63385\n",
      "AttributeError for 63385, skipping subject update\n",
      "Processing S:/Sachuriga/nwb/test4neo/63385_2024-07-25_15-07-43_B_phy_k_manual.nwb\n",
      "Animal ID: 63385\n",
      "AttributeError for 63385, skipping subject update\n",
      "Processing S:/Sachuriga/nwb/test4neo/63385_2024-07-25_15-33-13_C_phy_k_manual.nwb\n",
      "Animal ID: 63385\n",
      "AttributeError for 63385, skipping subject update\n",
      "Processing S:/Sachuriga/nwb/test4neo/63385_2024-07-28_14-43-52_A_phy_k_manual.nwb\n",
      "Animal ID: 63385\n",
      "AttributeError for 63385, skipping subject update\n",
      "Processing S:/Sachuriga/nwb/test4neo/63385_2024-07-28_15-09-56_B_phy_k_manual.nwb\n",
      "Animal ID: 63385\n",
      "AttributeError for 63385, skipping subject update\n",
      "Processing S:/Sachuriga/nwb/test4neo/63385_2024-07-28_15-34-34_C_phy_k_manual.nwb\n",
      "Animal ID: 63385\n",
      "AttributeError for 63385, skipping subject update\n",
      "Processing S:/Sachuriga/nwb/test4neo/63385_2024-07-30_14-48-28_A_phy_k_manual.nwb\n",
      "Animal ID: 63385\n",
      "AttributeError for 63385, skipping subject update\n",
      "Processing S:/Sachuriga/nwb/test4neo/63385_2024-07-30_15-15-18_B_phy_k_manual.nwb\n",
      "Animal ID: 63385\n",
      "AttributeError for 63385, skipping subject update\n",
      "Processing S:/Sachuriga/nwb/test4neo/63385_2024-07-30_15-41-00_C_phy_k_manual.nwb\n",
      "Animal ID: 63385\n",
      "AttributeError for 63385, skipping subject update\n",
      "Processing S:/Sachuriga/nwb/test4neo/65091_2023-07-30_14-06-35_A_phy_k_manual.nwb\n",
      "Animal ID: 65091\n",
      "AttributeError for 65091, skipping subject update\n",
      "Processing S:/Sachuriga/nwb/test4neo/65091_2023-08-01_13-40-26_A_phy_k_manual.nwb\n",
      "Animal ID: 65091\n",
      "AttributeError for 65091, skipping subject update\n",
      "Processing S:/Sachuriga/nwb/test4neo/65091_2023-08-01_15-16-29_C_phy_k_manual.nwb\n",
      "Animal ID: 65091\n",
      "AttributeError for 65091, skipping subject update\n",
      "Processing S:/Sachuriga/nwb/test4neo/65091_2023-08-04_14-07-54_A_phy_k_manual.nwb\n",
      "Animal ID: 65091\n",
      "AttributeError for 65091, skipping subject update\n",
      "Processing S:/Sachuriga/nwb/test4neo/65091_2023-08-08_11-39-47_A_phy_k_manual.nwb\n",
      "Animal ID: 65091\n",
      "AttributeError for 65091, skipping subject update\n",
      "Processing S:/Sachuriga/nwb/test4neo/65091_2023-08-08_13-05-04_B_phy_k_manual.nwb\n",
      "Animal ID: 65091\n",
      "AttributeError for 65091, skipping subject update\n",
      "Processing S:/Sachuriga/nwb/test4neo/65091_2023-08-08_13-32-49_C_phy_k_manual.nwb\n",
      "Animal ID: 65091\n",
      "AttributeError for 65091, skipping subject update\n",
      "Processing S:/Sachuriga/nwb/test4neo/65165_2023-06-29_17-02-50_A_phy_k_manual.nwb\n",
      "Animal ID: 65165\n",
      "AttributeError for 65165, skipping subject update\n",
      "Processing S:/Sachuriga/nwb/test4neo/65165_2023-06-30_16-32-08_A_phy_k_manual.nwb\n"
     ]
    },
    {
     "name": "stderr",
     "output_type": "stream",
     "text": [
      "C:\\Users\\sachur\\AppData\\Roaming\\Python\\Python311\\site-packages\\pynwb\\ecephys.py:90: UserWarning: ElectricalSeries 'lfp_car': The second dimension of data does not match the length of electrodes. Your data may be transposed.\n",
      "  warnings.warn(\"%s '%s': The second dimension of data does not match the length of electrodes. \"\n"
     ]
    },
    {
     "name": "stdout",
     "output_type": "stream",
     "text": [
      "Animal ID: 65165\n",
      "AttributeError for 65165, skipping subject update\n",
      "Processing S:/Sachuriga/nwb/test4neo/65165_2023-07-01_15-38-12_A_phy_k_manual.nwb\n",
      "Animal ID: 65165\n",
      "AttributeError for 65165, skipping subject update\n",
      "Processing S:/Sachuriga/nwb/test4neo/65165_2023-07-03_16-21-48_A_phy_k_manual.nwb\n",
      "Animal ID: 65165\n",
      "AttributeError for 65165, skipping subject update\n",
      "Processing S:/Sachuriga/nwb/test4neo/65165_2023-07-04_13-41-46_A_phy_k_manual.nwb\n",
      "Animal ID: 65165\n",
      "AttributeError for 65165, skipping subject update\n",
      "Processing S:/Sachuriga/nwb/test4neo/65165_2023-07-10_15-08-59_A_phy_k_manual.nwb\n"
     ]
    },
    {
     "name": "stderr",
     "output_type": "stream",
     "text": [
      "C:\\Users\\sachur\\AppData\\Roaming\\Python\\Python311\\site-packages\\pynwb\\ecephys.py:90: UserWarning: ElectricalSeries 'lfp_car': The second dimension of data does not match the length of electrodes. Your data may be transposed.\n",
      "  warnings.warn(\"%s '%s': The second dimension of data does not match the length of electrodes. \"\n"
     ]
    },
    {
     "name": "stdout",
     "output_type": "stream",
     "text": [
      "Animal ID: 65165\n",
      "AttributeError for 65165, skipping subject update\n",
      "Processing S:/Sachuriga/nwb/test4neo/65165_2023-07-10_16-19-04_B_phy_k_manual.nwb\n"
     ]
    },
    {
     "name": "stderr",
     "output_type": "stream",
     "text": [
      "C:\\Users\\sachur\\AppData\\Roaming\\Python\\Python311\\site-packages\\pynwb\\ecephys.py:90: UserWarning: ElectricalSeries 'lfp_car': The second dimension of data does not match the length of electrodes. Your data may be transposed.\n",
      "  warnings.warn(\"%s '%s': The second dimension of data does not match the length of electrodes. \"\n"
     ]
    },
    {
     "name": "stdout",
     "output_type": "stream",
     "text": [
      "Animal ID: 65165\n",
      "AttributeError for 65165, skipping subject update\n",
      "Processing S:/Sachuriga/nwb/test4neo/65165_2023-07-10_17-11-32_C_phy_k_manual.nwb\n"
     ]
    },
    {
     "name": "stderr",
     "output_type": "stream",
     "text": [
      "C:\\Users\\sachur\\AppData\\Roaming\\Python\\Python311\\site-packages\\pynwb\\ecephys.py:90: UserWarning: ElectricalSeries 'lfp_car': The second dimension of data does not match the length of electrodes. Your data may be transposed.\n",
      "  warnings.warn(\"%s '%s': The second dimension of data does not match the length of electrodes. \"\n"
     ]
    },
    {
     "name": "stdout",
     "output_type": "stream",
     "text": [
      "Animal ID: 65165\n",
      "AttributeError for 65165, skipping subject update\n",
      "Processing S:/Sachuriga/nwb/test4neo/65165_2023-07-19_13-24-38_A_phy_k_manual.nwb\n",
      "Animal ID: 65165\n",
      "AttributeError for 65165, skipping subject update\n",
      "Processing S:/Sachuriga/nwb/test4neo/65165_2023-07-20_16-57-26_A_phy_k_manual.nwb\n"
     ]
    },
    {
     "name": "stderr",
     "output_type": "stream",
     "text": [
      "C:\\Users\\sachur\\AppData\\Roaming\\Python\\Python311\\site-packages\\pynwb\\ecephys.py:90: UserWarning: ElectricalSeries 'lfp_car': The second dimension of data does not match the length of electrodes. Your data may be transposed.\n",
      "  warnings.warn(\"%s '%s': The second dimension of data does not match the length of electrodes. \"\n"
     ]
    },
    {
     "name": "stdout",
     "output_type": "stream",
     "text": [
      "Animal ID: 65165\n",
      "AttributeError for 65165, skipping subject update\n",
      "Processing S:/Sachuriga/nwb/test4neo/65165_2023-07-25_14-02-32_A_phy_k_manual.nwb\n"
     ]
    },
    {
     "name": "stderr",
     "output_type": "stream",
     "text": [
      "C:\\Users\\sachur\\AppData\\Roaming\\Python\\Python311\\site-packages\\pynwb\\ecephys.py:90: UserWarning: ElectricalSeries 'lfp_car': The second dimension of data does not match the length of electrodes. Your data may be transposed.\n",
      "  warnings.warn(\"%s '%s': The second dimension of data does not match the length of electrodes. \"\n"
     ]
    },
    {
     "name": "stdout",
     "output_type": "stream",
     "text": [
      "Animal ID: 65165\n",
      "AttributeError for 65165, skipping subject update\n",
      "Processing S:/Sachuriga/nwb/test4neo/65165_2023-07-26_14-32-28_A_phy_k_manual.nwb\n",
      "Animal ID: 65165\n",
      "AttributeError for 65165, skipping subject update\n",
      "Processing S:/Sachuriga/nwb/test4neo/65165_2023-07-29_15-34-20_A_phy_k_manual.nwb\n",
      "Animal ID: 65165\n",
      "AttributeError for 65165, skipping subject update\n",
      "Processing S:/Sachuriga/nwb/test4neo/65588_2024-03-04_15-44-37_A_phy_k_manual.nwb\n",
      "Animal ID: 65588\n",
      "AttributeError for 65588, skipping subject update\n",
      "Processing S:/Sachuriga/nwb/test4neo/65588_2024-03-04_16-34-21_B_phy_k_manual.nwb\n",
      "Animal ID: 65588\n",
      "AttributeError for 65588, skipping subject update\n",
      "Processing S:/Sachuriga/nwb/test4neo/65588_2024-03-04_17-12-55_C_phy_k_manual.nwb\n"
     ]
    },
    {
     "name": "stderr",
     "output_type": "stream",
     "text": [
      "C:\\Users\\sachur\\AppData\\Roaming\\Python\\Python311\\site-packages\\pynwb\\ecephys.py:90: UserWarning: ElectricalSeries 'lfp_car': The second dimension of data does not match the length of electrodes. Your data may be transposed.\n",
      "  warnings.warn(\"%s '%s': The second dimension of data does not match the length of electrodes. \"\n"
     ]
    },
    {
     "name": "stdout",
     "output_type": "stream",
     "text": [
      "Animal ID: 65588\n",
      "AttributeError for 65588, skipping subject update\n",
      "Processing S:/Sachuriga/nwb/test4neo/65588_2024-03-06_15-45-53_A_phy_k_manual.nwb\n",
      "Animal ID: 65588\n",
      "AttributeError for 65588, skipping subject update\n",
      "Processing S:/Sachuriga/nwb/test4neo/65588_2024-03-06_16-25-11_B_phy_k_manual.nwb\n",
      "Animal ID: 65588\n",
      "AttributeError for 65588, skipping subject update\n",
      "Processing S:/Sachuriga/nwb/test4neo/65588_2024-03-06_16-56-57_C_phy_k_manual.nwb\n",
      "Animal ID: 65588\n",
      "AttributeError for 65588, skipping subject update\n",
      "Processing S:/Sachuriga/nwb/test4neo/65588_2024-03-08_14-47-56_A_phy_k_manual.nwb\n",
      "Animal ID: 65588\n",
      "AttributeError for 65588, skipping subject update\n",
      "Processing S:/Sachuriga/nwb/test4neo/65588_2024-03-08_15-41-55_B_phy_k_manual.nwb\n",
      "Animal ID: 65588\n",
      "AttributeError for 65588, skipping subject update\n",
      "Processing S:/Sachuriga/nwb/test4neo/65588_2024-03-08_16-10-29_C_phy_k_manual.nwb\n",
      "Animal ID: 65588\n",
      "AttributeError for 65588, skipping subject update\n",
      "Processing S:/Sachuriga/nwb/test4neo/65588_2024-03-10_15-18-16_A_phy_k_manual.nwb\n"
     ]
    },
    {
     "name": "stderr",
     "output_type": "stream",
     "text": [
      "C:\\Users\\sachur\\AppData\\Roaming\\Python\\Python311\\site-packages\\pynwb\\ecephys.py:90: UserWarning: ElectricalSeries 'lfp_car': The second dimension of data does not match the length of electrodes. Your data may be transposed.\n",
      "  warnings.warn(\"%s '%s': The second dimension of data does not match the length of electrodes. \"\n"
     ]
    },
    {
     "name": "stdout",
     "output_type": "stream",
     "text": [
      "Animal ID: 65588\n",
      "AttributeError for 65588, skipping subject update\n",
      "Processing S:/Sachuriga/nwb/test4neo/65588_2024-03-10_15-48-31_B_phy_k_manual.nwb\n",
      "Animal ID: 65588\n",
      "AttributeError for 65588, skipping subject update\n",
      "Processing S:/Sachuriga/nwb/test4neo/65588_2024-03-10_16-17-14_C_phy_k_manual.nwb\n",
      "Animal ID: 65588\n",
      "AttributeError for 65588, skipping subject update\n",
      "Processing S:/Sachuriga/nwb/test4neo/65588_2024-03-12_15-17-04_A_phy_k_manual.nwb\n"
     ]
    },
    {
     "name": "stderr",
     "output_type": "stream",
     "text": [
      "C:\\Users\\sachur\\AppData\\Roaming\\Python\\Python311\\site-packages\\pynwb\\ecephys.py:90: UserWarning: ElectricalSeries 'lfp_car': The second dimension of data does not match the length of electrodes. Your data may be transposed.\n",
      "  warnings.warn(\"%s '%s': The second dimension of data does not match the length of electrodes. \"\n"
     ]
    },
    {
     "name": "stdout",
     "output_type": "stream",
     "text": [
      "Animal ID: 65588\n",
      "AttributeError for 65588, skipping subject update\n",
      "Processing S:/Sachuriga/nwb/test4neo/65588_2024-03-12_15-44-58_B_phy_k_manual.nwb\n"
     ]
    },
    {
     "name": "stderr",
     "output_type": "stream",
     "text": [
      "C:\\Users\\sachur\\AppData\\Roaming\\Python\\Python311\\site-packages\\pynwb\\ecephys.py:90: UserWarning: ElectricalSeries 'lfp_car': The second dimension of data does not match the length of electrodes. Your data may be transposed.\n",
      "  warnings.warn(\"%s '%s': The second dimension of data does not match the length of electrodes. \"\n"
     ]
    },
    {
     "name": "stdout",
     "output_type": "stream",
     "text": [
      "Animal ID: 65588\n",
      "AttributeError for 65588, skipping subject update\n",
      "Processing S:/Sachuriga/nwb/test4neo/65588_2024-03-12_16-15-30_C_phy_k_manual.nwb\n"
     ]
    },
    {
     "name": "stderr",
     "output_type": "stream",
     "text": [
      "C:\\Users\\sachur\\AppData\\Roaming\\Python\\Python311\\site-packages\\pynwb\\ecephys.py:90: UserWarning: ElectricalSeries 'lfp_car': The second dimension of data does not match the length of electrodes. Your data may be transposed.\n",
      "  warnings.warn(\"%s '%s': The second dimension of data does not match the length of electrodes. \"\n"
     ]
    },
    {
     "name": "stdout",
     "output_type": "stream",
     "text": [
      "Animal ID: 65588\n",
      "AttributeError for 65588, skipping subject update\n",
      "Processing S:/Sachuriga/nwb/test4neo/65588_2024-03-14_14-26-31_A_phy_k_manual.nwb\n",
      "Animal ID: 65588\n",
      "AttributeError for 65588, skipping subject update\n",
      "Processing S:/Sachuriga/nwb/test4neo/65588_2024-03-14_15-25-11_B_phy_k_manual.nwb\n",
      "Animal ID: 65588\n",
      "AttributeError for 65588, skipping subject update\n",
      "Processing S:/Sachuriga/nwb/test4neo/65588_2024-03-14_15-52-08_C_phy_k_manual.nwb\n",
      "Animal ID: 65588\n",
      "AttributeError for 65588, skipping subject update\n",
      "Processing S:/Sachuriga/nwb/test4neo/65622_2024-04-30_14-59-30_A_phy_k_manual.nwb\n"
     ]
    },
    {
     "name": "stderr",
     "output_type": "stream",
     "text": [
      "C:\\Users\\sachur\\AppData\\Roaming\\Python\\Python311\\site-packages\\pynwb\\ecephys.py:90: UserWarning: ElectricalSeries 'lfp_car': The second dimension of data does not match the length of electrodes. Your data may be transposed.\n",
      "  warnings.warn(\"%s '%s': The second dimension of data does not match the length of electrodes. \"\n"
     ]
    },
    {
     "name": "stdout",
     "output_type": "stream",
     "text": [
      "Animal ID: 65622\n",
      "AttributeError for 65622, skipping subject update\n",
      "Processing S:/Sachuriga/nwb/test4neo/66537_2024-11-22_16-36-59_A_phy_k_manual.nwb\n",
      "Animal ID: 66537\n",
      "AttributeError for 66537, skipping subject update\n",
      "Processing S:/Sachuriga/nwb/test4neo/66537_2024-11-22_17-05-17_B_phy_k_manual.nwb\n",
      "Animal ID: 66537\n",
      "AttributeError for 66537, skipping subject update\n",
      "Processing S:/Sachuriga/nwb/test4neo/66537_2024-11-22_17-30-53_C_phy_k_manual.nwb\n",
      "Animal ID: 66537\n",
      "AttributeError for 66537, skipping subject update\n",
      "Processing S:/Sachuriga/nwb/test4neo/66537_2024-11-26_12-58-02_A_phy_k_manual.nwb\n",
      "Animal ID: 66537\n",
      "AttributeError for 66537, skipping subject update\n",
      "Processing S:/Sachuriga/nwb/test4neo/66537_2024-11-26_13-23-16_B_phy_k_manual.nwb\n"
     ]
    },
    {
     "name": "stderr",
     "output_type": "stream",
     "text": [
      "C:\\Users\\sachur\\AppData\\Roaming\\Python\\Python311\\site-packages\\pynwb\\ecephys.py:90: UserWarning: ElectricalSeries 'lfp_car': The second dimension of data does not match the length of electrodes. Your data may be transposed.\n",
      "  warnings.warn(\"%s '%s': The second dimension of data does not match the length of electrodes. \"\n"
     ]
    },
    {
     "name": "stdout",
     "output_type": "stream",
     "text": [
      "Animal ID: 66537\n",
      "AttributeError for 66537, skipping subject update\n",
      "Processing S:/Sachuriga/nwb/test4neo/66537_2024-11-26_13-47-20_C_phy_k_manual.nwb\n"
     ]
    },
    {
     "name": "stderr",
     "output_type": "stream",
     "text": [
      "C:\\Users\\sachur\\AppData\\Roaming\\Python\\Python311\\site-packages\\pynwb\\ecephys.py:90: UserWarning: ElectricalSeries 'lfp_car': The second dimension of data does not match the length of electrodes. Your data may be transposed.\n",
      "  warnings.warn(\"%s '%s': The second dimension of data does not match the length of electrodes. \"\n"
     ]
    },
    {
     "name": "stdout",
     "output_type": "stream",
     "text": [
      "Animal ID: 66537\n",
      "AttributeError for 66537, skipping subject update\n",
      "Processing S:/Sachuriga/nwb/test4neo/66537_2024-11-29_10-51-02_A_phy_k_manual.nwb\n"
     ]
    },
    {
     "name": "stderr",
     "output_type": "stream",
     "text": [
      "C:\\Users\\sachur\\AppData\\Roaming\\Python\\Python311\\site-packages\\pynwb\\ecephys.py:90: UserWarning: ElectricalSeries 'lfp_car': The second dimension of data does not match the length of electrodes. Your data may be transposed.\n",
      "  warnings.warn(\"%s '%s': The second dimension of data does not match the length of electrodes. \"\n"
     ]
    },
    {
     "name": "stdout",
     "output_type": "stream",
     "text": [
      "Animal ID: 66537\n",
      "AttributeError for 66537, skipping subject update\n",
      "Processing S:/Sachuriga/nwb/test4neo/66537_2024-11-29_11-19-52_B_phy_k_manual.nwb\n"
     ]
    },
    {
     "name": "stderr",
     "output_type": "stream",
     "text": [
      "C:\\Users\\sachur\\AppData\\Roaming\\Python\\Python311\\site-packages\\pynwb\\ecephys.py:90: UserWarning: ElectricalSeries 'lfp_car': The second dimension of data does not match the length of electrodes. Your data may be transposed.\n",
      "  warnings.warn(\"%s '%s': The second dimension of data does not match the length of electrodes. \"\n"
     ]
    },
    {
     "name": "stdout",
     "output_type": "stream",
     "text": [
      "Animal ID: 66537\n",
      "AttributeError for 66537, skipping subject update\n",
      "Processing S:/Sachuriga/nwb/test4neo/66537_2024-11-29_11-43-49_C_phy_k_manual.nwb\n"
     ]
    },
    {
     "name": "stderr",
     "output_type": "stream",
     "text": [
      "C:\\Users\\sachur\\AppData\\Roaming\\Python\\Python311\\site-packages\\pynwb\\ecephys.py:90: UserWarning: ElectricalSeries 'lfp_car': The second dimension of data does not match the length of electrodes. Your data may be transposed.\n",
      "  warnings.warn(\"%s '%s': The second dimension of data does not match the length of electrodes. \"\n"
     ]
    },
    {
     "name": "stdout",
     "output_type": "stream",
     "text": [
      "Animal ID: 66537\n",
      "AttributeError for 66537, skipping subject update\n",
      "Processing S:/Sachuriga/nwb/test4neo/66537_2024-12-02_11-51-18_A_phy_k_manual.nwb\n"
     ]
    },
    {
     "name": "stderr",
     "output_type": "stream",
     "text": [
      "C:\\Users\\sachur\\AppData\\Roaming\\Python\\Python311\\site-packages\\pynwb\\ecephys.py:90: UserWarning: ElectricalSeries 'lfp_car': The second dimension of data does not match the length of electrodes. Your data may be transposed.\n",
      "  warnings.warn(\"%s '%s': The second dimension of data does not match the length of electrodes. \"\n"
     ]
    },
    {
     "name": "stdout",
     "output_type": "stream",
     "text": [
      "Animal ID: 66537\n",
      "AttributeError for 66537, skipping subject update\n",
      "Processing S:/Sachuriga/nwb/test4neo/66537_2024-12-02_12-18-56_B_phy_k_manual.nwb\n"
     ]
    },
    {
     "name": "stderr",
     "output_type": "stream",
     "text": [
      "C:\\Users\\sachur\\AppData\\Roaming\\Python\\Python311\\site-packages\\pynwb\\ecephys.py:90: UserWarning: ElectricalSeries 'lfp_car': The second dimension of data does not match the length of electrodes. Your data may be transposed.\n",
      "  warnings.warn(\"%s '%s': The second dimension of data does not match the length of electrodes. \"\n"
     ]
    },
    {
     "name": "stdout",
     "output_type": "stream",
     "text": [
      "Animal ID: 66537\n",
      "AttributeError for 66537, skipping subject update\n",
      "Processing S:/Sachuriga/nwb/test4neo/66537_2024-12-02_12-44-40_C_phy_k_manual.nwb\n"
     ]
    },
    {
     "name": "stderr",
     "output_type": "stream",
     "text": [
      "C:\\Users\\sachur\\AppData\\Roaming\\Python\\Python311\\site-packages\\pynwb\\ecephys.py:90: UserWarning: ElectricalSeries 'lfp_car': The second dimension of data does not match the length of electrodes. Your data may be transposed.\n",
      "  warnings.warn(\"%s '%s': The second dimension of data does not match the length of electrodes. \"\n"
     ]
    },
    {
     "name": "stdout",
     "output_type": "stream",
     "text": [
      "Animal ID: 66537\n",
      "AttributeError for 66537, skipping subject update\n",
      "Processing S:/Sachuriga/nwb/test4neo/66537_2024-12-04_14-35-16_A_phy_k_manual.nwb\n"
     ]
    },
    {
     "name": "stderr",
     "output_type": "stream",
     "text": [
      "C:\\Users\\sachur\\AppData\\Roaming\\Python\\Python311\\site-packages\\pynwb\\ecephys.py:90: UserWarning: ElectricalSeries 'lfp_car': The second dimension of data does not match the length of electrodes. Your data may be transposed.\n",
      "  warnings.warn(\"%s '%s': The second dimension of data does not match the length of electrodes. \"\n"
     ]
    },
    {
     "name": "stdout",
     "output_type": "stream",
     "text": [
      "Animal ID: 66537\n",
      "AttributeError for 66537, skipping subject update\n",
      "Processing S:/Sachuriga/nwb/test4neo/66537_2024-12-04_15-00-57_B_phy_k_manual.nwb\n"
     ]
    },
    {
     "name": "stderr",
     "output_type": "stream",
     "text": [
      "C:\\Users\\sachur\\AppData\\Roaming\\Python\\Python311\\site-packages\\pynwb\\ecephys.py:90: UserWarning: ElectricalSeries 'lfp_car': The second dimension of data does not match the length of electrodes. Your data may be transposed.\n",
      "  warnings.warn(\"%s '%s': The second dimension of data does not match the length of electrodes. \"\n"
     ]
    },
    {
     "name": "stdout",
     "output_type": "stream",
     "text": [
      "Animal ID: 66537\n",
      "AttributeError for 66537, skipping subject update\n",
      "Processing S:/Sachuriga/nwb/test4neo/66537_2024-12-04_15-27-58_C_phy_k_manual.nwb\n"
     ]
    },
    {
     "name": "stderr",
     "output_type": "stream",
     "text": [
      "C:\\Users\\sachur\\AppData\\Roaming\\Python\\Python311\\site-packages\\pynwb\\ecephys.py:90: UserWarning: ElectricalSeries 'lfp_car': The second dimension of data does not match the length of electrodes. Your data may be transposed.\n",
      "  warnings.warn(\"%s '%s': The second dimension of data does not match the length of electrodes. \"\n"
     ]
    },
    {
     "name": "stdout",
     "output_type": "stream",
     "text": [
      "Animal ID: 66537\n",
      "AttributeError for 66537, skipping subject update\n",
      "Processing S:/Sachuriga/nwb/test4neo/66537_2024-12-06_15-08-44_A_phy_k_manual.nwb\n"
     ]
    },
    {
     "name": "stderr",
     "output_type": "stream",
     "text": [
      "C:\\Users\\sachur\\AppData\\Roaming\\Python\\Python311\\site-packages\\pynwb\\ecephys.py:90: UserWarning: ElectricalSeries 'lfp_car': The second dimension of data does not match the length of electrodes. Your data may be transposed.\n",
      "  warnings.warn(\"%s '%s': The second dimension of data does not match the length of electrodes. \"\n"
     ]
    },
    {
     "name": "stdout",
     "output_type": "stream",
     "text": [
      "Animal ID: 66537\n",
      "AttributeError for 66537, skipping subject update\n",
      "Processing S:/Sachuriga/nwb/test4neo/66537_2024-12-06_15-35-02_B_phy_k_manual.nwb\n"
     ]
    },
    {
     "name": "stderr",
     "output_type": "stream",
     "text": [
      "C:\\Users\\sachur\\AppData\\Roaming\\Python\\Python311\\site-packages\\pynwb\\ecephys.py:90: UserWarning: ElectricalSeries 'lfp_car': The second dimension of data does not match the length of electrodes. Your data may be transposed.\n",
      "  warnings.warn(\"%s '%s': The second dimension of data does not match the length of electrodes. \"\n"
     ]
    },
    {
     "name": "stdout",
     "output_type": "stream",
     "text": [
      "Animal ID: 66537\n",
      "AttributeError for 66537, skipping subject update\n",
      "Processing S:/Sachuriga/nwb/test4neo/66537_2024-12-06_15-59-24_C_phy_k_manual.nwb\n"
     ]
    },
    {
     "name": "stderr",
     "output_type": "stream",
     "text": [
      "C:\\Users\\sachur\\AppData\\Roaming\\Python\\Python311\\site-packages\\pynwb\\ecephys.py:90: UserWarning: ElectricalSeries 'lfp_car': The second dimension of data does not match the length of electrodes. Your data may be transposed.\n",
      "  warnings.warn(\"%s '%s': The second dimension of data does not match the length of electrodes. \"\n"
     ]
    },
    {
     "name": "stdout",
     "output_type": "stream",
     "text": [
      "Animal ID: 66537\n",
      "AttributeError for 66537, skipping subject update\n",
      "Processing S:/Sachuriga/nwb/test4neo/66537_2024-12-08_15-50-09_A_phy_k_manual.nwb\n"
     ]
    },
    {
     "name": "stderr",
     "output_type": "stream",
     "text": [
      "C:\\Users\\sachur\\AppData\\Roaming\\Python\\Python311\\site-packages\\pynwb\\ecephys.py:90: UserWarning: ElectricalSeries 'lfp_car': The second dimension of data does not match the length of electrodes. Your data may be transposed.\n",
      "  warnings.warn(\"%s '%s': The second dimension of data does not match the length of electrodes. \"\n"
     ]
    },
    {
     "name": "stdout",
     "output_type": "stream",
     "text": [
      "Animal ID: 66537\n",
      "AttributeError for 66537, skipping subject update\n",
      "Processing S:/Sachuriga/nwb/test4neo/66537_2024-12-08_16-13-58_B_phy_k_manual.nwb\n"
     ]
    },
    {
     "name": "stderr",
     "output_type": "stream",
     "text": [
      "C:\\Users\\sachur\\AppData\\Roaming\\Python\\Python311\\site-packages\\pynwb\\ecephys.py:90: UserWarning: ElectricalSeries 'lfp_car': The second dimension of data does not match the length of electrodes. Your data may be transposed.\n",
      "  warnings.warn(\"%s '%s': The second dimension of data does not match the length of electrodes. \"\n"
     ]
    },
    {
     "name": "stdout",
     "output_type": "stream",
     "text": [
      "Animal ID: 66537\n",
      "AttributeError for 66537, skipping subject update\n",
      "Processing S:/Sachuriga/nwb/test4neo/66537_2024-12-08_16-38-13_C_phy_k_manual.nwb\n"
     ]
    },
    {
     "name": "stderr",
     "output_type": "stream",
     "text": [
      "C:\\Users\\sachur\\AppData\\Roaming\\Python\\Python311\\site-packages\\pynwb\\ecephys.py:90: UserWarning: ElectricalSeries 'lfp_car': The second dimension of data does not match the length of electrodes. Your data may be transposed.\n",
      "  warnings.warn(\"%s '%s': The second dimension of data does not match the length of electrodes. \"\n"
     ]
    },
    {
     "name": "stdout",
     "output_type": "stream",
     "text": [
      "Animal ID: 66537\n",
      "AttributeError for 66537, skipping subject update\n",
      "Processing S:/Sachuriga/nwb/test4neo/66537_2024-12-18_12-33-01_A_phy_k_manual.nwb\n"
     ]
    },
    {
     "name": "stderr",
     "output_type": "stream",
     "text": [
      "C:\\Users\\sachur\\AppData\\Roaming\\Python\\Python311\\site-packages\\pynwb\\ecephys.py:90: UserWarning: ElectricalSeries 'lfp_car': The second dimension of data does not match the length of electrodes. Your data may be transposed.\n",
      "  warnings.warn(\"%s '%s': The second dimension of data does not match the length of electrodes. \"\n"
     ]
    },
    {
     "name": "stdout",
     "output_type": "stream",
     "text": [
      "Animal ID: 66537\n",
      "AttributeError for 66537, skipping subject update\n",
      "Processing S:/Sachuriga/nwb/test4neo/66537_2024-12-18_12-57-53_B_phy_k_manual.nwb\n"
     ]
    },
    {
     "name": "stderr",
     "output_type": "stream",
     "text": [
      "C:\\Users\\sachur\\AppData\\Roaming\\Python\\Python311\\site-packages\\pynwb\\ecephys.py:90: UserWarning: ElectricalSeries 'lfp_car': The second dimension of data does not match the length of electrodes. Your data may be transposed.\n",
      "  warnings.warn(\"%s '%s': The second dimension of data does not match the length of electrodes. \"\n"
     ]
    },
    {
     "name": "stdout",
     "output_type": "stream",
     "text": [
      "Animal ID: 66537\n",
      "AttributeError for 66537, skipping subject update\n",
      "Processing S:/Sachuriga/nwb/test4neo/66537_2024-12-18_13-22-19_C_phy_k_manual.nwb\n"
     ]
    },
    {
     "name": "stderr",
     "output_type": "stream",
     "text": [
      "C:\\Users\\sachur\\AppData\\Roaming\\Python\\Python311\\site-packages\\pynwb\\ecephys.py:90: UserWarning: ElectricalSeries 'lfp_car': The second dimension of data does not match the length of electrodes. Your data may be transposed.\n",
      "  warnings.warn(\"%s '%s': The second dimension of data does not match the length of electrodes. \"\n"
     ]
    },
    {
     "name": "stdout",
     "output_type": "stream",
     "text": [
      "Animal ID: 66537\n",
      "AttributeError for 66537, skipping subject update\n",
      "Processing S:/Sachuriga/nwb/test4neo/66537_2024-12-19_16-42-27_A_phy_k_manual.nwb\n"
     ]
    },
    {
     "name": "stderr",
     "output_type": "stream",
     "text": [
      "C:\\Users\\sachur\\AppData\\Roaming\\Python\\Python311\\site-packages\\pynwb\\ecephys.py:90: UserWarning: ElectricalSeries 'lfp_car': The second dimension of data does not match the length of electrodes. Your data may be transposed.\n",
      "  warnings.warn(\"%s '%s': The second dimension of data does not match the length of electrodes. \"\n"
     ]
    },
    {
     "name": "stdout",
     "output_type": "stream",
     "text": [
      "Animal ID: 66537\n",
      "AttributeError for 66537, skipping subject update\n",
      "Processing S:/Sachuriga/nwb/test4neo/66537_2024-12-19_17-07-13_B_phy_k_manual.nwb\n"
     ]
    },
    {
     "name": "stderr",
     "output_type": "stream",
     "text": [
      "C:\\Users\\sachur\\AppData\\Roaming\\Python\\Python311\\site-packages\\pynwb\\ecephys.py:90: UserWarning: ElectricalSeries 'lfp_car': The second dimension of data does not match the length of electrodes. Your data may be transposed.\n",
      "  warnings.warn(\"%s '%s': The second dimension of data does not match the length of electrodes. \"\n"
     ]
    },
    {
     "name": "stdout",
     "output_type": "stream",
     "text": [
      "Animal ID: 66537\n",
      "AttributeError for 66537, skipping subject update\n",
      "Processing S:/Sachuriga/nwb/test4neo/66537_2024-12-19_17-30-23_C_phy_k_manual.nwb\n"
     ]
    },
    {
     "name": "stderr",
     "output_type": "stream",
     "text": [
      "C:\\Users\\sachur\\AppData\\Roaming\\Python\\Python311\\site-packages\\pynwb\\ecephys.py:90: UserWarning: ElectricalSeries 'lfp_car': The second dimension of data does not match the length of electrodes. Your data may be transposed.\n",
      "  warnings.warn(\"%s '%s': The second dimension of data does not match the length of electrodes. \"\n"
     ]
    },
    {
     "name": "stdout",
     "output_type": "stream",
     "text": [
      "Animal ID: 66537\n",
      "AttributeError for 66537, skipping subject update\n",
      "Processing S:/Sachuriga/nwb/test4neo/66537_2024-12-21_15-19-13_A_phy_k_manual.nwb\n",
      "Animal ID: 66537\n",
      "AttributeError for 66537, skipping subject update\n",
      "Processing S:/Sachuriga/nwb/test4neo/66537_2024-12-21_15-47-12_B_phy_k_manual.nwb\n",
      "Animal ID: 66537\n",
      "AttributeError for 66537, skipping subject update\n",
      "Processing S:/Sachuriga/nwb/test4neo/66537_2024-12-21_16-10-40_C_phy_k_manual.nwb\n",
      "Animal ID: 66537\n",
      "AttributeError for 66537, skipping subject update\n",
      "Processing S:/Sachuriga/nwb/test4neo/66538_2024-11-22_17-59-41_A_phy_k_manual.nwb\n",
      "Animal ID: 66538\n",
      "AttributeError for 66538, skipping subject update\n",
      "Processing S:/Sachuriga/nwb/test4neo/66538_2024-11-22_18-25-29_B_phy_k_manual.nwb\n",
      "Animal ID: 66538\n",
      "AttributeError for 66538, skipping subject update\n",
      "Processing S:/Sachuriga/nwb/test4neo/66538_2024-11-22_18-53-59_C_phy_k_manual.nwb\n",
      "Animal ID: 66538\n",
      "AttributeError for 66538, skipping subject update\n",
      "Processing S:/Sachuriga/nwb/test4neo/66538_2024-11-25_11-10-56_A_phy_k_manual.nwb\n",
      "Animal ID: 66538\n",
      "AttributeError for 66538, skipping subject update\n",
      "Processing S:/Sachuriga/nwb/test4neo/66538_2024-11-25_11-36-52_B_phy_k_manual.nwb\n",
      "Animal ID: 66538\n",
      "AttributeError for 66538, skipping subject update\n",
      "Processing S:/Sachuriga/nwb/test4neo/66538_2024-11-25_12-02-14_C_phy_k_manual.nwb\n",
      "Animal ID: 66538\n",
      "AttributeError for 66538, skipping subject update\n",
      "Processing S:/Sachuriga/nwb/test4neo/66538_2024-11-29_12-21-00_A_phy_k_manual.nwb\n",
      "Animal ID: 66538\n",
      "AttributeError for 66538, skipping subject update\n",
      "Processing S:/Sachuriga/nwb/test4neo/66538_2024-11-29_12-47-36_B_phy_k_manual.nwb\n",
      "Animal ID: 66538\n",
      "AttributeError for 66538, skipping subject update\n",
      "Processing S:/Sachuriga/nwb/test4neo/66538_2024-11-29_13-11-22_C_phy_k_manual.nwb\n",
      "Animal ID: 66538\n",
      "AttributeError for 66538, skipping subject update\n",
      "Processing S:/Sachuriga/nwb/test4neo/66538_2024-12-02_10-31-40_A_phy_k_manual.nwb\n",
      "Animal ID: 66538\n",
      "AttributeError for 66538, skipping subject update\n",
      "Processing S:/Sachuriga/nwb/test4neo/66538_2024-12-02_10-57-29_B_phy_k_manual.nwb\n",
      "Animal ID: 66538\n",
      "AttributeError for 66538, skipping subject update\n",
      "Processing S:/Sachuriga/nwb/test4neo/66538_2024-12-02_11-22-15_C_phy_k_manual.nwb\n",
      "Animal ID: 66538\n",
      "AttributeError for 66538, skipping subject update\n",
      "Processing S:/Sachuriga/nwb/test4neo/66538_2024-12-04_10-46-52_A_phy_k_manual.nwb\n",
      "Animal ID: 66538\n",
      "AttributeError for 66538, skipping subject update\n",
      "Processing S:/Sachuriga/nwb/test4neo/66538_2024-12-04_11-12-40_B_phy_k_manual.nwb\n",
      "Animal ID: 66538\n",
      "AttributeError for 66538, skipping subject update\n",
      "Processing S:/Sachuriga/nwb/test4neo/66538_2024-12-04_11-36-38_C_phy_k_manual.nwb\n",
      "Animal ID: 66538\n",
      "AttributeError for 66538, skipping subject update\n",
      "Processing S:/Sachuriga/nwb/test4neo/66538_2024-12-06_13-29-55_A_phy_k_manual.nwb\n",
      "Animal ID: 66538\n",
      "AttributeError for 66538, skipping subject update\n",
      "Processing S:/Sachuriga/nwb/test4neo/66538_2024-12-06_13-56-13_B_phy_k_manual.nwb\n",
      "Animal ID: 66538\n",
      "AttributeError for 66538, skipping subject update\n",
      "Processing S:/Sachuriga/nwb/test4neo/66538_2024-12-06_14-19-53_C_phy_k_manual.nwb\n",
      "Animal ID: 66538\n",
      "AttributeError for 66538, skipping subject update\n",
      "Processing S:/Sachuriga/nwb/test4neo/66538_2024-12-08_14-24-17_A_phy_k_manual.nwb\n",
      "Animal ID: 66538\n",
      "AttributeError for 66538, skipping subject update\n",
      "Processing S:/Sachuriga/nwb/test4neo/66538_2024-12-08_14-55-18_B_phy_k_manual.nwb\n",
      "Animal ID: 66538\n",
      "AttributeError for 66538, skipping subject update\n",
      "Processing S:/Sachuriga/nwb/test4neo/66538_2024-12-08_15-19-37_C_phy_k_manual.nwb\n",
      "Animal ID: 66538\n",
      "AttributeError for 66538, skipping subject update\n",
      "Processing S:/Sachuriga/nwb/test4neo/66538_2024-12-10_11-46-21_A_phy_k_manual.nwb\n",
      "Animal ID: 66538\n",
      "AttributeError for 66538, skipping subject update\n",
      "Processing S:/Sachuriga/nwb/test4neo/66538_2024-12-10_12-12-09_B_phy_k_manual.nwb\n",
      "Animal ID: 66538\n",
      "AttributeError for 66538, skipping subject update\n",
      "Processing S:/Sachuriga/nwb/test4neo/66538_2024-12-10_12-37-28_C_phy_k_manual.nwb\n",
      "Animal ID: 66538\n",
      "AttributeError for 66538, skipping subject update\n",
      "Processing S:/Sachuriga/nwb/test4neo/66538_2024-12-12_09-34-43_A_phy_k_manual.nwb\n",
      "Animal ID: 66538\n",
      "AttributeError for 66538, skipping subject update\n",
      "Processing S:/Sachuriga/nwb/test4neo/66538_2024-12-12_09-59-20_B_phy_k_manual.nwb\n",
      "Animal ID: 66538\n",
      "AttributeError for 66538, skipping subject update\n",
      "Processing S:/Sachuriga/nwb/test4neo/66538_2024-12-12_10-25-55_C_phy_k_manual.nwb\n",
      "Animal ID: 66538\n",
      "AttributeError for 66538, skipping subject update\n",
      "Processing S:/Sachuriga/nwb/test4neo/66538_2024-12-16_14-08-36_A_phy_k_manual.nwb\n"
     ]
    },
    {
     "name": "stderr",
     "output_type": "stream",
     "text": [
      "C:\\Users\\sachur\\AppData\\Roaming\\Python\\Python311\\site-packages\\pynwb\\ecephys.py:90: UserWarning: ElectricalSeries 'lfp_car': The second dimension of data does not match the length of electrodes. Your data may be transposed.\n",
      "  warnings.warn(\"%s '%s': The second dimension of data does not match the length of electrodes. \"\n"
     ]
    },
    {
     "name": "stdout",
     "output_type": "stream",
     "text": [
      "Animal ID: 66538\n",
      "AttributeError for 66538, skipping subject update\n",
      "Processing S:/Sachuriga/nwb/test4neo/66538_2024-12-16_14-34-32_B_phy_k_manual.nwb\n"
     ]
    },
    {
     "name": "stderr",
     "output_type": "stream",
     "text": [
      "C:\\Users\\sachur\\AppData\\Roaming\\Python\\Python311\\site-packages\\pynwb\\ecephys.py:90: UserWarning: ElectricalSeries 'lfp_car': The second dimension of data does not match the length of electrodes. Your data may be transposed.\n",
      "  warnings.warn(\"%s '%s': The second dimension of data does not match the length of electrodes. \"\n"
     ]
    },
    {
     "name": "stdout",
     "output_type": "stream",
     "text": [
      "Animal ID: 66538\n",
      "AttributeError for 66538, skipping subject update\n",
      "Processing S:/Sachuriga/nwb/test4neo/66538_2024-12-16_14-57-58_C_phy_k_manual.nwb\n"
     ]
    },
    {
     "name": "stderr",
     "output_type": "stream",
     "text": [
      "C:\\Users\\sachur\\AppData\\Roaming\\Python\\Python311\\site-packages\\pynwb\\ecephys.py:90: UserWarning: ElectricalSeries 'lfp_car': The second dimension of data does not match the length of electrodes. Your data may be transposed.\n",
      "  warnings.warn(\"%s '%s': The second dimension of data does not match the length of electrodes. \"\n"
     ]
    },
    {
     "name": "stdout",
     "output_type": "stream",
     "text": [
      "Animal ID: 66538\n",
      "AttributeError for 66538, skipping subject update\n",
      "Processing S:/Sachuriga/nwb/test4neo/66539_2024-11-19_13-16-17_A_phy_k_manual.nwb\n",
      "Animal ID: 66539\n",
      "AttributeError for 66539, skipping subject update\n",
      "Processing S:/Sachuriga/nwb/test4neo/66539_2024-11-19_13-49-18_B_phy_k_manual.nwb\n",
      "Animal ID: 66539\n",
      "AttributeError for 66539, skipping subject update\n",
      "Processing S:/Sachuriga/nwb/test4neo/66539_2024-11-19_14-19-54_C_phy_k_manual.nwb\n",
      "Animal ID: 66539\n",
      "AttributeError for 66539, skipping subject update\n",
      "Processing S:/Sachuriga/nwb/test4neo/66539_2024-11-22_15-04-20_A_phy_k_manual.nwb\n",
      "Animal ID: 66539\n",
      "AttributeError for 66539, skipping subject update\n",
      "Processing S:/Sachuriga/nwb/test4neo/66539_2024-11-22_15-31-06_B_phy_k_manual.nwb\n",
      "Animal ID: 66539\n",
      "AttributeError for 66539, skipping subject update\n",
      "Processing S:/Sachuriga/nwb/test4neo/66539_2024-11-22_15-57-47_C_phy_k_manual.nwb\n",
      "Animal ID: 66539\n",
      "AttributeError for 66539, skipping subject update\n",
      "Processing S:/Sachuriga/nwb/test4neo/66539_2024-11-25_12-41-43_A_phy_k_manual.nwb\n",
      "Animal ID: 66539\n",
      "AttributeError for 66539, skipping subject update\n",
      "Processing S:/Sachuriga/nwb/test4neo/66539_2024-11-25_13-07-11_B_phy_k_manual.nwb\n"
     ]
    },
    {
     "name": "stderr",
     "output_type": "stream",
     "text": [
      "C:\\Users\\sachur\\AppData\\Roaming\\Python\\Python311\\site-packages\\pynwb\\ecephys.py:90: UserWarning: ElectricalSeries 'lfp_car': The second dimension of data does not match the length of electrodes. Your data may be transposed.\n",
      "  warnings.warn(\"%s '%s': The second dimension of data does not match the length of electrodes. \"\n"
     ]
    },
    {
     "name": "stdout",
     "output_type": "stream",
     "text": [
      "Animal ID: 66539\n",
      "AttributeError for 66539, skipping subject update\n",
      "Processing S:/Sachuriga/nwb/test4neo/66539_2024-11-25_13-31-20_C_phy_k_manual.nwb\n",
      "Animal ID: 66539\n",
      "AttributeError for 66539, skipping subject update\n",
      "Processing S:/Sachuriga/nwb/test4neo/66539_2024-11-28_13-45-42_A_phy_k_manual.nwb\n",
      "Animal ID: 66539\n",
      "AttributeError for 66539, skipping subject update\n",
      "Processing S:/Sachuriga/nwb/test4neo/66539_2024-11-28_14-10-31_B_phy_k_manual.nwb\n"
     ]
    },
    {
     "name": "stderr",
     "output_type": "stream",
     "text": [
      "C:\\Users\\sachur\\AppData\\Roaming\\Python\\Python311\\site-packages\\pynwb\\ecephys.py:90: UserWarning: ElectricalSeries 'lfp_car': The second dimension of data does not match the length of electrodes. Your data may be transposed.\n",
      "  warnings.warn(\"%s '%s': The second dimension of data does not match the length of electrodes. \"\n"
     ]
    },
    {
     "name": "stdout",
     "output_type": "stream",
     "text": [
      "Animal ID: 66539\n",
      "AttributeError for 66539, skipping subject update\n",
      "Processing S:/Sachuriga/nwb/test4neo/66539_2024-11-28_14-34-05_C_phy_k_manual.nwb\n",
      "Animal ID: 66539\n",
      "AttributeError for 66539, skipping subject update\n",
      "Processing S:/Sachuriga/nwb/test4neo/66539_2024-12-01_13-38-21_A_phy_k_manual.nwb\n",
      "Animal ID: 66539\n",
      "AttributeError for 66539, skipping subject update\n",
      "Processing S:/Sachuriga/nwb/test4neo/66539_2024-12-01_14-05-00_B_phy_k_manual.nwb\n",
      "Animal ID: 66539\n",
      "AttributeError for 66539, skipping subject update\n",
      "Processing S:/Sachuriga/nwb/test4neo/66539_2024-12-01_14-28-19_C_phy_k_manual.nwb\n",
      "Animal ID: 66539\n",
      "AttributeError for 66539, skipping subject update\n",
      "Processing S:/Sachuriga/nwb/test4neo/66539_2024-12-03_11-42-19_A_phy_k_manual.nwb\n",
      "Animal ID: 66539\n",
      "AttributeError for 66539, skipping subject update\n",
      "Processing S:/Sachuriga/nwb/test4neo/66539_2024-12-03_12-12-32_B_phy_k_manual.nwb\n",
      "Animal ID: 66539\n",
      "AttributeError for 66539, skipping subject update\n",
      "Processing S:/Sachuriga/nwb/test4neo/66539_2024-12-03_12-37-51_C_phy_k_manual.nwb\n",
      "Animal ID: 66539\n",
      "AttributeError for 66539, skipping subject update\n",
      "Processing S:/Sachuriga/nwb/test4neo/66539_2024-12-05_11-10-35_A_phy_k_manual.nwb\n",
      "Animal ID: 66539\n",
      "AttributeError for 66539, skipping subject update\n",
      "Processing S:/Sachuriga/nwb/test4neo/66539_2024-12-05_11-38-14_B_phy_k_manual.nwb\n",
      "Animal ID: 66539\n",
      "AttributeError for 66539, skipping subject update\n",
      "Processing S:/Sachuriga/nwb/test4neo/66539_2024-12-05_12-02-58_C_phy_k_manual.nwb\n",
      "Animal ID: 66539\n",
      "AttributeError for 66539, skipping subject update\n",
      "Processing S:/Sachuriga/nwb/test4neo/66539_2024-12-07_15-40-06_A_phy_k_manual.nwb\n",
      "Animal ID: 66539\n",
      "AttributeError for 66539, skipping subject update\n",
      "Processing S:/Sachuriga/nwb/test4neo/66539_2024-12-07_16-04-24_B_phy_k_manual.nwb\n",
      "Animal ID: 66539\n",
      "AttributeError for 66539, skipping subject update\n",
      "Processing S:/Sachuriga/nwb/test4neo/66539_2024-12-07_16-27-58_C_phy_k_manual.nwb\n",
      "Animal ID: 66539\n",
      "AttributeError for 66539, skipping subject update\n",
      "Processing S:/Sachuriga/nwb/test4neo/66539_2024-12-09_11-27-55_A_phy_k_manual.nwb\n",
      "Animal ID: 66539\n",
      "AttributeError for 66539, skipping subject update\n",
      "Processing S:/Sachuriga/nwb/test4neo/66539_2024-12-09_11-52-29_B_phy_k_manual.nwb\n",
      "Animal ID: 66539\n",
      "AttributeError for 66539, skipping subject update\n",
      "Processing S:/Sachuriga/nwb/test4neo/66539_2024-12-09_12-16-12_C_phy_k_manual.nwb\n",
      "Animal ID: 66539\n",
      "AttributeError for 66539, skipping subject update\n",
      "Processing S:/Sachuriga/nwb/test4neo/66539_2024-12-17_14-15-32_A_phy_k_manual.nwb\n",
      "Animal ID: 66539\n",
      "AttributeError for 66539, skipping subject update\n",
      "Processing S:/Sachuriga/nwb/test4neo/66539_2024-12-17_14-39-47_B_phy_k_manual.nwb\n"
     ]
    },
    {
     "name": "stderr",
     "output_type": "stream",
     "text": [
      "C:\\Users\\sachur\\AppData\\Roaming\\Python\\Python311\\site-packages\\pynwb\\ecephys.py:90: UserWarning: ElectricalSeries 'lfp_car': The second dimension of data does not match the length of electrodes. Your data may be transposed.\n",
      "  warnings.warn(\"%s '%s': The second dimension of data does not match the length of electrodes. \"\n"
     ]
    },
    {
     "name": "stdout",
     "output_type": "stream",
     "text": [
      "Animal ID: 66539\n",
      "AttributeError for 66539, skipping subject update\n",
      "Processing S:/Sachuriga/nwb/test4neo/66539_2024-12-17_15-07-12_C_phy_k_manual.nwb\n"
     ]
    },
    {
     "name": "stderr",
     "output_type": "stream",
     "text": [
      "C:\\Users\\sachur\\AppData\\Roaming\\Python\\Python311\\site-packages\\pynwb\\ecephys.py:90: UserWarning: ElectricalSeries 'lfp_car': The second dimension of data does not match the length of electrodes. Your data may be transposed.\n",
      "  warnings.warn(\"%s '%s': The second dimension of data does not match the length of electrodes. \"\n"
     ]
    },
    {
     "name": "stdout",
     "output_type": "stream",
     "text": [
      "Animal ID: 66539\n",
      "AttributeError for 66539, skipping subject update\n",
      "Processing S:/Sachuriga/nwb/test4neo/66539_2024-12-18_14-06-26_A_phy_k_manual.nwb\n"
     ]
    },
    {
     "name": "stderr",
     "output_type": "stream",
     "text": [
      "C:\\Users\\sachur\\AppData\\Roaming\\Python\\Python311\\site-packages\\pynwb\\ecephys.py:90: UserWarning: ElectricalSeries 'lfp_car': The second dimension of data does not match the length of electrodes. Your data may be transposed.\n",
      "  warnings.warn(\"%s '%s': The second dimension of data does not match the length of electrodes. \"\n"
     ]
    },
    {
     "name": "stdout",
     "output_type": "stream",
     "text": [
      "Animal ID: 66539\n",
      "AttributeError for 66539, skipping subject update\n",
      "Processing S:/Sachuriga/nwb/test4neo/66539_2024-12-18_14-32-02_B_phy_k_manual.nwb\n"
     ]
    },
    {
     "name": "stderr",
     "output_type": "stream",
     "text": [
      "C:\\Users\\sachur\\AppData\\Roaming\\Python\\Python311\\site-packages\\pynwb\\ecephys.py:90: UserWarning: ElectricalSeries 'lfp_car': The second dimension of data does not match the length of electrodes. Your data may be transposed.\n",
      "  warnings.warn(\"%s '%s': The second dimension of data does not match the length of electrodes. \"\n"
     ]
    },
    {
     "name": "stdout",
     "output_type": "stream",
     "text": [
      "Animal ID: 66539\n",
      "AttributeError for 66539, skipping subject update\n",
      "Processing S:/Sachuriga/nwb/test4neo/66539_2024-12-18_14-59-51_C_phy_k_manual.nwb\n"
     ]
    },
    {
     "name": "stderr",
     "output_type": "stream",
     "text": [
      "C:\\Users\\sachur\\AppData\\Roaming\\Python\\Python311\\site-packages\\pynwb\\ecephys.py:90: UserWarning: ElectricalSeries 'lfp_car': The second dimension of data does not match the length of electrodes. Your data may be transposed.\n",
      "  warnings.warn(\"%s '%s': The second dimension of data does not match the length of electrodes. \"\n"
     ]
    },
    {
     "name": "stdout",
     "output_type": "stream",
     "text": [
      "Animal ID: 66539\n",
      "AttributeError for 66539, skipping subject update\n",
      "Processing S:/Sachuriga/nwb/test4neo/66539_2024-12-22_16-57-58_A_phy_k_manual.nwb\n"
     ]
    },
    {
     "name": "stderr",
     "output_type": "stream",
     "text": [
      "C:\\Users\\sachur\\AppData\\Roaming\\Python\\Python311\\site-packages\\pynwb\\ecephys.py:90: UserWarning: ElectricalSeries 'lfp_car': The second dimension of data does not match the length of electrodes. Your data may be transposed.\n",
      "  warnings.warn(\"%s '%s': The second dimension of data does not match the length of electrodes. \"\n"
     ]
    },
    {
     "name": "stdout",
     "output_type": "stream",
     "text": [
      "Animal ID: 66539\n",
      "AttributeError for 66539, skipping subject update\n",
      "Processing S:/Sachuriga/nwb/test4neo/66539_2024-12-22_17-23-44_B_phy_k_manual.nwb\n"
     ]
    },
    {
     "name": "stderr",
     "output_type": "stream",
     "text": [
      "C:\\Users\\sachur\\AppData\\Roaming\\Python\\Python311\\site-packages\\pynwb\\ecephys.py:90: UserWarning: ElectricalSeries 'lfp_car': The second dimension of data does not match the length of electrodes. Your data may be transposed.\n",
      "  warnings.warn(\"%s '%s': The second dimension of data does not match the length of electrodes. \"\n"
     ]
    },
    {
     "name": "stdout",
     "output_type": "stream",
     "text": [
      "Animal ID: 66539\n",
      "AttributeError for 66539, skipping subject update\n",
      "Processing S:/Sachuriga/nwb/test4neo/66539_2024-12-22_17-49-05_C_phy_k_manual.nwb\n"
     ]
    },
    {
     "name": "stderr",
     "output_type": "stream",
     "text": [
      "C:\\Users\\sachur\\AppData\\Roaming\\Python\\Python311\\site-packages\\pynwb\\ecephys.py:90: UserWarning: ElectricalSeries 'lfp_car': The second dimension of data does not match the length of electrodes. Your data may be transposed.\n",
      "  warnings.warn(\"%s '%s': The second dimension of data does not match the length of electrodes. \"\n"
     ]
    },
    {
     "name": "stdout",
     "output_type": "stream",
     "text": [
      "Animal ID: 66539\n",
      "AttributeError for 66539, skipping subject update\n",
      "Summary table saved to Q:/sachuriga/Temporal/CR_CA1_paper/tables/animal_summary_table.xlsx\n",
      "  Animal ID Sex                    Genotype              Experimenter  \\\n",
      "0     66922   F  NDNF-flp +/- and Pde1c +/-  Ingvild Lynneberg Glærum   \n",
      "1     63383   M   NDNF-flp-/- and Pde1c -/-                 Sachuriga   \n",
      "2     63385   M  NDNF-flp +/- and Pde1c +/-                 Sachuriga   \n",
      "3     65091   F   NDNF-flp-/- and Pde1c -/-                 Sachuriga   \n",
      "4     65165   M   NDNF-flp-/- and Pde1c -/-                 Sachuriga   \n",
      "5     65588   F  NDNF-flp +/- and Pde1c +/-                 Sachuriga   \n",
      "6     65622   M   NDNF-flp-/- and Pde1c -/-  Ingvild Lynneberg Glærum   \n",
      "7     66537   F  NDNF-flp +/- and Pde1c +/-                 Sachuriga   \n",
      "8     66538   F  NDNF-flp +/- and Pde1c +/-                 Sachuriga   \n",
      "9     66539   M   NDNF-flp-/- and Pde1c -/-                 Sachuriga   \n",
      "\n",
      "   Sessions  Total Units  Good Units  Pyramidal Cells  \\\n",
      "0         1           42          29               24   \n",
      "1        25          636         382              256   \n",
      "2        26          604         345              220   \n",
      "3         7          173          91               64   \n",
      "4        13          596         108               79   \n",
      "5        18          728         344              281   \n",
      "6         1           35          20               13   \n",
      "7        30          518          69               51   \n",
      "8        30          590          67               25   \n",
      "9        36          799         182              125   \n",
      "\n",
      "   Narrow Spike Interneurons  Wide Spike Interneurons  Speed Cells  \\\n",
      "0                          4                        1            4   \n",
      "1                        108                       18           90   \n",
      "2                         92                       33           84   \n",
      "3                         20                        7           15   \n",
      "4                         29                        0           16   \n",
      "5                         32                       31           30   \n",
      "6                          7                        0            5   \n",
      "7                         13                        5           14   \n",
      "8                         33                        9           17   \n",
      "9                         49                        8           45   \n",
      "\n",
      "   Place Cells  \n",
      "0            2  \n",
      "1           79  \n",
      "2           81  \n",
      "3           24  \n",
      "4           31  \n",
      "5           73  \n",
      "6            7  \n",
      "7            8  \n",
      "8            0  \n",
      "9           17  \n",
      "Processing complete!\n"
     ]
    }
   ],
   "source": [
    "import pandas as pd\n",
    "from pynwb import NWBHDF5IO\n",
    "import os\n",
    "from pathlib import Path\n",
    "from pynwb.file import Subject\n",
    "\n",
    "# Output path for the summary table\n",
    "output_path = r'Q:/sachuriga/Temporal/CR_CA1_paper/tables/'\n",
    "\n",
    "# Set your base folder path\n",
    "base_folder = 'S:/Sachuriga/nwb/test4neo/'\n",
    "\n",
    "# Define animal groups\n",
    "target_prefixes_control = ['65165', '65091', '63383', '66539', '65622']\n",
    "target_prefixes_exp = ['65588', '63385', '66538', '66537', '66922']\n",
    "males = ['65165', '63383', '66539', '63385', '65622']\n",
    "females = ['65091', '65588', '66538', '66537', '66922']\n",
    "surgry_sachuriga = ['65165', '63383', '66539', '63385', '65091', '65588', '66538', '66537', '65283']\n",
    "surgry_ingvild = ['66922', '65622']\n",
    "\n",
    "# Initialize a dictionary to store summary data for each animal\n",
    "summary_data = {}\n",
    "\n",
    "# Get all NWB files in the directory\n",
    "all_files = os.listdir(base_folder)\n",
    "nwb_files = [f for f in all_files if f.endswith('.nwb')]\n",
    "print(f\"Found {len(nwb_files)} NWB files: {nwb_files}\")\n",
    "\n",
    "# Process each NWB file\n",
    "for nwb_file in nwb_files:\n",
    "    nwbpath = os.path.join(base_folder, nwb_file)\n",
    "    print(f\"Processing {nwbpath}\")\n",
    "\n",
    "    # Open and modify NWB file for metadata\n",
    "    with NWBHDF5IO(Path(nwbpath), \"a\") as io:\n",
    "        nwb = io.read()\n",
    "        animal_id = nwbpath.split('/')[-1][:5]\n",
    "        print(f\"Animal ID: {animal_id}\")\n",
    "\n",
    "        # Assign sex\n",
    "        sex = \"M\" if animal_id in males else \"F\" if animal_id in females else \"Unknown\"\n",
    "\n",
    "        # Initialize genotype and experimenter as None in case they aren't set\n",
    "        genotype = None\n",
    "        experimenter = None\n",
    "\n",
    "        # Create or update subject\n",
    "        try:\n",
    "            subject = Subject(\n",
    "                subject_id=animal_id,\n",
    "                age=\"P90D\",\n",
    "                description=\"mouse 5\",\n",
    "                species=\"Mus musculus\",\n",
    "                sex=sex)\n",
    "            nwb.subject = subject\n",
    "            \n",
    "            if animal_id in target_prefixes_control:\n",
    "                nwb.subject.genotype = \"NDNF-flp-/- and Pde1c -/-\"\n",
    "            elif animal_id in target_prefixes_exp:\n",
    "                nwb.subject.genotype = \"NDNF-flp +/- and Pde1c +/-\"\n",
    "\n",
    "            if animal_id in surgry_sachuriga:\n",
    "                nwb.experimenter = (\"Sachuriga\",)  # NWB expects a tuple for experimenter\n",
    "            elif animal_id in surgry_ingvild:\n",
    "                nwb.experimenter = (\"Ingvild Lynneberg Glærum\",)\n",
    "\n",
    "            # Capture genotype and experimenter after setting them\n",
    "            genotype = nwb.subject.genotype\n",
    "            experimenter = nwb.experimenter[0] if nwb.experimenter else \"Unknown\"\n",
    "\n",
    "        except AttributeError:\n",
    "            print(f\"AttributeError for {animal_id}, skipping subject update\")\n",
    "            genotype = nwb.subject.genotype\n",
    "            experimenter = nwb.experimenter[0] if nwb.experimenter else \"Unknown\"\n",
    "\n",
    "        io.write(nwb)\n",
    "\n",
    "    # Open the NWB file again to process units\n",
    "    with NWBHDF5IO(Path(nwbpath), \"a\") as io:\n",
    "        nwb = io.read()\n",
    "        unit_table = nwb.units.to_dataframe()\n",
    "\n",
    "        # Initialize counters if animal_id not in summary_data\n",
    "        if animal_id not in summary_data:\n",
    "            summary_data[animal_id] = {\n",
    "                \"Animal ID\": animal_id,\n",
    "                \"Sex\": sex,\n",
    "                \"Genotype\": genotype,  # Add genotype to summary\n",
    "                \"Experimenter\": experimenter,  # Add experimenter to summary\n",
    "                \"Sessions\": 0,\n",
    "                \"Total Units\": 0,  # New field for total units\n",
    "                \"Good Units\": 0,\n",
    "                \"Pyramidal Cells\": 0,\n",
    "                \"Narrow Spike Interneurons\": 0,\n",
    "                \"Wide Spike Interneurons\": 0,\n",
    "                \"Speed Cells\": 0,\n",
    "                \"Place Cells\": 0\n",
    "            }\n",
    "\n",
    "        # Increment session count\n",
    "        summary_data[animal_id][\"Sessions\"] += 1\n",
    "\n",
    "        # Count total units\n",
    "        total_units = len(unit_table.index)\n",
    "        summary_data[animal_id][\"Total Units\"] += total_units  # Add total units to summary\n",
    "\n",
    "        # Lists to store unit classifications\n",
    "        unit_quality = []\n",
    "        cell_type = []\n",
    "        functional_cell_type = []\n",
    "\n",
    "        # Classify each unit\n",
    "        for i in range(len(unit_table.index)):\n",
    "            # Count every unit regardless of quality (already handled above with total_units)\n",
    "            \n",
    "            # Identify good units\n",
    "            if (unit_table['isi_violations_ratio'][i] <= 0.2 and \n",
    "                unit_table['l_ratio'][i] <= 0.05 and \n",
    "                unit_table['amplitude_median'][i] <= -40):\n",
    "                unit_quality.append(\"good\")\n",
    "                summary_data[animal_id][\"Good Units\"] += 1\n",
    "\n",
    "                # Classify cell type\n",
    "                if unit_table['peak_to_valley'][i] <= 0.000425:\n",
    "                    cell_type.append(\"Narrow spike interneuron\")\n",
    "                    summary_data[animal_id][\"Narrow Spike Interneurons\"] += 1\n",
    "                    if unit_table['matlab_speedScores'][i] >= 0.3:\n",
    "                        functional_cell_type.append(\"Speed cell\")\n",
    "                        summary_data[animal_id][\"Speed Cells\"] += 1\n",
    "                    else:\n",
    "                        functional_cell_type.append(\"None\")\n",
    "                elif unit_table['peak_to_valley'][i] > 0.000425 and unit_table['matlab_acg_tau_rise'][i] >= 6:\n",
    "                    cell_type.append(\"Wide Spike Interneurons\")\n",
    "                    summary_data[animal_id][\"Wide Spike Interneurons\"] += 1\n",
    "                    if unit_table['matlab_speedScores'][i] >= 0.3:\n",
    "                        functional_cell_type.append(\"Speed cell\")\n",
    "                        summary_data[animal_id][\"Speed Cells\"] += 1\n",
    "                    else:\n",
    "                        functional_cell_type.append(\"None\")\n",
    "                elif unit_table['peak_to_valley'][i] > 0.000425 and unit_table['matlab_acg_tau_rise'][i] < 6:\n",
    "                    cell_type.append(\"Pyramidal cells\")\n",
    "                    summary_data[animal_id][\"Pyramidal Cells\"] += 1\n",
    "                    if (unit_table['matlab_reject_h0'][i] == 1 and \n",
    "                        unit_table['matlab_test_stat_si'][i] >= 1.72 and \n",
    "                        unit_table['matlab_maxfsize'][i] > 20):\n",
    "                        functional_cell_type.append(\"Place cell\")\n",
    "                        summary_data[animal_id][\"Place Cells\"] += 1\n",
    "                    else:\n",
    "                        functional_cell_type.append(\"None\")\n",
    "                else:\n",
    "                    cell_type.append(\"None\")\n",
    "                    functional_cell_type.append(\"None\")\n",
    "            else:\n",
    "                unit_quality.append(\"bad\")\n",
    "                cell_type.append(\"None\")\n",
    "                functional_cell_type.append(\"None\")\n",
    "\n",
    "        # Add columns to the NWB file\n",
    "        if \"unit_quality\" not in nwb.units.colnames:\n",
    "            nwb.units.add_column(name=\"unit_quality\", description=\"values of unit_quality\", data=unit_quality)\n",
    "        if \"Cell Type\" not in nwb.units.colnames:\n",
    "            nwb.units.add_column(name=\"Cell Type\", description=\"values of cell_type\", data=cell_type)\n",
    "        if \"Functional Cell Type\" not in nwb.units.colnames:\n",
    "            nwb.units.add_column(name=\"Functional Cell Type\", description=\"values of functional_cell_type\", data=functional_cell_type)\n",
    "\n",
    "        io.write(nwb)\n",
    "\n",
    "# Create a DataFrame from the summary data\n",
    "summary_df = pd.DataFrame(list(summary_data.values()))\n",
    "\n",
    "# Reorder columns to match the desired output, including Total Units, Genotype, and Experimenter\n",
    "summary_df = summary_df[[\n",
    "    \"Animal ID\", \"Sex\", \"Genotype\", \"Experimenter\", \"Sessions\", \"Total Units\", \"Good Units\", \n",
    "    \"Pyramidal Cells\", \"Narrow Spike Interneurons\", \"Wide Spike Interneurons\", \n",
    "    \"Speed Cells\", \"Place Cells\"\n",
    "]]\n",
    "\n",
    "# Save the summary table to an Excel file\n",
    "output_file = os.path.join(output_path, \"animal_summary_table.xlsx\")\n",
    "summary_df.to_excel(output_file, index=False)\n",
    "print(f\"Summary table saved to {output_file}\")\n",
    "\n",
    "# Print the summary table\n",
    "print(summary_df)\n",
    "\n",
    "print(\"Processing complete!\")"
   ]
  },
  {
   "cell_type": "code",
   "execution_count": null,
   "metadata": {},
   "outputs": [
    {
     "name": "stderr",
     "output_type": "stream",
     "text": [
      "c:\\Users\\sachur\\AppData\\Local\\anaconda3\\envs\\test1\\Lib\\site-packages\\seaborn\\axisgrid.py:1832: FutureWarning: \n",
      "\n",
      "`shade` is now deprecated in favor of `fill`; setting `fill=True`.\n",
      "This will become an error in seaborn v0.14.0; please update your code.\n",
      "\n",
      "  func(x=self.x, y=self.y, **kwargs)\n"
     ]
    },
    {
     "data": {
      "text/plain": [
       "<Figure size 640x480 with 0 Axes>"
      ]
     },
     "metadata": {},
     "output_type": "display_data"
    },
    {
     "data": {
      "image/png": "[encoded data removed]",
      "text/plain": [
       "<Figure size 600x600 with 3 Axes>"
      ]
     },
     "metadata": {},
     "output_type": "display_data"
    }
   ],
   "source": [
    "import numpy as np\n",
    "import seaborn as sns\n",
    "import matplotlib.pyplot as plt\n",
    "\n",
    "# Example data - replace with your actual data\n",
    "data = np.random.normal(0, 1, (1000, 2))  # Example data with two features\n",
    "\n",
    "# Clear previous figure\n",
    "plt.clf()\n",
    "\n",
    "# Create jointplot with KDE using a blue color scheme\n",
    "g = sns.jointplot(x=data[:, 0], y=data[:, 1], kind='kde', \n",
    "                 cmap='Blues', shade=True, levels=6, \n",
    "                 color='blue', fill=True)\n",
    "\n",
    "# Add cumulative contours (optional, to approximate CDF-like behavior)\n",
    "g.plot_joint(sns.kdeplot, cumulative=True, levels=5, colors='blue', alpha=0.5,linewidths=0)\n",
    "\n",
    "# Customize marginal plots (to match the example)\n",
    "g.ax_marg_x.hist(data[:, 0], bins=30, color='blue', alpha=0.5)\n",
    "g.ax_marg_y.hist(data[:, 1], bins=30, color='blue', alpha=0.5, orientation='horizontal')\n",
    "\n",
    "# Add Pearson correlation (example values, replace with your data's correlation)\n",
    "pearson_corr = np.corrcoef(data[:, 0], data[:, 1])[0, 1]\n",
    "p_value = 0.15  # Replace with your actual p-value\n",
    "g.ax_joint.text(0.05, 0.95, f'pearsonr = {pearson_corr:.2f}, p = {p_value:.2f}', \n",
    "                transform=g.ax_joint.transAxes, \n",
    "                bbox=dict(facecolor='white', alpha=0.8))\n",
    "\n",
    "# Customize the plot\n",
    "g.fig.suptitle('Density of Features', y=1.02)\n",
    "g.fig.tight_layout()\n",
    "\n",
    "# Save the figure\n",
    "\n",
    "# Show the plot\n",
    "plt.show()"
   ]
  },
  {
   "cell_type": "code",
   "execution_count": null,
   "metadata": {},
   "outputs": [
    {
     "name": "stderr",
     "output_type": "stream",
     "text": [
      "c:\\Users\\sachur\\AppData\\Local\\anaconda3\\envs\\test1\\Lib\\site-packages\\seaborn\\axisgrid.py:1832: FutureWarning: \n",
      "\n",
      "`shade` is now deprecated in favor of `fill`; setting `fill=True`.\n",
      "This will become an error in seaborn v0.14.0; please update your code.\n",
      "\n",
      "  func(x=self.x, y=self.y, **kwargs)\n",
      "c:\\Users\\sachur\\AppData\\Local\\anaconda3\\envs\\test1\\Lib\\site-packages\\seaborn\\distributions.py:1176: UserWarning: The following kwargs were not used by contour: 'contour'\n",
      "  cset = contour_func(\n"
     ]
    },
    {
     "data": {
      "text/plain": [
       "<Figure size 640x480 with 0 Axes>"
      ]
     },
     "metadata": {},
     "output_type": "display_data"
    },
    {
     "data": {
      "image/png": "[encoded data removed]",
      "text/plain": [
       "<Figure size 600x600 with 3 Axes>"
      ]
     },
     "metadata": {},
     "output_type": "display_data"
    }
   ],
   "source": [
    "import numpy as np\n",
    "import seaborn as sns\n",
    "import matplotlib.pyplot as plt\n",
    "\n",
    "# Example data - replace with your actual data\n",
    "data = np.random.normal(0, 1, (1000, 2))\n",
    "\n",
    "# Clear previous figure\n",
    "plt.clf()\n",
    "\n",
    "# Create jointplot with KDE, removing contour lines\n",
    "g = sns.jointplot(x=data[:, 0], y=data[:, 1], kind='kde', \n",
    "                 cmap='light:b', shade=True, fill=True, \n",
    "                 joint_kws={'contour': False})\n",
    "\n",
    "# Add Pearson correlation (example values)\n",
    "pearson_corr = np.corrcoef(data[:, 0], data[:, 1])[0, 1]\n",
    "p_value = 0.15\n",
    "g.ax_joint.text(0.05, 0.95, f'pearsonr = {pearson_corr:.2f}, p = {p_value:.2f}', \n",
    "                transform=g.ax_joint.transAxes, \n",
    "                bbox=dict(facecolor='white', alpha=0.8))\n",
    "\n",
    "# Customize the plot\n",
    "g.fig.suptitle('Density of Features', y=1.02)\n",
    "g.fig.tight_layout()\n",
    "\n",
    "# Save the figure\n",
    "#g.savefig('graphs/density.svg')\n",
    "\n",
    "# Show the plot\n",
    "plt.show()"
   ]
  },
  {
   "cell_type": "code",
   "execution_count": 8,
   "metadata": {},
   "outputs": [
    {
     "name": "stderr",
     "output_type": "stream",
     "text": [
      "c:\\Users\\sachur\\AppData\\Local\\anaconda3\\envs\\test1\\Lib\\site-packages\\seaborn\\distributions.py:1176: UserWarning: linewidths is ignored by contourf\n",
      "  cset = contour_func(\n"
     ]
    },
    {
     "ename": "FileNotFoundError",
     "evalue": "[Errno 2] No such file or directory: 'graphs/density.svg'",
     "output_type": "error",
     "traceback": [
      "\u001b[1;31m---------------------------------------------------------------------------\u001b[0m",
      "\u001b[1;31mFileNotFoundError\u001b[0m                         Traceback (most recent call last)",
      "Cell \u001b[1;32mIn[8], line 39\u001b[0m\n\u001b[0;32m     36\u001b[0m plt\u001b[38;5;241m.\u001b[39mtight_layout()\n\u001b[0;32m     38\u001b[0m \u001b[38;5;66;03m# Save\u001b[39;00m\n\u001b[1;32m---> 39\u001b[0m \u001b[43mplt\u001b[49m\u001b[38;5;241;43m.\u001b[39;49m\u001b[43msavefig\u001b[49m\u001b[43m(\u001b[49m\u001b[38;5;124;43m'\u001b[39;49m\u001b[38;5;124;43mgraphs/density.svg\u001b[39;49m\u001b[38;5;124;43m'\u001b[39;49m\u001b[43m)\u001b[49m\n\u001b[0;32m     40\u001b[0m plt\u001b[38;5;241m.\u001b[39mshow()\n",
      "File \u001b[1;32mc:\\Users\\sachur\\AppData\\Local\\anaconda3\\envs\\test1\\Lib\\site-packages\\matplotlib\\pyplot.py:1134\u001b[0m, in \u001b[0;36msavefig\u001b[1;34m(*args, **kwargs)\u001b[0m\n\u001b[0;32m   1131\u001b[0m fig \u001b[38;5;241m=\u001b[39m gcf()\n\u001b[0;32m   1132\u001b[0m \u001b[38;5;66;03m# savefig default implementation has no return, so mypy is unhappy\u001b[39;00m\n\u001b[0;32m   1133\u001b[0m \u001b[38;5;66;03m# presumably this is here because subclasses can return?\u001b[39;00m\n\u001b[1;32m-> 1134\u001b[0m res \u001b[38;5;241m=\u001b[39m \u001b[43mfig\u001b[49m\u001b[38;5;241;43m.\u001b[39;49m\u001b[43msavefig\u001b[49m\u001b[43m(\u001b[49m\u001b[38;5;241;43m*\u001b[39;49m\u001b[43margs\u001b[49m\u001b[43m,\u001b[49m\u001b[43m \u001b[49m\u001b[38;5;241;43m*\u001b[39;49m\u001b[38;5;241;43m*\u001b[39;49m\u001b[43mkwargs\u001b[49m\u001b[43m)\u001b[49m  \u001b[38;5;66;03m# type: ignore[func-returns-value]\u001b[39;00m\n\u001b[0;32m   1135\u001b[0m fig\u001b[38;5;241m.\u001b[39mcanvas\u001b[38;5;241m.\u001b[39mdraw_idle()  \u001b[38;5;66;03m# Need this if 'transparent=True', to reset colors.\u001b[39;00m\n\u001b[0;32m   1136\u001b[0m \u001b[38;5;28;01mreturn\u001b[39;00m res\n",
      "File \u001b[1;32mc:\\Users\\sachur\\AppData\\Local\\anaconda3\\envs\\test1\\Lib\\site-packages\\matplotlib\\figure.py:3390\u001b[0m, in \u001b[0;36mFigure.savefig\u001b[1;34m(self, fname, transparent, **kwargs)\u001b[0m\n\u001b[0;32m   3388\u001b[0m     \u001b[38;5;28;01mfor\u001b[39;00m ax \u001b[38;5;129;01min\u001b[39;00m \u001b[38;5;28mself\u001b[39m\u001b[38;5;241m.\u001b[39maxes:\n\u001b[0;32m   3389\u001b[0m         _recursively_make_axes_transparent(stack, ax)\n\u001b[1;32m-> 3390\u001b[0m \u001b[38;5;28;43mself\u001b[39;49m\u001b[38;5;241;43m.\u001b[39;49m\u001b[43mcanvas\u001b[49m\u001b[38;5;241;43m.\u001b[39;49m\u001b[43mprint_figure\u001b[49m\u001b[43m(\u001b[49m\u001b[43mfname\u001b[49m\u001b[43m,\u001b[49m\u001b[43m \u001b[49m\u001b[38;5;241;43m*\u001b[39;49m\u001b[38;5;241;43m*\u001b[39;49m\u001b[43mkwargs\u001b[49m\u001b[43m)\u001b[49m\n",
      "File \u001b[1;32mc:\\Users\\sachur\\AppData\\Local\\anaconda3\\envs\\test1\\Lib\\site-packages\\matplotlib\\backend_bases.py:2193\u001b[0m, in \u001b[0;36mFigureCanvasBase.print_figure\u001b[1;34m(self, filename, dpi, facecolor, edgecolor, orientation, format, bbox_inches, pad_inches, bbox_extra_artists, backend, **kwargs)\u001b[0m\n\u001b[0;32m   2189\u001b[0m \u001b[38;5;28;01mtry\u001b[39;00m:\n\u001b[0;32m   2190\u001b[0m     \u001b[38;5;66;03m# _get_renderer may change the figure dpi (as vector formats\u001b[39;00m\n\u001b[0;32m   2191\u001b[0m     \u001b[38;5;66;03m# force the figure dpi to 72), so we need to set it again here.\u001b[39;00m\n\u001b[0;32m   2192\u001b[0m     \u001b[38;5;28;01mwith\u001b[39;00m cbook\u001b[38;5;241m.\u001b[39m_setattr_cm(\u001b[38;5;28mself\u001b[39m\u001b[38;5;241m.\u001b[39mfigure, dpi\u001b[38;5;241m=\u001b[39mdpi):\n\u001b[1;32m-> 2193\u001b[0m         result \u001b[38;5;241m=\u001b[39m \u001b[43mprint_method\u001b[49m\u001b[43m(\u001b[49m\n\u001b[0;32m   2194\u001b[0m \u001b[43m            \u001b[49m\u001b[43mfilename\u001b[49m\u001b[43m,\u001b[49m\n\u001b[0;32m   2195\u001b[0m \u001b[43m            \u001b[49m\u001b[43mfacecolor\u001b[49m\u001b[38;5;241;43m=\u001b[39;49m\u001b[43mfacecolor\u001b[49m\u001b[43m,\u001b[49m\n\u001b[0;32m   2196\u001b[0m \u001b[43m            \u001b[49m\u001b[43medgecolor\u001b[49m\u001b[38;5;241;43m=\u001b[39;49m\u001b[43medgecolor\u001b[49m\u001b[43m,\u001b[49m\n\u001b[0;32m   2197\u001b[0m \u001b[43m            \u001b[49m\u001b[43morientation\u001b[49m\u001b[38;5;241;43m=\u001b[39;49m\u001b[43morientation\u001b[49m\u001b[43m,\u001b[49m\n\u001b[0;32m   2198\u001b[0m \u001b[43m            \u001b[49m\u001b[43mbbox_inches_restore\u001b[49m\u001b[38;5;241;43m=\u001b[39;49m\u001b[43m_bbox_inches_restore\u001b[49m\u001b[43m,\u001b[49m\n\u001b[0;32m   2199\u001b[0m \u001b[43m            \u001b[49m\u001b[38;5;241;43m*\u001b[39;49m\u001b[38;5;241;43m*\u001b[39;49m\u001b[43mkwargs\u001b[49m\u001b[43m)\u001b[49m\n\u001b[0;32m   2200\u001b[0m \u001b[38;5;28;01mfinally\u001b[39;00m:\n\u001b[0;32m   2201\u001b[0m     \u001b[38;5;28;01mif\u001b[39;00m bbox_inches \u001b[38;5;129;01mand\u001b[39;00m restore_bbox:\n",
      "File \u001b[1;32mc:\\Users\\sachur\\AppData\\Local\\anaconda3\\envs\\test1\\Lib\\site-packages\\matplotlib\\backend_bases.py:2043\u001b[0m, in \u001b[0;36mFigureCanvasBase._switch_canvas_and_return_print_method.<locals>.<lambda>\u001b[1;34m(*args, **kwargs)\u001b[0m\n\u001b[0;32m   2039\u001b[0m     optional_kws \u001b[38;5;241m=\u001b[39m {  \u001b[38;5;66;03m# Passed by print_figure for other renderers.\u001b[39;00m\n\u001b[0;32m   2040\u001b[0m         \u001b[38;5;124m\"\u001b[39m\u001b[38;5;124mdpi\u001b[39m\u001b[38;5;124m\"\u001b[39m, \u001b[38;5;124m\"\u001b[39m\u001b[38;5;124mfacecolor\u001b[39m\u001b[38;5;124m\"\u001b[39m, \u001b[38;5;124m\"\u001b[39m\u001b[38;5;124medgecolor\u001b[39m\u001b[38;5;124m\"\u001b[39m, \u001b[38;5;124m\"\u001b[39m\u001b[38;5;124morientation\u001b[39m\u001b[38;5;124m\"\u001b[39m,\n\u001b[0;32m   2041\u001b[0m         \u001b[38;5;124m\"\u001b[39m\u001b[38;5;124mbbox_inches_restore\u001b[39m\u001b[38;5;124m\"\u001b[39m}\n\u001b[0;32m   2042\u001b[0m     skip \u001b[38;5;241m=\u001b[39m optional_kws \u001b[38;5;241m-\u001b[39m {\u001b[38;5;241m*\u001b[39minspect\u001b[38;5;241m.\u001b[39msignature(meth)\u001b[38;5;241m.\u001b[39mparameters}\n\u001b[1;32m-> 2043\u001b[0m     print_method \u001b[38;5;241m=\u001b[39m functools\u001b[38;5;241m.\u001b[39mwraps(meth)(\u001b[38;5;28;01mlambda\u001b[39;00m \u001b[38;5;241m*\u001b[39margs, \u001b[38;5;241m*\u001b[39m\u001b[38;5;241m*\u001b[39mkwargs: \u001b[43mmeth\u001b[49m\u001b[43m(\u001b[49m\n\u001b[0;32m   2044\u001b[0m \u001b[43m        \u001b[49m\u001b[38;5;241;43m*\u001b[39;49m\u001b[43margs\u001b[49m\u001b[43m,\u001b[49m\u001b[43m \u001b[49m\u001b[38;5;241;43m*\u001b[39;49m\u001b[38;5;241;43m*\u001b[39;49m\u001b[43m{\u001b[49m\u001b[43mk\u001b[49m\u001b[43m:\u001b[49m\u001b[43m \u001b[49m\u001b[43mv\u001b[49m\u001b[43m \u001b[49m\u001b[38;5;28;43;01mfor\u001b[39;49;00m\u001b[43m \u001b[49m\u001b[43mk\u001b[49m\u001b[43m,\u001b[49m\u001b[43m \u001b[49m\u001b[43mv\u001b[49m\u001b[43m \u001b[49m\u001b[38;5;129;43;01min\u001b[39;49;00m\u001b[43m \u001b[49m\u001b[43mkwargs\u001b[49m\u001b[38;5;241;43m.\u001b[39;49m\u001b[43mitems\u001b[49m\u001b[43m(\u001b[49m\u001b[43m)\u001b[49m\u001b[43m \u001b[49m\u001b[38;5;28;43;01mif\u001b[39;49;00m\u001b[43m \u001b[49m\u001b[43mk\u001b[49m\u001b[43m \u001b[49m\u001b[38;5;129;43;01mnot\u001b[39;49;00m\u001b[43m \u001b[49m\u001b[38;5;129;43;01min\u001b[39;49;00m\u001b[43m \u001b[49m\u001b[43mskip\u001b[49m\u001b[43m}\u001b[49m\u001b[43m)\u001b[49m)\n\u001b[0;32m   2045\u001b[0m \u001b[38;5;28;01melse\u001b[39;00m:  \u001b[38;5;66;03m# Let third-parties do as they see fit.\u001b[39;00m\n\u001b[0;32m   2046\u001b[0m     print_method \u001b[38;5;241m=\u001b[39m meth\n",
      "File \u001b[1;32mc:\\Users\\sachur\\AppData\\Local\\anaconda3\\envs\\test1\\Lib\\site-packages\\matplotlib\\backends\\backend_svg.py:1328\u001b[0m, in \u001b[0;36mFigureCanvasSVG.print_svg\u001b[1;34m(self, filename, bbox_inches_restore, metadata)\u001b[0m\n\u001b[0;32m   1296\u001b[0m \u001b[38;5;28;01mdef\u001b[39;00m \u001b[38;5;21mprint_svg\u001b[39m(\u001b[38;5;28mself\u001b[39m, filename, \u001b[38;5;241m*\u001b[39m, bbox_inches_restore\u001b[38;5;241m=\u001b[39m\u001b[38;5;28;01mNone\u001b[39;00m, metadata\u001b[38;5;241m=\u001b[39m\u001b[38;5;28;01mNone\u001b[39;00m):\n\u001b[0;32m   1297\u001b[0m \u001b[38;5;250m    \u001b[39m\u001b[38;5;124;03m\"\"\"\u001b[39;00m\n\u001b[0;32m   1298\u001b[0m \u001b[38;5;124;03m    Parameters\u001b[39;00m\n\u001b[0;32m   1299\u001b[0m \u001b[38;5;124;03m    ----------\u001b[39;00m\n\u001b[1;32m   (...)\u001b[0m\n\u001b[0;32m   1326\u001b[0m \u001b[38;5;124;03m        __ DC_\u001b[39;00m\n\u001b[0;32m   1327\u001b[0m \u001b[38;5;124;03m    \"\"\"\u001b[39;00m\n\u001b[1;32m-> 1328\u001b[0m     \u001b[38;5;28;01mwith\u001b[39;00m \u001b[43mcbook\u001b[49m\u001b[38;5;241;43m.\u001b[39;49m\u001b[43mopen_file_cm\u001b[49m\u001b[43m(\u001b[49m\u001b[43mfilename\u001b[49m\u001b[43m,\u001b[49m\u001b[43m \u001b[49m\u001b[38;5;124;43m\"\u001b[39;49m\u001b[38;5;124;43mw\u001b[39;49m\u001b[38;5;124;43m\"\u001b[39;49m\u001b[43m,\u001b[49m\u001b[43m \u001b[49m\u001b[43mencoding\u001b[49m\u001b[38;5;241;43m=\u001b[39;49m\u001b[38;5;124;43m\"\u001b[39;49m\u001b[38;5;124;43mutf-8\u001b[39;49m\u001b[38;5;124;43m\"\u001b[39;49m\u001b[43m)\u001b[49m \u001b[38;5;28;01mas\u001b[39;00m fh:\n\u001b[0;32m   1329\u001b[0m         \u001b[38;5;28;01mif\u001b[39;00m \u001b[38;5;129;01mnot\u001b[39;00m cbook\u001b[38;5;241m.\u001b[39mfile_requires_unicode(fh):\n\u001b[0;32m   1330\u001b[0m             fh \u001b[38;5;241m=\u001b[39m codecs\u001b[38;5;241m.\u001b[39mgetwriter(\u001b[38;5;124m'\u001b[39m\u001b[38;5;124mutf-8\u001b[39m\u001b[38;5;124m'\u001b[39m)(fh)\n",
      "File \u001b[1;32mc:\\Users\\sachur\\AppData\\Local\\anaconda3\\envs\\test1\\Lib\\site-packages\\matplotlib\\cbook.py:497\u001b[0m, in \u001b[0;36mopen_file_cm\u001b[1;34m(path_or_file, mode, encoding)\u001b[0m\n\u001b[0;32m    495\u001b[0m \u001b[38;5;28;01mdef\u001b[39;00m \u001b[38;5;21mopen_file_cm\u001b[39m(path_or_file, mode\u001b[38;5;241m=\u001b[39m\u001b[38;5;124m\"\u001b[39m\u001b[38;5;124mr\u001b[39m\u001b[38;5;124m\"\u001b[39m, encoding\u001b[38;5;241m=\u001b[39m\u001b[38;5;28;01mNone\u001b[39;00m):\n\u001b[0;32m    496\u001b[0m \u001b[38;5;250m    \u001b[39m\u001b[38;5;124mr\u001b[39m\u001b[38;5;124;03m\"\"\"Pass through file objects and context-manage path-likes.\"\"\"\u001b[39;00m\n\u001b[1;32m--> 497\u001b[0m     fh, opened \u001b[38;5;241m=\u001b[39m \u001b[43mto_filehandle\u001b[49m\u001b[43m(\u001b[49m\u001b[43mpath_or_file\u001b[49m\u001b[43m,\u001b[49m\u001b[43m \u001b[49m\u001b[43mmode\u001b[49m\u001b[43m,\u001b[49m\u001b[43m \u001b[49m\u001b[38;5;28;43;01mTrue\u001b[39;49;00m\u001b[43m,\u001b[49m\u001b[43m \u001b[49m\u001b[43mencoding\u001b[49m\u001b[43m)\u001b[49m\n\u001b[0;32m    498\u001b[0m     \u001b[38;5;28;01mreturn\u001b[39;00m fh \u001b[38;5;28;01mif\u001b[39;00m opened \u001b[38;5;28;01melse\u001b[39;00m contextlib\u001b[38;5;241m.\u001b[39mnullcontext(fh)\n",
      "File \u001b[1;32mc:\\Users\\sachur\\AppData\\Local\\anaconda3\\envs\\test1\\Lib\\site-packages\\matplotlib\\cbook.py:483\u001b[0m, in \u001b[0;36mto_filehandle\u001b[1;34m(fname, flag, return_opened, encoding)\u001b[0m\n\u001b[0;32m    481\u001b[0m         fh \u001b[38;5;241m=\u001b[39m bz2\u001b[38;5;241m.\u001b[39mBZ2File(fname, flag)\n\u001b[0;32m    482\u001b[0m     \u001b[38;5;28;01melse\u001b[39;00m:\n\u001b[1;32m--> 483\u001b[0m         fh \u001b[38;5;241m=\u001b[39m \u001b[38;5;28;43mopen\u001b[39;49m\u001b[43m(\u001b[49m\u001b[43mfname\u001b[49m\u001b[43m,\u001b[49m\u001b[43m \u001b[49m\u001b[43mflag\u001b[49m\u001b[43m,\u001b[49m\u001b[43m \u001b[49m\u001b[43mencoding\u001b[49m\u001b[38;5;241;43m=\u001b[39;49m\u001b[43mencoding\u001b[49m\u001b[43m)\u001b[49m\n\u001b[0;32m    484\u001b[0m     opened \u001b[38;5;241m=\u001b[39m \u001b[38;5;28;01mTrue\u001b[39;00m\n\u001b[0;32m    485\u001b[0m \u001b[38;5;28;01melif\u001b[39;00m \u001b[38;5;28mhasattr\u001b[39m(fname, \u001b[38;5;124m'\u001b[39m\u001b[38;5;124mseek\u001b[39m\u001b[38;5;124m'\u001b[39m):\n",
      "\u001b[1;31mFileNotFoundError\u001b[0m: [Errno 2] No such file or directory: 'graphs/density.svg'"
     ]
    },
    {
     "data": {
      "text/plain": [
       "<Figure size 640x480 with 0 Axes>"
      ]
     },
     "metadata": {},
     "output_type": "display_data"
    },
    {
     "data": {
      "image/png": "[encoded data removed]",
      "text/plain": [
       "<Figure size 800x600 with 2 Axes>"
      ]
     },
     "metadata": {},
     "output_type": "display_data"
    }
   ],
   "source": [
    "import numpy as np\n",
    "import seaborn as sns\n",
    "import matplotlib.pyplot as plt\n",
    "\n",
    "# Example data - replace with your actual data\n",
    "data = np.random.normal(0, 1, (1000, 2))\n",
    "\n",
    "# Clear previous figure\n",
    "plt.clf()\n",
    "\n",
    "# Calculate 2D histogram and CDF\n",
    "H, xedges, yedges = np.histogram2d(data[:, 0], data[:, 1], bins=50)\n",
    "Hcdf = np.cumsum(np.cumsum(H, axis=0), axis=1)\n",
    "Hcdf = Hcdf / Hcdf.max()  # Normalize to [0,1]\n",
    "\n",
    "# Create figure\n",
    "plt.figure(figsize=(8, 6))\n",
    "plt.imshow(Hcdf.T, origin='lower', cmap='Blues', \n",
    "          extent=[xedges[0], xedges[-1], yedges[0], yedges[-1]])\n",
    "\n",
    "# Optionally add KDE contours (without lines if you prefer)\n",
    "sns.kdeplot(x=data[:, 0], y=data[:, 1], cumulative=True, \n",
    "           levels=5, cmap='Blues', fill=True, alpha=0.5, \n",
    "           linewidths=0)  # Set linewidths=0 to remove contour lines\n",
    "\n",
    "# Add Pearson correlation (example values)\n",
    "pearson_corr = np.corrcoef(data[:, 0], data[:, 1])[0, 1]\n",
    "p_value = 0.15\n",
    "plt.text(0.05, 0.95, f'pearsonr = {pearson_corr:.2f}, p = {p_value:.2f}', \n",
    "         transform=plt.gca().transAxes, \n",
    "         bbox=dict(facecolor='white', alpha=0.8))\n",
    "\n",
    "# Customize\n",
    "plt.colorbar(label='Cumulative Probability')\n",
    "plt.suptitle('Density of Features', y=1.02)\n",
    "plt.tight_layout()\n",
    "\n",
    "# Save\n",
    "plt.savefig('graphs/density.svg')\n",
    "plt.show()"
   ]
  },
  {
   "cell_type": "code",
   "execution_count": 21,
   "metadata": {},
   "outputs": [
    {
     "ename": "ValueError",
     "evalue": "could not convert string to float: '[[0.30591097 0.26541538 0.20700405 0.15712502 0.12860687 0.11909615\\n  0.1209111  0.12930043 0.14292356 0.16009152 0.17703194 0.19017875\\n  0.19951564 0.20916477 0.22438752 0.24711082 0.2732895  0.29497593\\n  0.30671721 0.310172  ]\\n [0.28266132 0.24692161 0.19527387 0.15123673 0.12656245 0.11940168\\n  0.12274338 0.13188092 0.14520315 0.16123099 0.17721286 0.19078306\\n  0.20217767 0.21428522 0.23033103 0.25081357 0.27188426 0.28731852\\n  0.29381268 0.29442235]\\n [0.24146368 0.2137647  0.17370716 0.13994171 0.122305   0.11963442\\n  0.12596239 0.13668092 0.14979354 0.16419147 0.17873695 0.19288625\\n  0.20718356 0.22267438 0.23982297 0.25745636 0.27225615 0.28030163\\n  0.28084927 0.27836162]\\n [0.19126973 0.17277507 0.14622439 0.12479642 0.1159281  0.11894617\\n  0.12896404 0.14163207 0.154769   0.16778394 0.18114012 0.1959273\\n  0.21283331 0.23126933 0.24964809 0.26593449 0.27758488 0.28234453\\n  0.28078565 0.27750887]\\n [0.14221555 0.13218295 0.11824498 0.1085597  0.10805974 0.11621359\\n  0.12913804 0.14310892 0.15628199 0.16871781 0.1819432  0.19787661\\n  0.21710298 0.23811153 0.25843714 0.27593145 0.288681   0.29515625\\n  0.29589864 0.29439855]\\n [0.10298387 0.09943308 0.09522671 0.09455677 0.1001203  0.11130922\\n  0.12523174 0.13924175 0.15238556 0.16539193 0.18009386 0.19832068\\n  0.22039703 0.24457421 0.26812729 0.28869052 0.30449209 0.31438776\\n  0.31870922 0.31967797]\\n [0.07829494 0.07882668 0.08073495 0.08553945 0.09427683 0.10626324\\n  0.11958058 0.13284105 0.14615091 0.16074882 0.17823723 0.19985911\\n  0.22569979 0.25408639 0.28187027 0.3057091  0.32346198 0.33471485\\n  0.34048299 0.34259271]\\n [0.06754212 0.07008797 0.07498126 0.08228834 0.09210077 0.10380377\\n  0.1162956  0.12913894 0.14312492 0.15972057 0.18022277 0.20538663\\n  0.23521111 0.26808369 0.30003851 0.3261714  0.3437415  0.35348355\\n  0.35795996 0.35953157]\\n [0.06585497 0.06910805 0.07498645 0.08295454 0.09280769 0.10423148\\n  0.11674003 0.1302878  0.14567951 0.16424627 0.18713654 0.21500427\\n  0.24793231 0.28429368 0.3193196  0.34677027 0.36347579 0.37124287\\n  0.37404223 0.37481144]\\n [0.06715688 0.07059238 0.07656139 0.08426554 0.09362217 0.10489325\\n  0.11818937 0.13353265 0.15124003 0.17210665 0.19709152 0.22694744\\n  0.2619187  0.30038591 0.33725676 0.36586083 0.38306    0.39118493\\n  0.39453477 0.39578964]\\n [0.06733393 0.07093572 0.07685703 0.08400239 0.09251877 0.10340304\\n  0.11752266 0.13512711 0.15607757 0.18041473 0.20859165 0.24125807\\n  0.2786824  0.31920042 0.35777932 0.38813275 0.40763125 0.41867565\\n  0.42490124 0.42795842]\\n [0.06589012 0.06974593 0.07577519 0.08252501 0.0902379  0.10050563\\n  0.1150227  0.1346738  0.15937768 0.18863157 0.22218808 0.26023305\\n  0.30267987 0.34741779 0.38921137 0.42223932 0.44464916 0.459041\\n  0.46836588 0.47328449]\\n [0.06572677 0.06963786 0.0756496  0.08215981 0.08938627 0.09917744\\n  0.11384344 0.13504598 0.16319885 0.19774078 0.23801377 0.28373748\\n  0.33417495 0.38620641 0.4337088  0.47083486 0.49647665 0.51381318\\n  0.52562707 0.53199794]\\n [0.07166512 0.0749137  0.07996713 0.0856054  0.09221356 0.10173454\\n  0.1167144  0.1391351  0.16963299 0.20779431 0.25318774 0.30571961\\n  0.36432535 0.42488604 0.4802505  0.52429076 0.55626312 0.57948919\\n  0.59614907 0.60530882]\\n [0.08850139 0.08983143 0.09197108 0.09482929 0.09955673 0.10843193\\n  0.12390432 0.14734052 0.17856192 0.21693283 0.26282223 0.31738563\\n  0.38026327 0.44733129 0.51142936 0.5666708  0.61201641 0.64915598\\n  0.67754    0.69343879]\\n [0.11851185 0.11630523 0.11287735 0.11012597 0.11076551 0.11783223\\n  0.13341029 0.15726564 0.18723821 0.22189123 0.2627174  0.31302617\\n  0.3742767  0.44369512 0.51564459 0.58541265 0.65107645 0.71063393\\n  0.75824147 0.78523172]\\n [0.15838188 0.15108816 0.13961616 0.12869943 0.1232341  0.12716118\\n  0.14186055 0.16486877 0.19147267 0.21920119 0.2507906  0.29201511\\n  0.34660805 0.41382812 0.49036536 0.57320201 0.65944337 0.74278854\\n  0.81127116 0.85045966]\\n [0.19860281 0.18543738 0.16482981 0.14487    0.13274973 0.13299224\\n  0.1458904  0.16667896 0.18833018 0.20755677 0.228241   0.25826088\\n  0.30327266 0.36428343 0.43995823 0.52874481 0.62721767 0.726098\\n  0.80895252 0.85681606]\\n [0.22862384 0.21021695 0.18164889 0.15411908 0.13665004 0.13384238\\n  0.14476916 0.16283341 0.17944185 0.19086499 0.20179157 0.22143478\\n  0.25662754 0.30940056 0.37951093 0.46625612 0.56621179 0.66908674\\n  0.75664837 0.807713  ]\\n [0.24350034 0.22200008 0.1888303  0.15708191 0.13675928 0.13231261\\n  0.14198631 0.15819071 0.17160161 0.17832583 0.18342652 0.1966882\\n  0.22543673 0.27210948 0.33685291 0.41928731 0.51617215 0.61727171\\n  0.70418938 0.75521646]]'",
     "output_type": "error",
     "traceback": [
      "\u001b[1;31m---------------------------------------------------------------------------\u001b[0m",
      "\u001b[1;31mTypeError\u001b[0m                                 Traceback (most recent call last)",
      "File \u001b[1;32mparsers.pyx:1161\u001b[0m, in \u001b[0;36mpandas._libs.parsers.TextReader._convert_tokens\u001b[1;34m()\u001b[0m\n",
      "\u001b[1;31mTypeError\u001b[0m: Cannot cast array data from dtype('O') to dtype('float64') according to the rule 'safe'",
      "\nDuring handling of the above exception, another exception occurred:\n",
      "\u001b[1;31mValueError\u001b[0m                                Traceback (most recent call last)",
      "Cell \u001b[1;32mIn[21], line 8\u001b[0m\n\u001b[0;32m      6\u001b[0m \u001b[38;5;66;03m# Read the CSV file\u001b[39;00m\n\u001b[0;32m      7\u001b[0m csv_path \u001b[38;5;241m=\u001b[39m \u001b[38;5;124mr\u001b[39m\u001b[38;5;124m'\u001b[39m\u001b[38;5;124mS:/Sachuriga/nwb/test4neo/test/speed_analysis_results.csv\u001b[39m\u001b[38;5;124m'\u001b[39m  \u001b[38;5;66;03m# Adjust path if needed\u001b[39;00m\n\u001b[1;32m----> 8\u001b[0m df \u001b[38;5;241m=\u001b[39m \u001b[43mpd\u001b[49m\u001b[38;5;241;43m.\u001b[39;49m\u001b[43mread_csv\u001b[49m\u001b[43m(\u001b[49m\u001b[43mcsv_path\u001b[49m\u001b[43m,\u001b[49m\u001b[43m \u001b[49m\u001b[43mdtype\u001b[49m\u001b[38;5;241;43m=\u001b[39;49m\u001b[43m{\u001b[49m\u001b[38;5;124;43m'\u001b[39;49m\u001b[38;5;124;43mH_counts_smoothed\u001b[39;49m\u001b[38;5;124;43m'\u001b[39;49m\u001b[43m:\u001b[49m\u001b[43m \u001b[49m\u001b[38;5;28;43mfloat\u001b[39;49m\u001b[43m,\u001b[49m\u001b[43m \u001b[49m\u001b[38;5;124;43m'\u001b[39;49m\u001b[38;5;124;43mspeed_heatmap_smoothed\u001b[39;49m\u001b[38;5;124;43m'\u001b[39;49m\u001b[43m:\u001b[49m\u001b[43m \u001b[49m\u001b[38;5;28;43mfloat\u001b[39;49m\u001b[43m}\u001b[49m\u001b[43m)\u001b[49m\n\u001b[0;32m     10\u001b[0m \u001b[38;5;66;03m# Define control and experimental animal IDs\u001b[39;00m\n\u001b[0;32m     11\u001b[0m \u001b[38;5;66;03m# control_ids = ['65165', '65091', '63383', '66539', '65622']\u001b[39;00m\n\u001b[0;32m     12\u001b[0m \u001b[38;5;66;03m# exp_ids = ['65588', '63385', '66538', '66537', '66922']\u001b[39;00m\n\u001b[0;32m     15\u001b[0m control_ids \u001b[38;5;241m=\u001b[39m [\u001b[38;5;241m65165\u001b[39m, \u001b[38;5;241m65091\u001b[39m, \u001b[38;5;241m63383\u001b[39m, \u001b[38;5;241m66539\u001b[39m, \u001b[38;5;241m65622\u001b[39m]\n",
      "File \u001b[1;32m~\\AppData\\Roaming\\Python\\Python311\\site-packages\\pandas\\io\\parsers\\readers.py:1026\u001b[0m, in \u001b[0;36mread_csv\u001b[1;34m(filepath_or_buffer, sep, delimiter, header, names, index_col, usecols, dtype, engine, converters, true_values, false_values, skipinitialspace, skiprows, skipfooter, nrows, na_values, keep_default_na, na_filter, verbose, skip_blank_lines, parse_dates, infer_datetime_format, keep_date_col, date_parser, date_format, dayfirst, cache_dates, iterator, chunksize, compression, thousands, decimal, lineterminator, quotechar, quoting, doublequote, escapechar, comment, encoding, encoding_errors, dialect, on_bad_lines, delim_whitespace, low_memory, memory_map, float_precision, storage_options, dtype_backend)\u001b[0m\n\u001b[0;32m   1013\u001b[0m kwds_defaults \u001b[38;5;241m=\u001b[39m _refine_defaults_read(\n\u001b[0;32m   1014\u001b[0m     dialect,\n\u001b[0;32m   1015\u001b[0m     delimiter,\n\u001b[1;32m   (...)\u001b[0m\n\u001b[0;32m   1022\u001b[0m     dtype_backend\u001b[38;5;241m=\u001b[39mdtype_backend,\n\u001b[0;32m   1023\u001b[0m )\n\u001b[0;32m   1024\u001b[0m kwds\u001b[38;5;241m.\u001b[39mupdate(kwds_defaults)\n\u001b[1;32m-> 1026\u001b[0m \u001b[38;5;28;01mreturn\u001b[39;00m \u001b[43m_read\u001b[49m\u001b[43m(\u001b[49m\u001b[43mfilepath_or_buffer\u001b[49m\u001b[43m,\u001b[49m\u001b[43m \u001b[49m\u001b[43mkwds\u001b[49m\u001b[43m)\u001b[49m\n",
      "File \u001b[1;32m~\\AppData\\Roaming\\Python\\Python311\\site-packages\\pandas\\io\\parsers\\readers.py:626\u001b[0m, in \u001b[0;36m_read\u001b[1;34m(filepath_or_buffer, kwds)\u001b[0m\n\u001b[0;32m    623\u001b[0m     \u001b[38;5;28;01mreturn\u001b[39;00m parser\n\u001b[0;32m    625\u001b[0m \u001b[38;5;28;01mwith\u001b[39;00m parser:\n\u001b[1;32m--> 626\u001b[0m     \u001b[38;5;28;01mreturn\u001b[39;00m \u001b[43mparser\u001b[49m\u001b[38;5;241;43m.\u001b[39;49m\u001b[43mread\u001b[49m\u001b[43m(\u001b[49m\u001b[43mnrows\u001b[49m\u001b[43m)\u001b[49m\n",
      "File \u001b[1;32m~\\AppData\\Roaming\\Python\\Python311\\site-packages\\pandas\\io\\parsers\\readers.py:1923\u001b[0m, in \u001b[0;36mTextFileReader.read\u001b[1;34m(self, nrows)\u001b[0m\n\u001b[0;32m   1916\u001b[0m nrows \u001b[38;5;241m=\u001b[39m validate_integer(\u001b[38;5;124m\"\u001b[39m\u001b[38;5;124mnrows\u001b[39m\u001b[38;5;124m\"\u001b[39m, nrows)\n\u001b[0;32m   1917\u001b[0m \u001b[38;5;28;01mtry\u001b[39;00m:\n\u001b[0;32m   1918\u001b[0m     \u001b[38;5;66;03m# error: \"ParserBase\" has no attribute \"read\"\u001b[39;00m\n\u001b[0;32m   1919\u001b[0m     (\n\u001b[0;32m   1920\u001b[0m         index,\n\u001b[0;32m   1921\u001b[0m         columns,\n\u001b[0;32m   1922\u001b[0m         col_dict,\n\u001b[1;32m-> 1923\u001b[0m     ) \u001b[38;5;241m=\u001b[39m \u001b[38;5;28;43mself\u001b[39;49m\u001b[38;5;241;43m.\u001b[39;49m\u001b[43m_engine\u001b[49m\u001b[38;5;241;43m.\u001b[39;49m\u001b[43mread\u001b[49m\u001b[43m(\u001b[49m\u001b[43m  \u001b[49m\u001b[38;5;66;43;03m# type: ignore[attr-defined]\u001b[39;49;00m\n\u001b[0;32m   1924\u001b[0m \u001b[43m        \u001b[49m\u001b[43mnrows\u001b[49m\n\u001b[0;32m   1925\u001b[0m \u001b[43m    \u001b[49m\u001b[43m)\u001b[49m\n\u001b[0;32m   1926\u001b[0m \u001b[38;5;28;01mexcept\u001b[39;00m \u001b[38;5;167;01mException\u001b[39;00m:\n\u001b[0;32m   1927\u001b[0m     \u001b[38;5;28mself\u001b[39m\u001b[38;5;241m.\u001b[39mclose()\n",
      "File \u001b[1;32m~\\AppData\\Roaming\\Python\\Python311\\site-packages\\pandas\\io\\parsers\\c_parser_wrapper.py:234\u001b[0m, in \u001b[0;36mCParserWrapper.read\u001b[1;34m(self, nrows)\u001b[0m\n\u001b[0;32m    232\u001b[0m \u001b[38;5;28;01mtry\u001b[39;00m:\n\u001b[0;32m    233\u001b[0m     \u001b[38;5;28;01mif\u001b[39;00m \u001b[38;5;28mself\u001b[39m\u001b[38;5;241m.\u001b[39mlow_memory:\n\u001b[1;32m--> 234\u001b[0m         chunks \u001b[38;5;241m=\u001b[39m \u001b[38;5;28;43mself\u001b[39;49m\u001b[38;5;241;43m.\u001b[39;49m\u001b[43m_reader\u001b[49m\u001b[38;5;241;43m.\u001b[39;49m\u001b[43mread_low_memory\u001b[49m\u001b[43m(\u001b[49m\u001b[43mnrows\u001b[49m\u001b[43m)\u001b[49m\n\u001b[0;32m    235\u001b[0m         \u001b[38;5;66;03m# destructive to chunks\u001b[39;00m\n\u001b[0;32m    236\u001b[0m         data \u001b[38;5;241m=\u001b[39m _concatenate_chunks(chunks)\n",
      "File \u001b[1;32mparsers.pyx:838\u001b[0m, in \u001b[0;36mpandas._libs.parsers.TextReader.read_low_memory\u001b[1;34m()\u001b[0m\n",
      "File \u001b[1;32mparsers.pyx:921\u001b[0m, in \u001b[0;36mpandas._libs.parsers.TextReader._read_rows\u001b[1;34m()\u001b[0m\n",
      "File \u001b[1;32mparsers.pyx:1066\u001b[0m, in \u001b[0;36mpandas._libs.parsers.TextReader._convert_column_data\u001b[1;34m()\u001b[0m\n",
      "File \u001b[1;32mparsers.pyx:1167\u001b[0m, in \u001b[0;36mpandas._libs.parsers.TextReader._convert_tokens\u001b[1;34m()\u001b[0m\n",
      "\u001b[1;31mValueError\u001b[0m: could not convert string to float: '[[0.30591097 0.26541538 0.20700405 0.15712502 0.12860687 0.11909615\\n  0.1209111  0.12930043 0.14292356 0.16009152 0.17703194 0.19017875\\n  0.19951564 0.20916477 0.22438752 0.24711082 0.2732895  0.29497593\\n  0.30671721 0.310172  ]\\n [0.28266132 0.24692161 0.19527387 0.15123673 0.12656245 0.11940168\\n  0.12274338 0.13188092 0.14520315 0.16123099 0.17721286 0.19078306\\n  0.20217767 0.21428522 0.23033103 0.25081357 0.27188426 0.28731852\\n  0.29381268 0.29442235]\\n [0.24146368 0.2137647  0.17370716 0.13994171 0.122305   0.11963442\\n  0.12596239 0.13668092 0.14979354 0.16419147 0.17873695 0.19288625\\n  0.20718356 0.22267438 0.23982297 0.25745636 0.27225615 0.28030163\\n  0.28084927 0.27836162]\\n [0.19126973 0.17277507 0.14622439 0.12479642 0.1159281  0.11894617\\n  0.12896404 0.14163207 0.154769   0.16778394 0.18114012 0.1959273\\n  0.21283331 0.23126933 0.24964809 0.26593449 0.27758488 0.28234453\\n  0.28078565 0.27750887]\\n [0.14221555 0.13218295 0.11824498 0.1085597  0.10805974 0.11621359\\n  0.12913804 0.14310892 0.15628199 0.16871781 0.1819432  0.19787661\\n  0.21710298 0.23811153 0.25843714 0.27593145 0.288681   0.29515625\\n  0.29589864 0.29439855]\\n [0.10298387 0.09943308 0.09522671 0.09455677 0.1001203  0.11130922\\n  0.12523174 0.13924175 0.15238556 0.16539193 0.18009386 0.19832068\\n  0.22039703 0.24457421 0.26812729 0.28869052 0.30449209 0.31438776\\n  0.31870922 0.31967797]\\n [0.07829494 0.07882668 0.08073495 0.08553945 0.09427683 0.10626324\\n  0.11958058 0.13284105 0.14615091 0.16074882 0.17823723 0.19985911\\n  0.22569979 0.25408639 0.28187027 0.3057091  0.32346198 0.33471485\\n  0.34048299 0.34259271]\\n [0.06754212 0.07008797 0.07498126 0.08228834 0.09210077 0.10380377\\n  0.1162956  0.12913894 0.14312492 0.15972057 0.18022277 0.20538663\\n  0.23521111 0.26808369 0.30003851 0.3261714  0.3437415  0.35348355\\n  0.35795996 0.35953157]\\n [0.06585497 0.06910805 0.07498645 0.08295454 0.09280769 0.10423148\\n  0.11674003 0.1302878  0.14567951 0.16424627 0.18713654 0.21500427\\n  0.24793231 0.28429368 0.3193196  0.34677027 0.36347579 0.37124287\\n  0.37404223 0.37481144]\\n [0.06715688 0.07059238 0.07656139 0.08426554 0.09362217 0.10489325\\n  0.11818937 0.13353265 0.15124003 0.17210665 0.19709152 0.22694744\\n  0.2619187  0.30038591 0.33725676 0.36586083 0.38306    0.39118493\\n  0.39453477 0.39578964]\\n [0.06733393 0.07093572 0.07685703 0.08400239 0.09251877 0.10340304\\n  0.11752266 0.13512711 0.15607757 0.18041473 0.20859165 0.24125807\\n  0.2786824  0.31920042 0.35777932 0.38813275 0.40763125 0.41867565\\n  0.42490124 0.42795842]\\n [0.06589012 0.06974593 0.07577519 0.08252501 0.0902379  0.10050563\\n  0.1150227  0.1346738  0.15937768 0.18863157 0.22218808 0.26023305\\n  0.30267987 0.34741779 0.38921137 0.42223932 0.44464916 0.459041\\n  0.46836588 0.47328449]\\n [0.06572677 0.06963786 0.0756496  0.08215981 0.08938627 0.09917744\\n  0.11384344 0.13504598 0.16319885 0.19774078 0.23801377 0.28373748\\n  0.33417495 0.38620641 0.4337088  0.47083486 0.49647665 0.51381318\\n  0.52562707 0.53199794]\\n [0.07166512 0.0749137  0.07996713 0.0856054  0.09221356 0.10173454\\n  0.1167144  0.1391351  0.16963299 0.20779431 0.25318774 0.30571961\\n  0.36432535 0.42488604 0.4802505  0.52429076 0.55626312 0.57948919\\n  0.59614907 0.60530882]\\n [0.08850139 0.08983143 0.09197108 0.09482929 0.09955673 0.10843193\\n  0.12390432 0.14734052 0.17856192 0.21693283 0.26282223 0.31738563\\n  0.38026327 0.44733129 0.51142936 0.5666708  0.61201641 0.64915598\\n  0.67754    0.69343879]\\n [0.11851185 0.11630523 0.11287735 0.11012597 0.11076551 0.11783223\\n  0.13341029 0.15726564 0.18723821 0.22189123 0.2627174  0.31302617\\n  0.3742767  0.44369512 0.51564459 0.58541265 0.65107645 0.71063393\\n  0.75824147 0.78523172]\\n [0.15838188 0.15108816 0.13961616 0.12869943 0.1232341  0.12716118\\n  0.14186055 0.16486877 0.19147267 0.21920119 0.2507906  0.29201511\\n  0.34660805 0.41382812 0.49036536 0.57320201 0.65944337 0.74278854\\n  0.81127116 0.85045966]\\n [0.19860281 0.18543738 0.16482981 0.14487    0.13274973 0.13299224\\n  0.1458904  0.16667896 0.18833018 0.20755677 0.228241   0.25826088\\n  0.30327266 0.36428343 0.43995823 0.52874481 0.62721767 0.726098\\n  0.80895252 0.85681606]\\n [0.22862384 0.21021695 0.18164889 0.15411908 0.13665004 0.13384238\\n  0.14476916 0.16283341 0.17944185 0.19086499 0.20179157 0.22143478\\n  0.25662754 0.30940056 0.37951093 0.46625612 0.56621179 0.66908674\\n  0.75664837 0.807713  ]\\n [0.24350034 0.22200008 0.1888303  0.15708191 0.13675928 0.13231261\\n  0.14198631 0.15819071 0.17160161 0.17832583 0.18342652 0.1966882\\n  0.22543673 0.27210948 0.33685291 0.41928731 0.51617215 0.61727171\\n  0.70418938 0.75521646]]'"
     ]
    }
   ],
   "source": [
    "import pandas as pd\n",
    "import numpy as np\n",
    "import matplotlib.pyplot as plt\n",
    "from scipy.ndimage import gaussian_filter\n",
    "\n",
    "# Read the CSV file\n",
    "csv_path = r'S:/Sachuriga/nwb/test4neo/test/speed_analysis_results.csv'  # Adjust path if needed\n",
    "df = pd.read_csv(csv_path, dtype={'H_counts_smoothed': float, 'speed_heatmap_smoothed': float})\n",
    "\n",
    "# Define control and experimental animal IDs\n",
    "# control_ids = ['65165', '65091', '63383', '66539', '65622']\n",
    "# exp_ids = ['65588', '63385', '66538', '66537', '66922']\n",
    "\n",
    "\n",
    "control_ids = [65165, 65091, 63383, 66539, 65622]\n",
    "exp_ids = [65588,63385, 66538, 66537, 66922]\n",
    "\n",
    "# Filter for 'A' sessions\n",
    "df_a = df[df['session'] == 'A']\n",
    "\n",
    "# Function to parse string array into numpy array\n",
    "def parse_array(array_str):\n",
    "    # Remove the surrounding quotes and split into rows\n",
    "    array_str = array_str.strip('\"')\n",
    "    rows = array_str.split('\\n')\n",
    "    # Parse each row into numbers\n",
    "    data = [list(map(float, row.split())) for row in rows if row.strip()]\n",
    "    return np.array(data)\n",
    "\n",
    "# Separate into control and experimental groups\n",
    "control_df = df_a[df_a['animal_id'].isin(control_ids)]\n",
    "exp_df = df_a[df_a['animal_id'].isin(exp_ids)]\n",
    "exp_df\n"
   ]
  },
  {
   "cell_type": "code",
   "execution_count": null,
   "metadata": {},
   "outputs": [
    {
     "data": {
      "text/plain": [
       "'['"
      ]
     },
     "execution_count": 19,
     "metadata": {},
     "output_type": "execute_result"
    }
   ],
   "source": []
  }
 ],
 "metadata": {
  "kernelspec": {
   "display_name": "test1",
   "language": "python",
   "name": "python3"
  },
  "language_info": {
   "codemirror_mode": {
    "name": "ipython",
    "version": 3
   },
   "file_extension": ".py",
   "mimetype": "text/x-python",
   "name": "python",
   "nbconvert_exporter": "python",
   "pygments_lexer": "ipython3",
   "version": "3.11.0"
  }
 },
 "nbformat": 4,
 "nbformat_minor": 2
}

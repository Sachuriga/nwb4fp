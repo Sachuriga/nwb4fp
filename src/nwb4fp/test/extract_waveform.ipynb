{
 "cells": [
  {
   "cell_type": "code",
   "execution_count": 51,
   "id": "7bad7659-b250-480c-be16-62897df326dc",
   "metadata": {},
   "outputs": [],
   "source": [
    "import matplotlib.pyplot as plt\n",
    "import spikeinterface as si\n",
    "import spikeinterface.extractors as se\n",
    "import spikeinterface.postprocessing as spost\n",
    "import spikeinterface.widgets as sw\n",
    "import numpy as np\n",
    "from pathlib import Path\n",
    "import shutil"
   ]
  },
  {
   "cell_type": "code",
   "execution_count": 31,
   "id": "93691e02-1e40-4d89-992e-b503dfab376f",
   "metadata": {},
   "outputs": [],
   "source": [
    "wave_a = np.load('C:\\waveforms\\waveforms/waveforms_1.npy')\n",
    "wave_a_index = np.load('C:\\waveforms\\waveforms/sampled_index_1.npy')"
   ]
  },
  {
   "cell_type": "code",
   "execution_count": null,
   "id": "051a3295-8824-4ec4-b953-2462a3061ffb",
   "metadata": {},
   "outputs": [],
   "source": [
    "import pickle\n",
    "import pandas as pd\n",
    "\n",
    "# Load the pickle file\n",
    "with open(r'S:/Sachuriga/Ephys_Vedio/CR_CA1/raw_files/63383_Open_Field_50Hz_A2024-07-13T14_10_11DLC_DlcrnetStride32Ms5_CR_implant_DLCnetNov30shuffle1_snapshot_350_sk.pickle', 'rb') as file:\n",
    "    data = pickle.load(file)\n",
    "\n",
    "# Check the type and contents\n",
    "print(\"Type of data:\", type(data))\n",
    "print(\"Contents of data:\", data)\n"
   ]
  },
  {
   "cell_type": "code",
   "execution_count": null,
   "id": "aea01fbe",
   "metadata": {},
   "outputs": [
    {
     "data": {
      "text/plain": [
       "array([35.84500122, 51.63199997,  0.99900001, -1.        ])"
      ]
     },
     "execution_count": 19,
     "metadata": {},
     "output_type": "execute_result"
    }
   ],
   "source": [
    "data[0][0][1][]"
   ]
  },
  {
   "cell_type": "code",
   "execution_count": 21,
   "id": "a013f58f",
   "metadata": {},
   "outputs": [
    {
     "ename": "KeyError",
     "evalue": "('scorer', 'individual1')",
     "output_type": "error",
     "traceback": [
      "\u001b[1;31m---------------------------------------------------------------------------\u001b[0m",
      "\u001b[1;31mKeyError\u001b[0m                                  Traceback (most recent call last)",
      "Cell \u001b[1;32mIn[21], line 1\u001b[0m\n\u001b[1;32m----> 1\u001b[0m \u001b[43mdata\u001b[49m\u001b[43m[\u001b[49m\u001b[38;5;124;43m'\u001b[39;49m\u001b[38;5;124;43mscorer\u001b[39;49m\u001b[38;5;124;43m'\u001b[39;49m\u001b[43m,\u001b[49m\u001b[43m \u001b[49m\u001b[38;5;124;43m'\u001b[39;49m\u001b[38;5;124;43mindividual1\u001b[39;49m\u001b[38;5;124;43m'\u001b[39;49m\u001b[43m]\u001b[49m\n",
      "\u001b[1;31mKeyError\u001b[0m: ('scorer', 'individual1')"
     ]
    }
   ],
   "source": [
    "data['scorer', 'individual1']"
   ]
  },
  {
   "cell_type": "code",
   "execution_count": null,
   "id": "4b2e4e64-473f-4d16-b2ba-2d59cec8342b",
   "metadata": {},
   "outputs": [
    {
     "data": {
      "text/plain": [
       "array([[  6.954     ,  32.15499878,   0.98900002,  -1.        ],\n",
       "       [ 35.84500122,  51.63199997,   0.99900001,  -1.        ],\n",
       "       [ 39.19900131,  20.15099907,   0.99800003,  -1.        ],\n",
       "       [ 24.31999969,  35.05400085,   0.99900001,  -1.        ],\n",
       "       [ 35.60599899,  35.85900116,   0.99900001,  -1.        ],\n",
       "       [ 47.53900146,  34.69800186,   0.99900001,  -1.        ],\n",
       "       [ 58.04499817,  32.95999908,   0.99900001,  -1.        ],\n",
       "       [ 69.27400208,  31.31800079,   0.99800003,  -1.        ],\n",
       "       [ 78.97699738,  29.48200035,   0.99800003,  -1.        ],\n",
       "       [ 90.02600098,  27.58399963,   0.99900001,  -1.        ],\n",
       "       [114.15299988,  28.16600037,   0.99599999,  -1.        ],\n",
       "       [135.73800659,  33.60100174,   0.99400002,  -1.        ],\n",
       "       [160.50999451,  39.09600067,   0.98900002,  -1.        ]])"
      ]
     },
     "execution_count": 16,
     "metadata": {},
     "output_type": "execute_result"
    }
   ],
   "source": [
    "for row in data[0]:\n",
    "    "
   ]
  },
  {
   "cell_type": "code",
   "execution_count": 47,
   "id": "2c7d0fb4-5b58-4743-b3be-a57e3855f894",
   "metadata": {},
   "outputs": [],
   "source": [
    "dlc_path = Path(\"S:\\Sachuriga\\Ephys_Vedio\\CR_CA1/65165_Open_Field_50Hz_A2023-06-29T17_03_02DLC_dlcrnetms5_CR_implant_DLCnetNov30shuffle3_600000_sk_filtered.h5\")"
   ]
  },
  {
   "cell_type": "code",
   "execution_count": 63,
   "id": "34bed951-6f10-4a48-a855-72596f344e2c",
   "metadata": {},
   "outputs": [],
   "source": [
    "temp_vname = dlc_path.name.split(\"DLC_dlcrnet\")\n",
    "vname=temp_vname[0]\n",
    "path_ori = dlc_path.parent\n",
    "idun_vedio_path=r\"P:/Overlap_project/data/CR_implant_add_new\""
   ]
  },
  {
   "cell_type": "code",
   "execution_count": 4,
   "id": "c24a9780-67b2-4734-9fd5-9c4f7d69833b",
   "metadata": {},
   "outputs": [
    {
     "name": "stdout",
     "output_type": "stream",
     "text": [
      "Q:\\sachuriga\\Sachuriga_Python\\quattrocolo-nwb4fp\\src\n"
     ]
    },
    {
     "name": "stderr",
     "output_type": "stream",
     "text": [
      "c:\\Users\\sachur\\AppData\\Local\\anaconda3\\envs\\nwb4fp\\lib\\site-packages\\IPython\\core\\magics\\osm.py:417: UserWarning: This is now an optional IPython functionality, setting dhist requires you to install the `pickleshare` library.\n",
      "  self.shell.db['dhist'] = compress_dhist(dhist)[-100:]\n"
     ]
    }
   ],
   "source": [
    "cd Q:\\sachuriga\\Sachuriga_Python\\quattrocolo-nwb4fp\\src"
   ]
  },
  {
   "cell_type": "code",
   "execution_count": 27,
   "id": "07a98904-8356-4049-9812-5f5b1d1becc5",
   "metadata": {},
   "outputs": [],
   "source": [
    "import sys\n",
    "sys.path.append(r\"Q:/sachuriga/Sachuriga_Python/quattrocolo-nwb4fp/src/\")\n",
    "from pickle import TRUE\n",
    "import spikeinterface as si\n",
    "import spikeinterface.extractors as se\n",
    "import spikeinterface.postprocessing as post\n",
    "from nwb4fp.postprocess.Get_positions import load_positions,load_positions_h5,test_positions_h5\n",
    "from nwb4fp.postprocess.get_potential_merge import get_potential_merge\n",
    "from spikeinterface.preprocessing import (bandpass_filter,\n",
    "                                           common_reference,\n",
    "                                           whiten)\n",
    "import spikeinterface.exporters as sex\n",
    "import spikeinterface.qualitymetrics as sqm\n",
    "from pathlib import Path\n",
    "import pandas as pd\n",
    "from nwb4fp.postprocess.extract_wf import wf4unim,divide_wf\n",
    "import spikeinterface.preprocessing as spre\n",
    "import numpy as np\n",
    "\n",
    "from spikeinterface.extractors.neoextractors.openephys import OpenEphysBinaryRecordingExtractor\n"
   ]
  },
  {
   "cell_type": "code",
   "execution_count": null,
   "id": "787da767-c807-4f01-8bf1-edd8dafe3ca0",
   "metadata": {},
   "outputs": [
    {
     "name": "stdout",
     "output_type": "stream",
     "text": [
      "Before mannual search the stream_name. Auto search result is Record Node 101#Acquisition_Board-100.Rhythm Data\n",
      "ASSY-236-F - cambridgeneurotech - 64ch - 6shanks\n",
      "get times for raw sortsNone\n"
     ]
    },
    {
     "name": "stderr",
     "output_type": "stream",
     "text": [
      "estimate_sparsity (workers: 8 processes): 100%|██████████| 7477/7477 [00:06<00:00, 1138.68it/s]\n",
      "compute_waveforms (workers: 12 processes): 100%|██████████| 7477/7477 [00:06<00:00, 1092.69it/s]\n",
      "c:\\Users\\sachur\\AppData\\Local\\anaconda3\\envs\\nwb4fp\\lib\\site-packages\\spikeinterface\\core\\recording_tools.py:786: UserWarning: get_noise_levels(recording, num_chunks_per_segment=20) is deprecated\n",
      "Now, you need to use get_noise_levels(recording, random_slices_kwargs=dict(num_chunks_per_segment=20, chunk_size=1000))\n",
      "Please read get_random_recording_slices() documentation for more options.\n",
      "  warnings.warn(msg)\n",
      "noise_level (workers: 12 processes): 100%|██████████| 20/20 [00:01<00:00, 16.96it/s]\n"
     ]
    },
    {
     "name": "stdout",
     "output_type": "stream",
     "text": [
      "processing potential merge...\n",
      "\n"
     ]
    }
   ],
   "source": [
    "path=r\"S:\\Sachuriga/Ephys_Recording/CR_CA1/63383/63383_2024-07-20_14-21-42_A_phy_k\"\n",
    "global_job_kwargs = dict(n_jobs=32, total_memory=\"64G\",mp_context= \"spawn\",progress_bar=True)\n",
    "si.set_global_job_kwargs(**global_job_kwargs)\n",
    "temp_folder = r\"C:/Ephys_temp\"\n",
    "\n",
    "sorting = se.read_phy(folder_path=path, load_all_cluster_properties=True,exclude_cluster_groups = [\"noise\", \"mua\"])\n",
    "\n",
    "temp_path = path.split(\"_phy\")\n",
    "raw_path = temp_path[0]\n",
    "#stream_name = 'Record Node 101#OE_FPGA_Acquisition_Board-100.Rhythm Data'\n",
    "stream_name  = OpenEphysBinaryRecordingExtractor(raw_path,stream_id='0').get_streams(raw_path)[0][0]\n",
    "print(fr\"Before mannual search the stream_name. Auto search result is {stream_name}\")\n",
    "try:\n",
    "    recording = se.read_openephys(raw_path, stream_name=stream_name, load_sync_timestamps=True)\n",
    "except AssertionError:\n",
    "    try:\n",
    "        stream_name = 'Record Node 102#OE_FPGA_Acquisition_Board-101.Rhythm Data'\n",
    "        recording = se.read_openephys(raw_path, stream_name=stream_name, load_sync_timestamps=True)\n",
    "    except AssertionError:\n",
    "        stream_name = 'Record Node 101#Acquisition_Board-100.Rhythm Data'\n",
    "        recording = se.read_openephys(raw_path, stream_name=stream_name, load_sync_timestamps=True)\n",
    "\n",
    "import probeinterface as pi\n",
    "\n",
    "# from probeinterface import plotting\n",
    "manufacturer = 'cambridgeneurotech'\n",
    "probe_name = 'ASSY-236-F'\n",
    "probe = pi.get_probe(manufacturer, probe_name)\n",
    "print(probe)\n",
    "# probe.wiring_to_device('cambridgeneurotech_mini-amp-64')\n",
    "# map channels to device indices\n",
    "mapping_to_device = [\n",
    "    # connector J2 TOP\n",
    "    41, 39, 38, 37, 35, 34, 33, 32, 29, 30, 28, 26, 25, 24, 22, 20,\n",
    "    46, 45, 44, 43, 42, 40, 36, 31, 27, 23, 21, 18, 19, 17, 16, 14,\n",
    "    # connector J1 BOTTOM\n",
    "    55, 53, 54, 52, 51, 50, 49, 48, 47, 15, 13, 12, 11, 9, 10, 8,\n",
    "    63, 62, 61, 60, 59, 58, 57, 56, 7, 6, 5, 4, 3, 2, 1, 0\n",
    "]\n",
    "\n",
    "probe.set_device_channel_indices(mapping_to_device)\n",
    "probe.to_dataframe(complete=True).loc[:, [\"contact_ids\", \"shank_ids\", \"device_channel_indices\"]]\n",
    "probegroup = pi.ProbeGroup()\n",
    "probegroup.add_probe(probe)\n",
    "\n",
    "pi.write_prb(f\"{probe_name}.prb\", probegroup, group_mode=\"by_shank\")\n",
    "recording_prb = recording.set_probe(probe, group_mode=\"by_shank\")\n",
    "rec = bandpass_filter(recording_prb, freq_min=300, freq_max=8000)\n",
    "bad_channel_ids, channel_labels = spre.detect_bad_channels(rec, method='coherence+psd',n_neighbors = 9)\n",
    "#recording_good_ch= rec.remove_channels(bad_channel_ids)\n",
    "recording_good_channels_f = spre.interpolate_bad_channels(rec,bad_channel_ids)\n",
    "\n",
    "rec_save = common_reference(recording_good_channels_f, reference='global', operator='median')\n",
    "rec_w = whiten(rec_save, int_scale=200, mode='local', radius_um=100.0)\n",
    "                \n",
    "sorting.set_property(key='group', values = sorting.get_property(\"channel_group\"))\n",
    "print(f\"get times for raw sorts{sorting.get_times()}\")\n",
    "## step to analyzer\n",
    "GLOBAL_KWARGS = dict(n_jobs=8, total_memory=\"64G\", progress_bar=True, mp_context= \"spawn\", chunk_size=5000, chunk_duration=\"1s\")\n",
    "si.set_global_job_kwargs(**GLOBAL_KWARGS)\n",
    "\n",
    "analyzer = si.create_sorting_analyzer(sorting=sorting, recording=rec_w, format='memory', folder=fr\"{temp_folder}\",overwrite=True)\n",
    "## step to computations\n",
    "GLOBAL_KWARGS = dict(n_jobs=12, total_memory=\"64G\", progress_bar=True, mp_context= \"spawn\", chunk_size=5000, chunk_duration=\"1s\")\n",
    "si.set_global_job_kwargs(**GLOBAL_KWARGS)\n",
    "we1 = analyzer.compute(\"random_spikes\",\"waveforms\")\n",
    "we1 = analyzer.compute(\"waveforms\")\n",
    "we1 = analyzer.compute(\"noise_levels\")\n",
    "we1 = analyzer.compute(\"templates\")\n",
    "#get potential merging sorting objects\n",
    "print(\"processing potential merge...\\n\")"
   ]
  },
  {
   "cell_type": "code",
   "execution_count": 30,
   "id": "19b86526",
   "metadata": {},
   "outputs": [
    {
     "data": {
      "text/plain": [
       "array(['CH1', 'CH2', 'CH3', 'CH4', 'CH5', 'CH6', 'CH7', 'CH8', 'CH9',\n",
       "       'CH10', 'CH11', 'CH12', 'CH13', 'CH14', 'CH15', 'CH16', 'CH17',\n",
       "       'CH18', 'CH19', 'CH20', 'CH21', 'CH22', 'CH23', 'CH24', 'CH25',\n",
       "       'CH26', 'CH27', 'CH28', 'CH29', 'CH30', 'CH31', 'CH32', 'CH33',\n",
       "       'CH34', 'CH35', 'CH36', 'CH37', 'CH38', 'CH39', 'CH40', 'CH41',\n",
       "       'CH42', 'CH43', 'CH44', 'CH45', 'CH46', 'CH47', 'CH48', 'CH49',\n",
       "       'CH50', 'CH51', 'CH52', 'CH53', 'CH54', 'CH55', 'CH56', 'CH57',\n",
       "       'CH58', 'CH59', 'CH60', 'CH61', 'CH62', 'CH63', 'CH64'],\n",
       "      dtype='<U64')"
      ]
     },
     "execution_count": 30,
     "metadata": {},
     "output_type": "execute_result"
    }
   ],
   "source": [
    "recording_good_channels_f.get_channel_ids()"
   ]
  },
  {
   "cell_type": "code",
   "execution_count": 25,
   "id": "e79d6c3e",
   "metadata": {},
   "outputs": [
    {
     "name": "stdout",
     "output_type": "stream",
     "text": [
      "{18: 50250, 27: 402, 1: 8249, 28: 4047, 2: 1191, 3: 1899, 6: 769, 7: 31923, 8: 6372, 10: 37359, 11: 17056, 12: 2877, 15: 2785, 29: 1788, 16: 1393, 20: 1583, 23: 56217, 24: 4180, 26: 986}\n"
     ]
    }
   ],
   "source": [
    "print(sorting.count_num_spikes_per_unit())"
   ]
  },
  {
   "cell_type": "code",
   "execution_count": 26,
   "id": "f5f368c4",
   "metadata": {},
   "outputs": [
    {
     "name": "stdout",
     "output_type": "stream",
     "text": [
      "get_potential_merge\n",
      "{18: 50249, 27: 402, 1: 8248, 3: 1899, 6: 769, 7: 31922, 8: 6372, 10: 37357, 11: 17056, 12: 2877, 15: 2785, 29: 1788, 16: 1392, 20: 1583, 23: 56217, 24: 4180, 26: 986, 30: 5238}\n"
     ]
    }
   ],
   "source": [
    "sort_merge = get_potential_merge(sorting, analyzer)\n",
    "print(sort_merge.count_num_spikes_per_unit())"
   ]
  },
  {
   "cell_type": "code",
   "execution_count": 9,
   "id": "9dcfb58a-8c19-489e-bae1-323b0f2a8837",
   "metadata": {},
   "outputs": [
    {
     "name": "stdout",
     "output_type": "stream",
     "text": [
      "['original_cluster_id', 'amp', 'amplitude_cutoff', 'amplitude_median', 'ch', 'd_prime', 'depth', 'firing_range', 'fr', 'quality', 'isi_violations_count', 'isi_violations_ratio', 'isolation_distance', 'l_ratio', 'n_spikes', 'nn_hit_rate', 'nn_miss_rate', 'presence_ratio', 'rp_contamination', 'rp_violations', 'sh', 'silhouette', 'sliding_rp_violation', 'snr', 'sync_spike_2', 'sync_spike_4', 'sync_spike_8']\n"
     ]
    }
   ],
   "source": [
    "a=sorting.get_property_keys()\n",
    "print(a)"
   ]
  },
  {
   "cell_type": "code",
   "execution_count": 11,
   "id": "740749ad",
   "metadata": {},
   "outputs": [
    {
     "data": {
      "text/plain": [
       "array([ 7, 48,  0,  0,  0,  0,  8, 14, 14, 17, 22, 22, 30, 30, 30, 29, 39,\n",
       "       39, 48], dtype=int64)"
      ]
     },
     "execution_count": 11,
     "metadata": {},
     "output_type": "execute_result"
    }
   ],
   "source": [
    "a = sorting.get_property(\"ch\")\n",
    "a"
   ]
  }
 ],
 "metadata": {
  "kernelspec": {
   "display_name": "nwb4fp",
   "language": "python",
   "name": "python3"
  },
  "language_info": {
   "codemirror_mode": {
    "name": "ipython",
    "version": 3
   },
   "file_extension": ".py",
   "mimetype": "text/x-python",
   "name": "python",
   "nbconvert_exporter": "python",
   "pygments_lexer": "ipython3",
   "version": "3.10.0"
  }
 },
 "nbformat": 4,
 "nbformat_minor": 5
}

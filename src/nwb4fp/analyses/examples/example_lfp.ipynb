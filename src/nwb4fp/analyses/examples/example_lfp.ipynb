{
 "cells": [
  {
   "cell_type": "code",
   "execution_count": 4,
   "metadata": {},
   "outputs": [
    {
     "name": "stderr",
     "output_type": "stream",
     "text": [
      "Q:\\sachuriga\\Sachuriga_Python\\quattrocolo-nwb4fp\\src\\nwb4fp\\analyses\\examples\\tracking_plot.py:5: DeprecationWarning: Please import `center_of_mass` from the `scipy.ndimage` namespace; the `scipy.ndimage.measurements` namespace is deprecated and will be removed in SciPy 2.0.0.\n",
      "  from scipy.ndimage.measurements import center_of_mass\n"
     ]
    }
   ],
   "source": [
    "from neurochat.nc_data import NData\n",
    "from neurochat.nc_spike import NSpike\n",
    "from neurochat.nc_spatial import NSpatial\n",
    "import neurochat.nc_plot as nc_plot\n",
    "from neurochat.nc_lfp import NLfp\n",
    "import matplotlib.pyplot as plt\n",
    "import numpy as np\n",
    "from pynwb import NWBHDF5IO\n",
    "import matplotlib.pyplot as plt\n",
    "import numpy as np\n",
    "import math\n",
    "import pynapple as nap\n",
    "import numpy as np\n",
    "from scipy import signal\n",
    "import matplotlib.pyplot as plt\n",
    "import numpy as np\n",
    "from sklearn.preprocessing import normalize\n",
    "\n",
    "import sys\n",
    "import nwb4fp.analyses.maps as mapp\n",
    "from nwb4fp.analyses.examples.tracking_plot import plot_ratemap,plot_path\n",
    "from nwb4fp.analyses.fields import separate_fields_by_laplace, separate_fields_by_dilation,find_peaks,separate_fields_by_laplace_of_gaussian,calculate_field_centers,distance_to_edge_function, remove_fields_by_area, map_pass_to_unit_circle,which_field,compute_crossings\n",
    "from elephant.statistics import time_histogram, instantaneous_rate\n",
    "from nwb4fp.analyses import maps\n",
    "from nwb4fp.analyses.data import pos2speed,speed_filtered_spikes,load_speed_fromNWB,load_units_fromNWB,get_filed_num,unit_location_ch\n",
    "from scipy.ndimage import gaussian_filter\n",
    "import ast\n",
    "import pandas as pd"
   ]
  },
  {
   "cell_type": "code",
   "execution_count": 3,
   "metadata": {},
   "outputs": [
    {
     "name": "stdout",
     "output_type": "stream",
     "text": [
      "Q:\\sachuriga\\Sachuriga_Python\\quattrocolo-nwb4fp\\src\n"
     ]
    }
   ],
   "source": [
    "cd Q:\\sachuriga\\Sachuriga_Python\\quattrocolo-nwb4fp\\src"
   ]
  },
  {
   "cell_type": "code",
   "execution_count": 5,
   "metadata": {},
   "outputs": [
    {
     "name": "stderr",
     "output_type": "stream",
     "text": [
      "c:\\Users\\sachur\\AppData\\Local\\anaconda3\\envs\\test1\\Lib\\site-packages\\pynapple\\core\\ts_group.py:492: PerformanceWarning: DataFrame is highly fragmented.  This is usually the result of calling `frame.insert` many times, which has poor performance.  Consider joining all columns at once using pd.concat(axis=1) instead. To get a de-fragmented frame, use `newframe = frame.copy()`\n",
      "  self._metadata[k] = np.asarray(v)\n",
      "c:\\Users\\sachur\\AppData\\Local\\anaconda3\\envs\\test1\\Lib\\site-packages\\pynapple\\core\\ts_group.py:492: PerformanceWarning: DataFrame is highly fragmented.  This is usually the result of calling `frame.insert` many times, which has poor performance.  Consider joining all columns at once using pd.concat(axis=1) instead. To get a de-fragmented frame, use `newframe = frame.copy()`\n",
      "  self._metadata[k] = np.asarray(v)\n",
      "c:\\Users\\sachur\\AppData\\Local\\anaconda3\\envs\\test1\\Lib\\site-packages\\pynapple\\core\\ts_group.py:492: PerformanceWarning: DataFrame is highly fragmented.  This is usually the result of calling `frame.insert` many times, which has poor performance.  Consider joining all columns at once using pd.concat(axis=1) instead. To get a de-fragmented frame, use `newframe = frame.copy()`\n",
      "  self._metadata[k] = np.asarray(v)\n"
     ]
    },
    {
     "name": "stdout",
     "output_type": "stream",
     "text": [
      "here\n",
      "[1.0, 1.0]\n",
      "bins zie[0.   0.05 0.1  0.15 0.2  0.25 0.3  0.35 0.4  0.45 0.5  0.55 0.6  0.65\n",
      " 0.7  0.75 0.8  0.85 0.9  0.95 1.  ]\n"
     ]
    },
    {
     "data": {
      "image/png": "[encoded data removed]",
      "text/plain": [
       "<Figure size 640x480 with 1 Axes>"
      ]
     },
     "metadata": {},
     "output_type": "display_data"
    },
    {
     "data": {
      "text/plain": [
       "<Figure size 600x600 with 0 Axes>"
      ]
     },
     "metadata": {},
     "output_type": "display_data"
    }
   ],
   "source": [
    "import pandas as pd\n",
    "pd.set_option('display.max_rows', None)\n",
    "np.set_printoptions(threshold=np.inf)\n",
    "## unit11: unit_num = 8, ch = 13\n",
    "filepath = r\"S:\\Sachuriga/nwb/63383_2024-07-10_15-37-51_A_phy_k_manual.nwb\"\n",
    "npdata = nap.load_file(filepath)\n",
    "npdata\n",
    "\n",
    "## Load data\n",
    "pos_cord = load_speed_fromNWB(npdata['XY_mid_brain'])\n",
    "\n",
    "\n",
    "## filter speed\n",
    "raw_pos,combined_array, mask,speeds,smoothed_speed,filtered_speed = pos2speed(pos_cord[:,0], # times\n",
    "                            pos_cord[:,1], # x\n",
    "                            pos_cord[:,2], # y\n",
    "                            filter_speed=True, \n",
    "                            min_speed = 0.05)\n",
    "\n",
    "## filter spikes with speed\n",
    "unit_num=4\n",
    "\n",
    "# ## filter spikes with speed\n",
    "# spk = speed_filtered_spikes(spikes_time,\n",
    "#                             pos_cord[:,0], # times\n",
    "#                             mask)\n",
    "#for i in range(40):\n",
    "spikes_time = load_units_fromNWB(npdata['units'], unit_num = unit_num)\n",
    "spk = speed_filtered_spikes(spikes_time,\n",
    "                            raw_pos[:,0])\n",
    "plot_ratemap(raw_pos[:,1], # x\n",
    "            raw_pos[:,2], # y\n",
    "            raw_pos[:,0], # times\n",
    "            spikes_time ,\n",
    "            box_size=[1.0, 1.0], \n",
    "            bin_size=0.05,\n",
    "            smoothing=0.1)\n",
    "\n",
    "\n",
    "x_input = npdata['units']['x'][unit_num]\n",
    "y_input = npdata['units']['y'][unit_num]"
   ]
  },
  {
   "cell_type": "code",
   "execution_count": 6,
   "metadata": {},
   "outputs": [
    {
     "name": "stdout",
     "output_type": "stream",
     "text": [
      "Loaded channel_groups: {0: {'channels': [26, 25, 20, 19, 14, 8, 5, 4, 3, 0], 'geometry': {26: [16.5, 105.0], 25: [0.0, 0.0], 20: [0.0, 90.0], 19: [16.5, 135.0], 14: [16.5, 45.0], 8: [0.0, 60.0], 5: [16.5, 75.0], 4: [16.5, 15.0], 3: [0.0, 120.0], 0: [0.0, 30.0]}}, 1: {'channels': [30, 24, 22, 21, 17, 16, 9, 10, 6, 2, 1], 'geometry': {30: [216.5, 45.0], 24: [200.0, 90.0], 22: [200.0, 30.0], 21: [216.5, 75.0], 17: [216.5, 135.0], 16: [200.0, 120.0], 9: [216.5, 15.0], 10: [200.0, 60.0], 6: [216.5, 105.0], 2: [200.0, 150.0], 1: [200.0, 0.0]}}, 2: {'channels': [29, 28, 31, 27, 23, 18, 15, 13, 12, 11, 7], 'geometry': {29: [400.0, 30.0], 28: [416.5, 75.0], 31: [400.0, 120.0], 27: [400.0, 150.0], 23: [400.0, 90.0], 18: [416.5, 135.0], 15: [400.0, 60.0], 13: [400.0, 0.0], 12: [416.5, 105.0], 11: [416.5, 45.0], 7: [416.5, 15.0]}}, 3: {'channels': [33, 32, 45, 40, 36, 53, 50, 48, 47, 58, 56], 'geometry': {33: [600.0, 30.0], 32: [616.5, 75.0], 45: [600.0, 90.0], 40: [616.5, 15.0], 36: [600.0, 150.0], 53: [600.0, 60.0], 50: [600.0, 0.0], 48: [616.5, 135.0], 47: [616.5, 45.0], 58: [600.0, 120.0], 56: [616.5, 105.0]}}, 4: {'channels': [41, 37, 34, 44, 43, 54, 52, 49, 63, 60, 57], 'geometry': {41: [816.5, 135.0], 37: [816.5, 75.0], 34: [800.0, 150.0], 44: [816.5, 15.0], 43: [800.0, 90.0], 54: [816.5, 105.0], 52: [800.0, 120.0], 49: [800.0, 30.0], 63: [800.0, 0.0], 60: [816.5, 45.0], 57: [800.0, 60.0]}}, 5: {'channels': [39, 38, 35, 46, 42, 55, 51, 62, 61, 59], 'geometry': {39: [1016.5, 75.0], 38: [1016.5, 15.0], 35: [1000.0, 60.0], 46: [1000.0, 120.0], 42: [1000.0, 30.0], 55: [1000.0, 0.0], 51: [1016.5, 135.0], 62: [1016.5, 45.0], 61: [1016.5, 105.0], 59: [1000.0, 90.0]}}}\n",
      "Nearest Channel ID for (x=379.382235866736, y=82.27622015129616) is: 23\n",
      "Distance to nearest point: 22.017015533585646\n",
      "\n",
      "Full DataFrame:\n",
      "    group_id  channel_id       x      y\n",
      "0          0           0     0.0   30.0\n",
      "1          0           3     0.0  120.0\n",
      "2          0           4    16.5   15.0\n",
      "3          0           5    16.5   75.0\n",
      "4          0           8     0.0   60.0\n",
      "5          0          14    16.5   45.0\n",
      "6          0          19    16.5  135.0\n",
      "7          0          20     0.0   90.0\n",
      "8          0          25     0.0    0.0\n",
      "9          0          26    16.5  105.0\n",
      "10         1           1   200.0    0.0\n",
      "11         1           2   200.0  150.0\n",
      "12         1           6   216.5  105.0\n",
      "13         1           9   216.5   15.0\n",
      "14         1          10   200.0   60.0\n",
      "15         1          16   200.0  120.0\n",
      "16         1          17   216.5  135.0\n",
      "17         1          21   216.5   75.0\n",
      "18         1          22   200.0   30.0\n",
      "19         1          24   200.0   90.0\n",
      "20         1          30   216.5   45.0\n",
      "21         2           7   416.5   15.0\n",
      "22         2          11   416.5   45.0\n",
      "23         2          12   416.5  105.0\n",
      "24         2          13   400.0    0.0\n",
      "25         2          15   400.0   60.0\n",
      "26         2          18   416.5  135.0\n",
      "27         2          23   400.0   90.0\n",
      "28         2          27   400.0  150.0\n",
      "29         2          28   416.5   75.0\n",
      "30         2          29   400.0   30.0\n",
      "31         2          31   400.0  120.0\n",
      "32         3          32   616.5   75.0\n",
      "33         3          33   600.0   30.0\n",
      "34         3          36   600.0  150.0\n",
      "35         3          40   616.5   15.0\n",
      "36         3          45   600.0   90.0\n",
      "37         3          47   616.5   45.0\n",
      "38         3          48   616.5  135.0\n",
      "39         3          50   600.0    0.0\n",
      "40         3          53   600.0   60.0\n",
      "41         3          56   616.5  105.0\n",
      "42         3          58   600.0  120.0\n",
      "43         4          34   800.0  150.0\n",
      "44         4          37   816.5   75.0\n",
      "45         4          41   816.5  135.0\n",
      "46         4          43   800.0   90.0\n",
      "47         4          44   816.5   15.0\n",
      "48         4          49   800.0   30.0\n",
      "49         4          52   800.0  120.0\n",
      "50         4          54   816.5  105.0\n",
      "51         4          57   800.0   60.0\n",
      "52         4          60   816.5   45.0\n",
      "53         4          63   800.0    0.0\n",
      "54         5          35  1000.0   60.0\n",
      "55         5          38  1016.5   15.0\n",
      "56         5          39  1016.5   75.0\n",
      "57         5          42  1000.0   30.0\n",
      "58         5          46  1000.0  120.0\n",
      "59         5          51  1016.5  135.0\n",
      "60         5          55  1000.0    0.0\n",
      "61         5          59  1000.0   90.0\n",
      "62         5          61  1016.5  105.0\n",
      "63         5          62  1016.5   45.0\n"
     ]
    }
   ],
   "source": [
    "ch_num = unit_location_ch(x_input=x_input,y_input=y_input)"
   ]
  },
  {
   "cell_type": "code",
   "execution_count": null,
   "metadata": {},
   "outputs": [
    {
     "name": "stdout",
     "output_type": "stream",
     "text": [
      "[1.0, 1.0]\n",
      "bins zie[0.   0.05 0.1  0.15 0.2  0.25 0.3  0.35 0.4  0.45 0.5  0.55 0.6  0.65\n",
      " 0.7  0.75 0.8  0.85 0.9  0.95 1.  ]\n",
      "[[0 0 0 0 0 0 0 0 0 0 0 0 0 0 0 0 0 0 0 0]\n",
      " [0 0 0 0 0 0 0 0 0 0 0 0 0 0 0 0 0 0 0 0]\n",
      " [0 0 0 0 0 0 1 1 1 0 0 0 0 0 0 0 0 0 0 0]\n",
      " [0 0 0 0 0 1 1 1 1 0 0 0 0 0 0 0 0 0 0 0]\n",
      " [0 0 0 0 1 1 1 1 1 0 0 0 0 0 0 0 0 0 0 0]\n",
      " [0 0 1 1 1 1 1 1 0 0 0 0 0 0 0 0 0 0 0 0]\n",
      " [0 0 1 1 1 1 1 1 0 0 0 0 0 0 0 0 0 0 0 0]\n",
      " [0 0 0 0 1 1 1 1 0 0 0 0 0 0 0 0 0 0 0 0]\n",
      " [0 0 0 0 0 1 1 1 1 0 0 0 0 0 0 0 0 0 0 0]\n",
      " [0 0 0 0 0 1 1 1 1 1 0 0 0 0 0 0 0 0 0 0]\n",
      " [0 0 0 0 0 1 1 1 1 1 1 0 0 0 0 0 0 0 0 0]\n",
      " [0 0 0 0 0 1 1 1 1 1 1 0 0 0 0 0 0 0 0 0]\n",
      " [0 0 0 0 0 1 1 1 1 1 1 1 0 0 0 0 0 0 0 0]\n",
      " [0 0 0 0 0 0 1 1 1 1 1 1 0 0 0 0 0 0 0 0]\n",
      " [0 0 0 0 0 0 0 1 1 1 1 0 0 0 0 0 0 0 0 0]\n",
      " [0 0 0 0 0 0 0 0 0 1 0 0 0 0 0 0 0 0 0 0]\n",
      " [0 0 0 0 0 0 0 0 0 0 0 0 0 0 0 0 0 0 0 0]\n",
      " [0 0 0 0 0 0 0 0 0 0 0 0 0 0 0 0 0 0 0 0]\n",
      " [0 0 0 0 0 0 0 0 0 0 0 0 0 0 0 0 0 0 0 0]\n",
      " [0 0 0 0 0 0 0 0 0 0 0 0 0 0 0 0 0 0 0 0]]\n"
     ]
    }
   ],
   "source": [
    "import nwb4fp.analyses.maps as mapp\n",
    "\n",
    "## get rate_maps\n",
    "maps = mapp.SpatialMap(box_size=[1.0, 1.0], \n",
    "                       bin_size=0.05,\n",
    "                       smoothing=0.1)\n",
    "\n",
    "## generate ratemaps\n",
    "rate_map = maps.rate_map(raw_pos[:,1], \n",
    "                        raw_pos[:,2], \n",
    "                         raw_pos[:,0], \n",
    "                         spikes_time)\n",
    "\n",
    "## get_fileds with center of the files\n",
    "fields = separate_fields_by_laplace(rate_map, \n",
    "                                    minimum_field_area=9)\n",
    "fiesld_afremoval = remove_fields_by_area(fields, minimum_field_area=9)\n",
    "bc = calculate_field_centers(rate_map, fiesld_afremoval, center_method='maxima')\n",
    "v = get_filed_num(fiesld_afremoval)\n",
    "\n",
    "## get the center of the fields\n",
    "for field_nums in v:\n",
    "    y_c = bc[field_nums-1][0]\n",
    "    x_c = bc[field_nums-1][1]"
   ]
  },
  {
   "cell_type": "code",
   "execution_count": null,
   "metadata": {},
   "outputs": [],
   "source": []
  }
 ],
 "metadata": {
  "kernelspec": {
   "display_name": "test1",
   "language": "python",
   "name": "python3"
  },
  "language_info": {
   "codemirror_mode": {
    "name": "ipython",
    "version": 3
   },
   "file_extension": ".py",
   "mimetype": "text/x-python",
   "name": "python",
   "nbconvert_exporter": "python",
   "pygments_lexer": "ipython3",
   "version": "3.11.0"
  }
 },
 "nbformat": 4,
 "nbformat_minor": 2
}
